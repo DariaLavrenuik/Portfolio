{
 "cells": [
  {
   "cell_type": "markdown",
   "id": "91099ea1",
   "metadata": {},
   "source": [
    "\n",
    "\n",
    "### Телеком — задача проекта\n",
    "\n",
    "Оператор связи «Ниединогоразрыва.ком» хочет научиться прогнозировать отток клиентов. Если выяснится, что пользователь планирует уйти, ему будут предложены промокоды и специальные условия. Команда оператора собрала персональные данные о некоторых клиентах, информацию об их тарифах и договорах.\n",
    "\n",
    "### Описание услуг\n",
    "\n",
    "Оператор предоставляет два основных типа услуг: \n",
    "\n",
    "1. Стационарную телефонную связь. Возможно подключение телефонного аппарата к нескольким линиям одновременно.\n",
    "2. Интернет. Подключение может быть двух типов: через телефонную линию (DSL*,* от англ. *digital subscriber line*, «цифровая абонентская линия») или оптоволоконный кабель (*Fiber optic*).  \n",
    "\n",
    "Также доступны такие услуги:\n",
    "\n",
    "- Интернет-безопасность: антивирус (*DeviceProtection*) и блокировка небезопасных сайтов (*OnlineSecurity*);\n",
    "- Выделенная линия технической поддержки (*TechSupport*);\n",
    "- Облачное хранилище файлов для резервного копирования данных (*OnlineBackup*);\n",
    "- Стриминговое телевидение (*StreamingTV*) и каталог фильмов (*StreamingMovies*).\n",
    "\n",
    "За услуги клиенты могут платить каждый месяц или заключить договор на 1–2 года. Доступны различные способы расчёта и возможность получения электронного чека.\n",
    "\n",
    "### Описание данных\n",
    "\n",
    "Данные состоят из файлов, полученных из разных источников:\n",
    "\n",
    "- `contract.csv` — информация о договоре;\n",
    "- `personal.csv` — персональные данные клиента;\n",
    "- `internet.csv` — информация об интернет-услугах;\n",
    "- `phone.csv` — информация об услугах телефонии.\n",
    "\n",
    "Во всех файлах столбец `customerID` содержит код клиента.\n",
    "\n",
    "Информация о договорах актуальна на 1 февраля 2020."
   ]
  },
  {
   "cell_type": "markdown",
   "id": "be33525d",
   "metadata": {},
   "source": [
    "## План работы:\n",
    "\n",
    "- Произвести знакомство с данными и первичный анализ, подготовить данные для работы, при необходимости сменить тип;\n",
    "\n",
    "- Разведочный анализ данных: детальное знакомство с данными,  поиск и обработка неочевидных пропусков, дубликатов, объединение таблиц;\n",
    "\n",
    "- Исследовательский анализ данных: анализ распределения ежемесячных платежей, оказанных пользователям услуг, построение графиков (гистограммы, бокс плоты, столбчатые диаграммы). Анализ периода, в который абоненты прекращали обслуживание. Оценка количества пользователей в зависимости от даты регистрации договора. Поиск закономерностей и выдвежение гипотез.\n",
    "\n",
    "- Подготовка признаков для обучения: исследование баланса классов, кодировка категориальных принаков, разделение на тренировочную и тестовую выборки;\n",
    "\n",
    "- Обучение моделей: обучение моделей при помощи кросс-валидации, подбор гиперпараметров и их оценка ROC-AUC, accuracy;\n",
    "\n",
    "- Сравнительный анализ моделей и поиск наилучшей;\n",
    "\n",
    "- Общие выводы."
   ]
  },
  {
   "cell_type": "code",
   "execution_count": 109,
   "id": "775aad72",
   "metadata": {},
   "outputs": [],
   "source": [
    "import pandas as pd\n",
    "import matplotlib.pyplot as plt\n",
    "from datetime import date\n",
    "import seaborn as sns\n",
    "import numpy as np\n",
    "\n",
    "import time\n",
    "from datetime import datetime\n",
    "\n",
    "from sklearn.preprocessing import StandardScaler, OneHotEncoder, OrdinalEncoder\n",
    "from sklearn.model_selection import train_test_split cross_val_score, cross_validate, GridSearchCV\n",
    "from sklearn.metrics import roc_curve, auc, roc_auc_score, confusion_matrix, accuracy_score\n",
    "from catboost import Pool, CatBoostClassifier\n",
    "from sklearn.utils import shuffle\n",
    "from sklearn.ensemble import RandomForestClassifier\n",
    "from lightgbm import LGBMClassifier\n",
    "\n",
    "from sklearn.compose import make_column_transformer\n",
    "from sklearn.pipeline import make_pipeline\n",
    "from sklearn.model_selection import (\n",
    "    GridSearchCV, \n",
    "    RandomizedSearchCV,\n",
    "    train_test_split\n",
    ")"
   ]
  },
  {
   "cell_type": "markdown",
   "id": "45e392be",
   "metadata": {},
   "source": [
    "## Импортируем данные."
   ]
  },
  {
   "cell_type": "code",
   "execution_count": 110,
   "id": "1ea4dfbb",
   "metadata": {},
   "outputs": [],
   "source": [
    "try:\n",
    "    contract = pd.read_csv('/datasets/final_provider/contract.csv') \n",
    "    internet = pd.read_csv('/datasets/final_provider/internet.csv')\n",
    "    personal = pd.read_csv('/datasets/final_provider/personal.csv')\n",
    "    phone = pd.read_csv('/datasets/final_provider/phone.csv')    \n",
    "    \n",
    "except: \n",
    "    contract = pd.read_csv('contract.csv')\n",
    "    internet = pd.read_csv('internet.csv')\n",
    "    personal = pd.read_csv('personal.csv')\n",
    "    phone = pd.read_csv('phone.csv')\n",
    "    "
   ]
  },
  {
   "cell_type": "markdown",
   "id": "79f8e58d",
   "metadata": {},
   "source": [
    "## Изучим таблицы"
   ]
  },
  {
   "cell_type": "markdown",
   "id": "5fe58f9a",
   "metadata": {},
   "source": [
    "### contract - информация о договоре"
   ]
  },
  {
   "cell_type": "code",
   "execution_count": 111,
   "id": "194f40b8",
   "metadata": {},
   "outputs": [
    {
     "name": "stdout",
     "output_type": "stream",
     "text": [
      "<class 'pandas.core.frame.DataFrame'>\n",
      "RangeIndex: 7043 entries, 0 to 7042\n",
      "Data columns (total 8 columns):\n",
      " #   Column            Non-Null Count  Dtype  \n",
      "---  ------            --------------  -----  \n",
      " 0   customerID        7043 non-null   object \n",
      " 1   BeginDate         7043 non-null   object \n",
      " 2   EndDate           7043 non-null   object \n",
      " 3   Type              7043 non-null   object \n",
      " 4   PaperlessBilling  7043 non-null   object \n",
      " 5   PaymentMethod     7043 non-null   object \n",
      " 6   MonthlyCharges    7043 non-null   float64\n",
      " 7   TotalCharges      7043 non-null   object \n",
      "dtypes: float64(1), object(7)\n",
      "memory usage: 440.3+ KB\n"
     ]
    }
   ],
   "source": [
    "contract.info()"
   ]
  },
  {
   "cell_type": "code",
   "execution_count": 112,
   "id": "de6eec9c",
   "metadata": {
    "scrolled": false
   },
   "outputs": [
    {
     "data": {
      "text/html": [
       "<div>\n",
       "<style scoped>\n",
       "    .dataframe tbody tr th:only-of-type {\n",
       "        vertical-align: middle;\n",
       "    }\n",
       "\n",
       "    .dataframe tbody tr th {\n",
       "        vertical-align: top;\n",
       "    }\n",
       "\n",
       "    .dataframe thead th {\n",
       "        text-align: right;\n",
       "    }\n",
       "</style>\n",
       "<table border=\"1\" class=\"dataframe\">\n",
       "  <thead>\n",
       "    <tr style=\"text-align: right;\">\n",
       "      <th></th>\n",
       "      <th>customerID</th>\n",
       "      <th>BeginDate</th>\n",
       "      <th>EndDate</th>\n",
       "      <th>Type</th>\n",
       "      <th>PaperlessBilling</th>\n",
       "      <th>PaymentMethod</th>\n",
       "      <th>MonthlyCharges</th>\n",
       "      <th>TotalCharges</th>\n",
       "    </tr>\n",
       "  </thead>\n",
       "  <tbody>\n",
       "    <tr>\n",
       "      <th>0</th>\n",
       "      <td>7590-VHVEG</td>\n",
       "      <td>2020-01-01</td>\n",
       "      <td>No</td>\n",
       "      <td>Month-to-month</td>\n",
       "      <td>Yes</td>\n",
       "      <td>Electronic check</td>\n",
       "      <td>29.85</td>\n",
       "      <td>29.85</td>\n",
       "    </tr>\n",
       "    <tr>\n",
       "      <th>1</th>\n",
       "      <td>5575-GNVDE</td>\n",
       "      <td>2017-04-01</td>\n",
       "      <td>No</td>\n",
       "      <td>One year</td>\n",
       "      <td>No</td>\n",
       "      <td>Mailed check</td>\n",
       "      <td>56.95</td>\n",
       "      <td>1889.5</td>\n",
       "    </tr>\n",
       "    <tr>\n",
       "      <th>2</th>\n",
       "      <td>3668-QPYBK</td>\n",
       "      <td>2019-10-01</td>\n",
       "      <td>2019-12-01 00:00:00</td>\n",
       "      <td>Month-to-month</td>\n",
       "      <td>Yes</td>\n",
       "      <td>Mailed check</td>\n",
       "      <td>53.85</td>\n",
       "      <td>108.15</td>\n",
       "    </tr>\n",
       "    <tr>\n",
       "      <th>3</th>\n",
       "      <td>7795-CFOCW</td>\n",
       "      <td>2016-05-01</td>\n",
       "      <td>No</td>\n",
       "      <td>One year</td>\n",
       "      <td>No</td>\n",
       "      <td>Bank transfer (automatic)</td>\n",
       "      <td>42.30</td>\n",
       "      <td>1840.75</td>\n",
       "    </tr>\n",
       "    <tr>\n",
       "      <th>4</th>\n",
       "      <td>9237-HQITU</td>\n",
       "      <td>2019-09-01</td>\n",
       "      <td>2019-11-01 00:00:00</td>\n",
       "      <td>Month-to-month</td>\n",
       "      <td>Yes</td>\n",
       "      <td>Electronic check</td>\n",
       "      <td>70.70</td>\n",
       "      <td>151.65</td>\n",
       "    </tr>\n",
       "  </tbody>\n",
       "</table>\n",
       "</div>"
      ],
      "text/plain": [
       "   customerID   BeginDate              EndDate            Type  \\\n",
       "0  7590-VHVEG  2020-01-01                   No  Month-to-month   \n",
       "1  5575-GNVDE  2017-04-01                   No        One year   \n",
       "2  3668-QPYBK  2019-10-01  2019-12-01 00:00:00  Month-to-month   \n",
       "3  7795-CFOCW  2016-05-01                   No        One year   \n",
       "4  9237-HQITU  2019-09-01  2019-11-01 00:00:00  Month-to-month   \n",
       "\n",
       "  PaperlessBilling              PaymentMethod  MonthlyCharges TotalCharges  \n",
       "0              Yes           Electronic check           29.85        29.85  \n",
       "1               No               Mailed check           56.95       1889.5  \n",
       "2              Yes               Mailed check           53.85       108.15  \n",
       "3               No  Bank transfer (automatic)           42.30      1840.75  \n",
       "4              Yes           Electronic check           70.70       151.65  "
      ]
     },
     "execution_count": 112,
     "metadata": {},
     "output_type": "execute_result"
    }
   ],
   "source": [
    "contract.head()"
   ]
  },
  {
   "cell_type": "markdown",
   "id": "14654fd1",
   "metadata": {},
   "source": [
    "Проверим дубликаты"
   ]
  },
  {
   "cell_type": "code",
   "execution_count": 113,
   "id": "e21073c8",
   "metadata": {
    "scrolled": false
   },
   "outputs": [
    {
     "data": {
      "text/plain": [
       "0"
      ]
     },
     "execution_count": 113,
     "metadata": {},
     "output_type": "execute_result"
    }
   ],
   "source": [
    "contract.duplicated().sum()"
   ]
  },
  {
   "cell_type": "code",
   "execution_count": 114,
   "id": "ee2869f3",
   "metadata": {},
   "outputs": [
    {
     "data": {
      "text/plain": [
       "customerID          0\n",
       "BeginDate           0\n",
       "EndDate             0\n",
       "Type                0\n",
       "PaperlessBilling    0\n",
       "PaymentMethod       0\n",
       "MonthlyCharges      0\n",
       "TotalCharges        0\n",
       "dtype: int64"
      ]
     },
     "execution_count": 114,
     "metadata": {},
     "output_type": "execute_result"
    }
   ],
   "source": [
    "contract.isna().sum()"
   ]
  },
  {
   "cell_type": "markdown",
   "id": "43c07569",
   "metadata": {},
   "source": [
    "Посмотрим на уникальное количество пользователей."
   ]
  },
  {
   "cell_type": "code",
   "execution_count": 115,
   "id": "74978a15",
   "metadata": {
    "scrolled": true
   },
   "outputs": [
    {
     "data": {
      "text/plain": [
       "7043"
      ]
     },
     "execution_count": 115,
     "metadata": {},
     "output_type": "execute_result"
    }
   ],
   "source": [
    "len(contract['customerID'].unique())"
   ]
  },
  {
   "cell_type": "code",
   "execution_count": 116,
   "id": "f0f6aec3",
   "metadata": {},
   "outputs": [
    {
     "data": {
      "text/plain": [
       "0"
      ]
     },
     "execution_count": 116,
     "metadata": {},
     "output_type": "execute_result"
    }
   ],
   "source": [
    "contract['TotalCharges'].isna().sum()"
   ]
  },
  {
   "cell_type": "code",
   "execution_count": 117,
   "id": "cafb9149",
   "metadata": {},
   "outputs": [],
   "source": [
    "contract['TotalCharges'] = contract['TotalCharges'].replace([' '], 0)"
   ]
  },
  {
   "cell_type": "code",
   "execution_count": 118,
   "id": "d4bf40d4",
   "metadata": {},
   "outputs": [],
   "source": [
    "contract['BeginDate'] = pd.to_datetime(contract['BeginDate'])\n",
    "#contract['EndDate'] = pd.to_datetime(contract['EndDate'], format= '%Y/%m/%d', errors='ignore')\n",
    "\n",
    "contract['TotalCharges'] = pd.to_numeric(contract['TotalCharges'])"
   ]
  },
  {
   "cell_type": "code",
   "execution_count": 119,
   "id": "187f75c3",
   "metadata": {},
   "outputs": [],
   "source": [
    "x = contract['EndDate'] \n",
    "x = pd.to_datetime(x , format= '%Y/%m/%d', errors='coerce')"
   ]
  },
  {
   "cell_type": "code",
   "execution_count": 120,
   "id": "5db02eb8",
   "metadata": {
    "scrolled": true
   },
   "outputs": [
    {
     "name": "stdout",
     "output_type": "stream",
     "text": [
      "2019-10-01 00:00:00\n",
      "2020-01-01 00:00:00\n"
     ]
    }
   ],
   "source": [
    "print (x.min())\n",
    "print (x.max())"
   ]
  },
  {
   "cell_type": "code",
   "execution_count": 121,
   "id": "c82ee8b9",
   "metadata": {},
   "outputs": [
    {
     "data": {
      "text/plain": [
       "Month-to-month    3875\n",
       "Two year          1695\n",
       "One year          1473\n",
       "Name: Type, dtype: int64"
      ]
     },
     "execution_count": 121,
     "metadata": {},
     "output_type": "execute_result"
    }
   ],
   "source": [
    "contract['Type'].value_counts()"
   ]
  },
  {
   "cell_type": "code",
   "execution_count": 122,
   "id": "85b7c6bb",
   "metadata": {
    "scrolled": true
   },
   "outputs": [
    {
     "data": {
      "text/plain": [
       "Electronic check             2365\n",
       "Mailed check                 1612\n",
       "Bank transfer (automatic)    1544\n",
       "Credit card (automatic)      1522\n",
       "Name: PaymentMethod, dtype: int64"
      ]
     },
     "execution_count": 122,
     "metadata": {},
     "output_type": "execute_result"
    }
   ],
   "source": [
    "contract['PaymentMethod'].value_counts()"
   ]
  },
  {
   "cell_type": "markdown",
   "id": "d309a8d3",
   "metadata": {},
   "source": [
    "Посмотрим на ежегодные платежи."
   ]
  },
  {
   "cell_type": "code",
   "execution_count": 123,
   "id": "8cd7c8e2",
   "metadata": {},
   "outputs": [
    {
     "data": {
      "image/png": "[encoded data removed]",
      "text/plain": [
       "<Figure size 432x288 with 1 Axes>"
      ]
     },
     "metadata": {
      "needs_background": "light"
     },
     "output_type": "display_data"
    }
   ],
   "source": [
    "contract['TotalCharges'].hist(bins = 50)\n",
    "plt.show()"
   ]
  },
  {
   "cell_type": "code",
   "execution_count": 124,
   "id": "b38fb5f4",
   "metadata": {},
   "outputs": [
    {
     "data": {
      "image/png": "[encoded data removed]",
      "text/plain": [
       "<Figure size 432x288 with 1 Axes>"
      ]
     },
     "metadata": {
      "needs_background": "light"
     },
     "output_type": "display_data"
    }
   ],
   "source": [
    "contract.boxplot('TotalCharges')\n",
    "plt.show()"
   ]
  },
  {
   "cell_type": "code",
   "execution_count": 125,
   "id": "cceb2c8a",
   "metadata": {
    "scrolled": true
   },
   "outputs": [
    {
     "data": {
      "text/plain": [
       "count    7043.000000\n",
       "mean     2279.734304\n",
       "std      2266.794470\n",
       "min         0.000000\n",
       "25%       398.550000\n",
       "50%      1394.550000\n",
       "75%      3786.600000\n",
       "max      8684.800000\n",
       "Name: TotalCharges, dtype: float64"
      ]
     },
     "execution_count": 125,
     "metadata": {},
     "output_type": "execute_result"
    }
   ],
   "source": [
    "contract['TotalCharges'].describe() "
   ]
  },
  {
   "cell_type": "markdown",
   "id": "541ac748",
   "metadata": {},
   "source": [
    "Видим скос в данных, высокое стандартное отклонение."
   ]
  },
  {
   "cell_type": "markdown",
   "id": "cf226df4",
   "metadata": {},
   "source": [
    "### Выводы по таблице contract\n",
    "\n",
    "- Дубликатов нет\n",
    "\n",
    "- В колонке customerID 7043 уникальных пользователей\n",
    "\n",
    "- В BeginDate сменили формат на datetime\n",
    "\n",
    "- PaperlessBilling можно в последствии перевести в булев тип, пока изменений не вносили.\n",
    "\n",
    "- В разделе ежемесячных платежей MonthlyCharges нет выбросов, данные распределены нормально.\n",
    "\n",
    "- Заменили пропуски на нули, чтобы привести к нужному типу float."
   ]
  },
  {
   "cell_type": "markdown",
   "id": "8d0461b9",
   "metadata": {},
   "source": [
    "### internet информация об интернет-услугах"
   ]
  },
  {
   "cell_type": "code",
   "execution_count": 126,
   "id": "99495d52",
   "metadata": {},
   "outputs": [
    {
     "name": "stdout",
     "output_type": "stream",
     "text": [
      "<class 'pandas.core.frame.DataFrame'>\n",
      "RangeIndex: 5517 entries, 0 to 5516\n",
      "Data columns (total 8 columns):\n",
      " #   Column            Non-Null Count  Dtype \n",
      "---  ------            --------------  ----- \n",
      " 0   customerID        5517 non-null   object\n",
      " 1   InternetService   5517 non-null   object\n",
      " 2   OnlineSecurity    5517 non-null   object\n",
      " 3   OnlineBackup      5517 non-null   object\n",
      " 4   DeviceProtection  5517 non-null   object\n",
      " 5   TechSupport       5517 non-null   object\n",
      " 6   StreamingTV       5517 non-null   object\n",
      " 7   StreamingMovies   5517 non-null   object\n",
      "dtypes: object(8)\n",
      "memory usage: 344.9+ KB\n"
     ]
    }
   ],
   "source": [
    "internet.info()"
   ]
  },
  {
   "cell_type": "code",
   "execution_count": 127,
   "id": "b6f91ac5",
   "metadata": {},
   "outputs": [
    {
     "data": {
      "text/html": [
       "<div>\n",
       "<style scoped>\n",
       "    .dataframe tbody tr th:only-of-type {\n",
       "        vertical-align: middle;\n",
       "    }\n",
       "\n",
       "    .dataframe tbody tr th {\n",
       "        vertical-align: top;\n",
       "    }\n",
       "\n",
       "    .dataframe thead th {\n",
       "        text-align: right;\n",
       "    }\n",
       "</style>\n",
       "<table border=\"1\" class=\"dataframe\">\n",
       "  <thead>\n",
       "    <tr style=\"text-align: right;\">\n",
       "      <th></th>\n",
       "      <th>customerID</th>\n",
       "      <th>InternetService</th>\n",
       "      <th>OnlineSecurity</th>\n",
       "      <th>OnlineBackup</th>\n",
       "      <th>DeviceProtection</th>\n",
       "      <th>TechSupport</th>\n",
       "      <th>StreamingTV</th>\n",
       "      <th>StreamingMovies</th>\n",
       "    </tr>\n",
       "  </thead>\n",
       "  <tbody>\n",
       "    <tr>\n",
       "      <th>0</th>\n",
       "      <td>7590-VHVEG</td>\n",
       "      <td>DSL</td>\n",
       "      <td>No</td>\n",
       "      <td>Yes</td>\n",
       "      <td>No</td>\n",
       "      <td>No</td>\n",
       "      <td>No</td>\n",
       "      <td>No</td>\n",
       "    </tr>\n",
       "    <tr>\n",
       "      <th>1</th>\n",
       "      <td>5575-GNVDE</td>\n",
       "      <td>DSL</td>\n",
       "      <td>Yes</td>\n",
       "      <td>No</td>\n",
       "      <td>Yes</td>\n",
       "      <td>No</td>\n",
       "      <td>No</td>\n",
       "      <td>No</td>\n",
       "    </tr>\n",
       "    <tr>\n",
       "      <th>2</th>\n",
       "      <td>3668-QPYBK</td>\n",
       "      <td>DSL</td>\n",
       "      <td>Yes</td>\n",
       "      <td>Yes</td>\n",
       "      <td>No</td>\n",
       "      <td>No</td>\n",
       "      <td>No</td>\n",
       "      <td>No</td>\n",
       "    </tr>\n",
       "    <tr>\n",
       "      <th>3</th>\n",
       "      <td>7795-CFOCW</td>\n",
       "      <td>DSL</td>\n",
       "      <td>Yes</td>\n",
       "      <td>No</td>\n",
       "      <td>Yes</td>\n",
       "      <td>Yes</td>\n",
       "      <td>No</td>\n",
       "      <td>No</td>\n",
       "    </tr>\n",
       "    <tr>\n",
       "      <th>4</th>\n",
       "      <td>9237-HQITU</td>\n",
       "      <td>Fiber optic</td>\n",
       "      <td>No</td>\n",
       "      <td>No</td>\n",
       "      <td>No</td>\n",
       "      <td>No</td>\n",
       "      <td>No</td>\n",
       "      <td>No</td>\n",
       "    </tr>\n",
       "  </tbody>\n",
       "</table>\n",
       "</div>"
      ],
      "text/plain": [
       "   customerID InternetService OnlineSecurity OnlineBackup DeviceProtection  \\\n",
       "0  7590-VHVEG             DSL             No          Yes               No   \n",
       "1  5575-GNVDE             DSL            Yes           No              Yes   \n",
       "2  3668-QPYBK             DSL            Yes          Yes               No   \n",
       "3  7795-CFOCW             DSL            Yes           No              Yes   \n",
       "4  9237-HQITU     Fiber optic             No           No               No   \n",
       "\n",
       "  TechSupport StreamingTV StreamingMovies  \n",
       "0          No          No              No  \n",
       "1          No          No              No  \n",
       "2          No          No              No  \n",
       "3         Yes          No              No  \n",
       "4          No          No              No  "
      ]
     },
     "execution_count": 127,
     "metadata": {},
     "output_type": "execute_result"
    }
   ],
   "source": [
    "internet.head()"
   ]
  },
  {
   "cell_type": "code",
   "execution_count": 128,
   "id": "01378a35",
   "metadata": {},
   "outputs": [
    {
     "data": {
      "text/plain": [
       "0"
      ]
     },
     "execution_count": 128,
     "metadata": {},
     "output_type": "execute_result"
    }
   ],
   "source": [
    "internet.duplicated().sum()"
   ]
  },
  {
   "cell_type": "code",
   "execution_count": 129,
   "id": "d8f86219",
   "metadata": {},
   "outputs": [
    {
     "data": {
      "text/plain": [
       "customerID          0\n",
       "InternetService     0\n",
       "OnlineSecurity      0\n",
       "OnlineBackup        0\n",
       "DeviceProtection    0\n",
       "TechSupport         0\n",
       "StreamingTV         0\n",
       "StreamingMovies     0\n",
       "dtype: int64"
      ]
     },
     "execution_count": 129,
     "metadata": {},
     "output_type": "execute_result"
    }
   ],
   "source": [
    "internet.isna().sum()"
   ]
  },
  {
   "cell_type": "code",
   "execution_count": 130,
   "id": "53d875af",
   "metadata": {
    "scrolled": false
   },
   "outputs": [
    {
     "data": {
      "text/plain": [
       "Fiber optic    3096\n",
       "DSL            2421\n",
       "Name: InternetService, dtype: int64"
      ]
     },
     "execution_count": 130,
     "metadata": {},
     "output_type": "execute_result"
    }
   ],
   "source": [
    "internet['InternetService'].value_counts()"
   ]
  },
  {
   "cell_type": "markdown",
   "id": "db611438",
   "metadata": {},
   "source": [
    "### Выводы по таблице internet\n",
    "\n",
    "- количесво записей значительно меньше, чем в contract, возмжно не все пользователи подключили интернет.\n",
    "\n",
    "- Пропусков и дубликатов нет\n",
    "\n",
    "- Почти все типы записей бинарные."
   ]
  },
  {
   "cell_type": "markdown",
   "id": "94dbb775",
   "metadata": {},
   "source": [
    "### personal - персональные данные клиента"
   ]
  },
  {
   "cell_type": "code",
   "execution_count": 131,
   "id": "d5d132ea",
   "metadata": {},
   "outputs": [
    {
     "name": "stdout",
     "output_type": "stream",
     "text": [
      "<class 'pandas.core.frame.DataFrame'>\n",
      "RangeIndex: 7043 entries, 0 to 7042\n",
      "Data columns (total 5 columns):\n",
      " #   Column         Non-Null Count  Dtype \n",
      "---  ------         --------------  ----- \n",
      " 0   customerID     7043 non-null   object\n",
      " 1   gender         7043 non-null   object\n",
      " 2   SeniorCitizen  7043 non-null   int64 \n",
      " 3   Partner        7043 non-null   object\n",
      " 4   Dependents     7043 non-null   object\n",
      "dtypes: int64(1), object(4)\n",
      "memory usage: 275.2+ KB\n"
     ]
    }
   ],
   "source": [
    "personal.info()"
   ]
  },
  {
   "cell_type": "code",
   "execution_count": 132,
   "id": "2900db03",
   "metadata": {
    "scrolled": true
   },
   "outputs": [
    {
     "data": {
      "text/html": [
       "<div>\n",
       "<style scoped>\n",
       "    .dataframe tbody tr th:only-of-type {\n",
       "        vertical-align: middle;\n",
       "    }\n",
       "\n",
       "    .dataframe tbody tr th {\n",
       "        vertical-align: top;\n",
       "    }\n",
       "\n",
       "    .dataframe thead th {\n",
       "        text-align: right;\n",
       "    }\n",
       "</style>\n",
       "<table border=\"1\" class=\"dataframe\">\n",
       "  <thead>\n",
       "    <tr style=\"text-align: right;\">\n",
       "      <th></th>\n",
       "      <th>customerID</th>\n",
       "      <th>gender</th>\n",
       "      <th>SeniorCitizen</th>\n",
       "      <th>Partner</th>\n",
       "      <th>Dependents</th>\n",
       "    </tr>\n",
       "  </thead>\n",
       "  <tbody>\n",
       "    <tr>\n",
       "      <th>0</th>\n",
       "      <td>7590-VHVEG</td>\n",
       "      <td>Female</td>\n",
       "      <td>0</td>\n",
       "      <td>Yes</td>\n",
       "      <td>No</td>\n",
       "    </tr>\n",
       "    <tr>\n",
       "      <th>1</th>\n",
       "      <td>5575-GNVDE</td>\n",
       "      <td>Male</td>\n",
       "      <td>0</td>\n",
       "      <td>No</td>\n",
       "      <td>No</td>\n",
       "    </tr>\n",
       "    <tr>\n",
       "      <th>2</th>\n",
       "      <td>3668-QPYBK</td>\n",
       "      <td>Male</td>\n",
       "      <td>0</td>\n",
       "      <td>No</td>\n",
       "      <td>No</td>\n",
       "    </tr>\n",
       "    <tr>\n",
       "      <th>3</th>\n",
       "      <td>7795-CFOCW</td>\n",
       "      <td>Male</td>\n",
       "      <td>0</td>\n",
       "      <td>No</td>\n",
       "      <td>No</td>\n",
       "    </tr>\n",
       "    <tr>\n",
       "      <th>4</th>\n",
       "      <td>9237-HQITU</td>\n",
       "      <td>Female</td>\n",
       "      <td>0</td>\n",
       "      <td>No</td>\n",
       "      <td>No</td>\n",
       "    </tr>\n",
       "  </tbody>\n",
       "</table>\n",
       "</div>"
      ],
      "text/plain": [
       "   customerID  gender  SeniorCitizen Partner Dependents\n",
       "0  7590-VHVEG  Female              0     Yes         No\n",
       "1  5575-GNVDE    Male              0      No         No\n",
       "2  3668-QPYBK    Male              0      No         No\n",
       "3  7795-CFOCW    Male              0      No         No\n",
       "4  9237-HQITU  Female              0      No         No"
      ]
     },
     "execution_count": 132,
     "metadata": {},
     "output_type": "execute_result"
    }
   ],
   "source": [
    "personal.head()"
   ]
  },
  {
   "cell_type": "code",
   "execution_count": 133,
   "id": "c5feb1ad",
   "metadata": {},
   "outputs": [
    {
     "data": {
      "text/plain": [
       "0"
      ]
     },
     "execution_count": 133,
     "metadata": {},
     "output_type": "execute_result"
    }
   ],
   "source": [
    "personal.duplicated().sum()"
   ]
  },
  {
   "cell_type": "code",
   "execution_count": 134,
   "id": "1a59d787",
   "metadata": {},
   "outputs": [
    {
     "data": {
      "text/plain": [
       "customerID       0\n",
       "gender           0\n",
       "SeniorCitizen    0\n",
       "Partner          0\n",
       "Dependents       0\n",
       "dtype: int64"
      ]
     },
     "execution_count": 134,
     "metadata": {},
     "output_type": "execute_result"
    }
   ],
   "source": [
    "personal.isna().sum()"
   ]
  },
  {
   "cell_type": "markdown",
   "id": "cab584a7",
   "metadata": {},
   "source": [
    "Dependents?"
   ]
  },
  {
   "cell_type": "markdown",
   "id": "972c3b97",
   "metadata": {},
   "source": [
    "### Выводы по таблице  personal\n",
    "\n",
    "- Пропусков и дубликатов нет\n",
    "\n",
    "- Почти все типы записей бинарные."
   ]
  },
  {
   "cell_type": "markdown",
   "id": "5972faa0",
   "metadata": {},
   "source": [
    "### phone - информация об услугах телефонии"
   ]
  },
  {
   "cell_type": "code",
   "execution_count": 135,
   "id": "5e0bf30f",
   "metadata": {},
   "outputs": [
    {
     "name": "stdout",
     "output_type": "stream",
     "text": [
      "<class 'pandas.core.frame.DataFrame'>\n",
      "RangeIndex: 6361 entries, 0 to 6360\n",
      "Data columns (total 2 columns):\n",
      " #   Column         Non-Null Count  Dtype \n",
      "---  ------         --------------  ----- \n",
      " 0   customerID     6361 non-null   object\n",
      " 1   MultipleLines  6361 non-null   object\n",
      "dtypes: object(2)\n",
      "memory usage: 99.5+ KB\n"
     ]
    }
   ],
   "source": [
    "phone.info()"
   ]
  },
  {
   "cell_type": "code",
   "execution_count": 136,
   "id": "518e3f6d",
   "metadata": {},
   "outputs": [
    {
     "data": {
      "text/html": [
       "<div>\n",
       "<style scoped>\n",
       "    .dataframe tbody tr th:only-of-type {\n",
       "        vertical-align: middle;\n",
       "    }\n",
       "\n",
       "    .dataframe tbody tr th {\n",
       "        vertical-align: top;\n",
       "    }\n",
       "\n",
       "    .dataframe thead th {\n",
       "        text-align: right;\n",
       "    }\n",
       "</style>\n",
       "<table border=\"1\" class=\"dataframe\">\n",
       "  <thead>\n",
       "    <tr style=\"text-align: right;\">\n",
       "      <th></th>\n",
       "      <th>customerID</th>\n",
       "      <th>MultipleLines</th>\n",
       "    </tr>\n",
       "  </thead>\n",
       "  <tbody>\n",
       "    <tr>\n",
       "      <th>0</th>\n",
       "      <td>5575-GNVDE</td>\n",
       "      <td>No</td>\n",
       "    </tr>\n",
       "    <tr>\n",
       "      <th>1</th>\n",
       "      <td>3668-QPYBK</td>\n",
       "      <td>No</td>\n",
       "    </tr>\n",
       "    <tr>\n",
       "      <th>2</th>\n",
       "      <td>9237-HQITU</td>\n",
       "      <td>No</td>\n",
       "    </tr>\n",
       "    <tr>\n",
       "      <th>3</th>\n",
       "      <td>9305-CDSKC</td>\n",
       "      <td>Yes</td>\n",
       "    </tr>\n",
       "    <tr>\n",
       "      <th>4</th>\n",
       "      <td>1452-KIOVK</td>\n",
       "      <td>Yes</td>\n",
       "    </tr>\n",
       "  </tbody>\n",
       "</table>\n",
       "</div>"
      ],
      "text/plain": [
       "   customerID MultipleLines\n",
       "0  5575-GNVDE            No\n",
       "1  3668-QPYBK            No\n",
       "2  9237-HQITU            No\n",
       "3  9305-CDSKC           Yes\n",
       "4  1452-KIOVK           Yes"
      ]
     },
     "execution_count": 136,
     "metadata": {},
     "output_type": "execute_result"
    }
   ],
   "source": [
    "phone.head()"
   ]
  },
  {
   "cell_type": "code",
   "execution_count": 137,
   "id": "295e5c34",
   "metadata": {},
   "outputs": [
    {
     "data": {
      "text/plain": [
       "0"
      ]
     },
     "execution_count": 137,
     "metadata": {},
     "output_type": "execute_result"
    }
   ],
   "source": [
    "phone.duplicated().sum()"
   ]
  },
  {
   "cell_type": "code",
   "execution_count": 138,
   "id": "9a9cf82d",
   "metadata": {},
   "outputs": [
    {
     "data": {
      "text/plain": [
       "customerID       0\n",
       "MultipleLines    0\n",
       "dtype: int64"
      ]
     },
     "execution_count": 138,
     "metadata": {},
     "output_type": "execute_result"
    }
   ],
   "source": [
    "phone.isna().sum()"
   ]
  },
  {
   "cell_type": "markdown",
   "id": "7949ee1b",
   "metadata": {},
   "source": [
    "### Выводы по таблице\n",
    "\n",
    "- Явных пропусков и дубликатов нет. \n",
    "- Датафрейм содержит уникальный индификатор пользователя и бинарный признак MultipleLines "
   ]
  },
  {
   "cell_type": "markdown",
   "id": "989a7dc5",
   "metadata": {},
   "source": [
    "### Общий вывод\n",
    "\n",
    "- Мы рассмотрели 4 таблицы с данными: contract, internet, personal, phone.\n",
    "\n",
    "- Общее количество клиентов - 7043 .\n",
    "\n",
    "- Явных пропусков и дубликатов не обнаружили.\n",
    "\n",
    "- EndDate – выделим как целевой признак.\n"
   ]
  },
  {
   "cell_type": "code",
   "execution_count": 139,
   "id": "6fb7d368",
   "metadata": {},
   "outputs": [
    {
     "data": {
      "text/plain": [
       "No     3641\n",
       "Yes    3402\n",
       "Name: Partner, dtype: int64"
      ]
     },
     "execution_count": 139,
     "metadata": {},
     "output_type": "execute_result"
    }
   ],
   "source": [
    "personal['Partner'].value_counts() "
   ]
  },
  {
   "cell_type": "markdown",
   "id": "d2efd72d",
   "metadata": {},
   "source": [
    "# 3 Предобработка и исследовательский анализ данных"
   ]
  },
  {
   "cell_type": "markdown",
   "id": "bdcf55cd",
   "metadata": {},
   "source": [
    "## 3.1 Предобработка данных"
   ]
  },
  {
   "cell_type": "markdown",
   "id": "af9cc818",
   "metadata": {},
   "source": [
    "### 3.1.1 Создание единого датасета"
   ]
  },
  {
   "cell_type": "code",
   "execution_count": 140,
   "id": "ed52d20b",
   "metadata": {},
   "outputs": [],
   "source": [
    "data = personal.merge(contract, on = 'customerID', how='outer')\n",
    "data = data.merge(internet, on = 'customerID', how='outer')\n",
    "data = data.merge(phone, on = 'customerID', how='outer')"
   ]
  },
  {
   "cell_type": "code",
   "execution_count": 141,
   "id": "d7c9d8ed",
   "metadata": {
    "scrolled": false
   },
   "outputs": [
    {
     "name": "stdout",
     "output_type": "stream",
     "text": [
      "<class 'pandas.core.frame.DataFrame'>\n",
      "Int64Index: 7043 entries, 0 to 7042\n",
      "Data columns (total 20 columns):\n",
      " #   Column            Non-Null Count  Dtype         \n",
      "---  ------            --------------  -----         \n",
      " 0   customerID        7043 non-null   object        \n",
      " 1   gender            7043 non-null   object        \n",
      " 2   SeniorCitizen     7043 non-null   int64         \n",
      " 3   Partner           7043 non-null   object        \n",
      " 4   Dependents        7043 non-null   object        \n",
      " 5   BeginDate         7043 non-null   datetime64[ns]\n",
      " 6   EndDate           7043 non-null   object        \n",
      " 7   Type              7043 non-null   object        \n",
      " 8   PaperlessBilling  7043 non-null   object        \n",
      " 9   PaymentMethod     7043 non-null   object        \n",
      " 10  MonthlyCharges    7043 non-null   float64       \n",
      " 11  TotalCharges      7043 non-null   float64       \n",
      " 12  InternetService   5517 non-null   object        \n",
      " 13  OnlineSecurity    5517 non-null   object        \n",
      " 14  OnlineBackup      5517 non-null   object        \n",
      " 15  DeviceProtection  5517 non-null   object        \n",
      " 16  TechSupport       5517 non-null   object        \n",
      " 17  StreamingTV       5517 non-null   object        \n",
      " 18  StreamingMovies   5517 non-null   object        \n",
      " 19  MultipleLines     6361 non-null   object        \n",
      "dtypes: datetime64[ns](1), float64(2), int64(1), object(16)\n",
      "memory usage: 1.1+ MB\n"
     ]
    }
   ],
   "source": [
    "data.info()"
   ]
  },
  {
   "cell_type": "code",
   "execution_count": 142,
   "id": "06751947",
   "metadata": {
    "scrolled": true
   },
   "outputs": [
    {
     "data": {
      "text/html": [
       "<div>\n",
       "<style scoped>\n",
       "    .dataframe tbody tr th:only-of-type {\n",
       "        vertical-align: middle;\n",
       "    }\n",
       "\n",
       "    .dataframe tbody tr th {\n",
       "        vertical-align: top;\n",
       "    }\n",
       "\n",
       "    .dataframe thead th {\n",
       "        text-align: right;\n",
       "    }\n",
       "</style>\n",
       "<table border=\"1\" class=\"dataframe\">\n",
       "  <thead>\n",
       "    <tr style=\"text-align: right;\">\n",
       "      <th></th>\n",
       "      <th>customerID</th>\n",
       "      <th>gender</th>\n",
       "      <th>SeniorCitizen</th>\n",
       "      <th>Partner</th>\n",
       "      <th>Dependents</th>\n",
       "      <th>BeginDate</th>\n",
       "      <th>EndDate</th>\n",
       "      <th>Type</th>\n",
       "      <th>PaperlessBilling</th>\n",
       "      <th>PaymentMethod</th>\n",
       "      <th>MonthlyCharges</th>\n",
       "      <th>TotalCharges</th>\n",
       "      <th>InternetService</th>\n",
       "      <th>OnlineSecurity</th>\n",
       "      <th>OnlineBackup</th>\n",
       "      <th>DeviceProtection</th>\n",
       "      <th>TechSupport</th>\n",
       "      <th>StreamingTV</th>\n",
       "      <th>StreamingMovies</th>\n",
       "      <th>MultipleLines</th>\n",
       "    </tr>\n",
       "  </thead>\n",
       "  <tbody>\n",
       "    <tr>\n",
       "      <th>0</th>\n",
       "      <td>7590-VHVEG</td>\n",
       "      <td>Female</td>\n",
       "      <td>0</td>\n",
       "      <td>Yes</td>\n",
       "      <td>No</td>\n",
       "      <td>2020-01-01</td>\n",
       "      <td>No</td>\n",
       "      <td>Month-to-month</td>\n",
       "      <td>Yes</td>\n",
       "      <td>Electronic check</td>\n",
       "      <td>29.85</td>\n",
       "      <td>29.85</td>\n",
       "      <td>DSL</td>\n",
       "      <td>No</td>\n",
       "      <td>Yes</td>\n",
       "      <td>No</td>\n",
       "      <td>No</td>\n",
       "      <td>No</td>\n",
       "      <td>No</td>\n",
       "      <td>NaN</td>\n",
       "    </tr>\n",
       "    <tr>\n",
       "      <th>1</th>\n",
       "      <td>5575-GNVDE</td>\n",
       "      <td>Male</td>\n",
       "      <td>0</td>\n",
       "      <td>No</td>\n",
       "      <td>No</td>\n",
       "      <td>2017-04-01</td>\n",
       "      <td>No</td>\n",
       "      <td>One year</td>\n",
       "      <td>No</td>\n",
       "      <td>Mailed check</td>\n",
       "      <td>56.95</td>\n",
       "      <td>1889.50</td>\n",
       "      <td>DSL</td>\n",
       "      <td>Yes</td>\n",
       "      <td>No</td>\n",
       "      <td>Yes</td>\n",
       "      <td>No</td>\n",
       "      <td>No</td>\n",
       "      <td>No</td>\n",
       "      <td>No</td>\n",
       "    </tr>\n",
       "    <tr>\n",
       "      <th>2</th>\n",
       "      <td>3668-QPYBK</td>\n",
       "      <td>Male</td>\n",
       "      <td>0</td>\n",
       "      <td>No</td>\n",
       "      <td>No</td>\n",
       "      <td>2019-10-01</td>\n",
       "      <td>2019-12-01 00:00:00</td>\n",
       "      <td>Month-to-month</td>\n",
       "      <td>Yes</td>\n",
       "      <td>Mailed check</td>\n",
       "      <td>53.85</td>\n",
       "      <td>108.15</td>\n",
       "      <td>DSL</td>\n",
       "      <td>Yes</td>\n",
       "      <td>Yes</td>\n",
       "      <td>No</td>\n",
       "      <td>No</td>\n",
       "      <td>No</td>\n",
       "      <td>No</td>\n",
       "      <td>No</td>\n",
       "    </tr>\n",
       "    <tr>\n",
       "      <th>3</th>\n",
       "      <td>7795-CFOCW</td>\n",
       "      <td>Male</td>\n",
       "      <td>0</td>\n",
       "      <td>No</td>\n",
       "      <td>No</td>\n",
       "      <td>2016-05-01</td>\n",
       "      <td>No</td>\n",
       "      <td>One year</td>\n",
       "      <td>No</td>\n",
       "      <td>Bank transfer (automatic)</td>\n",
       "      <td>42.30</td>\n",
       "      <td>1840.75</td>\n",
       "      <td>DSL</td>\n",
       "      <td>Yes</td>\n",
       "      <td>No</td>\n",
       "      <td>Yes</td>\n",
       "      <td>Yes</td>\n",
       "      <td>No</td>\n",
       "      <td>No</td>\n",
       "      <td>NaN</td>\n",
       "    </tr>\n",
       "    <tr>\n",
       "      <th>4</th>\n",
       "      <td>9237-HQITU</td>\n",
       "      <td>Female</td>\n",
       "      <td>0</td>\n",
       "      <td>No</td>\n",
       "      <td>No</td>\n",
       "      <td>2019-09-01</td>\n",
       "      <td>2019-11-01 00:00:00</td>\n",
       "      <td>Month-to-month</td>\n",
       "      <td>Yes</td>\n",
       "      <td>Electronic check</td>\n",
       "      <td>70.70</td>\n",
       "      <td>151.65</td>\n",
       "      <td>Fiber optic</td>\n",
       "      <td>No</td>\n",
       "      <td>No</td>\n",
       "      <td>No</td>\n",
       "      <td>No</td>\n",
       "      <td>No</td>\n",
       "      <td>No</td>\n",
       "      <td>No</td>\n",
       "    </tr>\n",
       "  </tbody>\n",
       "</table>\n",
       "</div>"
      ],
      "text/plain": [
       "   customerID  gender  SeniorCitizen Partner Dependents  BeginDate  \\\n",
       "0  7590-VHVEG  Female              0     Yes         No 2020-01-01   \n",
       "1  5575-GNVDE    Male              0      No         No 2017-04-01   \n",
       "2  3668-QPYBK    Male              0      No         No 2019-10-01   \n",
       "3  7795-CFOCW    Male              0      No         No 2016-05-01   \n",
       "4  9237-HQITU  Female              0      No         No 2019-09-01   \n",
       "\n",
       "               EndDate            Type PaperlessBilling  \\\n",
       "0                   No  Month-to-month              Yes   \n",
       "1                   No        One year               No   \n",
       "2  2019-12-01 00:00:00  Month-to-month              Yes   \n",
       "3                   No        One year               No   \n",
       "4  2019-11-01 00:00:00  Month-to-month              Yes   \n",
       "\n",
       "               PaymentMethod  MonthlyCharges  TotalCharges InternetService  \\\n",
       "0           Electronic check           29.85         29.85             DSL   \n",
       "1               Mailed check           56.95       1889.50             DSL   \n",
       "2               Mailed check           53.85        108.15             DSL   \n",
       "3  Bank transfer (automatic)           42.30       1840.75             DSL   \n",
       "4           Electronic check           70.70        151.65     Fiber optic   \n",
       "\n",
       "  OnlineSecurity OnlineBackup DeviceProtection TechSupport StreamingTV  \\\n",
       "0             No          Yes               No          No          No   \n",
       "1            Yes           No              Yes          No          No   \n",
       "2            Yes          Yes               No          No          No   \n",
       "3            Yes           No              Yes         Yes          No   \n",
       "4             No           No               No          No          No   \n",
       "\n",
       "  StreamingMovies MultipleLines  \n",
       "0              No           NaN  \n",
       "1              No            No  \n",
       "2              No            No  \n",
       "3              No           NaN  \n",
       "4              No            No  "
      ]
     },
     "execution_count": 142,
     "metadata": {},
     "output_type": "execute_result"
    }
   ],
   "source": [
    "data.head()"
   ]
  },
  {
   "cell_type": "markdown",
   "id": "da4bddc9",
   "metadata": {},
   "source": [
    "### 3.1.2 Удаление неявных дубликатов и замена типов данных."
   ]
  },
  {
   "cell_type": "code",
   "execution_count": 143,
   "id": "a3cacd84",
   "metadata": {},
   "outputs": [
    {
     "data": {
      "text/plain": [
       "0"
      ]
     },
     "execution_count": 143,
     "metadata": {},
     "output_type": "execute_result"
    }
   ],
   "source": [
    "data.duplicated().sum()"
   ]
  },
  {
   "cell_type": "code",
   "execution_count": 144,
   "id": "ec737ee4",
   "metadata": {},
   "outputs": [
    {
     "data": {
      "text/plain": [
       "customerID             0\n",
       "gender                 0\n",
       "SeniorCitizen          0\n",
       "Partner                0\n",
       "Dependents             0\n",
       "BeginDate              0\n",
       "EndDate                0\n",
       "Type                   0\n",
       "PaperlessBilling       0\n",
       "PaymentMethod          0\n",
       "MonthlyCharges         0\n",
       "TotalCharges           0\n",
       "InternetService     1526\n",
       "OnlineSecurity      1526\n",
       "OnlineBackup        1526\n",
       "DeviceProtection    1526\n",
       "TechSupport         1526\n",
       "StreamingTV         1526\n",
       "StreamingMovies     1526\n",
       "MultipleLines        682\n",
       "dtype: int64"
      ]
     },
     "execution_count": 144,
     "metadata": {},
     "output_type": "execute_result"
    }
   ],
   "source": [
    "data.isna().sum()"
   ]
  },
  {
   "cell_type": "code",
   "execution_count": 145,
   "id": "47d7e711",
   "metadata": {},
   "outputs": [
    {
     "data": {
      "text/html": [
       "<div>\n",
       "<style scoped>\n",
       "    .dataframe tbody tr th:only-of-type {\n",
       "        vertical-align: middle;\n",
       "    }\n",
       "\n",
       "    .dataframe tbody tr th {\n",
       "        vertical-align: top;\n",
       "    }\n",
       "\n",
       "    .dataframe thead th {\n",
       "        text-align: right;\n",
       "    }\n",
       "</style>\n",
       "<table border=\"1\" class=\"dataframe\">\n",
       "  <thead>\n",
       "    <tr style=\"text-align: right;\">\n",
       "      <th></th>\n",
       "      <th>customerID</th>\n",
       "      <th>gender</th>\n",
       "      <th>SeniorCitizen</th>\n",
       "      <th>Partner</th>\n",
       "      <th>Dependents</th>\n",
       "      <th>BeginDate</th>\n",
       "      <th>EndDate</th>\n",
       "      <th>Type</th>\n",
       "      <th>PaperlessBilling</th>\n",
       "      <th>PaymentMethod</th>\n",
       "      <th>MonthlyCharges</th>\n",
       "      <th>TotalCharges</th>\n",
       "      <th>InternetService</th>\n",
       "      <th>OnlineSecurity</th>\n",
       "      <th>OnlineBackup</th>\n",
       "      <th>DeviceProtection</th>\n",
       "      <th>TechSupport</th>\n",
       "      <th>StreamingTV</th>\n",
       "      <th>StreamingMovies</th>\n",
       "      <th>MultipleLines</th>\n",
       "    </tr>\n",
       "  </thead>\n",
       "  <tbody>\n",
       "    <tr>\n",
       "      <th>11</th>\n",
       "      <td>7469-LKBCI</td>\n",
       "      <td>Male</td>\n",
       "      <td>0</td>\n",
       "      <td>No</td>\n",
       "      <td>No</td>\n",
       "      <td>2018-10-01</td>\n",
       "      <td>No</td>\n",
       "      <td>Two year</td>\n",
       "      <td>No</td>\n",
       "      <td>Credit card (automatic)</td>\n",
       "      <td>18.95</td>\n",
       "      <td>326.80</td>\n",
       "      <td>NaN</td>\n",
       "      <td>NaN</td>\n",
       "      <td>NaN</td>\n",
       "      <td>NaN</td>\n",
       "      <td>NaN</td>\n",
       "      <td>NaN</td>\n",
       "      <td>NaN</td>\n",
       "      <td>No</td>\n",
       "    </tr>\n",
       "    <tr>\n",
       "      <th>16</th>\n",
       "      <td>8191-XWSZG</td>\n",
       "      <td>Female</td>\n",
       "      <td>0</td>\n",
       "      <td>No</td>\n",
       "      <td>No</td>\n",
       "      <td>2015-10-01</td>\n",
       "      <td>No</td>\n",
       "      <td>One year</td>\n",
       "      <td>No</td>\n",
       "      <td>Mailed check</td>\n",
       "      <td>20.65</td>\n",
       "      <td>1022.95</td>\n",
       "      <td>NaN</td>\n",
       "      <td>NaN</td>\n",
       "      <td>NaN</td>\n",
       "      <td>NaN</td>\n",
       "      <td>NaN</td>\n",
       "      <td>NaN</td>\n",
       "      <td>NaN</td>\n",
       "      <td>No</td>\n",
       "    </tr>\n",
       "    <tr>\n",
       "      <th>21</th>\n",
       "      <td>1680-VDCWW</td>\n",
       "      <td>Male</td>\n",
       "      <td>0</td>\n",
       "      <td>Yes</td>\n",
       "      <td>No</td>\n",
       "      <td>2019-02-01</td>\n",
       "      <td>No</td>\n",
       "      <td>One year</td>\n",
       "      <td>No</td>\n",
       "      <td>Bank transfer (automatic)</td>\n",
       "      <td>19.80</td>\n",
       "      <td>202.25</td>\n",
       "      <td>NaN</td>\n",
       "      <td>NaN</td>\n",
       "      <td>NaN</td>\n",
       "      <td>NaN</td>\n",
       "      <td>NaN</td>\n",
       "      <td>NaN</td>\n",
       "      <td>NaN</td>\n",
       "      <td>No</td>\n",
       "    </tr>\n",
       "    <tr>\n",
       "      <th>22</th>\n",
       "      <td>1066-JKSGK</td>\n",
       "      <td>Male</td>\n",
       "      <td>0</td>\n",
       "      <td>No</td>\n",
       "      <td>No</td>\n",
       "      <td>2019-11-01</td>\n",
       "      <td>2019-12-01 00:00:00</td>\n",
       "      <td>Month-to-month</td>\n",
       "      <td>No</td>\n",
       "      <td>Mailed check</td>\n",
       "      <td>20.15</td>\n",
       "      <td>20.15</td>\n",
       "      <td>NaN</td>\n",
       "      <td>NaN</td>\n",
       "      <td>NaN</td>\n",
       "      <td>NaN</td>\n",
       "      <td>NaN</td>\n",
       "      <td>NaN</td>\n",
       "      <td>NaN</td>\n",
       "      <td>No</td>\n",
       "    </tr>\n",
       "    <tr>\n",
       "      <th>33</th>\n",
       "      <td>7310-EGVHZ</td>\n",
       "      <td>Male</td>\n",
       "      <td>0</td>\n",
       "      <td>No</td>\n",
       "      <td>No</td>\n",
       "      <td>2020-01-01</td>\n",
       "      <td>No</td>\n",
       "      <td>Month-to-month</td>\n",
       "      <td>No</td>\n",
       "      <td>Bank transfer (automatic)</td>\n",
       "      <td>20.20</td>\n",
       "      <td>20.20</td>\n",
       "      <td>NaN</td>\n",
       "      <td>NaN</td>\n",
       "      <td>NaN</td>\n",
       "      <td>NaN</td>\n",
       "      <td>NaN</td>\n",
       "      <td>NaN</td>\n",
       "      <td>NaN</td>\n",
       "      <td>No</td>\n",
       "    </tr>\n",
       "    <tr>\n",
       "      <th>...</th>\n",
       "      <td>...</td>\n",
       "      <td>...</td>\n",
       "      <td>...</td>\n",
       "      <td>...</td>\n",
       "      <td>...</td>\n",
       "      <td>...</td>\n",
       "      <td>...</td>\n",
       "      <td>...</td>\n",
       "      <td>...</td>\n",
       "      <td>...</td>\n",
       "      <td>...</td>\n",
       "      <td>...</td>\n",
       "      <td>...</td>\n",
       "      <td>...</td>\n",
       "      <td>...</td>\n",
       "      <td>...</td>\n",
       "      <td>...</td>\n",
       "      <td>...</td>\n",
       "      <td>...</td>\n",
       "      <td>...</td>\n",
       "    </tr>\n",
       "    <tr>\n",
       "      <th>7017</th>\n",
       "      <td>4807-IZYOZ</td>\n",
       "      <td>Female</td>\n",
       "      <td>0</td>\n",
       "      <td>No</td>\n",
       "      <td>No</td>\n",
       "      <td>2015-11-01</td>\n",
       "      <td>No</td>\n",
       "      <td>Two year</td>\n",
       "      <td>No</td>\n",
       "      <td>Bank transfer (automatic)</td>\n",
       "      <td>20.65</td>\n",
       "      <td>1020.75</td>\n",
       "      <td>NaN</td>\n",
       "      <td>NaN</td>\n",
       "      <td>NaN</td>\n",
       "      <td>NaN</td>\n",
       "      <td>NaN</td>\n",
       "      <td>NaN</td>\n",
       "      <td>NaN</td>\n",
       "      <td>No</td>\n",
       "    </tr>\n",
       "    <tr>\n",
       "      <th>7019</th>\n",
       "      <td>9710-NJERN</td>\n",
       "      <td>Female</td>\n",
       "      <td>0</td>\n",
       "      <td>No</td>\n",
       "      <td>No</td>\n",
       "      <td>2016-11-01</td>\n",
       "      <td>No</td>\n",
       "      <td>Two year</td>\n",
       "      <td>No</td>\n",
       "      <td>Mailed check</td>\n",
       "      <td>20.15</td>\n",
       "      <td>826.00</td>\n",
       "      <td>NaN</td>\n",
       "      <td>NaN</td>\n",
       "      <td>NaN</td>\n",
       "      <td>NaN</td>\n",
       "      <td>NaN</td>\n",
       "      <td>NaN</td>\n",
       "      <td>NaN</td>\n",
       "      <td>No</td>\n",
       "    </tr>\n",
       "    <tr>\n",
       "      <th>7020</th>\n",
       "      <td>9837-FWLCH</td>\n",
       "      <td>Male</td>\n",
       "      <td>0</td>\n",
       "      <td>Yes</td>\n",
       "      <td>Yes</td>\n",
       "      <td>2019-02-01</td>\n",
       "      <td>No</td>\n",
       "      <td>Month-to-month</td>\n",
       "      <td>Yes</td>\n",
       "      <td>Electronic check</td>\n",
       "      <td>19.20</td>\n",
       "      <td>239.00</td>\n",
       "      <td>NaN</td>\n",
       "      <td>NaN</td>\n",
       "      <td>NaN</td>\n",
       "      <td>NaN</td>\n",
       "      <td>NaN</td>\n",
       "      <td>NaN</td>\n",
       "      <td>NaN</td>\n",
       "      <td>No</td>\n",
       "    </tr>\n",
       "    <tr>\n",
       "      <th>7030</th>\n",
       "      <td>0871-OPBXW</td>\n",
       "      <td>Female</td>\n",
       "      <td>0</td>\n",
       "      <td>No</td>\n",
       "      <td>No</td>\n",
       "      <td>2019-12-01</td>\n",
       "      <td>No</td>\n",
       "      <td>Month-to-month</td>\n",
       "      <td>Yes</td>\n",
       "      <td>Mailed check</td>\n",
       "      <td>20.05</td>\n",
       "      <td>39.25</td>\n",
       "      <td>NaN</td>\n",
       "      <td>NaN</td>\n",
       "      <td>NaN</td>\n",
       "      <td>NaN</td>\n",
       "      <td>NaN</td>\n",
       "      <td>NaN</td>\n",
       "      <td>NaN</td>\n",
       "      <td>No</td>\n",
       "    </tr>\n",
       "    <tr>\n",
       "      <th>7037</th>\n",
       "      <td>2569-WGERO</td>\n",
       "      <td>Female</td>\n",
       "      <td>0</td>\n",
       "      <td>No</td>\n",
       "      <td>No</td>\n",
       "      <td>2014-02-01</td>\n",
       "      <td>No</td>\n",
       "      <td>Two year</td>\n",
       "      <td>Yes</td>\n",
       "      <td>Bank transfer (automatic)</td>\n",
       "      <td>21.15</td>\n",
       "      <td>1419.40</td>\n",
       "      <td>NaN</td>\n",
       "      <td>NaN</td>\n",
       "      <td>NaN</td>\n",
       "      <td>NaN</td>\n",
       "      <td>NaN</td>\n",
       "      <td>NaN</td>\n",
       "      <td>NaN</td>\n",
       "      <td>No</td>\n",
       "    </tr>\n",
       "  </tbody>\n",
       "</table>\n",
       "<p>1526 rows × 20 columns</p>\n",
       "</div>"
      ],
      "text/plain": [
       "      customerID  gender  SeniorCitizen Partner Dependents  BeginDate  \\\n",
       "11    7469-LKBCI    Male              0      No         No 2018-10-01   \n",
       "16    8191-XWSZG  Female              0      No         No 2015-10-01   \n",
       "21    1680-VDCWW    Male              0     Yes         No 2019-02-01   \n",
       "22    1066-JKSGK    Male              0      No         No 2019-11-01   \n",
       "33    7310-EGVHZ    Male              0      No         No 2020-01-01   \n",
       "...          ...     ...            ...     ...        ...        ...   \n",
       "7017  4807-IZYOZ  Female              0      No         No 2015-11-01   \n",
       "7019  9710-NJERN  Female              0      No         No 2016-11-01   \n",
       "7020  9837-FWLCH    Male              0     Yes        Yes 2019-02-01   \n",
       "7030  0871-OPBXW  Female              0      No         No 2019-12-01   \n",
       "7037  2569-WGERO  Female              0      No         No 2014-02-01   \n",
       "\n",
       "                  EndDate            Type PaperlessBilling  \\\n",
       "11                     No        Two year               No   \n",
       "16                     No        One year               No   \n",
       "21                     No        One year               No   \n",
       "22    2019-12-01 00:00:00  Month-to-month               No   \n",
       "33                     No  Month-to-month               No   \n",
       "...                   ...             ...              ...   \n",
       "7017                   No        Two year               No   \n",
       "7019                   No        Two year               No   \n",
       "7020                   No  Month-to-month              Yes   \n",
       "7030                   No  Month-to-month              Yes   \n",
       "7037                   No        Two year              Yes   \n",
       "\n",
       "                  PaymentMethod  MonthlyCharges  TotalCharges InternetService  \\\n",
       "11      Credit card (automatic)           18.95        326.80             NaN   \n",
       "16                 Mailed check           20.65       1022.95             NaN   \n",
       "21    Bank transfer (automatic)           19.80        202.25             NaN   \n",
       "22                 Mailed check           20.15         20.15             NaN   \n",
       "33    Bank transfer (automatic)           20.20         20.20             NaN   \n",
       "...                         ...             ...           ...             ...   \n",
       "7017  Bank transfer (automatic)           20.65       1020.75             NaN   \n",
       "7019               Mailed check           20.15        826.00             NaN   \n",
       "7020           Electronic check           19.20        239.00             NaN   \n",
       "7030               Mailed check           20.05         39.25             NaN   \n",
       "7037  Bank transfer (automatic)           21.15       1419.40             NaN   \n",
       "\n",
       "     OnlineSecurity OnlineBackup DeviceProtection TechSupport StreamingTV  \\\n",
       "11              NaN          NaN              NaN         NaN         NaN   \n",
       "16              NaN          NaN              NaN         NaN         NaN   \n",
       "21              NaN          NaN              NaN         NaN         NaN   \n",
       "22              NaN          NaN              NaN         NaN         NaN   \n",
       "33              NaN          NaN              NaN         NaN         NaN   \n",
       "...             ...          ...              ...         ...         ...   \n",
       "7017            NaN          NaN              NaN         NaN         NaN   \n",
       "7019            NaN          NaN              NaN         NaN         NaN   \n",
       "7020            NaN          NaN              NaN         NaN         NaN   \n",
       "7030            NaN          NaN              NaN         NaN         NaN   \n",
       "7037            NaN          NaN              NaN         NaN         NaN   \n",
       "\n",
       "     StreamingMovies MultipleLines  \n",
       "11               NaN            No  \n",
       "16               NaN            No  \n",
       "21               NaN            No  \n",
       "22               NaN            No  \n",
       "33               NaN            No  \n",
       "...              ...           ...  \n",
       "7017             NaN            No  \n",
       "7019             NaN            No  \n",
       "7020             NaN            No  \n",
       "7030             NaN            No  \n",
       "7037             NaN            No  \n",
       "\n",
       "[1526 rows x 20 columns]"
      ]
     },
     "execution_count": 145,
     "metadata": {},
     "output_type": "execute_result"
    }
   ],
   "source": [
    "data[data['InternetService'].isnull() == True]"
   ]
  },
  {
   "cell_type": "markdown",
   "id": "17fcbd28",
   "metadata": {},
   "source": [
    "Пропуски в таблице появились в связи с тем, что некоторые абоненты не пользовались интернет услугами. Вместо пропусков поставим нули. "
   ]
  },
  {
   "cell_type": "code",
   "execution_count": 146,
   "id": "ddc01f95",
   "metadata": {},
   "outputs": [],
   "source": [
    "data = data.fillna(\"No\")"
   ]
  },
  {
   "cell_type": "markdown",
   "id": "03df5bde",
   "metadata": {},
   "source": [
    "Для удобства сменим в 'EndDate' no на последнюю дату выгрузки '2020-02-01'. Дата будет означать, что клиент еще пользуется услугами компании.\n"
   ]
  },
  {
   "cell_type": "code",
   "execution_count": 147,
   "id": "68b395a3",
   "metadata": {},
   "outputs": [],
   "source": [
    "data.loc[data['EndDate']== 'No', 'EndDate']= '2020-02-01'"
   ]
  },
  {
   "cell_type": "code",
   "execution_count": 148,
   "id": "566ff070",
   "metadata": {},
   "outputs": [],
   "source": [
    "data['EndDate'] = pd.to_datetime(data['EndDate'])"
   ]
  },
  {
   "cell_type": "markdown",
   "id": "1cd34e49",
   "metadata": {},
   "source": [
    "### 3.1.4 Добавление столбцов"
   ]
  },
  {
   "cell_type": "markdown",
   "id": "22f1f4aa",
   "metadata": {},
   "source": [
    "Добавим столбец с количеством дней, через которое клиент ушел."
   ]
  },
  {
   "cell_type": "code",
   "execution_count": 150,
   "id": "43c91812",
   "metadata": {},
   "outputs": [],
   "source": [
    "data['number_of_days'] = (data['EndDate'] - data['BeginDate']).dt.days"
   ]
  },
  {
   "cell_type": "markdown",
   "id": "3fb78d0d",
   "metadata": {},
   "source": [
    "Добавим столбец с количеством дней от регистрации договора до даты сбора датасета - 2020-02-01."
   ]
  },
  {
   "cell_type": "markdown",
   "id": "835128d8",
   "metadata": {},
   "source": [
    "Создадим столбец, в коротором присвоим ушедшим 1, оставшимся клиентам 0."
   ]
  },
  {
   "cell_type": "code",
   "execution_count": 152,
   "id": "e4802c6c",
   "metadata": {},
   "outputs": [
    {
     "name": "stdout",
     "output_type": "stream",
     "text": [
      "0    5174\n",
      "1    1869\n",
      "Name: left, dtype: int64\n"
     ]
    }
   ],
   "source": [
    "data['left'] = 0\n",
    "data.loc[data['EndDate'] < '2020-02-01', 'left'] = 1\n",
    "print (data['left'].value_counts())"
   ]
  },
  {
   "cell_type": "code",
   "execution_count": 153,
   "id": "3577959d",
   "metadata": {
    "scrolled": true
   },
   "outputs": [
    {
     "data": {
      "text/html": [
       "<div>\n",
       "<style scoped>\n",
       "    .dataframe tbody tr th:only-of-type {\n",
       "        vertical-align: middle;\n",
       "    }\n",
       "\n",
       "    .dataframe tbody tr th {\n",
       "        vertical-align: top;\n",
       "    }\n",
       "\n",
       "    .dataframe thead th {\n",
       "        text-align: right;\n",
       "    }\n",
       "</style>\n",
       "<table border=\"1\" class=\"dataframe\">\n",
       "  <thead>\n",
       "    <tr style=\"text-align: right;\">\n",
       "      <th></th>\n",
       "      <th>customerID</th>\n",
       "      <th>gender</th>\n",
       "      <th>SeniorCitizen</th>\n",
       "      <th>Partner</th>\n",
       "      <th>Dependents</th>\n",
       "      <th>BeginDate</th>\n",
       "      <th>EndDate</th>\n",
       "      <th>Type</th>\n",
       "      <th>PaperlessBilling</th>\n",
       "      <th>PaymentMethod</th>\n",
       "      <th>...</th>\n",
       "      <th>InternetService</th>\n",
       "      <th>OnlineSecurity</th>\n",
       "      <th>OnlineBackup</th>\n",
       "      <th>DeviceProtection</th>\n",
       "      <th>TechSupport</th>\n",
       "      <th>StreamingTV</th>\n",
       "      <th>StreamingMovies</th>\n",
       "      <th>MultipleLines</th>\n",
       "      <th>number_of_days</th>\n",
       "      <th>left</th>\n",
       "    </tr>\n",
       "  </thead>\n",
       "  <tbody>\n",
       "    <tr>\n",
       "      <th>0</th>\n",
       "      <td>7590-VHVEG</td>\n",
       "      <td>Female</td>\n",
       "      <td>0</td>\n",
       "      <td>Yes</td>\n",
       "      <td>No</td>\n",
       "      <td>2020-01-01</td>\n",
       "      <td>2020-02-01</td>\n",
       "      <td>Month-to-month</td>\n",
       "      <td>Yes</td>\n",
       "      <td>Electronic check</td>\n",
       "      <td>...</td>\n",
       "      <td>DSL</td>\n",
       "      <td>No</td>\n",
       "      <td>Yes</td>\n",
       "      <td>No</td>\n",
       "      <td>No</td>\n",
       "      <td>No</td>\n",
       "      <td>No</td>\n",
       "      <td>No</td>\n",
       "      <td>31</td>\n",
       "      <td>0</td>\n",
       "    </tr>\n",
       "    <tr>\n",
       "      <th>1</th>\n",
       "      <td>5575-GNVDE</td>\n",
       "      <td>Male</td>\n",
       "      <td>0</td>\n",
       "      <td>No</td>\n",
       "      <td>No</td>\n",
       "      <td>2017-04-01</td>\n",
       "      <td>2020-02-01</td>\n",
       "      <td>One year</td>\n",
       "      <td>No</td>\n",
       "      <td>Mailed check</td>\n",
       "      <td>...</td>\n",
       "      <td>DSL</td>\n",
       "      <td>Yes</td>\n",
       "      <td>No</td>\n",
       "      <td>Yes</td>\n",
       "      <td>No</td>\n",
       "      <td>No</td>\n",
       "      <td>No</td>\n",
       "      <td>No</td>\n",
       "      <td>1036</td>\n",
       "      <td>0</td>\n",
       "    </tr>\n",
       "    <tr>\n",
       "      <th>2</th>\n",
       "      <td>3668-QPYBK</td>\n",
       "      <td>Male</td>\n",
       "      <td>0</td>\n",
       "      <td>No</td>\n",
       "      <td>No</td>\n",
       "      <td>2019-10-01</td>\n",
       "      <td>2019-12-01</td>\n",
       "      <td>Month-to-month</td>\n",
       "      <td>Yes</td>\n",
       "      <td>Mailed check</td>\n",
       "      <td>...</td>\n",
       "      <td>DSL</td>\n",
       "      <td>Yes</td>\n",
       "      <td>Yes</td>\n",
       "      <td>No</td>\n",
       "      <td>No</td>\n",
       "      <td>No</td>\n",
       "      <td>No</td>\n",
       "      <td>No</td>\n",
       "      <td>61</td>\n",
       "      <td>1</td>\n",
       "    </tr>\n",
       "    <tr>\n",
       "      <th>3</th>\n",
       "      <td>7795-CFOCW</td>\n",
       "      <td>Male</td>\n",
       "      <td>0</td>\n",
       "      <td>No</td>\n",
       "      <td>No</td>\n",
       "      <td>2016-05-01</td>\n",
       "      <td>2020-02-01</td>\n",
       "      <td>One year</td>\n",
       "      <td>No</td>\n",
       "      <td>Bank transfer (automatic)</td>\n",
       "      <td>...</td>\n",
       "      <td>DSL</td>\n",
       "      <td>Yes</td>\n",
       "      <td>No</td>\n",
       "      <td>Yes</td>\n",
       "      <td>Yes</td>\n",
       "      <td>No</td>\n",
       "      <td>No</td>\n",
       "      <td>No</td>\n",
       "      <td>1371</td>\n",
       "      <td>0</td>\n",
       "    </tr>\n",
       "    <tr>\n",
       "      <th>4</th>\n",
       "      <td>9237-HQITU</td>\n",
       "      <td>Female</td>\n",
       "      <td>0</td>\n",
       "      <td>No</td>\n",
       "      <td>No</td>\n",
       "      <td>2019-09-01</td>\n",
       "      <td>2019-11-01</td>\n",
       "      <td>Month-to-month</td>\n",
       "      <td>Yes</td>\n",
       "      <td>Electronic check</td>\n",
       "      <td>...</td>\n",
       "      <td>Fiber optic</td>\n",
       "      <td>No</td>\n",
       "      <td>No</td>\n",
       "      <td>No</td>\n",
       "      <td>No</td>\n",
       "      <td>No</td>\n",
       "      <td>No</td>\n",
       "      <td>No</td>\n",
       "      <td>61</td>\n",
       "      <td>1</td>\n",
       "    </tr>\n",
       "  </tbody>\n",
       "</table>\n",
       "<p>5 rows × 22 columns</p>\n",
       "</div>"
      ],
      "text/plain": [
       "   customerID  gender  SeniorCitizen Partner Dependents  BeginDate    EndDate  \\\n",
       "0  7590-VHVEG  Female              0     Yes         No 2020-01-01 2020-02-01   \n",
       "1  5575-GNVDE    Male              0      No         No 2017-04-01 2020-02-01   \n",
       "2  3668-QPYBK    Male              0      No         No 2019-10-01 2019-12-01   \n",
       "3  7795-CFOCW    Male              0      No         No 2016-05-01 2020-02-01   \n",
       "4  9237-HQITU  Female              0      No         No 2019-09-01 2019-11-01   \n",
       "\n",
       "             Type PaperlessBilling              PaymentMethod  ...  \\\n",
       "0  Month-to-month              Yes           Electronic check  ...   \n",
       "1        One year               No               Mailed check  ...   \n",
       "2  Month-to-month              Yes               Mailed check  ...   \n",
       "3        One year               No  Bank transfer (automatic)  ...   \n",
       "4  Month-to-month              Yes           Electronic check  ...   \n",
       "\n",
       "   InternetService  OnlineSecurity OnlineBackup DeviceProtection TechSupport  \\\n",
       "0              DSL              No          Yes               No          No   \n",
       "1              DSL             Yes           No              Yes          No   \n",
       "2              DSL             Yes          Yes               No          No   \n",
       "3              DSL             Yes           No              Yes         Yes   \n",
       "4      Fiber optic              No           No               No          No   \n",
       "\n",
       "  StreamingTV StreamingMovies MultipleLines number_of_days left  \n",
       "0          No              No            No             31    0  \n",
       "1          No              No            No           1036    0  \n",
       "2          No              No            No             61    1  \n",
       "3          No              No            No           1371    0  \n",
       "4          No              No            No             61    1  \n",
       "\n",
       "[5 rows x 22 columns]"
      ]
     },
     "execution_count": 153,
     "metadata": {},
     "output_type": "execute_result"
    }
   ],
   "source": [
    "data.head()"
   ]
  },
  {
   "cell_type": "markdown",
   "id": "9b7a10c1",
   "metadata": {},
   "source": [
    "### 3.2 Исследовательский анализ данных"
   ]
  },
  {
   "cell_type": "markdown",
   "id": "c43f5aec",
   "metadata": {},
   "source": [
    "#### План исследования:\n",
    "\n",
    " 1. Анализ данных всех клиентов (до распределения на ушедших и оставшихся). \n",
    "\n",
    "Изучить портрет типичного клиента сервиса вне зависимости от того прекратил он обслуживание или нет. Изучить средние чеки и популярность предоставляемых услуг.\n",
    "Вычислить средний срок пользования услугами.\n",
    "\n",
    " 2. Разделить клиентов на ушедших и оставшихся.\n",
    "\n",
    "По данным из таблицы personal\n",
    "\n",
    "Найти зависимости по персональным данным клиентов.\n",
    "\n",
    "По данным из таблицы contract:\n",
    "\n",
    "- Вычислить средний ежемесячный платеж \n",
    "\n",
    "- Проверить в какой период прекращается обслуживание (в целом через какое время клиент с наибольшей вероятностью покидает компанию)\n",
    "\n",
    "- Построить количество пользователей по дате регистрации и по дате окончания договора\n",
    "\n",
    "- Проверить распределения типа и метода оплаты для ушедших клиентов\n",
    "\n",
    "\n",
    " По данным из таблицы internet\n",
    "\n",
    "- Вычислить сколько пользователей каким типом интеренета пользуются и сколько из них ушедших\n",
    "\n",
    "- Сколько ушедших клиентов пользовались доп.услугами\n",
    "\n",
    "\n",
    "Проверить тип телефонной линии для ушедших и для постоянных клиентов."
   ]
  },
  {
   "cell_type": "markdown",
   "id": "8990ce6a",
   "metadata": {},
   "source": [
    "### 1. Анализ данных всех клиентов"
   ]
  },
  {
   "cell_type": "markdown",
   "id": "54bc4647",
   "metadata": {},
   "source": [
    "Исследуем личные данные."
   ]
  },
  {
   "cell_type": "code",
   "execution_count": 154,
   "id": "c82c18a2",
   "metadata": {},
   "outputs": [
    {
     "data": {
      "text/plain": [
       "Male      3555\n",
       "Female    3488\n",
       "Name: gender, dtype: int64"
      ]
     },
     "execution_count": 154,
     "metadata": {},
     "output_type": "execute_result"
    }
   ],
   "source": [
    "data['gender'].value_counts()"
   ]
  },
  {
   "cell_type": "code",
   "execution_count": 155,
   "id": "11a3789a",
   "metadata": {
    "scrolled": true
   },
   "outputs": [
    {
     "data": {
      "image/png": "[encoded data removed]",
      "text/plain": [
       "<Figure size 360x360 with 1 Axes>"
      ]
     },
     "metadata": {
      "needs_background": "light"
     },
     "output_type": "display_data"
    }
   ],
   "source": [
    "plt.figure(figsize=(5,5))\n",
    "data['gender'].value_counts().plot.bar(color=('b', 'r'))\n",
    "plt.title('Cоотношение мужчин и женщин')\n",
    "\n",
    "plt.show()"
   ]
  },
  {
   "cell_type": "code",
   "execution_count": 156,
   "id": "51ce1f45",
   "metadata": {},
   "outputs": [
    {
     "data": {
      "text/plain": [
       "No     4933\n",
       "Yes    2110\n",
       "Name: Dependents, dtype: int64"
      ]
     },
     "execution_count": 156,
     "metadata": {},
     "output_type": "execute_result"
    }
   ],
   "source": [
    "data['Dependents'].value_counts()"
   ]
  },
  {
   "cell_type": "code",
   "execution_count": 157,
   "id": "b5d0a2bc",
   "metadata": {
    "scrolled": false
   },
   "outputs": [
    {
     "data": {
      "image/png": "[encoded data removed]",
      "text/plain": [
       "<Figure size 360x360 with 1 Axes>"
      ]
     },
     "metadata": {},
     "output_type": "display_data"
    }
   ],
   "source": [
    "plt.figure(figsize=(5,5))\n",
    "plt.pie(data['Dependents'].value_counts(),  autopct='%1.2f%%')\n",
    "plt.legend(labels=('Нет', 'Да'))\n",
    "plt.title('Наличие иждевенцев')\n",
    "plt.show()"
   ]
  },
  {
   "cell_type": "code",
   "execution_count": 158,
   "id": "aa27ea0f",
   "metadata": {},
   "outputs": [
    {
     "data": {
      "text/plain": [
       "0    5901\n",
       "1    1142\n",
       "Name: SeniorCitizen, dtype: int64"
      ]
     },
     "execution_count": 158,
     "metadata": {},
     "output_type": "execute_result"
    }
   ],
   "source": [
    "data['SeniorCitizen'].value_counts()"
   ]
  },
  {
   "cell_type": "code",
   "execution_count": 159,
   "id": "3a4c3ffc",
   "metadata": {
    "scrolled": true
   },
   "outputs": [
    {
     "data": {
      "image/png": "[encoded data removed]",
      "text/plain": [
       "<Figure size 360x360 with 1 Axes>"
      ]
     },
     "metadata": {
      "needs_background": "light"
     },
     "output_type": "display_data"
    }
   ],
   "source": [
    "plt.figure(figsize=(5,5))\n",
    "data['SeniorCitizen'].value_counts().plot.bar()\n",
    "plt.title('Наличие пенисионного статуса')\n",
    "plt.show()"
   ]
  },
  {
   "cell_type": "code",
   "execution_count": 160,
   "id": "9b166546",
   "metadata": {},
   "outputs": [
    {
     "data": {
      "text/plain": [
       "No     3641\n",
       "Yes    3402\n",
       "Name: Partner, dtype: int64"
      ]
     },
     "execution_count": 160,
     "metadata": {},
     "output_type": "execute_result"
    }
   ],
   "source": [
    "personal['Partner'].value_counts()"
   ]
  },
  {
   "cell_type": "code",
   "execution_count": 161,
   "id": "97dece34",
   "metadata": {},
   "outputs": [
    {
     "data": {
      "image/png": "[encoded data removed]",
      "text/plain": [
       "<Figure size 360x360 with 1 Axes>"
      ]
     },
     "metadata": {},
     "output_type": "display_data"
    }
   ],
   "source": [
    "plt.figure(figsize=(5,5))\n",
    "plt.pie(data['Partner'].value_counts(),  autopct='%1.2f%%')\n",
    "plt.legend(labels=('Нет', 'Да'))\n",
    "plt.title('Наличие супруга')\n",
    "plt.show()"
   ]
  },
  {
   "cell_type": "markdown",
   "id": "2e796d7b",
   "metadata": {},
   "source": [
    "Выводы по личным данным всех абонентов:\n",
    "\n",
    "- Среди клиентов оператора равное количество мужчин и женщин.\n",
    "\n",
    "- 30% клиентов имеют детей\n",
    "\n",
    "- Меньше четверти клиентов люди пенсионного возраста\n",
    "\n",
    "- Около 50% клиенов находится в браке."
   ]
  },
  {
   "cell_type": "markdown",
   "id": "e9fa8886",
   "metadata": {},
   "source": [
    "Посмотрим на даты заключения договоров."
   ]
  },
  {
   "cell_type": "code",
   "execution_count": 162,
   "id": "d0fccd8a",
   "metadata": {
    "scrolled": false
   },
   "outputs": [
    {
     "data": {
      "image/png": "[encoded data removed]",
      "text/plain": [
       "<Figure size 720x720 with 1 Axes>"
      ]
     },
     "metadata": {
      "needs_background": "light"
     },
     "output_type": "display_data"
    }
   ],
   "source": [
    "plt.figure(figsize = (10,10))\n",
    "contract['BeginDate'].hist(bins=100)\n",
    "\n",
    "plt.title('Даты заключения договоров')\n",
    "plt.xlabel('год')\n",
    "plt.ylabel('количество людей')\n",
    "plt.show()"
   ]
  },
  {
   "cell_type": "code",
   "execution_count": 163,
   "id": "7fbc44e7",
   "metadata": {},
   "outputs": [
    {
     "data": {
      "text/plain": [
       "Timestamp('2013-10-01 00:00:00')"
      ]
     },
     "execution_count": 163,
     "metadata": {},
     "output_type": "execute_result"
    }
   ],
   "source": [
    "contract['BeginDate'].min()"
   ]
  },
  {
   "cell_type": "markdown",
   "id": "aa45c0a6",
   "metadata": {},
   "source": [
    "У нас есть данные с 2013 по 2020 год. С 2014 по 2018 в среднем прибовлялось по 100 новых пользователей в месяц. С 2018 года виден плавный рост. Пик приходится на 2019-2020 годы.\n"
   ]
  },
  {
   "cell_type": "markdown",
   "id": "8b32bf8d",
   "metadata": {},
   "source": [
    "Посмотрим через какое количество дей пользователи прекращают обслуживание. Оставим только ушедших пользователей."
   ]
  },
  {
   "cell_type": "code",
   "execution_count": 164,
   "id": "671f1f89",
   "metadata": {},
   "outputs": [],
   "source": [
    "x = data[data['EndDate'] < '2020-02-01']"
   ]
  },
  {
   "cell_type": "code",
   "execution_count": 165,
   "id": "68c6a685",
   "metadata": {
    "scrolled": true
   },
   "outputs": [],
   "source": [
    "#plt.figure(figsize= (15,5))\n",
    "#sns.kdeplot(data=x['number_of_days'], multiple=\"stack\")\n",
    "#plt.title('Количество дней от регистрации до ухода')\n",
    "#plt.show()"
   ]
  },
  {
   "cell_type": "markdown",
   "id": "b45451f0",
   "metadata": {},
   "source": [
    "Получается, что большинство пользователей отменяют подписку в течении первых 300 дней, те 1 года."
   ]
  },
  {
   "cell_type": "code",
   "execution_count": 166,
   "id": "e564fd08",
   "metadata": {
    "scrolled": false
   },
   "outputs": [
    {
     "data": {
      "image/png": "[encoded data removed]",
      "text/plain": [
       "<Figure size 720x720 with 1 Axes>"
      ]
     },
     "metadata": {
      "needs_background": "light"
     },
     "output_type": "display_data"
    }
   ],
   "source": [
    "plt.figure(figsize = (10,10))\n",
    "x['EndDate'].hist(bins = 50)\n",
    "plt.title('Даты завершения подписок')\n",
    "plt.xlabel('год')\n",
    "plt.ylabel('количество людей')\n",
    "plt.show()"
   ]
  },
  {
   "cell_type": "markdown",
   "id": "aa1a3000",
   "metadata": {},
   "source": [
    "Практически одинаковое количество людей завершили подписку 2019.10, 2019.11, 2019.12, 2020.01 те стабильно много людей отказывалось от услуг 4 месяца подряд.\n"
   ]
  },
  {
   "cell_type": "code",
   "execution_count": 167,
   "id": "ebe06b05",
   "metadata": {},
   "outputs": [
    {
     "data": {
      "image/png": "[encoded data removed]",
      "text/plain": [
       "<Figure size 1080x360 with 1 Axes>"
      ]
     },
     "metadata": {
      "needs_background": "light"
     },
     "output_type": "display_data"
    }
   ],
   "source": [
    "plt.figure(figsize= (15,5))\n",
    "data.boxplot('MonthlyCharges')\n",
    "plt.title('Ежемесячные платежи')\n",
    "plt.show()"
   ]
  },
  {
   "cell_type": "code",
   "execution_count": 168,
   "id": "fb2f2618",
   "metadata": {},
   "outputs": [
    {
     "data": {
      "image/png": "[encoded data removed]",
      "text/plain": [
       "<Figure size 1080x360 with 1 Axes>"
      ]
     },
     "metadata": {
      "needs_background": "light"
     },
     "output_type": "display_data"
    }
   ],
   "source": [
    "plt.figure(figsize= (15,5))\n",
    "data['MonthlyCharges'].hist(bins = 50)\n",
    "plt.title('Ежемесячные платежи')\n",
    "plt.show()"
   ]
  },
  {
   "cell_type": "code",
   "execution_count": 169,
   "id": "acc20c3e",
   "metadata": {},
   "outputs": [
    {
     "data": {
      "text/plain": [
       "count    7043.000000\n",
       "mean       64.761692\n",
       "std        30.090047\n",
       "min        18.250000\n",
       "25%        35.500000\n",
       "50%        70.350000\n",
       "75%        89.850000\n",
       "max       118.750000\n",
       "Name: MonthlyCharges, dtype: float64"
      ]
     },
     "execution_count": 169,
     "metadata": {},
     "output_type": "execute_result"
    }
   ],
   "source": [
    "data['MonthlyCharges'].describe()"
   ]
  },
  {
   "cell_type": "markdown",
   "id": "02c3f6fa",
   "metadata": {
    "scrolled": true
   },
   "source": [
    "В разделе ежемесячных платежей нет выбросов, данные распределены нормально. В среднем пользователи платят 64.7, максимальная оплата 118.7, минимальная 18.2.\n",
    "\n",
    "Большинство пользователей прекратило подписку в конце 2019, что совпадает с периодом активного роста заключения новых договоров."
   ]
  },
  {
   "cell_type": "markdown",
   "id": "89a17b6b",
   "metadata": {},
   "source": [
    "### 2. Анализ ушедших и оставшихся клиентов."
   ]
  },
  {
   "cell_type": "markdown",
   "id": "772f580b",
   "metadata": {},
   "source": [
    "Сравним данные по оставшимся и ушедшим клиентам.\n"
   ]
  },
  {
   "cell_type": "code",
   "execution_count": 170,
   "id": "cc232db7",
   "metadata": {},
   "outputs": [],
   "source": [
    "# таблица с ушедшими клиентами\n",
    "client_left = data[data['left'] == 1]\n",
    "\n",
    "# таблица с оставшимися\n",
    "client_rest = data[data['left'] == 0]"
   ]
  },
  {
   "cell_type": "markdown",
   "id": "f4c89cfe",
   "metadata": {},
   "source": [
    "Посмотрим различаются ли персональные данные ушедших и оставшихся абонентов."
   ]
  },
  {
   "cell_type": "code",
   "execution_count": 171,
   "id": "fde4f37e",
   "metadata": {
    "scrolled": false
   },
   "outputs": [
    {
     "data": {
      "text/plain": [
       "<Figure size 360x360 with 0 Axes>"
      ]
     },
     "metadata": {},
     "output_type": "display_data"
    },
    {
     "data": {
      "image/png": "[encoded data removed]",
      "text/plain": [
       "<Figure size 1080x360 with 2 Axes>"
      ]
     },
     "metadata": {
      "needs_background": "light"
     },
     "output_type": "display_data"
    }
   ],
   "source": [
    "plt.figure(figsize=(5,5))\n",
    "\n",
    "fig, axes = plt.subplots(1, 2, figsize=(15, 5))\n",
    "\n",
    "\n",
    "client_left['gender'].value_counts().plot.bar(ax=axes[0], color=('b', 'r'))\n",
    "\n",
    "axes[0].set_title('Cоотношение мужчин и женщин среди ушедших клиентов')\n",
    "\n",
    "client_rest['gender'].value_counts().plot.bar(ax=axes[1], color=('b', 'r'))\n",
    "axes[1].set_title('Cоотношение мужчин и женщин среди оставшихся клиентов')\n",
    "\n",
    "\n",
    "plt.show()"
   ]
  },
  {
   "cell_type": "code",
   "execution_count": 172,
   "id": "504a47a4",
   "metadata": {
    "scrolled": false
   },
   "outputs": [
    {
     "data": {
      "image/png": "[encoded data removed]",
      "text/plain": [
       "<Figure size 1080x1080 with 2 Axes>"
      ]
     },
     "metadata": {},
     "output_type": "display_data"
    }
   ],
   "source": [
    "fig, (ax1, ax2) = plt.subplots(1, 2, figsize=(15, 15))\n",
    "\n",
    "ax1.pie(client_left['Dependents'].value_counts(), autopct='%1.2f%%')\n",
    "ax2.pie(client_rest['Dependents'].value_counts(), autopct='%1.2f%%')\n",
    "\n",
    "ax1.set_title('Наличие детей у ушедших пользователей')\n",
    "ax2.set_title('Наличие детей у оставшихся пользователей')\n",
    "\n",
    "ax1.legend(labels=('Нет', 'Да'))\n",
    "ax2.legend(labels=('Нет', 'Да'))\n",
    "\n",
    "plt.show()"
   ]
  },
  {
   "cell_type": "code",
   "execution_count": 173,
   "id": "60fbe1f5",
   "metadata": {
    "scrolled": true
   },
   "outputs": [
    {
     "data": {
      "text/plain": [
       "0    4508\n",
       "1     666\n",
       "Name: SeniorCitizen, dtype: int64"
      ]
     },
     "execution_count": 173,
     "metadata": {},
     "output_type": "execute_result"
    }
   ],
   "source": [
    "client_rest['SeniorCitizen'].value_counts()"
   ]
  },
  {
   "cell_type": "code",
   "execution_count": 174,
   "id": "a49e33c5",
   "metadata": {},
   "outputs": [
    {
     "data": {
      "text/plain": [
       "0    1393\n",
       "1     476\n",
       "Name: SeniorCitizen, dtype: int64"
      ]
     },
     "execution_count": 174,
     "metadata": {},
     "output_type": "execute_result"
    }
   ],
   "source": [
    "client_left['SeniorCitizen'].value_counts()"
   ]
  },
  {
   "cell_type": "code",
   "execution_count": 175,
   "id": "d83628be",
   "metadata": {
    "scrolled": false
   },
   "outputs": [
    {
     "data": {
      "text/plain": [
       "<Figure size 360x360 with 0 Axes>"
      ]
     },
     "metadata": {},
     "output_type": "display_data"
    },
    {
     "data": {
      "image/png": "[encoded data removed]",
      "text/plain": [
       "<Figure size 1080x360 with 2 Axes>"
      ]
     },
     "metadata": {
      "needs_background": "light"
     },
     "output_type": "display_data"
    }
   ],
   "source": [
    "plt.figure(figsize=(5,5))\n",
    "\n",
    "fig, axes = plt.subplots(1, 2, figsize=(15, 5))\n",
    "\n",
    "\n",
    "client_left['SeniorCitizen'].value_counts().plot.bar(ax=axes[0], color=('b', 'r'))\n",
    "\n",
    "axes[0].set_title('Пенсионеры среди ушедших клиентов')\n",
    "\n",
    "client_rest['SeniorCitizen'].value_counts().plot.bar(ax=axes[1], color=('b', 'r'))\n",
    "axes[1].set_title('Пенсионеры  среди оставшихся клиентов')\n",
    "\n",
    "\n",
    "plt.show()"
   ]
  },
  {
   "cell_type": "markdown",
   "id": "f428a5b6",
   "metadata": {},
   "source": [
    "Выводы по личным данным клиентов:\n",
    "- Среди ушедших и оставшихсяклиенов равное количество мужчини женщин.\n",
    "\n",
    "- У 34% процентов оставшихся пользоватей и у 18% ушедших есть дети.\n",
    "\n",
    "- Людей пенсионного возраста немного больше среди оставшихся абонентов  666 против 476."
   ]
  },
  {
   "cell_type": "markdown",
   "id": "eaaadb3d",
   "metadata": {},
   "source": [
    "Посмотрим на платежи."
   ]
  },
  {
   "cell_type": "code",
   "execution_count": 176,
   "id": "0b23418d",
   "metadata": {
    "scrolled": false
   },
   "outputs": [
    {
     "data": {
      "image/png": "[encoded data removed]",
      "text/plain": [
       "<Figure size 1080x360 with 2 Axes>"
      ]
     },
     "metadata": {
      "needs_background": "light"
     },
     "output_type": "display_data"
    }
   ],
   "source": [
    "fig, axes = plt.subplots(1, 2, figsize=(15, 5))\n",
    "    \n",
    "fig.suptitle('Ежемесячные платежи ушедших клиентов', fontsize=16)\n",
    "       \n",
    "sns.histplot(ax=axes[0], data=client_left, x = 'MonthlyCharges', color='mediumblue', linewidth=2.5)\n",
    "sns.boxplot(ax=axes[1], x=client_left['MonthlyCharges'])\n",
    "\n",
    "plt.show()"
   ]
  },
  {
   "cell_type": "code",
   "execution_count": 177,
   "id": "8c79807e",
   "metadata": {
    "scrolled": true
   },
   "outputs": [
    {
     "data": {
      "text/plain": [
       "count    1869.000000\n",
       "mean       74.441332\n",
       "std        24.666053\n",
       "min        18.850000\n",
       "25%        56.150000\n",
       "50%        79.650000\n",
       "75%        94.200000\n",
       "max       118.350000\n",
       "Name: MonthlyCharges, dtype: float64"
      ]
     },
     "execution_count": 177,
     "metadata": {},
     "output_type": "execute_result"
    }
   ],
   "source": [
    "client_left['MonthlyCharges'].describe()"
   ]
  },
  {
   "cell_type": "code",
   "execution_count": 178,
   "id": "3ce845e7",
   "metadata": {},
   "outputs": [
    {
     "data": {
      "text/plain": [
       "79.65"
      ]
     },
     "execution_count": 178,
     "metadata": {},
     "output_type": "execute_result"
    }
   ],
   "source": [
    "client_left['MonthlyCharges'].median()"
   ]
  },
  {
   "cell_type": "code",
   "execution_count": 179,
   "id": "213341ff",
   "metadata": {
    "scrolled": false
   },
   "outputs": [
    {
     "data": {
      "image/png": "[encoded data removed]",
      "text/plain": [
       "<Figure size 1080x360 with 2 Axes>"
      ]
     },
     "metadata": {
      "needs_background": "light"
     },
     "output_type": "display_data"
    }
   ],
   "source": [
    "fig, axes = plt.subplots(1, 2,figsize=(15, 5))\n",
    "    \n",
    "fig.suptitle('Ежемесячные платежи оставшихся клиентов', fontsize=16)\n",
    "       \n",
    "sns.histplot(ax=axes[0], data=client_rest, x = 'MonthlyCharges', color='mediumblue', linewidth=2.5)\n",
    "sns.boxplot(ax=axes[1], x=client_rest['MonthlyCharges'])\n",
    "        \n",
    "plt.show()"
   ]
  },
  {
   "cell_type": "code",
   "execution_count": 180,
   "id": "a569edee",
   "metadata": {
    "scrolled": false
   },
   "outputs": [
    {
     "data": {
      "text/plain": [
       "count    5174.000000\n",
       "mean       61.265124\n",
       "std        31.092648\n",
       "min        18.250000\n",
       "25%        25.100000\n",
       "50%        64.425000\n",
       "75%        88.400000\n",
       "max       118.750000\n",
       "Name: MonthlyCharges, dtype: float64"
      ]
     },
     "execution_count": 180,
     "metadata": {},
     "output_type": "execute_result"
    }
   ],
   "source": [
    "client_rest['MonthlyCharges'].describe()"
   ]
  },
  {
   "cell_type": "code",
   "execution_count": 181,
   "id": "67895c93",
   "metadata": {},
   "outputs": [
    {
     "data": {
      "text/plain": [
       "64.42500000000001"
      ]
     },
     "execution_count": 181,
     "metadata": {},
     "output_type": "execute_result"
    }
   ],
   "source": [
    "client_rest['MonthlyCharges'].median()"
   ]
  },
  {
   "cell_type": "markdown",
   "id": "59ca276e",
   "metadata": {},
   "source": [
    "Видим, что ежемесячный платеж клиентов, которые остались меньше, чем у ушедших. \n",
    "\n",
    "У оставшихся:\n",
    "\n",
    "- Медианная сумма платежа - 64.4\n",
    "\n",
    "- Большинство людей платят от 25 до 88. Данные немного скошены влево.\n",
    "\n",
    "У ушедших:\n",
    "\n",
    "- Медианная сумма платежа - 79.65\n",
    "\n",
    "- Большинство людей платят от 56 до 94. Данные немного скошены вправо"
   ]
  },
  {
   "cell_type": "code",
   "execution_count": 182,
   "id": "372398c9",
   "metadata": {},
   "outputs": [
    {
     "data": {
      "text/plain": [
       "0         29.85\n",
       "1       1889.50\n",
       "3       1840.75\n",
       "6       1949.40\n",
       "7        301.90\n",
       "         ...   \n",
       "7037    1419.40\n",
       "7038    1990.50\n",
       "7039    7362.90\n",
       "7040     346.45\n",
       "7042    6844.50\n",
       "Name: TotalCharges, Length: 5174, dtype: float64"
      ]
     },
     "execution_count": 182,
     "metadata": {},
     "output_type": "execute_result"
    }
   ],
   "source": [
    "client_rest['TotalCharges']"
   ]
  },
  {
   "cell_type": "markdown",
   "id": "8b713b35",
   "metadata": {},
   "source": [
    "Пик распределения общих платежей значительно выше у ушедших, чем у оставшихся."
   ]
  },
  {
   "cell_type": "markdown",
   "id": "f0643f2d",
   "metadata": {},
   "source": [
    "Посморим какими услугами пользуются клиенты."
   ]
  },
  {
   "cell_type": "code",
   "execution_count": 184,
   "id": "4b7e952b",
   "metadata": {
    "scrolled": true
   },
   "outputs": [
    {
     "data": {
      "text/plain": [
       "InternetService\n",
       "DSL                1962\n",
       "Fiber optic        1799\n",
       "No                 1413\n",
       "dtype: int64"
      ]
     },
     "execution_count": 184,
     "metadata": {},
     "output_type": "execute_result"
    }
   ],
   "source": [
    "client_rest[['InternetService']].value_counts()"
   ]
  },
  {
   "cell_type": "code",
   "execution_count": 185,
   "id": "fdf8bffa",
   "metadata": {
    "scrolled": false
   },
   "outputs": [
    {
     "data": {
      "text/plain": [
       "<Figure size 360x360 with 0 Axes>"
      ]
     },
     "metadata": {},
     "output_type": "display_data"
    },
    {
     "data": {
      "image/png": "[encoded data removed]",
      "text/plain": [
       "<Figure size 1080x360 with 2 Axes>"
      ]
     },
     "metadata": {
      "needs_background": "light"
     },
     "output_type": "display_data"
    }
   ],
   "source": [
    "plt.figure(figsize=(5,5))\n",
    "\n",
    "fig, axes = plt.subplots(1, 2, figsize=(15, 5))\n",
    "\n",
    "\n",
    "client_left['PaymentMethod'].value_counts().plot.bar(ax=axes[0])\n",
    "\n",
    "axes[0].set_title('Тип оплаты для пользователей среди ушедших клиентов', fontsize = 12)\n",
    "\n",
    "client_rest['PaymentMethod'].value_counts().plot.bar(ax=axes[1])\n",
    "axes[1].set_title('Тип оплаты для пользователей среди оставшихся клиентов', fontsize = 12)\n",
    "\n",
    "\n",
    "plt.show()\n",
    "    "
   ]
  },
  {
   "cell_type": "markdown",
   "id": "148ccea2",
   "metadata": {},
   "source": [
    "Клиенты, которые остались пользуются всеми типами платежей одинаково. Ушедшие клиенты отавали предпочтение оплате по электронным чекам. "
   ]
  },
  {
   "cell_type": "markdown",
   "id": "59644487",
   "metadata": {},
   "source": [
    "Сравним виды интернет услугабонентов."
   ]
  },
  {
   "cell_type": "code",
   "execution_count": 186,
   "id": "90bbdacb",
   "metadata": {
    "scrolled": false
   },
   "outputs": [
    {
     "data": {
      "image/png": "[encoded data removed]",
      "text/plain": [
       "<Figure size 1440x720 with 8 Axes>"
      ]
     },
     "metadata": {
      "needs_background": "light"
     },
     "output_type": "display_data"
    },
    {
     "data": {
      "image/png": "[encoded data removed]",
      "text/plain": [
       "<Figure size 1440x720 with 8 Axes>"
      ]
     },
     "metadata": {
      "needs_background": "light"
     },
     "output_type": "display_data"
    }
   ],
   "source": [
    "col_names = ['InternetService', 'OnlineSecurity', 'OnlineBackup', 'DeviceProtection', 'TechSupport', 'StreamingTV', 'StreamingMovies', 'MultipleLines']\n",
    "\n",
    "fig, ax = plt.subplots(2, 4, figsize=(20, 10))\n",
    "\n",
    "for i, column_name in enumerate(col_names):\n",
    "    sns.countplot(x=column_name, data=client_left, ax=ax.flat[i])\n",
    "    ax.flat[i].set_title(f\"Bar chart for {column_name}\")\n",
    "\n",
    "plt.suptitle('Ушедшие пользователи', fontsize=20, y=1.05)\n",
    "plt.tight_layout()\n",
    "\n",
    "plt.show()\n",
    "\n",
    "\n",
    "col_names = ['InternetService', 'OnlineSecurity', 'OnlineBackup', 'DeviceProtection', 'TechSupport', 'StreamingTV', 'StreamingMovies', 'MultipleLines']\n",
    "\n",
    "fig, ax = plt.subplots(2, 4, figsize=(20, 10))\n",
    "\n",
    "for i, column_name in enumerate(col_names):\n",
    "    sns.countplot(x=column_name, data=client_rest, ax=ax.flat[i])\n",
    "    ax.flat[i].set_title(f\"Bar chart for {column_name}\")\n",
    "\n",
    "plt.suptitle('Оставшиеся пользователи', fontsize=20, y=1.05)\n",
    "plt.tight_layout()\n",
    "\n",
    "plt.show()"
   ]
  },
  {
   "cell_type": "markdown",
   "id": "cbf68846",
   "metadata": {},
   "source": [
    "Ушедшие абоненты:\n",
    "\n",
    "В основном пользовались оптоволоконным интернет соединением, стримминговыми сервисами,  50 % пользовались возмножностью ведения паралелльных линий во время звонка. Остальные виды услуг были непопулярны. \n",
    "\n",
    "Оставшиеся:\n",
    "\n",
    "Пользуются в одинаковой мере DSL и оптоволоконным интернет соединением. Остальные признаки равнораспределены по выборке.\n"
   ]
  },
  {
   "cell_type": "markdown",
   "id": "92331ae8",
   "metadata": {},
   "source": [
    "Посмотрим на предпочтительный вид договора."
   ]
  },
  {
   "cell_type": "code",
   "execution_count": 187,
   "id": "4b9bea00",
   "metadata": {},
   "outputs": [
    {
     "data": {
      "text/plain": [
       "Month-to-month    1655\n",
       "One year           166\n",
       "Two year            48\n",
       "Name: Type, dtype: int64"
      ]
     },
     "execution_count": 187,
     "metadata": {},
     "output_type": "execute_result"
    }
   ],
   "source": [
    "client_left['Type'].value_counts()"
   ]
  },
  {
   "cell_type": "code",
   "execution_count": 188,
   "id": "7d7e1274",
   "metadata": {
    "scrolled": false
   },
   "outputs": [
    {
     "data": {
      "image/png": "[encoded data removed]",
      "text/plain": [
       "<Figure size 1080x1080 with 2 Axes>"
      ]
     },
     "metadata": {},
     "output_type": "display_data"
    }
   ],
   "source": [
    "fig, (ax1, ax2) = plt.subplots(1, 2, figsize=(15, 15))\n",
    "\n",
    "ax1.pie(client_left['Type'].value_counts(), autopct='%1.2f%%')\n",
    "ax2.pie(client_rest['Type'].value_counts(), autopct='%1.2f%%')\n",
    "\n",
    "ax1.set_title('Тип договора среди ушедших пользователей')\n",
    "ax2.set_title('Тип договора среди оставшихся пользователей')\n",
    "\n",
    "ax1.legend(labels=('Month-to-month', 'One year', 'Two year'))\n",
    "ax2.legend(labels=('Month-to-month', 'One year', 'Two year'))\n",
    "\n",
    "plt.show()"
   ]
  },
  {
   "cell_type": "markdown",
   "id": "f4ee0900",
   "metadata": {},
   "source": [
    "Тип оплаты month-to-month использлвали 88.5% ушедших клиентов. Среди оставшихся month-to-month-42.9%, one year - 31.8,  two year  - 25.3."
   ]
  },
  {
   "cell_type": "markdown",
   "id": "18decb4b",
   "metadata": {},
   "source": [
    "Корреляция признаков"
   ]
  },
  {
   "cell_type": "code",
   "execution_count": 189,
   "id": "463ce04f",
   "metadata": {
    "scrolled": false
   },
   "outputs": [
    {
     "data": {
      "image/png": "[encoded data removed]",
      "text/plain": [
       "<Figure size 432x288 with 2 Axes>"
      ]
     },
     "metadata": {
      "needs_background": "light"
     },
     "output_type": "display_data"
    }
   ],
   "source": [
    "corr = data.corr()\n",
    "\n",
    "# Generate a heatmap\n",
    "sns.heatmap(corr, annot=True, cmap='coolwarm')\n",
    "\n",
    "# Add a title to the plot\n",
    "plt.title(\"Correlation of features\")\n",
    "\n",
    "# Show the plot\n",
    "plt.show()"
   ]
  },
  {
   "cell_type": "markdown",
   "id": "968f297a",
   "metadata": {},
   "source": [
    "Выводы по исследовательскому анализу данных.\n",
    "\n",
    "- Среди ушедших и оставшихсяклиенов равное количество мужчини женщин.\n",
    "\n",
    "- У 34% процентов оставшихся пользоватей и у 18% ушедших есть дети.\n",
    "\n",
    "- Людей пенсионного возраста немного больше среди оставшихся абонентов  666 против 476.\n",
    "\n",
    "- Большинство пользователей уходят до года пользования услугами - около 304 дней.\n",
    "\n",
    "У оставшихся: Медианная сумма платежа - 64.4. Большинство людей платят от 25 до 88. Данные немного скошены влево.\n",
    "\n",
    "У ушедших: Медианная сумма платежа - 79.65. Большинство людей платят от 56 до 94. Данные немного скошены вправо\n",
    "\n",
    "\n",
    "- Уходить пользователи стали с конца 2019 года, или их уход не фиксировался.\n",
    "\n",
    "- 55% всех пользователей используют оплату month-to-month.\n",
    "\n",
    "- Тип оплаты month-to-month использлвали 88.5% ушедших клиентов. Среди оставшихся month-to-month-42.9%, one year - 31.8,  two year  - 25.3.\n",
    "\n",
    "- Среди ушедших клиентов только 12% использовали тип оплаты one year или two year.\n",
    "\n",
    "- Оставшиеся пользователи в равной степени используют все 4 метода оплаты.\n",
    "\n",
    "- Ушедшие абоненты: В основном пользовались оптоволоконным интернет соединением, стримминговыми сервисами, 50 % пользовались возмножностью ведения паралелльных линий во время звонка. Остальные виды услуг были непопулярны.\n",
    "\n",
    "- Оставшиеся: Пользуются в одинаковой мере DSL и оптоволоконным интернет соединением. Остальные признаки равнораспределены по выборке.\n",
    "\n",
    "- Целевой признак 'left'."
   ]
  },
  {
   "cell_type": "markdown",
   "id": "fe95a63c",
   "metadata": {},
   "source": [
    "## 4 Обучение модели\n",
    "\n",
    "4.1 Подготовка признаков\n",
    "\n",
    "4.1.1 Разбиение на трейн и тест\n",
    "\n",
    "4.2 Баланс классов и масштаб признаков"
   ]
  },
  {
   "cell_type": "markdown",
   "id": "034c1044",
   "metadata": {},
   "source": [
    "#### 4.1 Подготовка признаков"
   ]
  },
  {
   "cell_type": "markdown",
   "id": "04b431f8",
   "metadata": {},
   "source": [
    "Подготовим признаки, обучающую и тестовую выборку."
   ]
  },
  {
   "cell_type": "markdown",
   "id": "d585d6ea",
   "metadata": {},
   "source": [
    "Столбец 'customerID', является утечкой целевого признака\n",
    "\n",
    "Так же, удалим несколько столбцов с информацией об услугах, так как они взаимосвязаны с ежемесячным платежом и суммой общих расходов.\n",
    "\n",
    "Целевой признак - left"
   ]
  },
  {
   "cell_type": "markdown",
   "id": "d68ebdee",
   "metadata": {},
   "source": [
    "Создадим признаки и таргет."
   ]
  },
  {
   "cell_type": "code",
   "execution_count": 191,
   "id": "3d2c7e36",
   "metadata": {},
   "outputs": [],
   "source": [
    "features = data.drop(['TotalCharges','customerID','left', 'BeginDate', 'EndDate',\n",
    "                          'MultipleLines', 'PaperlessBilling', 'DeviceProtection',\n",
    "                         'OnlineSecurity', 'OnlineBackup', 'DeviceProtection', \n",
    "                          'Dependents', 'gender'], axis = 1)\n",
    "target = data['left']"
   ]
  },
  {
   "cell_type": "code",
   "execution_count": 192,
   "id": "d38720da",
   "metadata": {
    "scrolled": false
   },
   "outputs": [
    {
     "name": "stdout",
     "output_type": "stream",
     "text": [
      "(5282, 10)\n",
      "(5282,)\n",
      "(1761, 10)\n",
      "(1761,)\n"
     ]
    }
   ],
   "source": [
    "features_train, features_test, target_train, target_test = train_test_split(features, target, test_size = 0.25, random_state = 300123, stratify=target)\n",
    "\n",
    "\n",
    "print (features_train.shape)\n",
    "print (target_train.shape)\n",
    "\n",
    "print(features_test.shape)\n",
    "print (target_test.shape)"
   ]
  },
  {
   "cell_type": "markdown",
   "id": "40cc57ff",
   "metadata": {},
   "source": [
    "Проверим признаки на баланс классов."
   ]
  },
  {
   "cell_type": "code",
   "execution_count": 193,
   "id": "cc1bd991",
   "metadata": {},
   "outputs": [
    {
     "data": {
      "text/plain": [
       "0    3880\n",
       "1    1402\n",
       "Name: left, dtype: int64"
      ]
     },
     "execution_count": 193,
     "metadata": {},
     "output_type": "execute_result"
    }
   ],
   "source": [
    "target_train.value_counts()"
   ]
  },
  {
   "cell_type": "code",
   "execution_count": 194,
   "id": "e8e1c10a",
   "metadata": {
    "scrolled": true
   },
   "outputs": [
    {
     "data": {
      "image/png": "[encoded data removed]",
      "text/plain": [
       "<Figure size 432x288 with 1 Axes>"
      ]
     },
     "metadata": {
      "needs_background": "light"
     },
     "output_type": "display_data"
    }
   ],
   "source": [
    "target_train.value_counts().plot.bar()\n",
    "plt.show()"
   ]
  },
  {
   "cell_type": "markdown",
   "id": "0bba1175",
   "metadata": {},
   "source": [
    "Видим дисбаланс, будем использовать class_weight = 'balanced'."
   ]
  },
  {
   "cell_type": "code",
   "execution_count": 195,
   "id": "5cfd88dd",
   "metadata": {},
   "outputs": [
    {
     "name": "stdout",
     "output_type": "stream",
     "text": [
      "<class 'pandas.core.frame.DataFrame'>\n",
      "Int64Index: 5282 entries, 517 to 6997\n",
      "Data columns (total 10 columns):\n",
      " #   Column           Non-Null Count  Dtype  \n",
      "---  ------           --------------  -----  \n",
      " 0   SeniorCitizen    5282 non-null   int64  \n",
      " 1   Partner          5282 non-null   object \n",
      " 2   Type             5282 non-null   object \n",
      " 3   PaymentMethod    5282 non-null   object \n",
      " 4   MonthlyCharges   5282 non-null   float64\n",
      " 5   InternetService  5282 non-null   object \n",
      " 6   TechSupport      5282 non-null   object \n",
      " 7   StreamingTV      5282 non-null   object \n",
      " 8   StreamingMovies  5282 non-null   object \n",
      " 9   number_of_days   5282 non-null   int64  \n",
      "dtypes: float64(1), int64(2), object(7)\n",
      "memory usage: 453.9+ KB\n"
     ]
    }
   ],
   "source": [
    "features_train.info()"
   ]
  },
  {
   "cell_type": "code",
   "execution_count": 196,
   "id": "5932723c",
   "metadata": {},
   "outputs": [],
   "source": [
    "#категориальные признаки для OHE \n",
    "ohe_features_rf = features_train.select_dtypes(include='object').columns.to_list()"
   ]
  },
  {
   "cell_type": "code",
   "execution_count": 197,
   "id": "ac30aa1e",
   "metadata": {},
   "outputs": [
    {
     "data": {
      "text/plain": [
       "['Partner',\n",
       " 'Type',\n",
       " 'PaymentMethod',\n",
       " 'InternetService',\n",
       " 'TechSupport',\n",
       " 'StreamingTV',\n",
       " 'StreamingMovies']"
      ]
     },
     "execution_count": 197,
     "metadata": {},
     "output_type": "execute_result"
    }
   ],
   "source": [
    "ohe_features_rf"
   ]
  },
  {
   "cell_type": "code",
   "execution_count": 198,
   "id": "992b1171",
   "metadata": {
    "scrolled": true
   },
   "outputs": [
    {
     "data": {
      "text/plain": [
       "['MonthlyCharges', 'number_of_days']"
      ]
     },
     "execution_count": 198,
     "metadata": {},
     "output_type": "execute_result"
    }
   ],
   "source": [
    "#численные признаки\n",
    "\n",
    "num_features = features_train.select_dtypes(exclude='object').columns.to_list()\n",
    "num_features.remove('SeniorCitizen')\n",
    "num_features"
   ]
  },
  {
   "cell_type": "markdown",
   "id": "bf19b278",
   "metadata": {},
   "source": [
    "###### Обучим RandomForesClassifier."
   ]
  },
  {
   "cell_type": "code",
   "execution_count": 199,
   "id": "be6b595d",
   "metadata": {
    "scrolled": true
   },
   "outputs": [
    {
     "name": "stdout",
     "output_type": "stream",
     "text": [
      "best_score: 0.8537832925618059\n",
      "best_params: {'randomforestclassifier__n_estimators': 250, 'randomforestclassifier__min_samples_split': 2, 'randomforestclassifier__min_samples_leaf': 2, 'randomforestclassifier__max_depth': 9}\n",
      "CPU times: total: 1.38 s\n",
      "Wall time: 14.6 s\n"
     ]
    }
   ],
   "source": [
    "%%time\n",
    "\n",
    "col_transformer_rf= make_column_transformer(\n",
    "    (\n",
    "        OneHotEncoder(drop='first', handle_unknown='ignore'), \n",
    "        ohe_features_rf\n",
    "    ),\n",
    "    \n",
    "    (\n",
    "        StandardScaler(), \n",
    "        num_features\n",
    "    ),\n",
    "    remainder='passthrough'\n",
    ")\n",
    "\n",
    "model_rf = RandomForestClassifier(random_state=300123, class_weight='balanced')\n",
    "\n",
    "pipline_rf = make_pipeline(col_transformer_rf, model_rf)\n",
    "\n",
    "param_grid_rf = {\n",
    "     'randomforestclassifier__n_estimators': range(50, 251, 50),\n",
    "    'randomforestclassifier__max_depth': range(2, 15),\n",
    "    'randomforestclassifier__min_samples_split': (2, 3, 4),\n",
    "    'randomforestclassifier__min_samples_leaf': (1, 2, 3, 4)\n",
    "}\n",
    "\n",
    "#получается достаточно много комбинаций гиперпараметров при переборе\n",
    "#будем использовать RandomizedSearchCV, он работает на много быстрее\n",
    "gs_rf = RandomizedSearchCV(\n",
    "    pipline_rf, \n",
    "    param_distributions=param_grid_rf, \n",
    "    scoring='roc_auc', \n",
    "    n_jobs=-1, \n",
    "    random_state=300123\n",
    ")\n",
    "\n",
    "gs_rf.fit(features_train, target_train)\n",
    "\n",
    "gs_rf_best_score = gs_rf.best_score_ \n",
    "gs_rf_best_params = gs_rf.best_params_\n",
    "print(f'best_score: {gs_rf_best_score}')\n",
    "print(f'best_params: {gs_rf_best_params}')\n"
   ]
  },
  {
   "cell_type": "markdown",
   "id": "1f5aee33",
   "metadata": {},
   "source": [
    "###### Обучим LGBMClassifier"
   ]
  },
  {
   "cell_type": "code",
   "execution_count": 200,
   "id": "6c75f305",
   "metadata": {},
   "outputs": [
    {
     "name": "stdout",
     "output_type": "stream",
     "text": [
      "best_score: 0.9066803301511014\n",
      "best_params: {'lgbmclassifier__num_leaves': 10, 'lgbmclassifier__max_depth': 60, 'lgbmclassifier__learning_rate': 0.5}\n",
      "CPU times: total: 562 ms\n",
      "Wall time: 3.94 s\n"
     ]
    }
   ],
   "source": [
    "%%time\n",
    "\n",
    "col_transformer_model_LGBM= make_column_transformer(\n",
    "    (\n",
    "        OneHotEncoder(drop='first', handle_unknown='ignore'), \n",
    "        ohe_features_rf\n",
    "    ),\n",
    "    \n",
    "    (\n",
    "        StandardScaler(), \n",
    "        num_features\n",
    "    ),\n",
    "    remainder='passthrough'\n",
    ")\n",
    "\n",
    "model_LGBM = LGBMClassifier(random_state=300123, class_weight='balanced')\n",
    "\n",
    "pipline_LGBM = make_pipeline(col_transformer_model_LGBM, model_LGBM)\n",
    "\n",
    "param_grid_LGBM = {'lgbmclassifier__learning_rate':[0.5, 0.1, 0.01],\n",
    "                'lgbmclassifier__num_leaves':[10, 15, 20], \n",
    "               'lgbmclassifier__max_depth': [20, 30, 60]\n",
    "     \n",
    "}\n",
    "\n",
    "#получается достаточно много комбинаций гиперпараметров при переборе\n",
    "#будем использовать RandomizedSearchCV, он работает на много быстрее\n",
    "gs_LGBM = RandomizedSearchCV(\n",
    "    pipline_LGBM, \n",
    "    param_distributions=param_grid_LGBM, \n",
    "    scoring='roc_auc', \n",
    "    n_jobs=-1, \n",
    "    random_state=300123\n",
    ")\n",
    "\n",
    "gs_LGBM.fit(features_train, target_train)\n",
    "gs_LGBM_best_score = gs_LGBM.best_score_ \n",
    "\n",
    "gs_LGBM_best_params = gs_LGBM.best_params_\n",
    "print(f'best_score: {gs_LGBM_best_score}')\n",
    "print(f'best_params: {gs_LGBM_best_params}')"
   ]
  },
  {
   "cell_type": "markdown",
   "id": "8dfb9a1c",
   "metadata": {},
   "source": [
    "###### Обучим CatBoostClassifier"
   ]
  },
  {
   "cell_type": "code",
   "execution_count": 201,
   "id": "20b97709",
   "metadata": {
    "scrolled": true
   },
   "outputs": [
    {
     "name": "stderr",
     "output_type": "stream",
     "text": [
      "C:\\Users\\Daria\\anaconda3\\lib\\site-packages\\sklearn\\model_selection\\_search.py:292: UserWarning: The total space of parameters 4 is smaller than n_iter=10. Running 4 iterations. For exhaustive searches, use GridSearchCV.\n",
      "  warnings.warn(\n"
     ]
    },
    {
     "name": "stdout",
     "output_type": "stream",
     "text": [
      "best_score: 0.9214021054224603\n",
      "best_params: {'catboostclassifier__verbose': False, 'catboostclassifier__learning_rate': 0.5, 'catboostclassifier__depth': 3}\n",
      "CPU times: total: 7.94 s\n",
      "Wall time: 2min 7s\n"
     ]
    }
   ],
   "source": [
    "%%time\n",
    "\n",
    "col_transformer_model_cat = make_column_transformer(\n",
    "    (OneHotEncoder(drop='first', handle_unknown='ignore'), ohe_features_rf),\n",
    "    \n",
    "    (\n",
    "        StandardScaler(), \n",
    "        num_features\n",
    "    ),\n",
    "    remainder='passthrough'\n",
    ")\n",
    "\n",
    "model_cat= CatBoostClassifier(random_state=300123)\n",
    "\n",
    "pipline_cat = make_pipeline(col_transformer_model_cat, model_cat)\n",
    "\n",
    "param_grid_cat = {'catboostclassifier__learning_rate':[0.5, 0.03],\n",
    "                'catboostclassifier__depth':[10, 3],                \n",
    "                'catboostclassifier__verbose':[False]}\n",
    "\n",
    "\n",
    "\n",
    "\n",
    "#получается достаточно много комбинаций гиперпараметров при переборе\n",
    "#будем использовать RandomizedSearchCV, он работает на много быстрее\n",
    "gs_cat = RandomizedSearchCV(\n",
    "    pipline_cat, \n",
    "    param_distributions=param_grid_cat, \n",
    "    scoring='roc_auc', \n",
    "    n_jobs=-1, \n",
    "   \n",
    ")\n",
    "\n",
    "gs_cat.fit(features_train, target_train)\n",
    "\n",
    "\n",
    "gs_cat_best_estimator = gs_cat.best_estimator_ \n",
    "gs_cat_best_score = gs_cat.best_score_ \n",
    "gs_cat_best_params = gs_cat.best_params_\n",
    "print(f'best_score: {gs_cat_best_score}')\n",
    "print(f'best_params: {gs_cat_best_params}')\n"
   ]
  },
  {
   "cell_type": "markdown",
   "id": "ccebd99e",
   "metadata": {},
   "source": [
    "#### Сравнение моделей"
   ]
  },
  {
   "cell_type": "code",
   "execution_count": 202,
   "id": "c28d903b",
   "metadata": {},
   "outputs": [
    {
     "data": {
      "text/html": [
       "<div>\n",
       "<style scoped>\n",
       "    .dataframe tbody tr th:only-of-type {\n",
       "        vertical-align: middle;\n",
       "    }\n",
       "\n",
       "    .dataframe tbody tr th {\n",
       "        vertical-align: top;\n",
       "    }\n",
       "\n",
       "    .dataframe thead th {\n",
       "        text-align: right;\n",
       "    }\n",
       "</style>\n",
       "<table border=\"1\" class=\"dataframe\">\n",
       "  <thead>\n",
       "    <tr style=\"text-align: right;\">\n",
       "      <th></th>\n",
       "      <th>ROC-AUC</th>\n",
       "    </tr>\n",
       "  </thead>\n",
       "  <tbody>\n",
       "    <tr>\n",
       "      <th>Catboost</th>\n",
       "      <td>0.921402</td>\n",
       "    </tr>\n",
       "    <tr>\n",
       "      <th>LGBM</th>\n",
       "      <td>0.906680</td>\n",
       "    </tr>\n",
       "    <tr>\n",
       "      <th>Randomforest</th>\n",
       "      <td>0.853783</td>\n",
       "    </tr>\n",
       "  </tbody>\n",
       "</table>\n",
       "</div>"
      ],
      "text/plain": [
       "               ROC-AUC\n",
       "Catboost      0.921402\n",
       "LGBM          0.906680\n",
       "Randomforest  0.853783"
      ]
     },
     "execution_count": 202,
     "metadata": {},
     "output_type": "execute_result"
    }
   ],
   "source": [
    "result = pd.DataFrame(\n",
    "    [gs_cat_best_score, gs_LGBM_best_score, gs_rf_best_score], \n",
    "    index=['Catboost', 'LGBM', 'Randomforest'], \n",
    "    columns=['ROC-AUC']\n",
    ")\n",
    "\n",
    "result"
   ]
  },
  {
   "cell_type": "markdown",
   "id": "3cfd99f2",
   "metadata": {},
   "source": [
    "Наилучшие результаты показала модель CatBoostClassifier"
   ]
  },
  {
   "cell_type": "markdown",
   "id": "077c0fa3",
   "metadata": {},
   "source": [
    "#### Проверим CatBoostClassifier на тестовой выборке"
   ]
  },
  {
   "cell_type": "code",
   "execution_count": 203,
   "id": "1ce32c97",
   "metadata": {
    "scrolled": false
   },
   "outputs": [
    {
     "name": "stdout",
     "output_type": "stream",
     "text": [
      "ROC-AUC Catboost: 0.9352149105242777\n",
      "Accuracy Catboost: 0.8898353208404316\n"
     ]
    }
   ],
   "source": [
    "cat_prediction = gs_cat.predict(features_test)\n",
    "\n",
    "cat_Prediction_Proba = gs_cat.predict_proba(features_test)[:,1]\n",
    "metric_test_cat = roc_auc_score(target_test, cat_Prediction_Proba)\n",
    "cat_accuracy = accuracy_score(target_test, cat_prediction)\n",
    "\n",
    "\n",
    "print (\"ROC-AUC Catboost:\",  metric_test_cat)\n",
    "print (\"Accuracy Catboost:\", cat_accuracy)"
   ]
  },
  {
   "cell_type": "code",
   "execution_count": 204,
   "id": "e08d66a0",
   "metadata": {
    "scrolled": false
   },
   "outputs": [
    {
     "name": "stdout",
     "output_type": "stream",
     "text": [
      "Catboost: ROC AUC=0.935\n"
     ]
    },
    {
     "data": {
      "image/png": "[encoded data removed]",
      "text/plain": [
       "<Figure size 720x720 with 1 Axes>"
      ]
     },
     "metadata": {
      "needs_background": "light"
     },
     "output_type": "display_data"
    }
   ],
   "source": [
    "# сохраняем вероятности только для положительного исхода\n",
    "cat_probs = cat_Prediction_Proba\n",
    "# рассчитываем ROC AUC\n",
    "cat_auc = roc_auc_score(target_test, cat_probs)\n",
    "print('Catboost: ROC AUC=%.3f' % (cat_auc))\n",
    "# рассчитываем roc-кривую\n",
    "fpr, tpr, treshold = roc_curve(target_test, cat_probs)\n",
    "roc_auc = auc(fpr, tpr)\n",
    "# строим график\n",
    "\n",
    "plt.figure(figsize = (10,10))\n",
    "plt.plot(fpr, tpr, color='darkorange',\n",
    "         label='ROC кривая (area = %0.2f)' % roc_auc)\n",
    "plt.plot([0, 1], [0, 1], color='navy', linestyle='--', label='RandomModel')\n",
    "\n",
    "plt.xlim([0.0, 1.0])\n",
    "plt.ylim([0.0, 1.05])\n",
    "plt.xlabel('False Positive Rate')\n",
    "plt.ylabel('True Positive Rate')\n",
    "plt.title('Пример ROC-кривой')\n",
    "plt.legend(loc=\"lower right\")\n",
    "plt.show()"
   ]
  },
  {
   "cell_type": "code",
   "execution_count": 205,
   "id": "38bd9308",
   "metadata": {
    "scrolled": false
   },
   "outputs": [
    {
     "data": {
      "text/plain": [
       "Text(33.0, 0.5, 'Истинный класс')"
      ]
     },
     "execution_count": 205,
     "metadata": {},
     "output_type": "execute_result"
    },
    {
     "data": {
      "image/png": "[encoded data removed]",
      "text/plain": [
       "<Figure size 432x288 with 2 Axes>"
      ]
     },
     "metadata": {
      "needs_background": "light"
     },
     "output_type": "display_data"
    }
   ],
   "source": [
    "\n",
    "heatmap_1 = sns.heatmap((confusion_matrix(target_test, cat_prediction)), \n",
    "                            cmap=\"YlGnBu\", \n",
    "                            annot=True, fmt='d')\n",
    "    \n",
    "heatmap_1.set_title(\"Catboost\", fontdict={'fontsize':14})\n",
    "heatmap_1.set_xlabel('Предсказания', fontsize=14)\n",
    "heatmap_1.set_ylabel('Истинный класс', fontsize=14)"
   ]
  },
  {
   "cell_type": "code",
   "execution_count": 206,
   "id": "e9f6d6de",
   "metadata": {
    "scrolled": false
   },
   "outputs": [
    {
     "name": "stderr",
     "output_type": "stream",
     "text": [
      "C:\\Users\\Daria\\anaconda3\\lib\\site-packages\\sklearn\\utils\\deprecation.py:87: FutureWarning: Function get_feature_names is deprecated; get_feature_names is deprecated in 1.0 and will be removed in 1.2. Please use get_feature_names_out instead.\n",
      "  warnings.warn(msg, category=FutureWarning)\n"
     ]
    },
    {
     "data": {
      "text/html": [
       "<div>\n",
       "<style scoped>\n",
       "    .dataframe tbody tr th:only-of-type {\n",
       "        vertical-align: middle;\n",
       "    }\n",
       "\n",
       "    .dataframe tbody tr th {\n",
       "        vertical-align: top;\n",
       "    }\n",
       "\n",
       "    .dataframe thead th {\n",
       "        text-align: right;\n",
       "    }\n",
       "</style>\n",
       "<table border=\"1\" class=\"dataframe\">\n",
       "  <thead>\n",
       "    <tr style=\"text-align: right;\">\n",
       "      <th></th>\n",
       "      <th>feature_name</th>\n",
       "      <th>importance</th>\n",
       "    </tr>\n",
       "  </thead>\n",
       "  <tbody>\n",
       "    <tr>\n",
       "      <th>12</th>\n",
       "      <td>number_of_days</td>\n",
       "      <td>61.785848</td>\n",
       "    </tr>\n",
       "    <tr>\n",
       "      <th>11</th>\n",
       "      <td>MonthlyCharges</td>\n",
       "      <td>21.178958</td>\n",
       "    </tr>\n",
       "    <tr>\n",
       "      <th>2</th>\n",
       "      <td>Type_Two year</td>\n",
       "      <td>4.291724</td>\n",
       "    </tr>\n",
       "    <tr>\n",
       "      <th>6</th>\n",
       "      <td>InternetService_Fiber optic</td>\n",
       "      <td>2.351862</td>\n",
       "    </tr>\n",
       "    <tr>\n",
       "      <th>5</th>\n",
       "      <td>PaymentMethod_Mailed check</td>\n",
       "      <td>1.505553</td>\n",
       "    </tr>\n",
       "    <tr>\n",
       "      <th>1</th>\n",
       "      <td>Type_One year</td>\n",
       "      <td>1.504880</td>\n",
       "    </tr>\n",
       "    <tr>\n",
       "      <th>4</th>\n",
       "      <td>PaymentMethod_Electronic check</td>\n",
       "      <td>1.493101</td>\n",
       "    </tr>\n",
       "    <tr>\n",
       "      <th>13</th>\n",
       "      <td>SeniorCitizen</td>\n",
       "      <td>1.193455</td>\n",
       "    </tr>\n",
       "    <tr>\n",
       "      <th>0</th>\n",
       "      <td>Partner_Yes</td>\n",
       "      <td>1.110695</td>\n",
       "    </tr>\n",
       "    <tr>\n",
       "      <th>10</th>\n",
       "      <td>StreamingMovies_Yes</td>\n",
       "      <td>1.015419</td>\n",
       "    </tr>\n",
       "    <tr>\n",
       "      <th>8</th>\n",
       "      <td>TechSupport_Yes</td>\n",
       "      <td>0.962839</td>\n",
       "    </tr>\n",
       "    <tr>\n",
       "      <th>3</th>\n",
       "      <td>PaymentMethod_Credit card (automatic)</td>\n",
       "      <td>0.803904</td>\n",
       "    </tr>\n",
       "    <tr>\n",
       "      <th>9</th>\n",
       "      <td>StreamingTV_Yes</td>\n",
       "      <td>0.585416</td>\n",
       "    </tr>\n",
       "    <tr>\n",
       "      <th>7</th>\n",
       "      <td>InternetService_No</td>\n",
       "      <td>0.216347</td>\n",
       "    </tr>\n",
       "  </tbody>\n",
       "</table>\n",
       "</div>"
      ],
      "text/plain": [
       "                             feature_name  importance\n",
       "12                         number_of_days   61.785848\n",
       "11                         MonthlyCharges   21.178958\n",
       "2                           Type_Two year    4.291724\n",
       "6             InternetService_Fiber optic    2.351862\n",
       "5              PaymentMethod_Mailed check    1.505553\n",
       "1                           Type_One year    1.504880\n",
       "4          PaymentMethod_Electronic check    1.493101\n",
       "13                          SeniorCitizen    1.193455\n",
       "0                             Partner_Yes    1.110695\n",
       "10                    StreamingMovies_Yes    1.015419\n",
       "8                         TechSupport_Yes    0.962839\n",
       "3   PaymentMethod_Credit card (automatic)    0.803904\n",
       "9                         StreamingTV_Yes    0.585416\n",
       "7                      InternetService_No    0.216347"
      ]
     },
     "metadata": {},
     "output_type": "display_data"
    }
   ],
   "source": [
    "best_catboost_model = gs_cat.best_estimator_.named_steps['catboostclassifier']\n",
    "\n",
    "importances = best_catboost_model.feature_importances_\n",
    "col_transformer = gs_cat.best_estimator_.named_steps['columntransformer']\n",
    "onehot_encoder = col_transformer.transformers_[0][1]\n",
    "ohe_feature_names = onehot_encoder.get_feature_names(input_features=ohe_features_rf)\n",
    "\n",
    "feature_names = np.concatenate([ohe_feature_names, num_features])\n",
    "feature_names = np.append(feature_names, 'SeniorCitizen')\n",
    "\n",
    "feature_importances = pd.DataFrame(data={'feature_name': feature_names, 'importance': importances})\n",
    "display(feature_importances.sort_values(by= 'importance', ascending=False))"
   ]
  },
  {
   "cell_type": "code",
   "execution_count": 207,
   "id": "929fe175",
   "metadata": {},
   "outputs": [
    {
     "data": {
      "image/png": "[encoded data removed]",
      "text/plain": [
       "<Figure size 1080x504 with 1 Axes>"
      ]
     },
     "metadata": {
      "needs_background": "light"
     },
     "output_type": "display_data"
    }
   ],
   "source": [
    "feature_importances.sort_values(by= 'importance', ascending=False).plot(x='feature_name', y='importance', kind='bar', figsize=(15,7), color='darkblue')\n",
    "plt.title('Feature Importance Plot')\n",
    "plt.xlabel('Feature Names')\n",
    "plt.ylabel('Importance')\n",
    "plt.xticks(rotation=90)\n",
    "plt.show()"
   ]
  },
  {
   "cell_type": "markdown",
   "id": "5d43f2ac",
   "metadata": {},
   "source": [
    "Наиболее важными признаками для модели оказались длительность контракта и ежемесячные выплаты. Далее по важности - вид заключенного договора и наличие оптоволоконного интернета. Наименее значимые - стриминговые сервисы."
   ]
  },
  {
   "cell_type": "markdown",
   "id": "0ef2590a",
   "metadata": {},
   "source": [
    "### Выводы\n",
    "\n",
    "На этапе обучения моделей было обучено 3 модели: Randomforest, LGBM, Catboost.\n",
    "\n",
    "Наилучшие результаты дала модель CatboostClassifier с гиперпараметрами: iterations =1000, learning_rate= 0.5,  max_depth=3, random_state = 270123, loss_function= 'CrossEntropy') \n",
    "\n",
    "Наилучшие метрики:\n",
    "ROC-AUC Catboost: 0.93\n",
    "\n",
    "Accuracy Catboost: 0.88"
   ]
  },
  {
   "cell_type": "markdown",
   "id": "55711574",
   "metadata": {},
   "source": [
    "\n",
    "\n"
   ]
  },
  {
   "cell_type": "markdown",
   "id": "542d4ce1",
   "metadata": {},
   "source": [
    "## ОТЧЕТ\n",
    "\n",
    "### Цель проекта\n",
    "\n",
    "Целью проекта было создать модель, которая на основе поведения пользователя будет предсказывать уход клиента из компании. В качестве целевой метрики была выбрана AUC-ROC, таже принималось во внимание качество метрики accuracy, определяющая точность предсказаний модели.\n",
    "\n",
    "### Описание услуг\n",
    "Оператор предоставляет два основных типа услуг:\n",
    "\n",
    "Стационарную телефонную связь. Возможно подключение телефонного аппарата к нескольким линиям одновременно.\n",
    "Интернет. Подключение может быть двух типов: через телефонную линию (DSL, от англ. digital subscriber line, «цифровая абонентская линия») или оптоволоконный кабель (Fiber optic).\n",
    "Также доступны такие услуги:\n",
    "\n",
    "Интернет-безопасность: антивирус (DeviceProtection) и блокировка небезопасных сайтов (OnlineSecurity);\n",
    "Выделенная линия технической поддержки (TechSupport);\n",
    "Облачное хранилище файлов для резервного копирования данных (OnlineBackup);\n",
    "Стриминговое телевидение (StreamingTV) и каталог фильмов (StreamingMovies).\n",
    "За услуги клиенты могут платить каждый месяц или заключить договор на 1–2 года. Доступны различные способы расчёта и возможность получения электронного чека.\n",
    "\n",
    "### Описание данных\n",
    "Данные состоят из файлов, полученных из разных источников:\n",
    "\n",
    "contract.csv — информация о договоре;\n",
    "personal.csv — персональные данные клиента;\n",
    "internet.csv — информация об интернет-услугах;\n",
    "phone.csv — информация об услугах телефонии.\n",
    "Во всех файлах столбец customerID содержит код клиента.\n",
    "\n",
    "Информация о договорах актуальна на 1 февраля 2020.\n",
    "\n",
    "\n",
    "В качестве сырых данных были 4 таблицы с различной информацией о клиентах оператора. \n",
    "personal - таблица с персональными данными клиентов, contract— информация о договоре, internet — информация об интернет-услугах, phone — информация об услугах телефонии.\n",
    "\n",
    "\n",
    "\n",
    "#### На этапе загрузки и знакомств с данными:\n",
    "\n",
    "- Мы рассмотрели 4 таблицы с данными: contract, internet, personal, phone.\n",
    "\n",
    "- Общее количество клиентов - 7043 .\n",
    "\n",
    "- Явных пропусков и дубликатов не обнаружили.\n",
    "\n",
    "- EndDate – выделили как целевой признак.\n",
    "\n",
    "- После объединения таблиц появились пропущенные значения, так как не все клиенты пользовались услугами интернета/телефона. Из данных по таблице internet - 1526 шт, и 682 пропуска для столбца телефонии. Все они были обработаны на подходящие значения.\n",
    "\n",
    "#### После первичного ознакомления с данными был намечен следующий план работы:\n",
    "\n",
    "- Произвести разведочный анализ данных: детальное знакомство с данными, поиск и обработка неочевидных пропусков, дубликатов, объединение таблиц;\n",
    "\n",
    "- Исследовательский анализ данных: анализ распределения ежемесячных платежей, оказанных пользователям услуг, построение графиков (гистограммы, бокс плоты, столбчатые диаграммы). Анализ периода, в который абоненты прекращали обслуживание. Оценка количества пользователей в зависимости от даты регистрации договора. Поиск закономерностей и выдвежение гипотез.\n",
    "\n",
    "- Подготовка признаков для обучения: исследование баланса классов, кодировка категориальных принаков, разделение на тренировочную и тестовую выборки;\n",
    "\n",
    "- Обучение моделей: обучение моделей при помощи кросс-валидации, подбор гиперпараметров и их оценка ROC-AUC, accuracy;\n",
    "\n",
    "- Сравнительный анализ моделей и поиск наилучшей;\n",
    "\n",
    "- Общие выводы.\n",
    "\n",
    "####  На этапе предобработки данных:\n",
    "\n",
    "- Данные были объединены в одну таблицу, проанализированы и заполнены пропуски. \n",
    "\n",
    "- Дубликатов не выявлено, все записи уникальные.\n",
    "\n",
    "- Добавлен столбец с количеством дней, через которое клиент ушел.\n",
    "\n",
    "- Добавлен столбец с количеством дней от регистрации договора до даты сбора датасета - 2020-02-01.\n",
    "\n",
    "- Создан столбец с целевым признаком \"left\", в котором присвоили ушедшим 1, оставшимся клиентам 0.\n",
    "\n",
    "\n",
    "#### Выводы по исследовательскому анализу данных.\n",
    "\n",
    "Проанализировав общие данные о всех пользователях, были сделаны следующие выводы:\n",
    "\n",
    "В разделе ежемесячных платежей нет выбросов, данные распределены нормально. В среднем пользователи платят 64.7, максимальная оплата 118.7, минимальная 18.2.\n",
    "\n",
    "Большинство пользователей прекратило подписку в конце 2019, что совпадает с периодом активного роста заключения новых договоров.\n",
    "\n",
    "После разбиения пользователей на ушедших и оставшихся:\n",
    "\n",
    "\n",
    "- Среди ушедших и оставшихся клиентов равное количество мужчин и женщин.\n",
    "\n",
    "- У 34% процентов оставшихся пользователей и у 18% ушедших есть дети.\n",
    "\n",
    "- Людей пенсионного возраста немного больше среди оставшихся абонентов  666 против 476.\n",
    "\n",
    "- Большинство пользователей уходят до года пользования услугами - около 304 дней.\n",
    "\n",
    "- У оставшихся: Медианная сумма платежа - 64.4. Большинство людей платят от 25 до 88. Данные немного скошены влево.\n",
    "\n",
    "- У ушедших: Медианная сумма платежа - 79.65. Большинство людей платят от 56 до 94. Данные немного скошены вправо\n",
    "\n",
    "- Уходить пользователи стали с конца 2019 года, или их уход не фиксировался.\n",
    "\n",
    "- 55% всех пользователей используют оплату month-to-month.\n",
    "\n",
    "- Тип оплаты month-to-month использовали 88.5% ушедших клиентов. Среди оставшихся month-to-month-42.9%, one year - 31.8,  two year  - 25.3.\n",
    "\n",
    "- Среди ушедших клиентов только 12% использовали тип оплаты one year или two year.\n",
    "\n",
    "- Оставшиеся пользователи в равной степени используют все 4 метода оплаты.\n",
    "\n",
    "- Ушедшие абоненты: В основном пользовались оптоволоконным интернет соединением, стриминговыми сервисами, 50 % пользовались возможностью ведения параллельных линий во время звонка. Остальные виды услуг были непопулярны.\n",
    "\n",
    "- Оставшиеся: Пользуются в одинаковой мере DSL и оптоволоконным интернет соединением. Остальные признаки равно распределены по выборке.\n",
    "\n",
    "- Целевой признак 'left'.\n",
    "\n",
    "####  На этапе обучения моделей:\n",
    "\n",
    "1. Были отобраны следующие признаки: \n",
    "\n",
    " 1   Partner - находится ли в браке       \n",
    " \n",
    " 2   Type - тип заключенного договора     \n",
    " \n",
    " 3   PaymentMethod - вид оплаты    \n",
    " \n",
    " 4   MonthlyCharges - сумма ежемесячных платежей\n",
    " \n",
    " 5   InternetService  - пользуется ли абонент интернет услугами\n",
    " \n",
    " 6   TechSupport - тех поддержка   \n",
    " \n",
    " 7   StreamingTV - пользуется ли абонент стриминговым телевидением  \n",
    " \n",
    " 8   StreamingMovies - смотрит ли абонент стриминговыми видеосервисами  \n",
    " \n",
    " 9   number_of_days - количество дней от регистрации пользователя до завершения обслуживания.\n",
    " \n",
    " 10 SeniorCitizen - имеет ли абонент пенсионное удостоверение.\n",
    " \n",
    " \n",
    "2. Данные были разбиты на тренировочную и тестовую выборку в  отношении 75/25. Обучение моделей проводилось на кросс-валидации, поэтому отдельно валидационную выборку не создавали. \n",
    "При изучении целевого признака был замечен дисбаланс классов в отношении 1:3. Было принято решение передавать моделям наименьший вес класса как приоритетный.\n",
    "\n",
    "3. Для кодировки признаков были применены:\n",
    "standart scaler -  для масштабирования численных признаков - 'MonthlyCharges', 'number_of_days'\n",
    "one hot encoder - для перевода категориальных признаков в численные -   'Partner', 'Type', 'PaymentMethod', 'InternetService', 'TechSupport', 'StreamingTV', 'StreamingMovies'.\n",
    "\n",
    "4. С помощью подборщика параметров и кросс валидатора RandomizedSearchCV были отобраны и обучены 3 модели. \n",
    "\n",
    "##### 1. RandomForesClassifier\n",
    "\n",
    "Наилучшими гиперпараметрами стали: 'randomforestclassifier__n_estimators': 250, 'randomforestclassifier__min_samples_split': 2, 'randomforestclassifier__min_samples_leaf': 2, 'randomforestclassifier__max_depth': 9.\n",
    "\n",
    "Наилучшей метрикой на тренировочный выборке: 0.8537832925618059\n",
    "\n",
    "##### 2. LGBMClassifier\n",
    "Наилучшими гиперпараметрами стали:'lgbmclassifier__num_leaves': 10, 'lgbmclassifier__max_depth': 60, 'lgbmclassifier__learning_rate': 0.5\n",
    "\n",
    "Наилучшей метрикой на тренировочный выборке: 0.90\n",
    "\n",
    "##### 3. CatBoostClassifier\n",
    "\n",
    "Наилучшими гиперпараметрами стали: 'catboostclassifier__verbose': False, 'catboostclassifier__learning_rate': 0.5, 'catboostclassifier__depth': 3\n",
    "\n",
    "Наилучшей метрикой на тренировочный выборке: 0.92\n",
    "\n",
    "#### Тестирование модели\n",
    "Наилучшую метрику выдала модель  CatBoostClassifier, протестировали ее на тестовой выборке.\n",
    "Получили следующие метрики:\n",
    "\n",
    "ROC-AUC Catboost: 0.93\n",
    "Accuracy Catboost: 0.88\n",
    "\n",
    "Наиболее важными признаками для модели оказались длительность контракта и ежемесячные выплаты. Далее по важности - вид заключенного договора и наличие оптоволоконного интернета. Наименее значимые - стриминговые сервисы.\n",
    "\n",
    "\n",
    "\n"
   ]
  },
  {
   "cell_type": "code",
   "execution_count": 208,
   "id": "08749f14",
   "metadata": {
    "scrolled": false
   },
   "outputs": [
    {
     "data": {
      "image/png": "[encoded data removed]",
      "text/plain": [
       "<Figure size 1080x504 with 1 Axes>"
      ]
     },
     "metadata": {
      "needs_background": "light"
     },
     "output_type": "display_data"
    }
   ],
   "source": [
    "feature_importances.sort_values(by= 'importance', ascending=False).plot(x='feature_name', y='importance', kind='bar', figsize=(15,7), color='darkblue')\n",
    "plt.title('Feature Importance Plot')\n",
    "plt.xlabel('Feature Names')\n",
    "plt.ylabel('Importance')\n",
    "plt.xticks(rotation=90)\n",
    "plt.show()"
   ]
  },
  {
   "cell_type": "markdown",
   "id": "710201a0",
   "metadata": {},
   "source": [
    "Данные по матрице ошибок:"
   ]
  },
  {
   "cell_type": "code",
   "execution_count": 209,
   "id": "c315ada8",
   "metadata": {},
   "outputs": [
    {
     "data": {
      "text/plain": [
       "Text(33.0, 0.5, 'Истинный класс')"
      ]
     },
     "execution_count": 209,
     "metadata": {},
     "output_type": "execute_result"
    },
    {
     "data": {
      "image/png": "[encoded data removed]",
      "text/plain": [
       "<Figure size 432x288 with 2 Axes>"
      ]
     },
     "metadata": {
      "needs_background": "light"
     },
     "output_type": "display_data"
    }
   ],
   "source": [
    "heatmap_1 = sns.heatmap((confusion_matrix(target_test, cat_prediction)), \n",
    "                            cmap=\"YlGnBu\", \n",
    "                            annot=True, fmt='d')\n",
    "    \n",
    "heatmap_1.set_title(\"Catboost\", fontdict={'fontsize':14})\n",
    "heatmap_1.set_xlabel('Предсказания', fontsize=14)\n",
    "heatmap_1.set_ylabel('Истинный класс', fontsize=14)"
   ]
  },
  {
   "cell_type": "markdown",
   "id": "1e22b1a5",
   "metadata": {},
   "source": [
    "Означают, что модель в 339 случаях правильно распознала ушедших клиентов, в 1228 случаях правильно распознала оставшихся. Ошиблась модель, распознав оставшихся клиентов как ушедших всего 66 раз. То есть здесь возможна утечка бюджета и предложение дополнительных акций/ скидок людям, абонентам, которые не собирались уходить.  Также в 128 случаях модель не распознала уходящих клиентов, идентифицировав их как оставшихся.\n",
    "\n",
    "Предсказания модели лучше, чем Дамми-модель.\n",
    "\n",
    "Какие пункты плана были выполнены, а какие — нет (поясните почему)?\n",
    "Какие трудности возникли и как вы их преодолели?\n",
    "\n",
    "#### Трудности возникшие в ходе реализации проекта:\n",
    "\n",
    "Затруднение вызвал отбор подходящих признаков для обучения модели. Необходимо было убрать ряд признаков, способствовавших утечке данных и переобучении модели, а также ряд неинформативных признаков, приводивших к шуму в данных и падение метрики.\n",
    "\n",
    "#### Какие пункты плана были выполнены, а какие — нет.\n",
    "\n",
    "Все пункты намеченного пана были реализованы. Однако можно было бы провести более глубокое исследование и выяснить подорожание каких конкретно услуг стало отпугивать пользователей. Для этого было бы необходимо посмотреть на размеры потребляемых пользователями услуг (объем трафика, количество израсходованных минут), иметь более четкое представление о предлагаемых тарифах и пакетах данных. Возможно, решением проблемы стало бы не предложение сидки/ промокода, а формирование нового тарифного плана, более подходящего ушедшим пользователям. Данная задача выходила за рамки нашего проекта, однако возможность анализа в этом направлении необходимо учитывать."
   ]
  }
 ],
 "metadata": {
  "ExecuteTimeLog": [
   {
    "duration": 1843,
    "start_time": "2023-02-01T14:12:50.865Z"
   },
   {
    "duration": 366,
    "start_time": "2023-02-01T14:12:52.710Z"
   },
   {
    "duration": 16,
    "start_time": "2023-02-01T14:12:53.714Z"
   },
   {
    "duration": 17,
    "start_time": "2023-02-01T14:12:53.928Z"
   },
   {
    "duration": 15,
    "start_time": "2023-02-01T14:12:54.320Z"
   },
   {
    "duration": 9,
    "start_time": "2023-02-01T14:12:54.503Z"
   },
   {
    "duration": 5,
    "start_time": "2023-02-01T14:12:54.912Z"
   },
   {
    "duration": 5,
    "start_time": "2023-02-01T14:12:55.108Z"
   },
   {
    "duration": 6,
    "start_time": "2023-02-01T14:12:55.304Z"
   },
   {
    "duration": 10,
    "start_time": "2023-02-01T14:12:55.506Z"
   },
   {
    "duration": 6,
    "start_time": "2023-02-01T14:12:55.712Z"
   },
   {
    "duration": 5,
    "start_time": "2023-02-01T14:12:55.911Z"
   },
   {
    "duration": 6,
    "start_time": "2023-02-01T14:12:56.121Z"
   },
   {
    "duration": 6,
    "start_time": "2023-02-01T14:13:04.688Z"
   },
   {
    "duration": 226,
    "start_time": "2023-02-01T14:13:05.696Z"
   },
   {
    "duration": 124,
    "start_time": "2023-02-01T14:13:05.976Z"
   },
   {
    "duration": 9,
    "start_time": "2023-02-01T14:13:06.218Z"
   },
   {
    "duration": 12,
    "start_time": "2023-02-01T14:13:08.390Z"
   },
   {
    "duration": 10,
    "start_time": "2023-02-01T14:13:08.592Z"
   },
   {
    "duration": 11,
    "start_time": "2023-02-01T14:13:08.784Z"
   },
   {
    "duration": 11,
    "start_time": "2023-02-01T14:13:08.978Z"
   },
   {
    "duration": 8,
    "start_time": "2023-02-01T14:13:09.193Z"
   },
   {
    "duration": 13,
    "start_time": "2023-02-01T14:13:10.312Z"
   },
   {
    "duration": 9,
    "start_time": "2023-02-01T14:13:10.888Z"
   },
   {
    "duration": 8,
    "start_time": "2023-02-01T14:13:11.580Z"
   },
   {
    "duration": 8,
    "start_time": "2023-02-01T14:13:11.875Z"
   },
   {
    "duration": 12,
    "start_time": "2023-02-01T14:13:13.349Z"
   },
   {
    "duration": 10,
    "start_time": "2023-02-01T14:13:13.517Z"
   },
   {
    "duration": 8,
    "start_time": "2023-02-01T14:13:13.932Z"
   },
   {
    "duration": 7,
    "start_time": "2023-02-01T14:13:14.560Z"
   },
   {
    "duration": 7,
    "start_time": "2023-02-01T14:13:16.216Z"
   },
   {
    "duration": 105,
    "start_time": "2023-02-01T14:13:49.809Z"
   },
   {
    "duration": 16,
    "start_time": "2023-02-01T14:13:50.478Z"
   },
   {
    "duration": 18,
    "start_time": "2023-02-01T14:15:34.181Z"
   },
   {
    "duration": 14,
    "start_time": "2023-02-01T14:15:35.364Z"
   },
   {
    "duration": 12,
    "start_time": "2023-02-01T14:15:35.692Z"
   },
   {
    "duration": 28,
    "start_time": "2023-02-01T14:15:37.063Z"
   },
   {
    "duration": 11,
    "start_time": "2023-02-01T14:15:38.441Z"
   },
   {
    "duration": 5,
    "start_time": "2023-02-01T14:15:43.872Z"
   },
   {
    "duration": 6,
    "start_time": "2023-02-01T14:15:44.608Z"
   },
   {
    "duration": 4,
    "start_time": "2023-02-01T14:15:48.957Z"
   },
   {
    "duration": 6,
    "start_time": "2023-02-01T14:15:50.361Z"
   },
   {
    "duration": 36,
    "start_time": "2023-02-01T14:15:59.276Z"
   },
   {
    "duration": 7,
    "start_time": "2023-02-01T14:18:41.722Z"
   },
   {
    "duration": 6,
    "start_time": "2023-02-01T14:18:46.081Z"
   },
   {
    "duration": 51,
    "start_time": "2023-02-01T14:26:47.871Z"
   },
   {
    "duration": 102,
    "start_time": "2023-02-01T15:19:40.523Z"
   },
   {
    "duration": 3,
    "start_time": "2023-02-01T15:25:43.328Z"
   },
   {
    "duration": 3,
    "start_time": "2023-02-01T15:25:43.608Z"
   },
   {
    "duration": 62,
    "start_time": "2023-02-01T15:26:11.147Z"
   },
   {
    "duration": 25601,
    "start_time": "2023-02-01T15:26:15.899Z"
   },
   {
    "duration": 512,
    "start_time": "2023-02-01T15:26:41.502Z"
   },
   {
    "duration": 24,
    "start_time": "2023-02-01T15:26:42.016Z"
   },
   {
    "duration": 21,
    "start_time": "2023-02-01T15:26:42.051Z"
   },
   {
    "duration": 10,
    "start_time": "2023-02-01T15:26:42.074Z"
   },
   {
    "duration": 7,
    "start_time": "2023-02-01T15:26:42.086Z"
   },
   {
    "duration": 6,
    "start_time": "2023-02-01T15:26:42.095Z"
   },
   {
    "duration": 5,
    "start_time": "2023-02-01T15:26:42.103Z"
   },
   {
    "duration": 8,
    "start_time": "2023-02-01T15:26:42.121Z"
   },
   {
    "duration": 26,
    "start_time": "2023-02-01T15:26:42.132Z"
   },
   {
    "duration": 15,
    "start_time": "2023-02-01T15:26:42.159Z"
   },
   {
    "duration": 7,
    "start_time": "2023-02-01T15:26:42.175Z"
   },
   {
    "duration": 8,
    "start_time": "2023-02-01T15:26:42.183Z"
   },
   {
    "duration": 9,
    "start_time": "2023-02-01T15:26:42.194Z"
   },
   {
    "duration": 245,
    "start_time": "2023-02-01T15:26:42.205Z"
   },
   {
    "duration": 108,
    "start_time": "2023-02-01T15:26:42.455Z"
   },
   {
    "duration": 10,
    "start_time": "2023-02-01T15:26:42.565Z"
   },
   {
    "duration": 12,
    "start_time": "2023-02-01T15:26:42.577Z"
   },
   {
    "duration": 38,
    "start_time": "2023-02-01T15:26:42.591Z"
   },
   {
    "duration": 29,
    "start_time": "2023-02-01T15:26:42.634Z"
   },
   {
    "duration": 7,
    "start_time": "2023-02-01T15:26:42.665Z"
   },
   {
    "duration": 15,
    "start_time": "2023-02-01T15:26:42.673Z"
   },
   {
    "duration": 21,
    "start_time": "2023-02-01T15:26:42.690Z"
   },
   {
    "duration": 27,
    "start_time": "2023-02-01T15:26:42.713Z"
   },
   {
    "duration": 97,
    "start_time": "2023-02-01T15:26:42.742Z"
   },
   {
    "duration": 14,
    "start_time": "2023-02-01T15:26:42.841Z"
   },
   {
    "duration": 14,
    "start_time": "2023-02-01T15:26:42.858Z"
   },
   {
    "duration": 12,
    "start_time": "2023-02-01T15:26:42.874Z"
   },
   {
    "duration": 10,
    "start_time": "2023-02-01T15:26:42.888Z"
   },
   {
    "duration": 35,
    "start_time": "2023-02-01T15:26:42.900Z"
   },
   {
    "duration": 26,
    "start_time": "2023-02-01T15:26:42.937Z"
   },
   {
    "duration": 32,
    "start_time": "2023-02-01T15:26:42.965Z"
   },
   {
    "duration": 19,
    "start_time": "2023-02-01T15:26:42.999Z"
   },
   {
    "duration": 33,
    "start_time": "2023-02-01T15:26:43.021Z"
   },
   {
    "duration": 19,
    "start_time": "2023-02-01T15:26:43.057Z"
   },
   {
    "duration": 18,
    "start_time": "2023-02-01T15:26:43.077Z"
   },
   {
    "duration": 65,
    "start_time": "2023-02-01T15:26:43.096Z"
   },
   {
    "duration": 11,
    "start_time": "2023-02-01T15:26:43.162Z"
   },
   {
    "duration": 5,
    "start_time": "2023-02-01T15:26:43.174Z"
   },
   {
    "duration": 9,
    "start_time": "2023-02-01T15:26:43.181Z"
   },
   {
    "duration": 3,
    "start_time": "2023-02-01T15:26:43.194Z"
   },
   {
    "duration": 53,
    "start_time": "2023-02-01T15:26:43.198Z"
   },
   {
    "duration": 12,
    "start_time": "2023-02-01T15:26:43.253Z"
   },
   {
    "duration": 7,
    "start_time": "2023-02-01T15:26:43.267Z"
   },
   {
    "duration": 32,
    "start_time": "2023-02-01T15:26:43.275Z"
   },
   {
    "duration": 10,
    "start_time": "2023-02-01T15:26:43.309Z"
   },
   {
    "duration": 159,
    "start_time": "2023-02-01T15:26:43.330Z"
   },
   {
    "duration": 7,
    "start_time": "2023-02-01T15:26:43.491Z"
   },
   {
    "duration": 193,
    "start_time": "2023-02-01T15:26:43.499Z"
   },
   {
    "duration": 6,
    "start_time": "2023-02-01T15:26:43.694Z"
   },
   {
    "duration": 152,
    "start_time": "2023-02-01T15:26:43.701Z"
   },
   {
    "duration": 9,
    "start_time": "2023-02-01T15:26:43.855Z"
   },
   {
    "duration": 148,
    "start_time": "2023-02-01T15:26:43.866Z"
   },
   {
    "duration": 470,
    "start_time": "2023-02-01T15:26:44.016Z"
   },
   {
    "duration": 4,
    "start_time": "2023-02-01T15:26:44.488Z"
   },
   {
    "duration": 9,
    "start_time": "2023-02-01T15:26:44.494Z"
   },
   {
    "duration": 336,
    "start_time": "2023-02-01T15:26:44.504Z"
   },
   {
    "duration": 0,
    "start_time": "2023-02-01T15:26:44.842Z"
   },
   {
    "duration": 0,
    "start_time": "2023-02-01T15:26:44.846Z"
   },
   {
    "duration": 0,
    "start_time": "2023-02-01T15:26:44.847Z"
   },
   {
    "duration": 0,
    "start_time": "2023-02-01T15:26:44.849Z"
   },
   {
    "duration": 0,
    "start_time": "2023-02-01T15:26:44.850Z"
   },
   {
    "duration": 0,
    "start_time": "2023-02-01T15:26:44.851Z"
   },
   {
    "duration": 0,
    "start_time": "2023-02-01T15:26:44.852Z"
   },
   {
    "duration": 0,
    "start_time": "2023-02-01T15:26:44.853Z"
   },
   {
    "duration": 0,
    "start_time": "2023-02-01T15:26:44.855Z"
   },
   {
    "duration": 0,
    "start_time": "2023-02-01T15:26:44.859Z"
   },
   {
    "duration": 0,
    "start_time": "2023-02-01T15:26:44.860Z"
   },
   {
    "duration": 0,
    "start_time": "2023-02-01T15:26:44.860Z"
   },
   {
    "duration": 0,
    "start_time": "2023-02-01T15:26:44.862Z"
   },
   {
    "duration": 0,
    "start_time": "2023-02-01T15:26:44.863Z"
   },
   {
    "duration": 0,
    "start_time": "2023-02-01T15:26:44.863Z"
   },
   {
    "duration": 0,
    "start_time": "2023-02-01T15:26:44.864Z"
   },
   {
    "duration": 0,
    "start_time": "2023-02-01T15:26:44.865Z"
   },
   {
    "duration": 1,
    "start_time": "2023-02-01T15:26:44.872Z"
   },
   {
    "duration": 0,
    "start_time": "2023-02-01T15:26:44.874Z"
   },
   {
    "duration": 0,
    "start_time": "2023-02-01T15:26:44.875Z"
   },
   {
    "duration": 0,
    "start_time": "2023-02-01T15:26:44.877Z"
   },
   {
    "duration": 0,
    "start_time": "2023-02-01T15:26:44.878Z"
   },
   {
    "duration": 0,
    "start_time": "2023-02-01T15:26:44.879Z"
   },
   {
    "duration": 0,
    "start_time": "2023-02-01T15:26:44.881Z"
   },
   {
    "duration": 0,
    "start_time": "2023-02-01T15:26:44.883Z"
   },
   {
    "duration": 0,
    "start_time": "2023-02-01T15:26:44.884Z"
   },
   {
    "duration": 0,
    "start_time": "2023-02-01T15:26:44.886Z"
   },
   {
    "duration": 0,
    "start_time": "2023-02-01T15:26:44.888Z"
   },
   {
    "duration": 0,
    "start_time": "2023-02-01T15:26:44.922Z"
   },
   {
    "duration": 0,
    "start_time": "2023-02-01T15:26:44.923Z"
   },
   {
    "duration": 13,
    "start_time": "2023-02-01T15:26:54.961Z"
   },
   {
    "duration": 7,
    "start_time": "2023-02-01T15:27:33.816Z"
   },
   {
    "duration": 172,
    "start_time": "2023-02-01T15:27:33.825Z"
   },
   {
    "duration": 13,
    "start_time": "2023-02-01T15:27:33.999Z"
   },
   {
    "duration": 25,
    "start_time": "2023-02-01T15:27:34.014Z"
   },
   {
    "duration": 23,
    "start_time": "2023-02-01T15:27:34.047Z"
   },
   {
    "duration": 8,
    "start_time": "2023-02-01T15:27:34.072Z"
   },
   {
    "duration": 15,
    "start_time": "2023-02-01T15:27:34.081Z"
   },
   {
    "duration": 7,
    "start_time": "2023-02-01T15:27:34.097Z"
   },
   {
    "duration": 21,
    "start_time": "2023-02-01T15:27:34.106Z"
   },
   {
    "duration": 35,
    "start_time": "2023-02-01T15:27:34.128Z"
   },
   {
    "duration": 11,
    "start_time": "2023-02-01T15:27:34.165Z"
   },
   {
    "duration": 8,
    "start_time": "2023-02-01T15:27:34.178Z"
   },
   {
    "duration": 12,
    "start_time": "2023-02-01T15:27:34.188Z"
   },
   {
    "duration": 11,
    "start_time": "2023-02-01T15:27:34.202Z"
   },
   {
    "duration": 217,
    "start_time": "2023-02-01T15:27:34.215Z"
   },
   {
    "duration": 138,
    "start_time": "2023-02-01T15:27:34.434Z"
   },
   {
    "duration": 10,
    "start_time": "2023-02-01T15:27:34.574Z"
   },
   {
    "duration": 16,
    "start_time": "2023-02-01T15:27:34.586Z"
   },
   {
    "duration": 47,
    "start_time": "2023-02-01T15:27:34.625Z"
   },
   {
    "duration": 20,
    "start_time": "2023-02-01T15:27:34.674Z"
   },
   {
    "duration": 11,
    "start_time": "2023-02-01T15:27:34.697Z"
   },
   {
    "duration": 18,
    "start_time": "2023-02-01T15:27:34.710Z"
   },
   {
    "duration": 52,
    "start_time": "2023-02-01T15:27:34.730Z"
   },
   {
    "duration": 17,
    "start_time": "2023-02-01T15:27:34.785Z"
   },
   {
    "duration": 23,
    "start_time": "2023-02-01T15:27:34.923Z"
   },
   {
    "duration": 40,
    "start_time": "2023-02-01T15:27:34.953Z"
   },
   {
    "duration": 27,
    "start_time": "2023-02-01T15:27:34.994Z"
   },
   {
    "duration": 46,
    "start_time": "2023-02-01T15:27:35.023Z"
   },
   {
    "duration": 32,
    "start_time": "2023-02-01T15:27:35.071Z"
   },
   {
    "duration": 22,
    "start_time": "2023-02-01T15:27:35.108Z"
   },
   {
    "duration": 46,
    "start_time": "2023-02-01T15:27:35.132Z"
   },
   {
    "duration": 28,
    "start_time": "2023-02-01T15:27:35.180Z"
   },
   {
    "duration": 20,
    "start_time": "2023-02-01T15:27:35.210Z"
   },
   {
    "duration": 44,
    "start_time": "2023-02-01T15:27:35.232Z"
   },
   {
    "duration": 19,
    "start_time": "2023-02-01T15:27:35.277Z"
   },
   {
    "duration": 23,
    "start_time": "2023-02-01T15:27:35.298Z"
   },
   {
    "duration": 61,
    "start_time": "2023-02-01T15:27:35.323Z"
   },
   {
    "duration": 12,
    "start_time": "2023-02-01T15:27:35.386Z"
   },
   {
    "duration": 10,
    "start_time": "2023-02-01T15:27:35.400Z"
   },
   {
    "duration": 8,
    "start_time": "2023-02-01T15:27:35.412Z"
   },
   {
    "duration": 35,
    "start_time": "2023-02-01T15:27:35.422Z"
   },
   {
    "duration": 7,
    "start_time": "2023-02-01T15:27:35.459Z"
   },
   {
    "duration": 9,
    "start_time": "2023-02-01T15:27:35.468Z"
   },
   {
    "duration": 8,
    "start_time": "2023-02-01T15:27:35.479Z"
   },
   {
    "duration": 26,
    "start_time": "2023-02-01T15:27:35.489Z"
   },
   {
    "duration": 24,
    "start_time": "2023-02-01T15:27:35.516Z"
   },
   {
    "duration": 147,
    "start_time": "2023-02-01T15:27:35.542Z"
   },
   {
    "duration": 6,
    "start_time": "2023-02-01T15:27:35.691Z"
   },
   {
    "duration": 158,
    "start_time": "2023-02-01T15:27:35.699Z"
   },
   {
    "duration": 6,
    "start_time": "2023-02-01T15:27:35.859Z"
   },
   {
    "duration": 134,
    "start_time": "2023-02-01T15:27:35.867Z"
   },
   {
    "duration": 6,
    "start_time": "2023-02-01T15:27:36.003Z"
   },
   {
    "duration": 162,
    "start_time": "2023-02-01T15:27:36.020Z"
   },
   {
    "duration": 359,
    "start_time": "2023-02-01T15:27:36.184Z"
   },
   {
    "duration": 8,
    "start_time": "2023-02-01T15:27:36.546Z"
   },
   {
    "duration": 10,
    "start_time": "2023-02-01T15:27:36.556Z"
   },
   {
    "duration": 165,
    "start_time": "2023-02-01T15:27:36.568Z"
   },
   {
    "duration": 0,
    "start_time": "2023-02-01T15:27:36.738Z"
   },
   {
    "duration": 0,
    "start_time": "2023-02-01T15:27:36.739Z"
   },
   {
    "duration": 0,
    "start_time": "2023-02-01T15:27:36.741Z"
   },
   {
    "duration": 0,
    "start_time": "2023-02-01T15:27:36.742Z"
   },
   {
    "duration": 0,
    "start_time": "2023-02-01T15:27:36.743Z"
   },
   {
    "duration": 0,
    "start_time": "2023-02-01T15:27:36.745Z"
   },
   {
    "duration": 0,
    "start_time": "2023-02-01T15:27:36.746Z"
   },
   {
    "duration": 0,
    "start_time": "2023-02-01T15:27:36.748Z"
   },
   {
    "duration": 0,
    "start_time": "2023-02-01T15:27:36.749Z"
   },
   {
    "duration": 0,
    "start_time": "2023-02-01T15:27:36.750Z"
   },
   {
    "duration": 0,
    "start_time": "2023-02-01T15:27:36.752Z"
   },
   {
    "duration": 0,
    "start_time": "2023-02-01T15:27:36.755Z"
   },
   {
    "duration": 0,
    "start_time": "2023-02-01T15:27:36.759Z"
   },
   {
    "duration": 0,
    "start_time": "2023-02-01T15:27:36.760Z"
   },
   {
    "duration": 0,
    "start_time": "2023-02-01T15:27:36.761Z"
   },
   {
    "duration": 0,
    "start_time": "2023-02-01T15:27:36.762Z"
   },
   {
    "duration": 0,
    "start_time": "2023-02-01T15:27:36.763Z"
   },
   {
    "duration": 0,
    "start_time": "2023-02-01T15:27:36.765Z"
   },
   {
    "duration": 0,
    "start_time": "2023-02-01T15:27:36.766Z"
   },
   {
    "duration": 0,
    "start_time": "2023-02-01T15:27:36.767Z"
   },
   {
    "duration": 0,
    "start_time": "2023-02-01T15:27:36.768Z"
   },
   {
    "duration": 0,
    "start_time": "2023-02-01T15:27:36.770Z"
   },
   {
    "duration": 0,
    "start_time": "2023-02-01T15:27:36.772Z"
   },
   {
    "duration": 0,
    "start_time": "2023-02-01T15:27:36.773Z"
   },
   {
    "duration": 0,
    "start_time": "2023-02-01T15:27:36.775Z"
   },
   {
    "duration": 0,
    "start_time": "2023-02-01T15:27:36.821Z"
   },
   {
    "duration": 2,
    "start_time": "2023-02-01T15:28:05.532Z"
   },
   {
    "duration": 270,
    "start_time": "2023-02-01T15:28:08.714Z"
   },
   {
    "duration": 149,
    "start_time": "2023-02-01T15:28:08.986Z"
   },
   {
    "duration": 241,
    "start_time": "2023-02-01T15:28:09.137Z"
   },
   {
    "duration": 11,
    "start_time": "2023-02-01T15:28:09.381Z"
   },
   {
    "duration": 30,
    "start_time": "2023-02-01T15:28:09.394Z"
   },
   {
    "duration": 410,
    "start_time": "2023-02-01T15:28:09.426Z"
   },
   {
    "duration": 329,
    "start_time": "2023-02-01T15:28:09.838Z"
   },
   {
    "duration": 6,
    "start_time": "2023-02-01T15:28:10.169Z"
   },
   {
    "duration": 10,
    "start_time": "2023-02-01T15:28:10.176Z"
   },
   {
    "duration": 312,
    "start_time": "2023-02-01T15:28:10.189Z"
   },
   {
    "duration": 273,
    "start_time": "2023-02-01T15:28:10.503Z"
   },
   {
    "duration": 10,
    "start_time": "2023-02-01T15:28:10.777Z"
   },
   {
    "duration": 7,
    "start_time": "2023-02-01T15:28:10.788Z"
   },
   {
    "duration": 299,
    "start_time": "2023-02-01T15:28:10.797Z"
   },
   {
    "duration": 9,
    "start_time": "2023-02-01T15:28:11.098Z"
   },
   {
    "duration": 50,
    "start_time": "2023-02-01T15:28:11.109Z"
   },
   {
    "duration": 186,
    "start_time": "2023-02-01T15:28:11.161Z"
   },
   {
    "duration": 0,
    "start_time": "2023-02-01T15:28:11.353Z"
   },
   {
    "duration": 0,
    "start_time": "2023-02-01T15:28:11.353Z"
   },
   {
    "duration": 0,
    "start_time": "2023-02-01T15:28:11.354Z"
   },
   {
    "duration": 0,
    "start_time": "2023-02-01T15:28:11.355Z"
   },
   {
    "duration": 0,
    "start_time": "2023-02-01T15:28:11.357Z"
   },
   {
    "duration": 0,
    "start_time": "2023-02-01T15:28:11.358Z"
   },
   {
    "duration": 0,
    "start_time": "2023-02-01T15:28:11.360Z"
   },
   {
    "duration": 0,
    "start_time": "2023-02-01T15:28:11.361Z"
   },
   {
    "duration": 0,
    "start_time": "2023-02-01T15:28:11.362Z"
   },
   {
    "duration": 0,
    "start_time": "2023-02-01T15:28:11.363Z"
   },
   {
    "duration": 0,
    "start_time": "2023-02-01T15:28:11.365Z"
   },
   {
    "duration": 0,
    "start_time": "2023-02-01T15:28:11.366Z"
   },
   {
    "duration": 0,
    "start_time": "2023-02-01T15:28:11.367Z"
   },
   {
    "duration": 1,
    "start_time": "2023-02-01T15:28:11.368Z"
   },
   {
    "duration": 0,
    "start_time": "2023-02-01T15:28:11.370Z"
   },
   {
    "duration": 0,
    "start_time": "2023-02-01T15:28:11.372Z"
   },
   {
    "duration": 0,
    "start_time": "2023-02-01T15:28:11.373Z"
   },
   {
    "duration": 0,
    "start_time": "2023-02-01T15:28:11.375Z"
   },
   {
    "duration": 0,
    "start_time": "2023-02-01T15:28:11.376Z"
   },
   {
    "duration": 0,
    "start_time": "2023-02-01T15:28:11.377Z"
   },
   {
    "duration": 0,
    "start_time": "2023-02-01T15:28:11.379Z"
   },
   {
    "duration": 0,
    "start_time": "2023-02-01T15:28:11.380Z"
   },
   {
    "duration": 0,
    "start_time": "2023-02-01T15:28:11.381Z"
   },
   {
    "duration": 0,
    "start_time": "2023-02-01T15:28:11.382Z"
   },
   {
    "duration": 0,
    "start_time": "2023-02-01T15:28:11.426Z"
   },
   {
    "duration": 0,
    "start_time": "2023-02-01T15:28:11.427Z"
   },
   {
    "duration": 0,
    "start_time": "2023-02-01T15:28:11.428Z"
   },
   {
    "duration": 0,
    "start_time": "2023-02-01T15:28:11.429Z"
   },
   {
    "duration": 0,
    "start_time": "2023-02-01T15:28:11.429Z"
   },
   {
    "duration": 0,
    "start_time": "2023-02-01T15:28:11.430Z"
   },
   {
    "duration": 0,
    "start_time": "2023-02-01T15:28:11.431Z"
   },
   {
    "duration": 0,
    "start_time": "2023-02-01T15:28:11.431Z"
   },
   {
    "duration": 0,
    "start_time": "2023-02-01T15:28:11.432Z"
   },
   {
    "duration": 0,
    "start_time": "2023-02-01T15:28:11.433Z"
   },
   {
    "duration": 1,
    "start_time": "2023-02-01T15:28:11.433Z"
   },
   {
    "duration": 0,
    "start_time": "2023-02-01T15:28:11.434Z"
   },
   {
    "duration": 0,
    "start_time": "2023-02-01T15:28:11.435Z"
   },
   {
    "duration": 170,
    "start_time": "2023-02-01T15:29:48.699Z"
   },
   {
    "duration": 1653,
    "start_time": "2023-02-01T15:29:57.709Z"
   },
   {
    "duration": 111,
    "start_time": "2023-02-01T15:29:59.364Z"
   },
   {
    "duration": 15,
    "start_time": "2023-02-01T15:29:59.476Z"
   },
   {
    "duration": 22,
    "start_time": "2023-02-01T15:29:59.493Z"
   },
   {
    "duration": 18,
    "start_time": "2023-02-01T15:29:59.518Z"
   },
   {
    "duration": 18,
    "start_time": "2023-02-01T15:29:59.538Z"
   },
   {
    "duration": 10,
    "start_time": "2023-02-01T15:29:59.557Z"
   },
   {
    "duration": 15,
    "start_time": "2023-02-01T15:29:59.568Z"
   },
   {
    "duration": 21,
    "start_time": "2023-02-01T15:29:59.585Z"
   },
   {
    "duration": 42,
    "start_time": "2023-02-01T15:29:59.608Z"
   },
   {
    "duration": 8,
    "start_time": "2023-02-01T15:29:59.653Z"
   },
   {
    "duration": 16,
    "start_time": "2023-02-01T15:29:59.663Z"
   },
   {
    "duration": 25,
    "start_time": "2023-02-01T15:29:59.681Z"
   },
   {
    "duration": 11,
    "start_time": "2023-02-01T15:29:59.711Z"
   },
   {
    "duration": 211,
    "start_time": "2023-02-01T15:29:59.731Z"
   },
   {
    "duration": 111,
    "start_time": "2023-02-01T15:29:59.943Z"
   },
   {
    "duration": 12,
    "start_time": "2023-02-01T15:30:00.056Z"
   },
   {
    "duration": 12,
    "start_time": "2023-02-01T15:30:00.070Z"
   },
   {
    "duration": 27,
    "start_time": "2023-02-01T15:30:00.084Z"
   },
   {
    "duration": 49,
    "start_time": "2023-02-01T15:30:00.113Z"
   },
   {
    "duration": 16,
    "start_time": "2023-02-01T15:30:00.164Z"
   },
   {
    "duration": 15,
    "start_time": "2023-02-01T15:30:00.182Z"
   },
   {
    "duration": 16,
    "start_time": "2023-02-01T15:30:00.199Z"
   },
   {
    "duration": 30,
    "start_time": "2023-02-01T15:30:00.217Z"
   },
   {
    "duration": 105,
    "start_time": "2023-02-01T15:30:00.249Z"
   },
   {
    "duration": 8,
    "start_time": "2023-02-01T15:30:00.357Z"
   },
   {
    "duration": 31,
    "start_time": "2023-02-01T15:30:00.367Z"
   },
   {
    "duration": 27,
    "start_time": "2023-02-01T15:30:00.400Z"
   },
   {
    "duration": 43,
    "start_time": "2023-02-01T15:30:00.428Z"
   },
   {
    "duration": 22,
    "start_time": "2023-02-01T15:30:00.473Z"
   },
   {
    "duration": 28,
    "start_time": "2023-02-01T15:30:00.496Z"
   },
   {
    "duration": 69,
    "start_time": "2023-02-01T15:30:00.526Z"
   },
   {
    "duration": 17,
    "start_time": "2023-02-01T15:30:00.597Z"
   },
   {
    "duration": 24,
    "start_time": "2023-02-01T15:30:00.616Z"
   },
   {
    "duration": 23,
    "start_time": "2023-02-01T15:30:00.642Z"
   },
   {
    "duration": 28,
    "start_time": "2023-02-01T15:30:00.667Z"
   },
   {
    "duration": 38,
    "start_time": "2023-02-01T15:30:00.696Z"
   },
   {
    "duration": 23,
    "start_time": "2023-02-01T15:30:00.737Z"
   },
   {
    "duration": 21,
    "start_time": "2023-02-01T15:30:00.762Z"
   },
   {
    "duration": 39,
    "start_time": "2023-02-01T15:30:00.785Z"
   },
   {
    "duration": 41,
    "start_time": "2023-02-01T15:30:00.834Z"
   },
   {
    "duration": 25,
    "start_time": "2023-02-01T15:30:00.877Z"
   },
   {
    "duration": 56,
    "start_time": "2023-02-01T15:30:00.904Z"
   },
   {
    "duration": 27,
    "start_time": "2023-02-01T15:30:00.962Z"
   },
   {
    "duration": 38,
    "start_time": "2023-02-01T15:30:00.991Z"
   },
   {
    "duration": 36,
    "start_time": "2023-02-01T15:30:01.031Z"
   },
   {
    "duration": 159,
    "start_time": "2023-02-01T15:30:01.070Z"
   },
   {
    "duration": 9,
    "start_time": "2023-02-01T15:30:01.239Z"
   },
   {
    "duration": 192,
    "start_time": "2023-02-01T15:30:01.250Z"
   },
   {
    "duration": 8,
    "start_time": "2023-02-01T15:30:01.444Z"
   },
   {
    "duration": 166,
    "start_time": "2023-02-01T15:30:01.454Z"
   },
   {
    "duration": 10,
    "start_time": "2023-02-01T15:30:01.622Z"
   },
   {
    "duration": 198,
    "start_time": "2023-02-01T15:30:01.634Z"
   },
   {
    "duration": 386,
    "start_time": "2023-02-01T15:30:01.833Z"
   },
   {
    "duration": 12,
    "start_time": "2023-02-01T15:30:02.223Z"
   },
   {
    "duration": 19,
    "start_time": "2023-02-01T15:30:02.239Z"
   },
   {
    "duration": 8,
    "start_time": "2023-02-01T15:30:02.260Z"
   },
   {
    "duration": 305,
    "start_time": "2023-02-01T15:30:02.270Z"
   },
   {
    "duration": 136,
    "start_time": "2023-02-01T15:30:02.577Z"
   },
   {
    "duration": 241,
    "start_time": "2023-02-01T15:30:02.715Z"
   },
   {
    "duration": 10,
    "start_time": "2023-02-01T15:30:02.958Z"
   },
   {
    "duration": 24,
    "start_time": "2023-02-01T15:30:02.970Z"
   },
   {
    "duration": 318,
    "start_time": "2023-02-01T15:30:02.997Z"
   },
   {
    "duration": 424,
    "start_time": "2023-02-01T15:30:03.322Z"
   },
   {
    "duration": 6,
    "start_time": "2023-02-01T15:30:03.748Z"
   },
   {
    "duration": 9,
    "start_time": "2023-02-01T15:30:03.756Z"
   },
   {
    "duration": 291,
    "start_time": "2023-02-01T15:30:03.767Z"
   },
   {
    "duration": 320,
    "start_time": "2023-02-01T15:30:04.060Z"
   },
   {
    "duration": 12,
    "start_time": "2023-02-01T15:30:04.382Z"
   },
   {
    "duration": 8,
    "start_time": "2023-02-01T15:30:04.396Z"
   },
   {
    "duration": 373,
    "start_time": "2023-02-01T15:30:04.406Z"
   },
   {
    "duration": 11,
    "start_time": "2023-02-01T15:30:04.782Z"
   },
   {
    "duration": 10,
    "start_time": "2023-02-01T15:30:04.795Z"
   },
   {
    "duration": 294,
    "start_time": "2023-02-01T15:30:20.435Z"
   },
   {
    "duration": 31,
    "start_time": "2023-02-01T15:30:32.563Z"
   },
   {
    "duration": 7,
    "start_time": "2023-02-01T15:30:46.001Z"
   },
   {
    "duration": 218,
    "start_time": "2023-02-01T15:31:02.206Z"
   },
   {
    "duration": 2,
    "start_time": "2023-02-01T15:34:57.097Z"
   },
   {
    "duration": 1648,
    "start_time": "2023-02-01T15:35:15.006Z"
   },
   {
    "duration": 114,
    "start_time": "2023-02-01T15:35:16.657Z"
   },
   {
    "duration": 15,
    "start_time": "2023-02-01T15:35:16.773Z"
   },
   {
    "duration": 21,
    "start_time": "2023-02-01T15:35:16.789Z"
   },
   {
    "duration": 24,
    "start_time": "2023-02-01T15:35:16.812Z"
   },
   {
    "duration": 11,
    "start_time": "2023-02-01T15:35:16.840Z"
   },
   {
    "duration": 7,
    "start_time": "2023-02-01T15:35:16.853Z"
   },
   {
    "duration": 9,
    "start_time": "2023-02-01T15:35:16.862Z"
   },
   {
    "duration": 10,
    "start_time": "2023-02-01T15:35:16.873Z"
   },
   {
    "duration": 17,
    "start_time": "2023-02-01T15:35:16.885Z"
   },
   {
    "duration": 23,
    "start_time": "2023-02-01T15:35:16.904Z"
   },
   {
    "duration": 10,
    "start_time": "2023-02-01T15:35:16.938Z"
   },
   {
    "duration": 9,
    "start_time": "2023-02-01T15:35:16.949Z"
   },
   {
    "duration": 9,
    "start_time": "2023-02-01T15:35:16.959Z"
   },
   {
    "duration": 213,
    "start_time": "2023-02-01T15:35:16.970Z"
   },
   {
    "duration": 113,
    "start_time": "2023-02-01T15:35:17.185Z"
   },
   {
    "duration": 10,
    "start_time": "2023-02-01T15:35:17.300Z"
   },
   {
    "duration": 15,
    "start_time": "2023-02-01T15:35:17.327Z"
   },
   {
    "duration": 106,
    "start_time": "2023-02-01T15:35:17.343Z"
   },
   {
    "duration": 35,
    "start_time": "2023-02-01T15:35:17.451Z"
   },
   {
    "duration": 18,
    "start_time": "2023-02-01T15:35:17.488Z"
   },
   {
    "duration": 38,
    "start_time": "2023-02-01T15:35:17.508Z"
   },
   {
    "duration": 23,
    "start_time": "2023-02-01T15:35:17.548Z"
   },
   {
    "duration": 31,
    "start_time": "2023-02-01T15:35:17.573Z"
   },
   {
    "duration": 37,
    "start_time": "2023-02-01T15:35:17.606Z"
   },
   {
    "duration": 24,
    "start_time": "2023-02-01T15:35:17.645Z"
   },
   {
    "duration": 22,
    "start_time": "2023-02-01T15:35:17.671Z"
   },
   {
    "duration": 30,
    "start_time": "2023-02-01T15:35:17.695Z"
   },
   {
    "duration": 48,
    "start_time": "2023-02-01T15:35:17.726Z"
   },
   {
    "duration": 22,
    "start_time": "2023-02-01T15:35:17.776Z"
   },
   {
    "duration": 24,
    "start_time": "2023-02-01T15:35:17.800Z"
   },
   {
    "duration": 85,
    "start_time": "2023-02-01T15:35:17.830Z"
   },
   {
    "duration": 50,
    "start_time": "2023-02-01T15:35:17.917Z"
   },
   {
    "duration": 24,
    "start_time": "2023-02-01T15:35:17.969Z"
   },
   {
    "duration": 44,
    "start_time": "2023-02-01T15:35:17.995Z"
   },
   {
    "duration": 50,
    "start_time": "2023-02-01T15:35:18.045Z"
   },
   {
    "duration": 57,
    "start_time": "2023-02-01T15:35:18.098Z"
   },
   {
    "duration": 15,
    "start_time": "2023-02-01T15:35:18.158Z"
   },
   {
    "duration": 6,
    "start_time": "2023-02-01T15:35:18.175Z"
   },
   {
    "duration": 17,
    "start_time": "2023-02-01T15:35:18.183Z"
   },
   {
    "duration": 15,
    "start_time": "2023-02-01T15:35:18.202Z"
   },
   {
    "duration": 32,
    "start_time": "2023-02-01T15:35:18.219Z"
   },
   {
    "duration": 29,
    "start_time": "2023-02-01T15:35:18.253Z"
   },
   {
    "duration": 18,
    "start_time": "2023-02-01T15:35:18.284Z"
   },
   {
    "duration": 44,
    "start_time": "2023-02-01T15:35:18.305Z"
   },
   {
    "duration": 21,
    "start_time": "2023-02-01T15:35:18.360Z"
   },
   {
    "duration": 160,
    "start_time": "2023-02-01T15:35:18.383Z"
   },
   {
    "duration": 9,
    "start_time": "2023-02-01T15:35:18.544Z"
   },
   {
    "duration": 187,
    "start_time": "2023-02-01T15:35:18.555Z"
   },
   {
    "duration": 7,
    "start_time": "2023-02-01T15:35:18.744Z"
   },
   {
    "duration": 145,
    "start_time": "2023-02-01T15:35:18.752Z"
   },
   {
    "duration": 6,
    "start_time": "2023-02-01T15:35:18.899Z"
   },
   {
    "duration": 170,
    "start_time": "2023-02-01T15:35:18.921Z"
   },
   {
    "duration": 439,
    "start_time": "2023-02-01T15:35:19.096Z"
   },
   {
    "duration": 6,
    "start_time": "2023-02-01T15:35:19.540Z"
   },
   {
    "duration": 42,
    "start_time": "2023-02-01T15:35:19.548Z"
   },
   {
    "duration": 25,
    "start_time": "2023-02-01T15:35:19.592Z"
   },
   {
    "duration": 1740,
    "start_time": "2023-02-01T15:35:33.761Z"
   },
   {
    "duration": 113,
    "start_time": "2023-02-01T15:35:35.503Z"
   },
   {
    "duration": 17,
    "start_time": "2023-02-01T15:35:35.618Z"
   },
   {
    "duration": 5,
    "start_time": "2023-02-01T15:35:37.152Z"
   },
   {
    "duration": 114,
    "start_time": "2023-02-01T15:35:37.534Z"
   },
   {
    "duration": 14,
    "start_time": "2023-02-01T15:35:37.651Z"
   },
   {
    "duration": 15,
    "start_time": "2023-02-01T15:35:37.667Z"
   },
   {
    "duration": 11,
    "start_time": "2023-02-01T15:35:37.902Z"
   },
   {
    "duration": 11,
    "start_time": "2023-02-01T15:35:37.916Z"
   },
   {
    "duration": 24,
    "start_time": "2023-02-01T15:35:37.929Z"
   },
   {
    "duration": 5,
    "start_time": "2023-02-01T15:35:37.956Z"
   },
   {
    "duration": 5,
    "start_time": "2023-02-01T15:35:37.964Z"
   },
   {
    "duration": 13,
    "start_time": "2023-02-01T15:35:37.971Z"
   },
   {
    "duration": 7,
    "start_time": "2023-02-01T15:35:37.988Z"
   },
   {
    "duration": 7,
    "start_time": "2023-02-01T15:35:37.998Z"
   },
   {
    "duration": 23,
    "start_time": "2023-02-01T15:35:38.024Z"
   },
   {
    "duration": 11,
    "start_time": "2023-02-01T15:35:38.049Z"
   },
   {
    "duration": 214,
    "start_time": "2023-02-01T15:35:38.062Z"
   },
   {
    "duration": 135,
    "start_time": "2023-02-01T15:35:38.278Z"
   },
   {
    "duration": 9,
    "start_time": "2023-02-01T15:35:38.415Z"
   },
   {
    "duration": 29,
    "start_time": "2023-02-01T15:35:38.429Z"
   },
   {
    "duration": 16,
    "start_time": "2023-02-01T15:35:38.460Z"
   },
   {
    "duration": 18,
    "start_time": "2023-02-01T15:35:38.478Z"
   },
   {
    "duration": 11,
    "start_time": "2023-02-01T15:35:38.498Z"
   },
   {
    "duration": 18,
    "start_time": "2023-02-01T15:35:38.511Z"
   },
   {
    "duration": 23,
    "start_time": "2023-02-01T15:35:38.531Z"
   },
   {
    "duration": 9,
    "start_time": "2023-02-01T15:35:38.597Z"
   },
   {
    "duration": 12,
    "start_time": "2023-02-01T15:35:38.609Z"
   },
   {
    "duration": 27,
    "start_time": "2023-02-01T15:35:38.628Z"
   },
   {
    "duration": 12,
    "start_time": "2023-02-01T15:35:38.657Z"
   },
   {
    "duration": 7,
    "start_time": "2023-02-01T15:35:38.967Z"
   },
   {
    "duration": 8,
    "start_time": "2023-02-01T15:35:38.976Z"
   },
   {
    "duration": 7,
    "start_time": "2023-02-01T15:35:38.986Z"
   },
   {
    "duration": 10,
    "start_time": "2023-02-01T15:35:38.995Z"
   },
   {
    "duration": 34,
    "start_time": "2023-02-01T15:35:39.008Z"
   },
   {
    "duration": 108,
    "start_time": "2023-02-01T15:35:39.044Z"
   },
   {
    "duration": 21,
    "start_time": "2023-02-01T15:35:39.154Z"
   },
   {
    "duration": 18,
    "start_time": "2023-02-01T15:35:39.177Z"
   },
   {
    "duration": 40,
    "start_time": "2023-02-01T15:35:39.197Z"
   },
   {
    "duration": 35,
    "start_time": "2023-02-01T15:35:39.241Z"
   },
   {
    "duration": 10,
    "start_time": "2023-02-01T15:35:39.278Z"
   },
   {
    "duration": 13,
    "start_time": "2023-02-01T15:35:39.289Z"
   },
   {
    "duration": 27,
    "start_time": "2023-02-01T15:35:39.303Z"
   },
   {
    "duration": 10,
    "start_time": "2023-02-01T15:35:39.336Z"
   },
   {
    "duration": 7,
    "start_time": "2023-02-01T15:35:39.347Z"
   },
   {
    "duration": 7,
    "start_time": "2023-02-01T15:35:39.356Z"
   },
   {
    "duration": 8,
    "start_time": "2023-02-01T15:35:39.364Z"
   },
   {
    "duration": 23,
    "start_time": "2023-02-01T15:35:39.374Z"
   },
   {
    "duration": 34,
    "start_time": "2023-02-01T15:35:39.399Z"
   },
   {
    "duration": 127,
    "start_time": "2023-02-01T15:35:39.438Z"
   },
   {
    "duration": 6,
    "start_time": "2023-02-01T15:35:39.567Z"
   },
   {
    "duration": 140,
    "start_time": "2023-02-01T15:35:39.575Z"
   },
   {
    "duration": 19,
    "start_time": "2023-02-01T15:35:39.718Z"
   },
   {
    "duration": 133,
    "start_time": "2023-02-01T15:35:39.740Z"
   },
   {
    "duration": 7,
    "start_time": "2023-02-01T15:35:39.875Z"
   },
   {
    "duration": 189,
    "start_time": "2023-02-01T15:35:39.884Z"
   },
   {
    "duration": 430,
    "start_time": "2023-02-01T15:35:40.075Z"
   },
   {
    "duration": 4,
    "start_time": "2023-02-01T15:35:40.507Z"
   },
   {
    "duration": 36,
    "start_time": "2023-02-01T15:35:40.521Z"
   },
   {
    "duration": 14,
    "start_time": "2023-02-01T15:35:40.559Z"
   },
   {
    "duration": 292,
    "start_time": "2023-02-01T15:35:40.575Z"
   },
   {
    "duration": 147,
    "start_time": "2023-02-01T15:35:40.869Z"
   },
   {
    "duration": 201,
    "start_time": "2023-02-01T15:35:41.018Z"
   },
   {
    "duration": 18,
    "start_time": "2023-02-01T15:35:41.223Z"
   },
   {
    "duration": 9,
    "start_time": "2023-02-01T15:35:41.243Z"
   },
   {
    "duration": 232,
    "start_time": "2023-02-01T15:35:41.254Z"
   },
   {
    "duration": 412,
    "start_time": "2023-02-01T15:35:41.488Z"
   },
   {
    "duration": 7,
    "start_time": "2023-02-01T15:35:41.902Z"
   },
   {
    "duration": 17,
    "start_time": "2023-02-01T15:35:41.910Z"
   },
   {
    "duration": 248,
    "start_time": "2023-02-01T15:35:41.928Z"
   },
   {
    "duration": 300,
    "start_time": "2023-02-01T15:35:42.179Z"
   },
   {
    "duration": 10,
    "start_time": "2023-02-01T15:35:42.480Z"
   },
   {
    "duration": 21,
    "start_time": "2023-02-01T15:35:42.492Z"
   },
   {
    "duration": 295,
    "start_time": "2023-02-01T15:35:42.515Z"
   },
   {
    "duration": 27,
    "start_time": "2023-02-01T15:35:42.812Z"
   },
   {
    "duration": 15,
    "start_time": "2023-02-01T15:35:42.841Z"
   },
   {
    "duration": 7,
    "start_time": "2023-02-01T15:35:42.857Z"
   },
   {
    "duration": 188,
    "start_time": "2023-02-01T15:35:42.866Z"
   },
   {
    "duration": 0,
    "start_time": "2023-02-01T15:35:43.058Z"
   },
   {
    "duration": 0,
    "start_time": "2023-02-01T15:35:43.060Z"
   },
   {
    "duration": 0,
    "start_time": "2023-02-01T15:35:43.061Z"
   },
   {
    "duration": 0,
    "start_time": "2023-02-01T15:35:43.063Z"
   },
   {
    "duration": 0,
    "start_time": "2023-02-01T15:35:43.067Z"
   },
   {
    "duration": 0,
    "start_time": "2023-02-01T15:35:43.068Z"
   },
   {
    "duration": 0,
    "start_time": "2023-02-01T15:35:43.069Z"
   },
   {
    "duration": 0,
    "start_time": "2023-02-01T15:35:43.071Z"
   },
   {
    "duration": 0,
    "start_time": "2023-02-01T15:35:43.072Z"
   },
   {
    "duration": 0,
    "start_time": "2023-02-01T15:35:43.074Z"
   },
   {
    "duration": 0,
    "start_time": "2023-02-01T15:35:43.075Z"
   },
   {
    "duration": 0,
    "start_time": "2023-02-01T15:35:43.076Z"
   },
   {
    "duration": 0,
    "start_time": "2023-02-01T15:35:43.078Z"
   },
   {
    "duration": 0,
    "start_time": "2023-02-01T15:35:43.079Z"
   },
   {
    "duration": 0,
    "start_time": "2023-02-01T15:35:43.080Z"
   },
   {
    "duration": 0,
    "start_time": "2023-02-01T15:35:43.081Z"
   },
   {
    "duration": 0,
    "start_time": "2023-02-01T15:35:43.083Z"
   },
   {
    "duration": 0,
    "start_time": "2023-02-01T15:35:43.084Z"
   },
   {
    "duration": 0,
    "start_time": "2023-02-01T15:35:43.085Z"
   },
   {
    "duration": 0,
    "start_time": "2023-02-01T15:35:43.086Z"
   },
   {
    "duration": 0,
    "start_time": "2023-02-01T15:35:43.088Z"
   },
   {
    "duration": 1,
    "start_time": "2023-02-01T15:35:43.124Z"
   },
   {
    "duration": 0,
    "start_time": "2023-02-01T15:35:43.126Z"
   },
   {
    "duration": 0,
    "start_time": "2023-02-01T15:35:43.127Z"
   },
   {
    "duration": 0,
    "start_time": "2023-02-01T15:35:43.128Z"
   },
   {
    "duration": 0,
    "start_time": "2023-02-01T15:35:43.128Z"
   },
   {
    "duration": 0,
    "start_time": "2023-02-01T15:35:43.129Z"
   },
   {
    "duration": 0,
    "start_time": "2023-02-01T15:35:43.130Z"
   },
   {
    "duration": 0,
    "start_time": "2023-02-01T15:35:43.131Z"
   },
   {
    "duration": 0,
    "start_time": "2023-02-01T15:35:43.131Z"
   },
   {
    "duration": 0,
    "start_time": "2023-02-01T15:35:43.132Z"
   },
   {
    "duration": 0,
    "start_time": "2023-02-01T15:35:43.133Z"
   },
   {
    "duration": 0,
    "start_time": "2023-02-01T15:35:43.134Z"
   },
   {
    "duration": 0,
    "start_time": "2023-02-01T15:35:43.135Z"
   },
   {
    "duration": 0,
    "start_time": "2023-02-01T15:35:43.136Z"
   },
   {
    "duration": 0,
    "start_time": "2023-02-01T15:35:43.137Z"
   },
   {
    "duration": 0,
    "start_time": "2023-02-01T15:35:43.138Z"
   },
   {
    "duration": 5,
    "start_time": "2023-02-01T15:36:19.446Z"
   },
   {
    "duration": 10,
    "start_time": "2023-02-01T15:36:23.003Z"
   },
   {
    "duration": 337,
    "start_time": "2023-02-01T15:36:23.015Z"
   },
   {
    "duration": 2378,
    "start_time": "2023-02-01T15:36:23.355Z"
   },
   {
    "duration": 11,
    "start_time": "2023-02-01T15:36:25.736Z"
   },
   {
    "duration": 399,
    "start_time": "2023-02-01T15:36:25.749Z"
   },
   {
    "duration": 605,
    "start_time": "2023-02-01T15:36:26.151Z"
   },
   {
    "duration": 26,
    "start_time": "2023-02-01T15:36:26.758Z"
   },
   {
    "duration": 12,
    "start_time": "2023-02-01T15:36:26.786Z"
   },
   {
    "duration": 8,
    "start_time": "2023-02-01T15:36:26.800Z"
   },
   {
    "duration": 22,
    "start_time": "2023-02-01T15:36:26.810Z"
   },
   {
    "duration": 0,
    "start_time": "2023-02-01T15:36:26.836Z"
   },
   {
    "duration": 0,
    "start_time": "2023-02-01T15:36:26.837Z"
   },
   {
    "duration": 0,
    "start_time": "2023-02-01T15:36:26.839Z"
   },
   {
    "duration": 0,
    "start_time": "2023-02-01T15:36:26.841Z"
   },
   {
    "duration": 0,
    "start_time": "2023-02-01T15:36:26.842Z"
   },
   {
    "duration": 0,
    "start_time": "2023-02-01T15:36:26.844Z"
   },
   {
    "duration": 0,
    "start_time": "2023-02-01T15:36:26.847Z"
   },
   {
    "duration": 0,
    "start_time": "2023-02-01T15:36:26.849Z"
   },
   {
    "duration": 1,
    "start_time": "2023-02-01T15:36:26.852Z"
   },
   {
    "duration": 0,
    "start_time": "2023-02-01T15:36:26.853Z"
   },
   {
    "duration": 0,
    "start_time": "2023-02-01T15:36:26.854Z"
   },
   {
    "duration": 0,
    "start_time": "2023-02-01T15:36:26.857Z"
   },
   {
    "duration": 0,
    "start_time": "2023-02-01T15:36:26.858Z"
   },
   {
    "duration": 0,
    "start_time": "2023-02-01T15:36:26.859Z"
   },
   {
    "duration": 0,
    "start_time": "2023-02-01T15:36:26.861Z"
   },
   {
    "duration": 0,
    "start_time": "2023-02-01T15:36:26.862Z"
   },
   {
    "duration": 0,
    "start_time": "2023-02-01T15:36:26.864Z"
   },
   {
    "duration": 0,
    "start_time": "2023-02-01T15:36:26.865Z"
   },
   {
    "duration": 0,
    "start_time": "2023-02-01T15:36:26.866Z"
   },
   {
    "duration": 0,
    "start_time": "2023-02-01T15:36:26.868Z"
   },
   {
    "duration": 0,
    "start_time": "2023-02-01T15:36:26.869Z"
   },
   {
    "duration": 0,
    "start_time": "2023-02-01T15:36:26.870Z"
   },
   {
    "duration": 0,
    "start_time": "2023-02-01T15:36:26.871Z"
   },
   {
    "duration": 0,
    "start_time": "2023-02-01T15:36:26.873Z"
   },
   {
    "duration": 0,
    "start_time": "2023-02-01T15:36:26.874Z"
   },
   {
    "duration": 0,
    "start_time": "2023-02-01T15:36:26.875Z"
   },
   {
    "duration": 0,
    "start_time": "2023-02-01T15:36:26.876Z"
   },
   {
    "duration": 57,
    "start_time": "2023-02-03T04:02:16.912Z"
   },
   {
    "duration": 40,
    "start_time": "2023-02-03T04:03:19.940Z"
   },
   {
    "duration": 51,
    "start_time": "2023-02-03T04:03:22.476Z"
   },
   {
    "duration": 46,
    "start_time": "2023-02-03T04:03:27.192Z"
   },
   {
    "duration": 76,
    "start_time": "2023-02-03T06:27:01.575Z"
   },
   {
    "duration": 58,
    "start_time": "2023-02-03T06:27:05.598Z"
   },
   {
    "duration": 1915,
    "start_time": "2023-02-03T06:27:05.658Z"
   },
   {
    "duration": 297,
    "start_time": "2023-02-03T06:27:07.575Z"
   },
   {
    "duration": 16,
    "start_time": "2023-02-03T06:27:07.874Z"
   },
   {
    "duration": 15,
    "start_time": "2023-02-03T06:27:07.894Z"
   },
   {
    "duration": 12,
    "start_time": "2023-02-03T06:27:07.911Z"
   },
   {
    "duration": 9,
    "start_time": "2023-02-03T06:27:07.924Z"
   },
   {
    "duration": 11,
    "start_time": "2023-02-03T06:27:07.935Z"
   },
   {
    "duration": 42,
    "start_time": "2023-02-03T06:27:07.948Z"
   },
   {
    "duration": 7,
    "start_time": "2023-02-03T06:27:07.993Z"
   },
   {
    "duration": 14,
    "start_time": "2023-02-03T06:27:08.003Z"
   },
   {
    "duration": 6,
    "start_time": "2023-02-03T06:27:08.020Z"
   },
   {
    "duration": 8,
    "start_time": "2023-02-03T06:27:08.029Z"
   },
   {
    "duration": 9,
    "start_time": "2023-02-03T06:27:08.041Z"
   },
   {
    "duration": 40,
    "start_time": "2023-02-03T06:27:08.052Z"
   },
   {
    "duration": 218,
    "start_time": "2023-02-03T06:27:08.095Z"
   },
   {
    "duration": 119,
    "start_time": "2023-02-03T06:27:08.315Z"
   },
   {
    "duration": 9,
    "start_time": "2023-02-03T06:27:08.436Z"
   },
   {
    "duration": 18,
    "start_time": "2023-02-03T06:27:08.446Z"
   },
   {
    "duration": 33,
    "start_time": "2023-02-03T06:27:08.466Z"
   },
   {
    "duration": 16,
    "start_time": "2023-02-03T06:27:08.502Z"
   },
   {
    "duration": 9,
    "start_time": "2023-02-03T06:27:08.520Z"
   },
   {
    "duration": 15,
    "start_time": "2023-02-03T06:27:08.531Z"
   },
   {
    "duration": 20,
    "start_time": "2023-02-03T06:27:08.547Z"
   },
   {
    "duration": 27,
    "start_time": "2023-02-03T06:27:08.569Z"
   },
   {
    "duration": 103,
    "start_time": "2023-02-03T06:27:08.598Z"
   },
   {
    "duration": 8,
    "start_time": "2023-02-03T06:27:08.703Z"
   },
   {
    "duration": 12,
    "start_time": "2023-02-03T06:27:08.714Z"
   },
   {
    "duration": 21,
    "start_time": "2023-02-03T06:27:08.728Z"
   },
   {
    "duration": 12,
    "start_time": "2023-02-03T06:27:08.750Z"
   },
   {
    "duration": 27,
    "start_time": "2023-02-03T06:27:08.764Z"
   },
   {
    "duration": 25,
    "start_time": "2023-02-03T06:27:08.793Z"
   },
   {
    "duration": 40,
    "start_time": "2023-02-03T06:27:08.820Z"
   },
   {
    "duration": 26,
    "start_time": "2023-02-03T06:27:08.862Z"
   },
   {
    "duration": 22,
    "start_time": "2023-02-03T06:27:08.890Z"
   },
   {
    "duration": 20,
    "start_time": "2023-02-03T06:27:08.914Z"
   },
   {
    "duration": 13,
    "start_time": "2023-02-03T06:27:08.935Z"
   },
   {
    "duration": 62,
    "start_time": "2023-02-03T06:27:08.949Z"
   },
   {
    "duration": 11,
    "start_time": "2023-02-03T06:27:09.013Z"
   },
   {
    "duration": 9,
    "start_time": "2023-02-03T06:27:09.026Z"
   },
   {
    "duration": 17,
    "start_time": "2023-02-03T06:27:09.040Z"
   },
   {
    "duration": 8,
    "start_time": "2023-02-03T06:27:09.060Z"
   },
   {
    "duration": 14,
    "start_time": "2023-02-03T06:27:09.070Z"
   },
   {
    "duration": 6,
    "start_time": "2023-02-03T06:27:09.087Z"
   },
   {
    "duration": 15,
    "start_time": "2023-02-03T06:27:09.095Z"
   },
   {
    "duration": 32,
    "start_time": "2023-02-03T06:27:09.113Z"
   },
   {
    "duration": 10,
    "start_time": "2023-02-03T06:27:09.146Z"
   },
   {
    "duration": 141,
    "start_time": "2023-02-03T06:27:09.185Z"
   },
   {
    "duration": 7,
    "start_time": "2023-02-03T06:27:09.327Z"
   },
   {
    "duration": 150,
    "start_time": "2023-02-03T06:27:09.336Z"
   },
   {
    "duration": 7,
    "start_time": "2023-02-03T06:27:09.489Z"
   },
   {
    "duration": 160,
    "start_time": "2023-02-03T06:27:09.498Z"
   },
   {
    "duration": 23,
    "start_time": "2023-02-03T06:27:09.661Z"
   },
   {
    "duration": 183,
    "start_time": "2023-02-03T06:27:09.688Z"
   },
   {
    "duration": 443,
    "start_time": "2023-02-03T06:27:09.873Z"
   },
   {
    "duration": 6,
    "start_time": "2023-02-03T06:27:10.318Z"
   },
   {
    "duration": 19,
    "start_time": "2023-02-03T06:27:10.326Z"
   },
   {
    "duration": 13,
    "start_time": "2023-02-03T06:27:10.347Z"
   },
   {
    "duration": 292,
    "start_time": "2023-02-03T06:27:10.362Z"
   },
   {
    "duration": 152,
    "start_time": "2023-02-03T06:27:10.657Z"
   },
   {
    "duration": 223,
    "start_time": "2023-02-03T06:27:10.811Z"
   },
   {
    "duration": 9,
    "start_time": "2023-02-03T06:27:11.036Z"
   },
   {
    "duration": 7,
    "start_time": "2023-02-03T06:27:11.047Z"
   },
   {
    "duration": 260,
    "start_time": "2023-02-03T06:27:11.056Z"
   },
   {
    "duration": 425,
    "start_time": "2023-02-03T06:27:11.318Z"
   },
   {
    "duration": 7,
    "start_time": "2023-02-03T06:27:11.744Z"
   },
   {
    "duration": 11,
    "start_time": "2023-02-03T06:27:11.753Z"
   },
   {
    "duration": 255,
    "start_time": "2023-02-03T06:27:11.766Z"
   },
   {
    "duration": 293,
    "start_time": "2023-02-03T06:27:12.024Z"
   },
   {
    "duration": 10,
    "start_time": "2023-02-03T06:27:12.319Z"
   },
   {
    "duration": 15,
    "start_time": "2023-02-03T06:27:12.331Z"
   },
   {
    "duration": 295,
    "start_time": "2023-02-03T06:27:12.347Z"
   },
   {
    "duration": 10,
    "start_time": "2023-02-03T06:27:12.644Z"
   },
   {
    "duration": 11,
    "start_time": "2023-02-03T06:27:12.655Z"
   },
   {
    "duration": 22,
    "start_time": "2023-02-03T06:27:12.669Z"
   },
   {
    "duration": 7,
    "start_time": "2023-02-03T06:27:12.693Z"
   },
   {
    "duration": 21,
    "start_time": "2023-02-03T06:27:12.702Z"
   },
   {
    "duration": 358,
    "start_time": "2023-02-03T06:27:12.726Z"
   },
   {
    "duration": 2251,
    "start_time": "2023-02-03T06:27:13.086Z"
   },
   {
    "duration": 7,
    "start_time": "2023-02-03T06:27:15.339Z"
   },
   {
    "duration": 386,
    "start_time": "2023-02-03T06:27:15.348Z"
   },
   {
    "duration": 460,
    "start_time": "2023-02-03T06:27:15.736Z"
   },
   {
    "duration": 25,
    "start_time": "2023-02-03T06:27:16.198Z"
   },
   {
    "duration": 6,
    "start_time": "2023-02-03T06:27:16.225Z"
   },
   {
    "duration": 20,
    "start_time": "2023-02-03T06:27:16.233Z"
   },
   {
    "duration": 31,
    "start_time": "2023-02-03T06:27:16.255Z"
   },
   {
    "duration": 142,
    "start_time": "2023-02-03T06:27:16.288Z"
   },
   {
    "duration": 6,
    "start_time": "2023-02-03T06:27:16.432Z"
   },
   {
    "duration": 22,
    "start_time": "2023-02-03T06:27:16.439Z"
   },
   {
    "duration": 22,
    "start_time": "2023-02-03T06:27:16.464Z"
   },
   {
    "duration": 566,
    "start_time": "2023-02-03T06:27:16.489Z"
   },
   {
    "duration": 386,
    "start_time": "2023-02-03T06:27:17.057Z"
   },
   {
    "duration": 234,
    "start_time": "2023-02-03T06:27:17.446Z"
   },
   {
    "duration": 12,
    "start_time": "2023-02-03T06:27:17.682Z"
   },
   {
    "duration": 0,
    "start_time": "2023-02-03T06:27:17.695Z"
   },
   {
    "duration": 0,
    "start_time": "2023-02-03T06:27:17.697Z"
   },
   {
    "duration": 0,
    "start_time": "2023-02-03T06:27:17.698Z"
   },
   {
    "duration": 0,
    "start_time": "2023-02-03T06:27:17.699Z"
   },
   {
    "duration": 0,
    "start_time": "2023-02-03T06:27:17.701Z"
   }
  ],
  "kernelspec": {
   "display_name": "Python 3 (ipykernel)",
   "language": "python",
   "name": "python3"
  },
  "language_info": {
   "codemirror_mode": {
    "name": "ipython",
    "version": 3
   },
   "file_extension": ".py",
   "mimetype": "text/x-python",
   "name": "python",
   "nbconvert_exporter": "python",
   "pygments_lexer": "ipython3",
   "version": "3.10.9"
  },
  "toc": {
   "base_numbering": 1,
   "nav_menu": {},
   "number_sections": true,
   "sideBar": true,
   "skip_h1_title": true,
   "title_cell": "Table of Contents",
   "title_sidebar": "Contents",
   "toc_cell": false,
   "toc_position": {},
   "toc_section_display": true,
   "toc_window_display": false
  }
 },
 "nbformat": 4,
 "nbformat_minor": 5
}
