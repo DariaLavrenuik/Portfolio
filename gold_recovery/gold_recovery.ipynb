{
 "cells": [
  {
   "cell_type": "markdown",
   "metadata": {
    "toc": true
   },
   "source": [
    "<h1>Содержание<span class=\"tocSkip\"></span></h1>\n",
    "<div class=\"toc\"><ul class=\"toc-item\"><li><span><a href=\"#Описание--данных\" data-toc-modified-id=\"Описание--данных-1\"><span class=\"toc-item-num\">1&nbsp;&nbsp;</span>Описание  данных</a></span></li><li><span><a href=\"#Загрузка-данных\" data-toc-modified-id=\"Загрузка-данных-2\"><span class=\"toc-item-num\">2&nbsp;&nbsp;</span>Загрузка данных</a></span></li><li><span><a href=\"#Изучение-данных\" data-toc-modified-id=\"Изучение-данных-3\"><span class=\"toc-item-num\">3&nbsp;&nbsp;</span>Изучение данных</a></span><ul class=\"toc-item\"><li><ul class=\"toc-item\"><li><span><a href=\"#Вывод-по-предобработке-data_full\" data-toc-modified-id=\"Вывод-по-предобработке-data_full-3.0.1\"><span class=\"toc-item-num\">3.0.1&nbsp;&nbsp;</span>Вывод по предобработке data_full</a></span></li><li><span><a href=\"#Вывод-по-предобработке-data_train\" data-toc-modified-id=\"Вывод-по-предобработке-data_train-3.0.2\"><span class=\"toc-item-num\">3.0.2&nbsp;&nbsp;</span>Вывод по предобработке data_train</a></span></li><li><span><a href=\"#Вывод-по-предобработке-data_test\" data-toc-modified-id=\"Вывод-по-предобработке-data_test-3.0.3\"><span class=\"toc-item-num\">3.0.3&nbsp;&nbsp;</span>Вывод по предобработке data_test</a></span></li></ul></li><li><span><a href=\"#1.2.-Проверьте,-что-эффективность-обогащения-рассчитана-правильно.-Вычислите-её-на-обучающей-выборке-для-признака-rougher.output.recovery.-Найдите-MAE-между-вашими-расчётами-и-значением-признака.-Опишите-выводы.\" data-toc-modified-id=\"1.2.-Проверьте,-что-эффективность-обогащения-рассчитана-правильно.-Вычислите-её-на-обучающей-выборке-для-признака-rougher.output.recovery.-Найдите-MAE-между-вашими-расчётами-и-значением-признака.-Опишите-выводы.-3.1\"><span class=\"toc-item-num\">3.1&nbsp;&nbsp;</span>1.2. Проверьте, что эффективность обогащения рассчитана правильно. Вычислите её на обучающей выборке для признака rougher.output.recovery. Найдите MAE между вашими расчётами и значением признака. Опишите выводы.</a></span><ul class=\"toc-item\"><li><span><a href=\"#Вывод-по-подготовке-данных\" data-toc-modified-id=\"Вывод-по-подготовке-данных-3.1.1\"><span class=\"toc-item-num\">3.1.1&nbsp;&nbsp;</span>Вывод по подготовке данных</a></span></li></ul></li></ul></li><li><span><a href=\"#Анализ-данных\" data-toc-modified-id=\"Анализ-данных-4\"><span class=\"toc-item-num\">4&nbsp;&nbsp;</span>Анализ данных</a></span><ul class=\"toc-item\"><li><span><a href=\"#Посмотрите,-как-меняется-концентрация-металлов-(Au,-Ag,-Pb)-на-различных-этапах-очистки.-Опишите-выводы.\" data-toc-modified-id=\"Посмотрите,-как-меняется-концентрация-металлов-(Au,-Ag,-Pb)-на-различных-этапах-очистки.-Опишите-выводы.-4.1\"><span class=\"toc-item-num\">4.1&nbsp;&nbsp;</span>Посмотрите, как меняется концентрация металлов (Au, Ag, Pb) на различных этапах очистки. Опишите выводы.</a></span></li><li><span><a href=\"#2.2.-Сравните-распределения-размеров-гранул-сырья-на-обучающей-и-тестовой-выборках.-Если-распределения-сильно-отличаются-друг-от-друга,-оценка-модели-будет-неправильной.\" data-toc-modified-id=\"2.2.-Сравните-распределения-размеров-гранул-сырья-на-обучающей-и-тестовой-выборках.-Если-распределения-сильно-отличаются-друг-от-друга,-оценка-модели-будет-неправильной.-4.2\"><span class=\"toc-item-num\">4.2&nbsp;&nbsp;</span>2.2. Сравните распределения размеров гранул сырья на обучающей и тестовой выборках. Если распределения сильно отличаются друг от друга, оценка модели будет неправильной.</a></span></li><li><span><a href=\"#2.3.-Исследуйте-суммарную-концентрацию-всех-веществ-на-разных-стадиях:-в-сырье,-в-черновом-и-финальном-концентратах.\" data-toc-modified-id=\"2.3.-Исследуйте-суммарную-концентрацию-всех-веществ-на-разных-стадиях:-в-сырье,-в-черновом-и-финальном-концентратах.-4.3\"><span class=\"toc-item-num\">4.3&nbsp;&nbsp;</span>2.3. Исследуйте суммарную концентрацию всех веществ на разных стадиях: в сырье, в черновом и финальном концентратах.</a></span><ul class=\"toc-item\"><li><span><a href=\"#Вывод\" data-toc-modified-id=\"Вывод-4.3.1\"><span class=\"toc-item-num\">4.3.1&nbsp;&nbsp;</span>Вывод</a></span></li><li><span><a href=\"#Общий-Вывод-по-анализу-данных\" data-toc-modified-id=\"Общий-Вывод-по-анализу-данных-4.3.2\"><span class=\"toc-item-num\">4.3.2&nbsp;&nbsp;</span>Общий Вывод по анализу данных</a></span></li></ul></li></ul></li><li><span><a href=\"#Модель\" data-toc-modified-id=\"Модель-5\"><span class=\"toc-item-num\">5&nbsp;&nbsp;</span>Модель</a></span><ul class=\"toc-item\"><li><span><a href=\"#3.1.-Напишим-функцию-для-вычисления-итоговой-sMAPE.\" data-toc-modified-id=\"3.1.-Напишим-функцию-для-вычисления-итоговой-sMAPE.-5.1\"><span class=\"toc-item-num\">5.1&nbsp;&nbsp;</span>3.1. Напишим функцию для вычисления итоговой sMAPE.</a></span></li><li><span><a href=\"#3.2.-Обучите-разные-модели-и-оцените-их-качество-кросс-валидацией.-Выберите-лучшую-модель-и-проверьте-её-на-тестовой-выборке.-Опишите-выводы.\" data-toc-modified-id=\"3.2.-Обучите-разные-модели-и-оцените-их-качество-кросс-валидацией.-Выберите-лучшую-модель-и-проверьте-её-на-тестовой-выборке.-Опишите-выводы.-5.2\"><span class=\"toc-item-num\">5.2&nbsp;&nbsp;</span>3.2. Обучите разные модели и оцените их качество кросс-валидацией. Выберите лучшую модель и проверьте её на тестовой выборке. Опишите выводы.</a></span><ul class=\"toc-item\"><li><span><a href=\"#Линейная-регрессия.\" data-toc-modified-id=\"Линейная-регрессия.-5.2.1\"><span class=\"toc-item-num\">5.2.1&nbsp;&nbsp;</span>Линейная регрессия.</a></span></li><li><span><a href=\"#Дерево-решений.\" data-toc-modified-id=\"Дерево-решений.-5.2.2\"><span class=\"toc-item-num\">5.2.2&nbsp;&nbsp;</span>Дерево решений.</a></span></li><li><span><a href=\"#Случайный-лес\" data-toc-modified-id=\"Случайный-лес-5.2.3\"><span class=\"toc-item-num\">5.2.3&nbsp;&nbsp;</span>Случайный лес</a></span></li><li><span><a href=\"#Градиентный-бустинг\" data-toc-modified-id=\"Градиентный-бустинг-5.2.4\"><span class=\"toc-item-num\">5.2.4&nbsp;&nbsp;</span>Градиентный бустинг</a></span></li><li><span><a href=\"#Вывод\" data-toc-modified-id=\"Вывод-5.2.5\"><span class=\"toc-item-num\">5.2.5&nbsp;&nbsp;</span>Вывод</a></span></li></ul></li><li><span><a href=\"#Выводы\" data-toc-modified-id=\"Выводы-5.3\"><span class=\"toc-item-num\">5.3&nbsp;&nbsp;</span>Выводы</a></span></li></ul></li><li><span><a href=\"#Чек-лист-готовности-проекта\" data-toc-modified-id=\"Чек-лист-готовности-проекта-6\"><span class=\"toc-item-num\">6&nbsp;&nbsp;</span>Чек-лист готовности проекта</a></span></li></ul></div>"
   ]
  },
  {
   "cell_type": "markdown",
   "metadata": {},
   "source": [
    "# Восстановление золота из руды"
   ]
  },
  {
   "cell_type": "markdown",
   "metadata": {},
   "source": [
    "Подготовьте прототип модели машинного обучения для «Цифры». Компания разрабатывает решения для эффективной работы промышленных предприятий.\n",
    "\n",
    "Модель должна предсказать коэффициент восстановления золота из золотосодержащей руды. Используйте данные с параметрами добычи и очистки. \n",
    "\n",
    "Модель поможет оптимизировать производство, чтобы не запускать предприятие с убыточными характеристиками.\n",
    "\n",
    "Вам нужно:\n",
    "\n",
    "1. Подготовить данные;\n",
    "2. Провести исследовательский анализ данных;\n",
    "3. Построить и обучить модель."
   ]
  },
  {
   "cell_type": "markdown",
   "metadata": {},
   "source": [
    "## Описание  данных"
   ]
  },
  {
   "cell_type": "markdown",
   "metadata": {},
   "source": [
    "Данные находятся в трёх файлах:\n",
    "\n",
    "gold_recovery_train_new.csv — обучающая выборка;\n",
    "\n",
    "gold_recovery_test_new.csv — тестовая выборка;\n",
    "\n",
    "gold_recovery_full_new.csv — исходные данные.\n",
    "\n",
    "Данные индексируются датой и временем получения информации (признак date). Соседние по времени параметры часто похожи.\n",
    "\n",
    "Некоторые параметры недоступны, потому что замеряются и/или рассчитываются значительно позже. Из-за этого в тестовой выборке отсутствуют некоторые признаки, которые могут быть в обучающей. Также в тестовом наборе нет целевых признаков.\n",
    "\n",
    "Исходный датасет содержит обучающую и тестовую выборки со всеми признаками.\n",
    "В вашем распоряжении сырые данные: их просто выгрузили из хранилища."
   ]
  },
  {
   "cell_type": "markdown",
   "metadata": {},
   "source": [
    "## Загрузка данных"
   ]
  },
  {
   "cell_type": "code",
   "execution_count": 1,
   "metadata": {},
   "outputs": [],
   "source": [
    "import pandas as pd\n",
    "import numpy as np\n",
    "import scipy.stats as st\n",
    "import matplotlib.pyplot as plt\n",
    "import seaborn as sns\n",
    "\n",
    "import plotly.express as px\n",
    "import plotly.graph_objs as go\n",
    "from plotly.subplots import make_subplots\n",
    "import plotly.io as pio\n",
    "\n",
    "from sklearn.linear_model import LinearRegression\n",
    "from sklearn.tree import DecisionTreeRegressor\n",
    "from sklearn.ensemble import RandomForestRegressor, GradientBoostingRegressor\n",
    "from sklearn.model_selection import train_test_split, cross_val_score, cross_val_predict\n",
    "from sklearn.dummy import DummyRegressor\n",
    "from sklearn.metrics import mean_absolute_error\n",
    "\n",
    "pd.options.mode.chained_assignment = None"
   ]
  },
  {
   "cell_type": "markdown",
   "metadata": {},
   "source": [
    "## Изучение данных"
   ]
  },
  {
   "cell_type": "markdown",
   "metadata": {},
   "source": [
    "1.1. Откройте файлы и изучите их."
   ]
  },
  {
   "cell_type": "code",
   "execution_count": 2,
   "metadata": {},
   "outputs": [],
   "source": [
    "data_train = pd.read_csv('gold_recovery_train_new.csv') # обучающая выборка\n",
    "data_test = pd.read_csv('gold_recovery_test_new.csv') # тестовая выборка\n",
    "data_full = pd.read_csv('gold_recovery_full_new.csv') # исходные данные"
   ]
  },
  {
   "cell_type": "markdown",
   "metadata": {},
   "source": [
    "Посмотрим на исходные данные data_full"
   ]
  },
  {
   "cell_type": "code",
   "execution_count": 3,
   "metadata": {},
   "outputs": [
    {
     "data": {
      "text/html": [
       "<div>\n",
       "<style scoped>\n",
       "    .dataframe tbody tr th:only-of-type {\n",
       "        vertical-align: middle;\n",
       "    }\n",
       "\n",
       "    .dataframe tbody tr th {\n",
       "        vertical-align: top;\n",
       "    }\n",
       "\n",
       "    .dataframe thead th {\n",
       "        text-align: right;\n",
       "    }\n",
       "</style>\n",
       "<table border=\"1\" class=\"dataframe\">\n",
       "  <thead>\n",
       "    <tr style=\"text-align: right;\">\n",
       "      <th></th>\n",
       "      <th>date</th>\n",
       "      <th>final.output.concentrate_ag</th>\n",
       "      <th>final.output.concentrate_pb</th>\n",
       "      <th>final.output.concentrate_sol</th>\n",
       "      <th>final.output.concentrate_au</th>\n",
       "      <th>final.output.recovery</th>\n",
       "      <th>final.output.tail_ag</th>\n",
       "      <th>final.output.tail_pb</th>\n",
       "      <th>final.output.tail_sol</th>\n",
       "      <th>final.output.tail_au</th>\n",
       "      <th>...</th>\n",
       "      <th>secondary_cleaner.state.floatbank4_a_air</th>\n",
       "      <th>secondary_cleaner.state.floatbank4_a_level</th>\n",
       "      <th>secondary_cleaner.state.floatbank4_b_air</th>\n",
       "      <th>secondary_cleaner.state.floatbank4_b_level</th>\n",
       "      <th>secondary_cleaner.state.floatbank5_a_air</th>\n",
       "      <th>secondary_cleaner.state.floatbank5_a_level</th>\n",
       "      <th>secondary_cleaner.state.floatbank5_b_air</th>\n",
       "      <th>secondary_cleaner.state.floatbank5_b_level</th>\n",
       "      <th>secondary_cleaner.state.floatbank6_a_air</th>\n",
       "      <th>secondary_cleaner.state.floatbank6_a_level</th>\n",
       "    </tr>\n",
       "  </thead>\n",
       "  <tbody>\n",
       "    <tr>\n",
       "      <th>0</th>\n",
       "      <td>2016-01-15 00:00:00</td>\n",
       "      <td>6.055403</td>\n",
       "      <td>9.889648</td>\n",
       "      <td>5.507324</td>\n",
       "      <td>42.192020</td>\n",
       "      <td>70.541216</td>\n",
       "      <td>10.411962</td>\n",
       "      <td>0.895447</td>\n",
       "      <td>16.904297</td>\n",
       "      <td>2.143149</td>\n",
       "      <td>...</td>\n",
       "      <td>14.016835</td>\n",
       "      <td>-502.488007</td>\n",
       "      <td>12.099931</td>\n",
       "      <td>-504.715942</td>\n",
       "      <td>9.925633</td>\n",
       "      <td>-498.310211</td>\n",
       "      <td>8.079666</td>\n",
       "      <td>-500.470978</td>\n",
       "      <td>14.151341</td>\n",
       "      <td>-605.841980</td>\n",
       "    </tr>\n",
       "    <tr>\n",
       "      <th>1</th>\n",
       "      <td>2016-01-15 01:00:00</td>\n",
       "      <td>6.029369</td>\n",
       "      <td>9.968944</td>\n",
       "      <td>5.257781</td>\n",
       "      <td>42.701629</td>\n",
       "      <td>69.266198</td>\n",
       "      <td>10.462676</td>\n",
       "      <td>0.927452</td>\n",
       "      <td>16.634514</td>\n",
       "      <td>2.224930</td>\n",
       "      <td>...</td>\n",
       "      <td>13.992281</td>\n",
       "      <td>-505.503262</td>\n",
       "      <td>11.950531</td>\n",
       "      <td>-501.331529</td>\n",
       "      <td>10.039245</td>\n",
       "      <td>-500.169983</td>\n",
       "      <td>7.984757</td>\n",
       "      <td>-500.582168</td>\n",
       "      <td>13.998353</td>\n",
       "      <td>-599.787184</td>\n",
       "    </tr>\n",
       "    <tr>\n",
       "      <th>2</th>\n",
       "      <td>2016-01-15 02:00:00</td>\n",
       "      <td>6.055926</td>\n",
       "      <td>10.213995</td>\n",
       "      <td>5.383759</td>\n",
       "      <td>42.657501</td>\n",
       "      <td>68.116445</td>\n",
       "      <td>10.507046</td>\n",
       "      <td>0.953716</td>\n",
       "      <td>16.208849</td>\n",
       "      <td>2.257889</td>\n",
       "      <td>...</td>\n",
       "      <td>14.015015</td>\n",
       "      <td>-502.520901</td>\n",
       "      <td>11.912783</td>\n",
       "      <td>-501.133383</td>\n",
       "      <td>10.070913</td>\n",
       "      <td>-500.129135</td>\n",
       "      <td>8.013877</td>\n",
       "      <td>-500.517572</td>\n",
       "      <td>14.028663</td>\n",
       "      <td>-601.427363</td>\n",
       "    </tr>\n",
       "    <tr>\n",
       "      <th>3</th>\n",
       "      <td>2016-01-15 03:00:00</td>\n",
       "      <td>6.047977</td>\n",
       "      <td>9.977019</td>\n",
       "      <td>4.858634</td>\n",
       "      <td>42.689819</td>\n",
       "      <td>68.347543</td>\n",
       "      <td>10.422762</td>\n",
       "      <td>0.883763</td>\n",
       "      <td>16.532835</td>\n",
       "      <td>2.146849</td>\n",
       "      <td>...</td>\n",
       "      <td>14.036510</td>\n",
       "      <td>-500.857308</td>\n",
       "      <td>11.999550</td>\n",
       "      <td>-501.193686</td>\n",
       "      <td>9.970366</td>\n",
       "      <td>-499.201640</td>\n",
       "      <td>7.977324</td>\n",
       "      <td>-500.255908</td>\n",
       "      <td>14.005551</td>\n",
       "      <td>-599.996129</td>\n",
       "    </tr>\n",
       "    <tr>\n",
       "      <th>4</th>\n",
       "      <td>2016-01-15 04:00:00</td>\n",
       "      <td>6.148599</td>\n",
       "      <td>10.142511</td>\n",
       "      <td>4.939416</td>\n",
       "      <td>42.774141</td>\n",
       "      <td>66.927016</td>\n",
       "      <td>10.360302</td>\n",
       "      <td>0.792826</td>\n",
       "      <td>16.525686</td>\n",
       "      <td>2.055292</td>\n",
       "      <td>...</td>\n",
       "      <td>14.027298</td>\n",
       "      <td>-499.838632</td>\n",
       "      <td>11.953070</td>\n",
       "      <td>-501.053894</td>\n",
       "      <td>9.925709</td>\n",
       "      <td>-501.686727</td>\n",
       "      <td>7.894242</td>\n",
       "      <td>-500.356035</td>\n",
       "      <td>13.996647</td>\n",
       "      <td>-601.496691</td>\n",
       "    </tr>\n",
       "  </tbody>\n",
       "</table>\n",
       "<p>5 rows × 87 columns</p>\n",
       "</div>"
      ],
      "text/plain": [
       "                  date  final.output.concentrate_ag  \\\n",
       "0  2016-01-15 00:00:00                     6.055403   \n",
       "1  2016-01-15 01:00:00                     6.029369   \n",
       "2  2016-01-15 02:00:00                     6.055926   \n",
       "3  2016-01-15 03:00:00                     6.047977   \n",
       "4  2016-01-15 04:00:00                     6.148599   \n",
       "\n",
       "   final.output.concentrate_pb  final.output.concentrate_sol  \\\n",
       "0                     9.889648                      5.507324   \n",
       "1                     9.968944                      5.257781   \n",
       "2                    10.213995                      5.383759   \n",
       "3                     9.977019                      4.858634   \n",
       "4                    10.142511                      4.939416   \n",
       "\n",
       "   final.output.concentrate_au  final.output.recovery  final.output.tail_ag  \\\n",
       "0                    42.192020              70.541216             10.411962   \n",
       "1                    42.701629              69.266198             10.462676   \n",
       "2                    42.657501              68.116445             10.507046   \n",
       "3                    42.689819              68.347543             10.422762   \n",
       "4                    42.774141              66.927016             10.360302   \n",
       "\n",
       "   final.output.tail_pb  final.output.tail_sol  final.output.tail_au  ...  \\\n",
       "0              0.895447              16.904297              2.143149  ...   \n",
       "1              0.927452              16.634514              2.224930  ...   \n",
       "2              0.953716              16.208849              2.257889  ...   \n",
       "3              0.883763              16.532835              2.146849  ...   \n",
       "4              0.792826              16.525686              2.055292  ...   \n",
       "\n",
       "   secondary_cleaner.state.floatbank4_a_air  \\\n",
       "0                                 14.016835   \n",
       "1                                 13.992281   \n",
       "2                                 14.015015   \n",
       "3                                 14.036510   \n",
       "4                                 14.027298   \n",
       "\n",
       "   secondary_cleaner.state.floatbank4_a_level  \\\n",
       "0                                 -502.488007   \n",
       "1                                 -505.503262   \n",
       "2                                 -502.520901   \n",
       "3                                 -500.857308   \n",
       "4                                 -499.838632   \n",
       "\n",
       "   secondary_cleaner.state.floatbank4_b_air  \\\n",
       "0                                 12.099931   \n",
       "1                                 11.950531   \n",
       "2                                 11.912783   \n",
       "3                                 11.999550   \n",
       "4                                 11.953070   \n",
       "\n",
       "   secondary_cleaner.state.floatbank4_b_level  \\\n",
       "0                                 -504.715942   \n",
       "1                                 -501.331529   \n",
       "2                                 -501.133383   \n",
       "3                                 -501.193686   \n",
       "4                                 -501.053894   \n",
       "\n",
       "   secondary_cleaner.state.floatbank5_a_air  \\\n",
       "0                                  9.925633   \n",
       "1                                 10.039245   \n",
       "2                                 10.070913   \n",
       "3                                  9.970366   \n",
       "4                                  9.925709   \n",
       "\n",
       "   secondary_cleaner.state.floatbank5_a_level  \\\n",
       "0                                 -498.310211   \n",
       "1                                 -500.169983   \n",
       "2                                 -500.129135   \n",
       "3                                 -499.201640   \n",
       "4                                 -501.686727   \n",
       "\n",
       "   secondary_cleaner.state.floatbank5_b_air  \\\n",
       "0                                  8.079666   \n",
       "1                                  7.984757   \n",
       "2                                  8.013877   \n",
       "3                                  7.977324   \n",
       "4                                  7.894242   \n",
       "\n",
       "   secondary_cleaner.state.floatbank5_b_level  \\\n",
       "0                                 -500.470978   \n",
       "1                                 -500.582168   \n",
       "2                                 -500.517572   \n",
       "3                                 -500.255908   \n",
       "4                                 -500.356035   \n",
       "\n",
       "   secondary_cleaner.state.floatbank6_a_air  \\\n",
       "0                                 14.151341   \n",
       "1                                 13.998353   \n",
       "2                                 14.028663   \n",
       "3                                 14.005551   \n",
       "4                                 13.996647   \n",
       "\n",
       "   secondary_cleaner.state.floatbank6_a_level  \n",
       "0                                 -605.841980  \n",
       "1                                 -599.787184  \n",
       "2                                 -601.427363  \n",
       "3                                 -599.996129  \n",
       "4                                 -601.496691  \n",
       "\n",
       "[5 rows x 87 columns]"
      ]
     },
     "execution_count": 3,
     "metadata": {},
     "output_type": "execute_result"
    }
   ],
   "source": [
    "data_full.head(5)"
   ]
  },
  {
   "cell_type": "code",
   "execution_count": 4,
   "metadata": {},
   "outputs": [
    {
     "name": "stdout",
     "output_type": "stream",
     "text": [
      "<class 'pandas.core.frame.DataFrame'>\n",
      "RangeIndex: 19439 entries, 0 to 19438\n",
      "Data columns (total 87 columns):\n",
      " #   Column                                              Non-Null Count  Dtype  \n",
      "---  ------                                              --------------  -----  \n",
      " 0   date                                                19439 non-null  object \n",
      " 1   final.output.concentrate_ag                         19438 non-null  float64\n",
      " 2   final.output.concentrate_pb                         19438 non-null  float64\n",
      " 3   final.output.concentrate_sol                        19228 non-null  float64\n",
      " 4   final.output.concentrate_au                         19439 non-null  float64\n",
      " 5   final.output.recovery                               19439 non-null  float64\n",
      " 6   final.output.tail_ag                                19438 non-null  float64\n",
      " 7   final.output.tail_pb                                19338 non-null  float64\n",
      " 8   final.output.tail_sol                               19433 non-null  float64\n",
      " 9   final.output.tail_au                                19439 non-null  float64\n",
      " 10  primary_cleaner.input.sulfate                       19415 non-null  float64\n",
      " 11  primary_cleaner.input.depressant                    19402 non-null  float64\n",
      " 12  primary_cleaner.input.feed_size                     19439 non-null  float64\n",
      " 13  primary_cleaner.input.xanthate                      19335 non-null  float64\n",
      " 14  primary_cleaner.output.concentrate_ag               19439 non-null  float64\n",
      " 15  primary_cleaner.output.concentrate_pb               19323 non-null  float64\n",
      " 16  primary_cleaner.output.concentrate_sol              19069 non-null  float64\n",
      " 17  primary_cleaner.output.concentrate_au               19439 non-null  float64\n",
      " 18  primary_cleaner.output.tail_ag                      19435 non-null  float64\n",
      " 19  primary_cleaner.output.tail_pb                      19418 non-null  float64\n",
      " 20  primary_cleaner.output.tail_sol                     19377 non-null  float64\n",
      " 21  primary_cleaner.output.tail_au                      19439 non-null  float64\n",
      " 22  primary_cleaner.state.floatbank8_a_air              19435 non-null  float64\n",
      " 23  primary_cleaner.state.floatbank8_a_level            19438 non-null  float64\n",
      " 24  primary_cleaner.state.floatbank8_b_air              19435 non-null  float64\n",
      " 25  primary_cleaner.state.floatbank8_b_level            19438 non-null  float64\n",
      " 26  primary_cleaner.state.floatbank8_c_air              19437 non-null  float64\n",
      " 27  primary_cleaner.state.floatbank8_c_level            19438 non-null  float64\n",
      " 28  primary_cleaner.state.floatbank8_d_air              19436 non-null  float64\n",
      " 29  primary_cleaner.state.floatbank8_d_level            19438 non-null  float64\n",
      " 30  rougher.calculation.sulfate_to_au_concentrate       19437 non-null  float64\n",
      " 31  rougher.calculation.floatbank10_sulfate_to_au_feed  19437 non-null  float64\n",
      " 32  rougher.calculation.floatbank11_sulfate_to_au_feed  19437 non-null  float64\n",
      " 33  rougher.calculation.au_pb_ratio                     19439 non-null  float64\n",
      " 34  rougher.input.feed_ag                               19439 non-null  float64\n",
      " 35  rougher.input.feed_pb                               19339 non-null  float64\n",
      " 36  rougher.input.feed_rate                             19428 non-null  float64\n",
      " 37  rougher.input.feed_size                             19294 non-null  float64\n",
      " 38  rougher.input.feed_sol                              19340 non-null  float64\n",
      " 39  rougher.input.feed_au                               19439 non-null  float64\n",
      " 40  rougher.input.floatbank10_sulfate                   19405 non-null  float64\n",
      " 41  rougher.input.floatbank10_xanthate                  19431 non-null  float64\n",
      " 42  rougher.input.floatbank11_sulfate                   19395 non-null  float64\n",
      " 43  rougher.input.floatbank11_xanthate                  18986 non-null  float64\n",
      " 44  rougher.output.concentrate_ag                       19439 non-null  float64\n",
      " 45  rougher.output.concentrate_pb                       19439 non-null  float64\n",
      " 46  rougher.output.concentrate_sol                      19416 non-null  float64\n",
      " 47  rougher.output.concentrate_au                       19439 non-null  float64\n",
      " 48  rougher.output.recovery                             19439 non-null  float64\n",
      " 49  rougher.output.tail_ag                              19438 non-null  float64\n",
      " 50  rougher.output.tail_pb                              19439 non-null  float64\n",
      " 51  rougher.output.tail_sol                             19439 non-null  float64\n",
      " 52  rougher.output.tail_au                              19439 non-null  float64\n",
      " 53  rougher.state.floatbank10_a_air                     19438 non-null  float64\n",
      " 54  rougher.state.floatbank10_a_level                   19438 non-null  float64\n",
      " 55  rougher.state.floatbank10_b_air                     19438 non-null  float64\n",
      " 56  rougher.state.floatbank10_b_level                   19438 non-null  float64\n",
      " 57  rougher.state.floatbank10_c_air                     19438 non-null  float64\n",
      " 58  rougher.state.floatbank10_c_level                   19438 non-null  float64\n",
      " 59  rougher.state.floatbank10_d_air                     19439 non-null  float64\n",
      " 60  rougher.state.floatbank10_d_level                   19439 non-null  float64\n",
      " 61  rougher.state.floatbank10_e_air                     19003 non-null  float64\n",
      " 62  rougher.state.floatbank10_e_level                   19439 non-null  float64\n",
      " 63  rougher.state.floatbank10_f_air                     19439 non-null  float64\n",
      " 64  rougher.state.floatbank10_f_level                   19439 non-null  float64\n",
      " 65  secondary_cleaner.output.tail_ag                    19437 non-null  float64\n",
      " 66  secondary_cleaner.output.tail_pb                    19427 non-null  float64\n",
      " 67  secondary_cleaner.output.tail_sol                   17691 non-null  float64\n",
      " 68  secondary_cleaner.output.tail_au                    19439 non-null  float64\n",
      " 69  secondary_cleaner.state.floatbank2_a_air            19219 non-null  float64\n",
      " 70  secondary_cleaner.state.floatbank2_a_level          19438 non-null  float64\n",
      " 71  secondary_cleaner.state.floatbank2_b_air            19416 non-null  float64\n",
      " 72  secondary_cleaner.state.floatbank2_b_level          19438 non-null  float64\n",
      " 73  secondary_cleaner.state.floatbank3_a_air            19426 non-null  float64\n",
      " 74  secondary_cleaner.state.floatbank3_a_level          19438 non-null  float64\n",
      " 75  secondary_cleaner.state.floatbank3_b_air            19438 non-null  float64\n",
      " 76  secondary_cleaner.state.floatbank3_b_level          19438 non-null  float64\n",
      " 77  secondary_cleaner.state.floatbank4_a_air            19433 non-null  float64\n",
      " 78  secondary_cleaner.state.floatbank4_a_level          19438 non-null  float64\n",
      " 79  secondary_cleaner.state.floatbank4_b_air            19438 non-null  float64\n",
      " 80  secondary_cleaner.state.floatbank4_b_level          19438 non-null  float64\n",
      " 81  secondary_cleaner.state.floatbank5_a_air            19438 non-null  float64\n",
      " 82  secondary_cleaner.state.floatbank5_a_level          19438 non-null  float64\n",
      " 83  secondary_cleaner.state.floatbank5_b_air            19438 non-null  float64\n",
      " 84  secondary_cleaner.state.floatbank5_b_level          19438 non-null  float64\n",
      " 85  secondary_cleaner.state.floatbank6_a_air            19437 non-null  float64\n",
      " 86  secondary_cleaner.state.floatbank6_a_level          19438 non-null  float64\n",
      "dtypes: float64(86), object(1)\n",
      "memory usage: 12.9+ MB\n"
     ]
    }
   ],
   "source": [
    "data_full.info()"
   ]
  },
  {
   "cell_type": "code",
   "execution_count": 5,
   "metadata": {},
   "outputs": [],
   "source": [
    "data_full['date'] = pd.to_datetime(data_full['date'], format = '%Y-%m-%dT%H:%M:%S')"
   ]
  },
  {
   "cell_type": "code",
   "execution_count": 6,
   "metadata": {},
   "outputs": [
    {
     "data": {
      "text/plain": [
       "date                                            0\n",
       "final.output.concentrate_ag                     1\n",
       "final.output.concentrate_pb                     1\n",
       "final.output.concentrate_sol                  211\n",
       "final.output.concentrate_au                     0\n",
       "                                             ... \n",
       "secondary_cleaner.state.floatbank5_a_level      1\n",
       "secondary_cleaner.state.floatbank5_b_air        1\n",
       "secondary_cleaner.state.floatbank5_b_level      1\n",
       "secondary_cleaner.state.floatbank6_a_air        2\n",
       "secondary_cleaner.state.floatbank6_a_level      1\n",
       "Length: 87, dtype: int64"
      ]
     },
     "execution_count": 6,
     "metadata": {},
     "output_type": "execute_result"
    }
   ],
   "source": [
    "data_full.isna().sum()"
   ]
  },
  {
   "cell_type": "markdown",
   "metadata": {},
   "source": [
    "В таблице есть несущественное количество пропусков, удалим их, это не повлияет на дальнейший анализ данных."
   ]
  },
  {
   "cell_type": "code",
   "execution_count": 7,
   "metadata": {},
   "outputs": [
    {
     "data": {
      "text/plain": [
       "(16094, 87)"
      ]
     },
     "execution_count": 7,
     "metadata": {},
     "output_type": "execute_result"
    }
   ],
   "source": [
    "data_full.dropna().shape"
   ]
  },
  {
   "cell_type": "code",
   "execution_count": 8,
   "metadata": {
    "scrolled": true
   },
   "outputs": [
    {
     "name": "stdout",
     "output_type": "stream",
     "text": [
      "Количество дубликатов: 0\n"
     ]
    }
   ],
   "source": [
    "print (\"Количество дубликатов:\", data_full.duplicated().sum())"
   ]
  },
  {
   "cell_type": "markdown",
   "metadata": {},
   "source": [
    "#### Вывод по предобработке data_full\n",
    "- Полных дубликатов не обнаружено\n",
    "- Пропуски удалены\n",
    "- Преобразован формат даты"
   ]
  },
  {
   "cell_type": "markdown",
   "metadata": {},
   "source": [
    "Посмоторим на обучающую выборку data_train"
   ]
  },
  {
   "cell_type": "code",
   "execution_count": 9,
   "metadata": {},
   "outputs": [
    {
     "data": {
      "text/html": [
       "<div>\n",
       "<style scoped>\n",
       "    .dataframe tbody tr th:only-of-type {\n",
       "        vertical-align: middle;\n",
       "    }\n",
       "\n",
       "    .dataframe tbody tr th {\n",
       "        vertical-align: top;\n",
       "    }\n",
       "\n",
       "    .dataframe thead th {\n",
       "        text-align: right;\n",
       "    }\n",
       "</style>\n",
       "<table border=\"1\" class=\"dataframe\">\n",
       "  <thead>\n",
       "    <tr style=\"text-align: right;\">\n",
       "      <th></th>\n",
       "      <th>date</th>\n",
       "      <th>final.output.concentrate_ag</th>\n",
       "      <th>final.output.concentrate_pb</th>\n",
       "      <th>final.output.concentrate_sol</th>\n",
       "      <th>final.output.concentrate_au</th>\n",
       "      <th>final.output.recovery</th>\n",
       "      <th>final.output.tail_ag</th>\n",
       "      <th>final.output.tail_pb</th>\n",
       "      <th>final.output.tail_sol</th>\n",
       "      <th>final.output.tail_au</th>\n",
       "      <th>...</th>\n",
       "      <th>secondary_cleaner.state.floatbank4_a_air</th>\n",
       "      <th>secondary_cleaner.state.floatbank4_a_level</th>\n",
       "      <th>secondary_cleaner.state.floatbank4_b_air</th>\n",
       "      <th>secondary_cleaner.state.floatbank4_b_level</th>\n",
       "      <th>secondary_cleaner.state.floatbank5_a_air</th>\n",
       "      <th>secondary_cleaner.state.floatbank5_a_level</th>\n",
       "      <th>secondary_cleaner.state.floatbank5_b_air</th>\n",
       "      <th>secondary_cleaner.state.floatbank5_b_level</th>\n",
       "      <th>secondary_cleaner.state.floatbank6_a_air</th>\n",
       "      <th>secondary_cleaner.state.floatbank6_a_level</th>\n",
       "    </tr>\n",
       "  </thead>\n",
       "  <tbody>\n",
       "    <tr>\n",
       "      <th>0</th>\n",
       "      <td>2016-01-15 00:00:00</td>\n",
       "      <td>6.055403</td>\n",
       "      <td>9.889648</td>\n",
       "      <td>5.507324</td>\n",
       "      <td>42.192020</td>\n",
       "      <td>70.541216</td>\n",
       "      <td>10.411962</td>\n",
       "      <td>0.895447</td>\n",
       "      <td>16.904297</td>\n",
       "      <td>2.143149</td>\n",
       "      <td>...</td>\n",
       "      <td>14.016835</td>\n",
       "      <td>-502.488007</td>\n",
       "      <td>12.099931</td>\n",
       "      <td>-504.715942</td>\n",
       "      <td>9.925633</td>\n",
       "      <td>-498.310211</td>\n",
       "      <td>8.079666</td>\n",
       "      <td>-500.470978</td>\n",
       "      <td>14.151341</td>\n",
       "      <td>-605.841980</td>\n",
       "    </tr>\n",
       "    <tr>\n",
       "      <th>1</th>\n",
       "      <td>2016-01-15 01:00:00</td>\n",
       "      <td>6.029369</td>\n",
       "      <td>9.968944</td>\n",
       "      <td>5.257781</td>\n",
       "      <td>42.701629</td>\n",
       "      <td>69.266198</td>\n",
       "      <td>10.462676</td>\n",
       "      <td>0.927452</td>\n",
       "      <td>16.634514</td>\n",
       "      <td>2.224930</td>\n",
       "      <td>...</td>\n",
       "      <td>13.992281</td>\n",
       "      <td>-505.503262</td>\n",
       "      <td>11.950531</td>\n",
       "      <td>-501.331529</td>\n",
       "      <td>10.039245</td>\n",
       "      <td>-500.169983</td>\n",
       "      <td>7.984757</td>\n",
       "      <td>-500.582168</td>\n",
       "      <td>13.998353</td>\n",
       "      <td>-599.787184</td>\n",
       "    </tr>\n",
       "    <tr>\n",
       "      <th>2</th>\n",
       "      <td>2016-01-15 02:00:00</td>\n",
       "      <td>6.055926</td>\n",
       "      <td>10.213995</td>\n",
       "      <td>5.383759</td>\n",
       "      <td>42.657501</td>\n",
       "      <td>68.116445</td>\n",
       "      <td>10.507046</td>\n",
       "      <td>0.953716</td>\n",
       "      <td>16.208849</td>\n",
       "      <td>2.257889</td>\n",
       "      <td>...</td>\n",
       "      <td>14.015015</td>\n",
       "      <td>-502.520901</td>\n",
       "      <td>11.912783</td>\n",
       "      <td>-501.133383</td>\n",
       "      <td>10.070913</td>\n",
       "      <td>-500.129135</td>\n",
       "      <td>8.013877</td>\n",
       "      <td>-500.517572</td>\n",
       "      <td>14.028663</td>\n",
       "      <td>-601.427363</td>\n",
       "    </tr>\n",
       "    <tr>\n",
       "      <th>3</th>\n",
       "      <td>2016-01-15 03:00:00</td>\n",
       "      <td>6.047977</td>\n",
       "      <td>9.977019</td>\n",
       "      <td>4.858634</td>\n",
       "      <td>42.689819</td>\n",
       "      <td>68.347543</td>\n",
       "      <td>10.422762</td>\n",
       "      <td>0.883763</td>\n",
       "      <td>16.532835</td>\n",
       "      <td>2.146849</td>\n",
       "      <td>...</td>\n",
       "      <td>14.036510</td>\n",
       "      <td>-500.857308</td>\n",
       "      <td>11.999550</td>\n",
       "      <td>-501.193686</td>\n",
       "      <td>9.970366</td>\n",
       "      <td>-499.201640</td>\n",
       "      <td>7.977324</td>\n",
       "      <td>-500.255908</td>\n",
       "      <td>14.005551</td>\n",
       "      <td>-599.996129</td>\n",
       "    </tr>\n",
       "    <tr>\n",
       "      <th>4</th>\n",
       "      <td>2016-01-15 04:00:00</td>\n",
       "      <td>6.148599</td>\n",
       "      <td>10.142511</td>\n",
       "      <td>4.939416</td>\n",
       "      <td>42.774141</td>\n",
       "      <td>66.927016</td>\n",
       "      <td>10.360302</td>\n",
       "      <td>0.792826</td>\n",
       "      <td>16.525686</td>\n",
       "      <td>2.055292</td>\n",
       "      <td>...</td>\n",
       "      <td>14.027298</td>\n",
       "      <td>-499.838632</td>\n",
       "      <td>11.953070</td>\n",
       "      <td>-501.053894</td>\n",
       "      <td>9.925709</td>\n",
       "      <td>-501.686727</td>\n",
       "      <td>7.894242</td>\n",
       "      <td>-500.356035</td>\n",
       "      <td>13.996647</td>\n",
       "      <td>-601.496691</td>\n",
       "    </tr>\n",
       "  </tbody>\n",
       "</table>\n",
       "<p>5 rows × 87 columns</p>\n",
       "</div>"
      ],
      "text/plain": [
       "                  date  final.output.concentrate_ag  \\\n",
       "0  2016-01-15 00:00:00                     6.055403   \n",
       "1  2016-01-15 01:00:00                     6.029369   \n",
       "2  2016-01-15 02:00:00                     6.055926   \n",
       "3  2016-01-15 03:00:00                     6.047977   \n",
       "4  2016-01-15 04:00:00                     6.148599   \n",
       "\n",
       "   final.output.concentrate_pb  final.output.concentrate_sol  \\\n",
       "0                     9.889648                      5.507324   \n",
       "1                     9.968944                      5.257781   \n",
       "2                    10.213995                      5.383759   \n",
       "3                     9.977019                      4.858634   \n",
       "4                    10.142511                      4.939416   \n",
       "\n",
       "   final.output.concentrate_au  final.output.recovery  final.output.tail_ag  \\\n",
       "0                    42.192020              70.541216             10.411962   \n",
       "1                    42.701629              69.266198             10.462676   \n",
       "2                    42.657501              68.116445             10.507046   \n",
       "3                    42.689819              68.347543             10.422762   \n",
       "4                    42.774141              66.927016             10.360302   \n",
       "\n",
       "   final.output.tail_pb  final.output.tail_sol  final.output.tail_au  ...  \\\n",
       "0              0.895447              16.904297              2.143149  ...   \n",
       "1              0.927452              16.634514              2.224930  ...   \n",
       "2              0.953716              16.208849              2.257889  ...   \n",
       "3              0.883763              16.532835              2.146849  ...   \n",
       "4              0.792826              16.525686              2.055292  ...   \n",
       "\n",
       "   secondary_cleaner.state.floatbank4_a_air  \\\n",
       "0                                 14.016835   \n",
       "1                                 13.992281   \n",
       "2                                 14.015015   \n",
       "3                                 14.036510   \n",
       "4                                 14.027298   \n",
       "\n",
       "   secondary_cleaner.state.floatbank4_a_level  \\\n",
       "0                                 -502.488007   \n",
       "1                                 -505.503262   \n",
       "2                                 -502.520901   \n",
       "3                                 -500.857308   \n",
       "4                                 -499.838632   \n",
       "\n",
       "   secondary_cleaner.state.floatbank4_b_air  \\\n",
       "0                                 12.099931   \n",
       "1                                 11.950531   \n",
       "2                                 11.912783   \n",
       "3                                 11.999550   \n",
       "4                                 11.953070   \n",
       "\n",
       "   secondary_cleaner.state.floatbank4_b_level  \\\n",
       "0                                 -504.715942   \n",
       "1                                 -501.331529   \n",
       "2                                 -501.133383   \n",
       "3                                 -501.193686   \n",
       "4                                 -501.053894   \n",
       "\n",
       "   secondary_cleaner.state.floatbank5_a_air  \\\n",
       "0                                  9.925633   \n",
       "1                                 10.039245   \n",
       "2                                 10.070913   \n",
       "3                                  9.970366   \n",
       "4                                  9.925709   \n",
       "\n",
       "   secondary_cleaner.state.floatbank5_a_level  \\\n",
       "0                                 -498.310211   \n",
       "1                                 -500.169983   \n",
       "2                                 -500.129135   \n",
       "3                                 -499.201640   \n",
       "4                                 -501.686727   \n",
       "\n",
       "   secondary_cleaner.state.floatbank5_b_air  \\\n",
       "0                                  8.079666   \n",
       "1                                  7.984757   \n",
       "2                                  8.013877   \n",
       "3                                  7.977324   \n",
       "4                                  7.894242   \n",
       "\n",
       "   secondary_cleaner.state.floatbank5_b_level  \\\n",
       "0                                 -500.470978   \n",
       "1                                 -500.582168   \n",
       "2                                 -500.517572   \n",
       "3                                 -500.255908   \n",
       "4                                 -500.356035   \n",
       "\n",
       "   secondary_cleaner.state.floatbank6_a_air  \\\n",
       "0                                 14.151341   \n",
       "1                                 13.998353   \n",
       "2                                 14.028663   \n",
       "3                                 14.005551   \n",
       "4                                 13.996647   \n",
       "\n",
       "   secondary_cleaner.state.floatbank6_a_level  \n",
       "0                                 -605.841980  \n",
       "1                                 -599.787184  \n",
       "2                                 -601.427363  \n",
       "3                                 -599.996129  \n",
       "4                                 -601.496691  \n",
       "\n",
       "[5 rows x 87 columns]"
      ]
     },
     "execution_count": 9,
     "metadata": {},
     "output_type": "execute_result"
    }
   ],
   "source": [
    "data_train.head(5)"
   ]
  },
  {
   "cell_type": "code",
   "execution_count": 10,
   "metadata": {
    "scrolled": true
   },
   "outputs": [
    {
     "name": "stdout",
     "output_type": "stream",
     "text": [
      "<class 'pandas.core.frame.DataFrame'>\n",
      "RangeIndex: 14149 entries, 0 to 14148\n",
      "Data columns (total 87 columns):\n",
      " #   Column                                              Non-Null Count  Dtype  \n",
      "---  ------                                              --------------  -----  \n",
      " 0   date                                                14149 non-null  object \n",
      " 1   final.output.concentrate_ag                         14148 non-null  float64\n",
      " 2   final.output.concentrate_pb                         14148 non-null  float64\n",
      " 3   final.output.concentrate_sol                        13938 non-null  float64\n",
      " 4   final.output.concentrate_au                         14149 non-null  float64\n",
      " 5   final.output.recovery                               14149 non-null  float64\n",
      " 6   final.output.tail_ag                                14149 non-null  float64\n",
      " 7   final.output.tail_pb                                14049 non-null  float64\n",
      " 8   final.output.tail_sol                               14144 non-null  float64\n",
      " 9   final.output.tail_au                                14149 non-null  float64\n",
      " 10  primary_cleaner.input.sulfate                       14129 non-null  float64\n",
      " 11  primary_cleaner.input.depressant                    14117 non-null  float64\n",
      " 12  primary_cleaner.input.feed_size                     14149 non-null  float64\n",
      " 13  primary_cleaner.input.xanthate                      14049 non-null  float64\n",
      " 14  primary_cleaner.output.concentrate_ag               14149 non-null  float64\n",
      " 15  primary_cleaner.output.concentrate_pb               14063 non-null  float64\n",
      " 16  primary_cleaner.output.concentrate_sol              13863 non-null  float64\n",
      " 17  primary_cleaner.output.concentrate_au               14149 non-null  float64\n",
      " 18  primary_cleaner.output.tail_ag                      14148 non-null  float64\n",
      " 19  primary_cleaner.output.tail_pb                      14134 non-null  float64\n",
      " 20  primary_cleaner.output.tail_sol                     14103 non-null  float64\n",
      " 21  primary_cleaner.output.tail_au                      14149 non-null  float64\n",
      " 22  primary_cleaner.state.floatbank8_a_air              14145 non-null  float64\n",
      " 23  primary_cleaner.state.floatbank8_a_level            14148 non-null  float64\n",
      " 24  primary_cleaner.state.floatbank8_b_air              14145 non-null  float64\n",
      " 25  primary_cleaner.state.floatbank8_b_level            14148 non-null  float64\n",
      " 26  primary_cleaner.state.floatbank8_c_air              14147 non-null  float64\n",
      " 27  primary_cleaner.state.floatbank8_c_level            14148 non-null  float64\n",
      " 28  primary_cleaner.state.floatbank8_d_air              14146 non-null  float64\n",
      " 29  primary_cleaner.state.floatbank8_d_level            14148 non-null  float64\n",
      " 30  rougher.calculation.sulfate_to_au_concentrate       14148 non-null  float64\n",
      " 31  rougher.calculation.floatbank10_sulfate_to_au_feed  14148 non-null  float64\n",
      " 32  rougher.calculation.floatbank11_sulfate_to_au_feed  14148 non-null  float64\n",
      " 33  rougher.calculation.au_pb_ratio                     14149 non-null  float64\n",
      " 34  rougher.input.feed_ag                               14149 non-null  float64\n",
      " 35  rougher.input.feed_pb                               14049 non-null  float64\n",
      " 36  rougher.input.feed_rate                             14141 non-null  float64\n",
      " 37  rougher.input.feed_size                             14005 non-null  float64\n",
      " 38  rougher.input.feed_sol                              14071 non-null  float64\n",
      " 39  rougher.input.feed_au                               14149 non-null  float64\n",
      " 40  rougher.input.floatbank10_sulfate                   14120 non-null  float64\n",
      " 41  rougher.input.floatbank10_xanthate                  14141 non-null  float64\n",
      " 42  rougher.input.floatbank11_sulfate                   14113 non-null  float64\n",
      " 43  rougher.input.floatbank11_xanthate                  13721 non-null  float64\n",
      " 44  rougher.output.concentrate_ag                       14149 non-null  float64\n",
      " 45  rougher.output.concentrate_pb                       14149 non-null  float64\n",
      " 46  rougher.output.concentrate_sol                      14127 non-null  float64\n",
      " 47  rougher.output.concentrate_au                       14149 non-null  float64\n",
      " 48  rougher.output.recovery                             14149 non-null  float64\n",
      " 49  rougher.output.tail_ag                              14148 non-null  float64\n",
      " 50  rougher.output.tail_pb                              14149 non-null  float64\n",
      " 51  rougher.output.tail_sol                             14149 non-null  float64\n",
      " 52  rougher.output.tail_au                              14149 non-null  float64\n",
      " 53  rougher.state.floatbank10_a_air                     14148 non-null  float64\n",
      " 54  rougher.state.floatbank10_a_level                   14148 non-null  float64\n",
      " 55  rougher.state.floatbank10_b_air                     14148 non-null  float64\n",
      " 56  rougher.state.floatbank10_b_level                   14148 non-null  float64\n",
      " 57  rougher.state.floatbank10_c_air                     14148 non-null  float64\n",
      " 58  rougher.state.floatbank10_c_level                   14148 non-null  float64\n",
      " 59  rougher.state.floatbank10_d_air                     14149 non-null  float64\n",
      " 60  rougher.state.floatbank10_d_level                   14149 non-null  float64\n",
      " 61  rougher.state.floatbank10_e_air                     13713 non-null  float64\n",
      " 62  rougher.state.floatbank10_e_level                   14149 non-null  float64\n",
      " 63  rougher.state.floatbank10_f_air                     14149 non-null  float64\n",
      " 64  rougher.state.floatbank10_f_level                   14149 non-null  float64\n",
      " 65  secondary_cleaner.output.tail_ag                    14147 non-null  float64\n",
      " 66  secondary_cleaner.output.tail_pb                    14139 non-null  float64\n",
      " 67  secondary_cleaner.output.tail_sol                   12544 non-null  float64\n",
      " 68  secondary_cleaner.output.tail_au                    14149 non-null  float64\n",
      " 69  secondary_cleaner.state.floatbank2_a_air            13932 non-null  float64\n",
      " 70  secondary_cleaner.state.floatbank2_a_level          14148 non-null  float64\n",
      " 71  secondary_cleaner.state.floatbank2_b_air            14128 non-null  float64\n",
      " 72  secondary_cleaner.state.floatbank2_b_level          14148 non-null  float64\n",
      " 73  secondary_cleaner.state.floatbank3_a_air            14145 non-null  float64\n",
      " 74  secondary_cleaner.state.floatbank3_a_level          14148 non-null  float64\n",
      " 75  secondary_cleaner.state.floatbank3_b_air            14148 non-null  float64\n",
      " 76  secondary_cleaner.state.floatbank3_b_level          14148 non-null  float64\n",
      " 77  secondary_cleaner.state.floatbank4_a_air            14143 non-null  float64\n",
      " 78  secondary_cleaner.state.floatbank4_a_level          14148 non-null  float64\n",
      " 79  secondary_cleaner.state.floatbank4_b_air            14148 non-null  float64\n",
      " 80  secondary_cleaner.state.floatbank4_b_level          14148 non-null  float64\n",
      " 81  secondary_cleaner.state.floatbank5_a_air            14148 non-null  float64\n",
      " 82  secondary_cleaner.state.floatbank5_a_level          14148 non-null  float64\n",
      " 83  secondary_cleaner.state.floatbank5_b_air            14148 non-null  float64\n",
      " 84  secondary_cleaner.state.floatbank5_b_level          14148 non-null  float64\n",
      " 85  secondary_cleaner.state.floatbank6_a_air            14147 non-null  float64\n",
      " 86  secondary_cleaner.state.floatbank6_a_level          14148 non-null  float64\n",
      "dtypes: float64(86), object(1)\n",
      "memory usage: 9.4+ MB\n"
     ]
    }
   ],
   "source": [
    "data_train.info()"
   ]
  },
  {
   "cell_type": "code",
   "execution_count": 11,
   "metadata": {},
   "outputs": [],
   "source": [
    "# преобразуем дату \n",
    "data_train['date'] = pd.to_datetime(data_train['date'], format = '%Y-%m-%dT%H:%M:%S')\n"
   ]
  },
  {
   "cell_type": "code",
   "execution_count": 12,
   "metadata": {},
   "outputs": [
    {
     "name": "stdout",
     "output_type": "stream",
     "text": [
      "Количество дубликатов:  0\n"
     ]
    }
   ],
   "source": [
    "# посмотрим на дубликаты\n",
    "print (\"Количество дубликатов: \", data_train.duplicated().sum())"
   ]
  },
  {
   "cell_type": "code",
   "execution_count": 13,
   "metadata": {
    "scrolled": false
   },
   "outputs": [
    {
     "data": {
      "text/plain": [
       "date                                            0\n",
       "final.output.concentrate_ag                     1\n",
       "final.output.concentrate_pb                     1\n",
       "final.output.concentrate_sol                  211\n",
       "final.output.concentrate_au                     0\n",
       "                                             ... \n",
       "secondary_cleaner.state.floatbank5_a_level      1\n",
       "secondary_cleaner.state.floatbank5_b_air        1\n",
       "secondary_cleaner.state.floatbank5_b_level      1\n",
       "secondary_cleaner.state.floatbank6_a_air        2\n",
       "secondary_cleaner.state.floatbank6_a_level      1\n",
       "Length: 87, dtype: int64"
      ]
     },
     "execution_count": 13,
     "metadata": {},
     "output_type": "execute_result"
    }
   ],
   "source": [
    "# посмотрим на пропуски \n",
    "data_train.isna().sum()"
   ]
  },
  {
   "cell_type": "markdown",
   "metadata": {},
   "source": [
    "В таблице есть несущественное количество пропусков, удалим их, это не повлияет на дальнейший анализ данных."
   ]
  },
  {
   "cell_type": "code",
   "execution_count": 14,
   "metadata": {},
   "outputs": [],
   "source": [
    "data_train = data_train.dropna()"
   ]
  },
  {
   "cell_type": "markdown",
   "metadata": {},
   "source": [
    "#### Вывод по предобработке data_train\n",
    "- Полных дубликатов не обнаружено\n",
    "- Пропуски удалены\n",
    "- Преобразован формат даты"
   ]
  },
  {
   "cell_type": "markdown",
   "metadata": {},
   "source": [
    "Посмотрим на тестовую выборку data_test. \n",
    "\n",
    "Будем помнить, что по условию задания в тестовой выборке отсутствуют некоторые признаки, которые могут быть в обучающей. Также в тестовом наборе нет целевых признаков."
   ]
  },
  {
   "cell_type": "code",
   "execution_count": 15,
   "metadata": {},
   "outputs": [
    {
     "data": {
      "text/html": [
       "<div>\n",
       "<style scoped>\n",
       "    .dataframe tbody tr th:only-of-type {\n",
       "        vertical-align: middle;\n",
       "    }\n",
       "\n",
       "    .dataframe tbody tr th {\n",
       "        vertical-align: top;\n",
       "    }\n",
       "\n",
       "    .dataframe thead th {\n",
       "        text-align: right;\n",
       "    }\n",
       "</style>\n",
       "<table border=\"1\" class=\"dataframe\">\n",
       "  <thead>\n",
       "    <tr style=\"text-align: right;\">\n",
       "      <th></th>\n",
       "      <th>date</th>\n",
       "      <th>primary_cleaner.input.sulfate</th>\n",
       "      <th>primary_cleaner.input.depressant</th>\n",
       "      <th>primary_cleaner.input.feed_size</th>\n",
       "      <th>primary_cleaner.input.xanthate</th>\n",
       "      <th>primary_cleaner.state.floatbank8_a_air</th>\n",
       "      <th>primary_cleaner.state.floatbank8_a_level</th>\n",
       "      <th>primary_cleaner.state.floatbank8_b_air</th>\n",
       "      <th>primary_cleaner.state.floatbank8_b_level</th>\n",
       "      <th>primary_cleaner.state.floatbank8_c_air</th>\n",
       "      <th>...</th>\n",
       "      <th>secondary_cleaner.state.floatbank4_a_air</th>\n",
       "      <th>secondary_cleaner.state.floatbank4_a_level</th>\n",
       "      <th>secondary_cleaner.state.floatbank4_b_air</th>\n",
       "      <th>secondary_cleaner.state.floatbank4_b_level</th>\n",
       "      <th>secondary_cleaner.state.floatbank5_a_air</th>\n",
       "      <th>secondary_cleaner.state.floatbank5_a_level</th>\n",
       "      <th>secondary_cleaner.state.floatbank5_b_air</th>\n",
       "      <th>secondary_cleaner.state.floatbank5_b_level</th>\n",
       "      <th>secondary_cleaner.state.floatbank6_a_air</th>\n",
       "      <th>secondary_cleaner.state.floatbank6_a_level</th>\n",
       "    </tr>\n",
       "  </thead>\n",
       "  <tbody>\n",
       "    <tr>\n",
       "      <th>0</th>\n",
       "      <td>2016-09-01 00:59:59</td>\n",
       "      <td>210.800909</td>\n",
       "      <td>14.993118</td>\n",
       "      <td>8.080000</td>\n",
       "      <td>1.005021</td>\n",
       "      <td>1398.981301</td>\n",
       "      <td>-500.225577</td>\n",
       "      <td>1399.144926</td>\n",
       "      <td>-499.919735</td>\n",
       "      <td>1400.102998</td>\n",
       "      <td>...</td>\n",
       "      <td>12.023554</td>\n",
       "      <td>-497.795834</td>\n",
       "      <td>8.016656</td>\n",
       "      <td>-501.289139</td>\n",
       "      <td>7.946562</td>\n",
       "      <td>-432.317850</td>\n",
       "      <td>4.872511</td>\n",
       "      <td>-500.037437</td>\n",
       "      <td>26.705889</td>\n",
       "      <td>-499.709414</td>\n",
       "    </tr>\n",
       "    <tr>\n",
       "      <th>1</th>\n",
       "      <td>2016-09-01 01:59:59</td>\n",
       "      <td>215.392455</td>\n",
       "      <td>14.987471</td>\n",
       "      <td>8.080000</td>\n",
       "      <td>0.990469</td>\n",
       "      <td>1398.777912</td>\n",
       "      <td>-500.057435</td>\n",
       "      <td>1398.055362</td>\n",
       "      <td>-499.778182</td>\n",
       "      <td>1396.151033</td>\n",
       "      <td>...</td>\n",
       "      <td>12.058140</td>\n",
       "      <td>-498.695773</td>\n",
       "      <td>8.130979</td>\n",
       "      <td>-499.634209</td>\n",
       "      <td>7.958270</td>\n",
       "      <td>-525.839648</td>\n",
       "      <td>4.878850</td>\n",
       "      <td>-500.162375</td>\n",
       "      <td>25.019940</td>\n",
       "      <td>-499.819438</td>\n",
       "    </tr>\n",
       "    <tr>\n",
       "      <th>2</th>\n",
       "      <td>2016-09-01 02:59:59</td>\n",
       "      <td>215.259946</td>\n",
       "      <td>12.884934</td>\n",
       "      <td>7.786667</td>\n",
       "      <td>0.996043</td>\n",
       "      <td>1398.493666</td>\n",
       "      <td>-500.868360</td>\n",
       "      <td>1398.860436</td>\n",
       "      <td>-499.764529</td>\n",
       "      <td>1398.075709</td>\n",
       "      <td>...</td>\n",
       "      <td>11.962366</td>\n",
       "      <td>-498.767484</td>\n",
       "      <td>8.096893</td>\n",
       "      <td>-500.827423</td>\n",
       "      <td>8.071056</td>\n",
       "      <td>-500.801673</td>\n",
       "      <td>4.905125</td>\n",
       "      <td>-499.828510</td>\n",
       "      <td>24.994862</td>\n",
       "      <td>-500.622559</td>\n",
       "    </tr>\n",
       "    <tr>\n",
       "      <th>3</th>\n",
       "      <td>2016-09-01 03:59:59</td>\n",
       "      <td>215.336236</td>\n",
       "      <td>12.006805</td>\n",
       "      <td>7.640000</td>\n",
       "      <td>0.863514</td>\n",
       "      <td>1399.618111</td>\n",
       "      <td>-498.863574</td>\n",
       "      <td>1397.440120</td>\n",
       "      <td>-499.211024</td>\n",
       "      <td>1400.129303</td>\n",
       "      <td>...</td>\n",
       "      <td>12.033091</td>\n",
       "      <td>-498.350935</td>\n",
       "      <td>8.074946</td>\n",
       "      <td>-499.474407</td>\n",
       "      <td>7.897085</td>\n",
       "      <td>-500.868509</td>\n",
       "      <td>4.931400</td>\n",
       "      <td>-499.963623</td>\n",
       "      <td>24.948919</td>\n",
       "      <td>-498.709987</td>\n",
       "    </tr>\n",
       "    <tr>\n",
       "      <th>4</th>\n",
       "      <td>2016-09-01 04:59:59</td>\n",
       "      <td>199.099327</td>\n",
       "      <td>10.682530</td>\n",
       "      <td>7.530000</td>\n",
       "      <td>0.805575</td>\n",
       "      <td>1401.268123</td>\n",
       "      <td>-500.808305</td>\n",
       "      <td>1398.128818</td>\n",
       "      <td>-499.504543</td>\n",
       "      <td>1402.172226</td>\n",
       "      <td>...</td>\n",
       "      <td>12.025367</td>\n",
       "      <td>-500.786497</td>\n",
       "      <td>8.054678</td>\n",
       "      <td>-500.397500</td>\n",
       "      <td>8.107890</td>\n",
       "      <td>-509.526725</td>\n",
       "      <td>4.957674</td>\n",
       "      <td>-500.360026</td>\n",
       "      <td>25.003331</td>\n",
       "      <td>-500.856333</td>\n",
       "    </tr>\n",
       "  </tbody>\n",
       "</table>\n",
       "<p>5 rows × 53 columns</p>\n",
       "</div>"
      ],
      "text/plain": [
       "                  date  primary_cleaner.input.sulfate  \\\n",
       "0  2016-09-01 00:59:59                     210.800909   \n",
       "1  2016-09-01 01:59:59                     215.392455   \n",
       "2  2016-09-01 02:59:59                     215.259946   \n",
       "3  2016-09-01 03:59:59                     215.336236   \n",
       "4  2016-09-01 04:59:59                     199.099327   \n",
       "\n",
       "   primary_cleaner.input.depressant  primary_cleaner.input.feed_size  \\\n",
       "0                         14.993118                         8.080000   \n",
       "1                         14.987471                         8.080000   \n",
       "2                         12.884934                         7.786667   \n",
       "3                         12.006805                         7.640000   \n",
       "4                         10.682530                         7.530000   \n",
       "\n",
       "   primary_cleaner.input.xanthate  primary_cleaner.state.floatbank8_a_air  \\\n",
       "0                        1.005021                             1398.981301   \n",
       "1                        0.990469                             1398.777912   \n",
       "2                        0.996043                             1398.493666   \n",
       "3                        0.863514                             1399.618111   \n",
       "4                        0.805575                             1401.268123   \n",
       "\n",
       "   primary_cleaner.state.floatbank8_a_level  \\\n",
       "0                               -500.225577   \n",
       "1                               -500.057435   \n",
       "2                               -500.868360   \n",
       "3                               -498.863574   \n",
       "4                               -500.808305   \n",
       "\n",
       "   primary_cleaner.state.floatbank8_b_air  \\\n",
       "0                             1399.144926   \n",
       "1                             1398.055362   \n",
       "2                             1398.860436   \n",
       "3                             1397.440120   \n",
       "4                             1398.128818   \n",
       "\n",
       "   primary_cleaner.state.floatbank8_b_level  \\\n",
       "0                               -499.919735   \n",
       "1                               -499.778182   \n",
       "2                               -499.764529   \n",
       "3                               -499.211024   \n",
       "4                               -499.504543   \n",
       "\n",
       "   primary_cleaner.state.floatbank8_c_air  ...  \\\n",
       "0                             1400.102998  ...   \n",
       "1                             1396.151033  ...   \n",
       "2                             1398.075709  ...   \n",
       "3                             1400.129303  ...   \n",
       "4                             1402.172226  ...   \n",
       "\n",
       "   secondary_cleaner.state.floatbank4_a_air  \\\n",
       "0                                 12.023554   \n",
       "1                                 12.058140   \n",
       "2                                 11.962366   \n",
       "3                                 12.033091   \n",
       "4                                 12.025367   \n",
       "\n",
       "   secondary_cleaner.state.floatbank4_a_level  \\\n",
       "0                                 -497.795834   \n",
       "1                                 -498.695773   \n",
       "2                                 -498.767484   \n",
       "3                                 -498.350935   \n",
       "4                                 -500.786497   \n",
       "\n",
       "   secondary_cleaner.state.floatbank4_b_air  \\\n",
       "0                                  8.016656   \n",
       "1                                  8.130979   \n",
       "2                                  8.096893   \n",
       "3                                  8.074946   \n",
       "4                                  8.054678   \n",
       "\n",
       "   secondary_cleaner.state.floatbank4_b_level  \\\n",
       "0                                 -501.289139   \n",
       "1                                 -499.634209   \n",
       "2                                 -500.827423   \n",
       "3                                 -499.474407   \n",
       "4                                 -500.397500   \n",
       "\n",
       "   secondary_cleaner.state.floatbank5_a_air  \\\n",
       "0                                  7.946562   \n",
       "1                                  7.958270   \n",
       "2                                  8.071056   \n",
       "3                                  7.897085   \n",
       "4                                  8.107890   \n",
       "\n",
       "   secondary_cleaner.state.floatbank5_a_level  \\\n",
       "0                                 -432.317850   \n",
       "1                                 -525.839648   \n",
       "2                                 -500.801673   \n",
       "3                                 -500.868509   \n",
       "4                                 -509.526725   \n",
       "\n",
       "   secondary_cleaner.state.floatbank5_b_air  \\\n",
       "0                                  4.872511   \n",
       "1                                  4.878850   \n",
       "2                                  4.905125   \n",
       "3                                  4.931400   \n",
       "4                                  4.957674   \n",
       "\n",
       "   secondary_cleaner.state.floatbank5_b_level  \\\n",
       "0                                 -500.037437   \n",
       "1                                 -500.162375   \n",
       "2                                 -499.828510   \n",
       "3                                 -499.963623   \n",
       "4                                 -500.360026   \n",
       "\n",
       "   secondary_cleaner.state.floatbank6_a_air  \\\n",
       "0                                 26.705889   \n",
       "1                                 25.019940   \n",
       "2                                 24.994862   \n",
       "3                                 24.948919   \n",
       "4                                 25.003331   \n",
       "\n",
       "   secondary_cleaner.state.floatbank6_a_level  \n",
       "0                                 -499.709414  \n",
       "1                                 -499.819438  \n",
       "2                                 -500.622559  \n",
       "3                                 -498.709987  \n",
       "4                                 -500.856333  \n",
       "\n",
       "[5 rows x 53 columns]"
      ]
     },
     "execution_count": 15,
     "metadata": {},
     "output_type": "execute_result"
    }
   ],
   "source": [
    "data_test.head(5)"
   ]
  },
  {
   "cell_type": "code",
   "execution_count": 16,
   "metadata": {},
   "outputs": [
    {
     "name": "stdout",
     "output_type": "stream",
     "text": [
      "<class 'pandas.core.frame.DataFrame'>\n",
      "RangeIndex: 5290 entries, 0 to 5289\n",
      "Data columns (total 53 columns):\n",
      " #   Column                                      Non-Null Count  Dtype  \n",
      "---  ------                                      --------------  -----  \n",
      " 0   date                                        5290 non-null   object \n",
      " 1   primary_cleaner.input.sulfate               5286 non-null   float64\n",
      " 2   primary_cleaner.input.depressant            5285 non-null   float64\n",
      " 3   primary_cleaner.input.feed_size             5290 non-null   float64\n",
      " 4   primary_cleaner.input.xanthate              5286 non-null   float64\n",
      " 5   primary_cleaner.state.floatbank8_a_air      5290 non-null   float64\n",
      " 6   primary_cleaner.state.floatbank8_a_level    5290 non-null   float64\n",
      " 7   primary_cleaner.state.floatbank8_b_air      5290 non-null   float64\n",
      " 8   primary_cleaner.state.floatbank8_b_level    5290 non-null   float64\n",
      " 9   primary_cleaner.state.floatbank8_c_air      5290 non-null   float64\n",
      " 10  primary_cleaner.state.floatbank8_c_level    5290 non-null   float64\n",
      " 11  primary_cleaner.state.floatbank8_d_air      5290 non-null   float64\n",
      " 12  primary_cleaner.state.floatbank8_d_level    5290 non-null   float64\n",
      " 13  rougher.input.feed_ag                       5290 non-null   float64\n",
      " 14  rougher.input.feed_pb                       5290 non-null   float64\n",
      " 15  rougher.input.feed_rate                     5287 non-null   float64\n",
      " 16  rougher.input.feed_size                     5289 non-null   float64\n",
      " 17  rougher.input.feed_sol                      5269 non-null   float64\n",
      " 18  rougher.input.feed_au                       5290 non-null   float64\n",
      " 19  rougher.input.floatbank10_sulfate           5285 non-null   float64\n",
      " 20  rougher.input.floatbank10_xanthate          5290 non-null   float64\n",
      " 21  rougher.input.floatbank11_sulfate           5282 non-null   float64\n",
      " 22  rougher.input.floatbank11_xanthate          5265 non-null   float64\n",
      " 23  rougher.state.floatbank10_a_air             5290 non-null   float64\n",
      " 24  rougher.state.floatbank10_a_level           5290 non-null   float64\n",
      " 25  rougher.state.floatbank10_b_air             5290 non-null   float64\n",
      " 26  rougher.state.floatbank10_b_level           5290 non-null   float64\n",
      " 27  rougher.state.floatbank10_c_air             5290 non-null   float64\n",
      " 28  rougher.state.floatbank10_c_level           5290 non-null   float64\n",
      " 29  rougher.state.floatbank10_d_air             5290 non-null   float64\n",
      " 30  rougher.state.floatbank10_d_level           5290 non-null   float64\n",
      " 31  rougher.state.floatbank10_e_air             5290 non-null   float64\n",
      " 32  rougher.state.floatbank10_e_level           5290 non-null   float64\n",
      " 33  rougher.state.floatbank10_f_air             5290 non-null   float64\n",
      " 34  rougher.state.floatbank10_f_level           5290 non-null   float64\n",
      " 35  secondary_cleaner.state.floatbank2_a_air    5287 non-null   float64\n",
      " 36  secondary_cleaner.state.floatbank2_a_level  5290 non-null   float64\n",
      " 37  secondary_cleaner.state.floatbank2_b_air    5288 non-null   float64\n",
      " 38  secondary_cleaner.state.floatbank2_b_level  5290 non-null   float64\n",
      " 39  secondary_cleaner.state.floatbank3_a_air    5281 non-null   float64\n",
      " 40  secondary_cleaner.state.floatbank3_a_level  5290 non-null   float64\n",
      " 41  secondary_cleaner.state.floatbank3_b_air    5290 non-null   float64\n",
      " 42  secondary_cleaner.state.floatbank3_b_level  5290 non-null   float64\n",
      " 43  secondary_cleaner.state.floatbank4_a_air    5290 non-null   float64\n",
      " 44  secondary_cleaner.state.floatbank4_a_level  5290 non-null   float64\n",
      " 45  secondary_cleaner.state.floatbank4_b_air    5290 non-null   float64\n",
      " 46  secondary_cleaner.state.floatbank4_b_level  5290 non-null   float64\n",
      " 47  secondary_cleaner.state.floatbank5_a_air    5290 non-null   float64\n",
      " 48  secondary_cleaner.state.floatbank5_a_level  5290 non-null   float64\n",
      " 49  secondary_cleaner.state.floatbank5_b_air    5290 non-null   float64\n",
      " 50  secondary_cleaner.state.floatbank5_b_level  5290 non-null   float64\n",
      " 51  secondary_cleaner.state.floatbank6_a_air    5290 non-null   float64\n",
      " 52  secondary_cleaner.state.floatbank6_a_level  5290 non-null   float64\n",
      "dtypes: float64(52), object(1)\n",
      "memory usage: 2.1+ MB\n"
     ]
    }
   ],
   "source": [
    "data_test.info()"
   ]
  },
  {
   "cell_type": "code",
   "execution_count": 17,
   "metadata": {},
   "outputs": [],
   "source": [
    "# преобразуем дату \n",
    "data_test['date'] = pd.to_datetime(data_test['date'], format = '%Y-%m-%dT%H:%M:%S')"
   ]
  },
  {
   "cell_type": "code",
   "execution_count": 18,
   "metadata": {},
   "outputs": [
    {
     "name": "stdout",
     "output_type": "stream",
     "text": [
      "Количество дубликатов:  0\n"
     ]
    }
   ],
   "source": [
    "# посмотрим на дубликаты\n",
    "print (\"Количество дубликатов: \", data_test.duplicated().sum())"
   ]
  },
  {
   "cell_type": "code",
   "execution_count": 19,
   "metadata": {},
   "outputs": [
    {
     "data": {
      "text/plain": [
       "date                                           0\n",
       "primary_cleaner.input.sulfate                  4\n",
       "primary_cleaner.input.depressant               5\n",
       "primary_cleaner.input.feed_size                0\n",
       "primary_cleaner.input.xanthate                 4\n",
       "primary_cleaner.state.floatbank8_a_air         0\n",
       "primary_cleaner.state.floatbank8_a_level       0\n",
       "primary_cleaner.state.floatbank8_b_air         0\n",
       "primary_cleaner.state.floatbank8_b_level       0\n",
       "primary_cleaner.state.floatbank8_c_air         0\n",
       "primary_cleaner.state.floatbank8_c_level       0\n",
       "primary_cleaner.state.floatbank8_d_air         0\n",
       "primary_cleaner.state.floatbank8_d_level       0\n",
       "rougher.input.feed_ag                          0\n",
       "rougher.input.feed_pb                          0\n",
       "rougher.input.feed_rate                        3\n",
       "rougher.input.feed_size                        1\n",
       "rougher.input.feed_sol                        21\n",
       "rougher.input.feed_au                          0\n",
       "rougher.input.floatbank10_sulfate              5\n",
       "rougher.input.floatbank10_xanthate             0\n",
       "rougher.input.floatbank11_sulfate              8\n",
       "rougher.input.floatbank11_xanthate            25\n",
       "rougher.state.floatbank10_a_air                0\n",
       "rougher.state.floatbank10_a_level              0\n",
       "rougher.state.floatbank10_b_air                0\n",
       "rougher.state.floatbank10_b_level              0\n",
       "rougher.state.floatbank10_c_air                0\n",
       "rougher.state.floatbank10_c_level              0\n",
       "rougher.state.floatbank10_d_air                0\n",
       "rougher.state.floatbank10_d_level              0\n",
       "rougher.state.floatbank10_e_air                0\n",
       "rougher.state.floatbank10_e_level              0\n",
       "rougher.state.floatbank10_f_air                0\n",
       "rougher.state.floatbank10_f_level              0\n",
       "secondary_cleaner.state.floatbank2_a_air       3\n",
       "secondary_cleaner.state.floatbank2_a_level     0\n",
       "secondary_cleaner.state.floatbank2_b_air       2\n",
       "secondary_cleaner.state.floatbank2_b_level     0\n",
       "secondary_cleaner.state.floatbank3_a_air       9\n",
       "secondary_cleaner.state.floatbank3_a_level     0\n",
       "secondary_cleaner.state.floatbank3_b_air       0\n",
       "secondary_cleaner.state.floatbank3_b_level     0\n",
       "secondary_cleaner.state.floatbank4_a_air       0\n",
       "secondary_cleaner.state.floatbank4_a_level     0\n",
       "secondary_cleaner.state.floatbank4_b_air       0\n",
       "secondary_cleaner.state.floatbank4_b_level     0\n",
       "secondary_cleaner.state.floatbank5_a_air       0\n",
       "secondary_cleaner.state.floatbank5_a_level     0\n",
       "secondary_cleaner.state.floatbank5_b_air       0\n",
       "secondary_cleaner.state.floatbank5_b_level     0\n",
       "secondary_cleaner.state.floatbank6_a_air       0\n",
       "secondary_cleaner.state.floatbank6_a_level     0\n",
       "dtype: int64"
      ]
     },
     "execution_count": 19,
     "metadata": {},
     "output_type": "execute_result"
    }
   ],
   "source": [
    "# посмотрим на пропуски \n",
    "data_test.isna().sum()"
   ]
  },
  {
   "cell_type": "markdown",
   "metadata": {},
   "source": [
    "Удалим пропуски."
   ]
  },
  {
   "cell_type": "code",
   "execution_count": 20,
   "metadata": {},
   "outputs": [],
   "source": [
    "data_test = data_test.dropna()"
   ]
  },
  {
   "cell_type": "markdown",
   "metadata": {},
   "source": [
    "Проанализируем признаки, недоступные в тестовой выборке. "
   ]
  },
  {
   "cell_type": "code",
   "execution_count": 21,
   "metadata": {
    "scrolled": true
   },
   "outputs": [
    {
     "data": {
      "text/plain": [
       "34"
      ]
     },
     "metadata": {},
     "output_type": "display_data"
    },
    {
     "data": {
      "text/plain": [
       "['final.output.concentrate_ag',\n",
       " 'final.output.concentrate_pb',\n",
       " 'final.output.concentrate_sol',\n",
       " 'final.output.concentrate_au',\n",
       " 'final.output.recovery',\n",
       " 'final.output.tail_ag',\n",
       " 'final.output.tail_pb',\n",
       " 'final.output.tail_sol',\n",
       " 'final.output.tail_au',\n",
       " 'primary_cleaner.output.concentrate_ag',\n",
       " 'primary_cleaner.output.concentrate_pb',\n",
       " 'primary_cleaner.output.concentrate_sol',\n",
       " 'primary_cleaner.output.concentrate_au',\n",
       " 'primary_cleaner.output.tail_ag',\n",
       " 'primary_cleaner.output.tail_pb',\n",
       " 'primary_cleaner.output.tail_sol',\n",
       " 'primary_cleaner.output.tail_au',\n",
       " 'rougher.calculation.sulfate_to_au_concentrate',\n",
       " 'rougher.calculation.floatbank10_sulfate_to_au_feed',\n",
       " 'rougher.calculation.floatbank11_sulfate_to_au_feed',\n",
       " 'rougher.calculation.au_pb_ratio',\n",
       " 'rougher.output.concentrate_ag',\n",
       " 'rougher.output.concentrate_pb',\n",
       " 'rougher.output.concentrate_sol',\n",
       " 'rougher.output.concentrate_au',\n",
       " 'rougher.output.recovery',\n",
       " 'rougher.output.tail_ag',\n",
       " 'rougher.output.tail_pb',\n",
       " 'rougher.output.tail_sol',\n",
       " 'rougher.output.tail_au',\n",
       " 'secondary_cleaner.output.tail_ag',\n",
       " 'secondary_cleaner.output.tail_pb',\n",
       " 'secondary_cleaner.output.tail_sol',\n",
       " 'secondary_cleaner.output.tail_au']"
      ]
     },
     "metadata": {},
     "output_type": "display_data"
    }
   ],
   "source": [
    "def columns(data1, data2):\n",
    "    lists = []\n",
    "    for x in data1:\n",
    "        if x not in data2:\n",
    "            lists.append(x)\n",
    "    return lists \n",
    "\n",
    "not_in_train = columns(data_train, data_test)\n",
    "display(len(not_in_train), not_in_train )"
   ]
  },
  {
   "cell_type": "markdown",
   "metadata": {},
   "source": [
    " - Все признаки относятся к типу float\n",
    " - output - целевые признаки, поэтому отсутствуют в тестовой выборке"
   ]
  },
  {
   "cell_type": "markdown",
   "metadata": {},
   "source": [
    "#### Вывод по предобработке data_test\n",
    "- Полных дубликатов не обнаружено\n",
    "- Пропуски удалены\n",
    "- Преобразован формат даты\n",
    "- Оutput - целевые признаки, поэтому отсутствуют в тестовой выборке, имеют тип float."
   ]
  },
  {
   "cell_type": "markdown",
   "metadata": {},
   "source": [
    "### 1.2. Проверьте, что эффективность обогащения рассчитана правильно. Вычислите её на обучающей выборке для признака rougher.output.recovery. Найдите MAE между вашими расчётами и значением признака. Опишите выводы."
   ]
  },
  {
   "cell_type": "code",
   "execution_count": 22,
   "metadata": {},
   "outputs": [],
   "source": [
    "# введем переменные \n",
    "C = data_train['rougher.output.concentrate_au']\n",
    "\n",
    "F = data_train['rougher.input.feed_au']\n",
    "\n",
    "T = data_train['rougher.output.tail_au']"
   ]
  },
  {
   "cell_type": "code",
   "execution_count": 23,
   "metadata": {},
   "outputs": [],
   "source": [
    "# рассчитаем по формуле и запишем в отдельный столбец\n",
    "data_train['rougher.output.recovery_checked'] =  ((C * (F-T)) / (F * (C - T))) * 100"
   ]
  },
  {
   "cell_type": "code",
   "execution_count": 24,
   "metadata": {},
   "outputs": [
    {
     "data": {
      "text/html": [
       "<div>\n",
       "<style scoped>\n",
       "    .dataframe tbody tr th:only-of-type {\n",
       "        vertical-align: middle;\n",
       "    }\n",
       "\n",
       "    .dataframe tbody tr th {\n",
       "        vertical-align: top;\n",
       "    }\n",
       "\n",
       "    .dataframe thead th {\n",
       "        text-align: right;\n",
       "    }\n",
       "</style>\n",
       "<table border=\"1\" class=\"dataframe\">\n",
       "  <thead>\n",
       "    <tr style=\"text-align: right;\">\n",
       "      <th></th>\n",
       "      <th>rougher.output.recovery</th>\n",
       "      <th>rougher.output.recovery_checked</th>\n",
       "    </tr>\n",
       "  </thead>\n",
       "  <tbody>\n",
       "    <tr>\n",
       "      <th>0</th>\n",
       "      <td>87.107763</td>\n",
       "      <td>87.107763</td>\n",
       "    </tr>\n",
       "    <tr>\n",
       "      <th>1</th>\n",
       "      <td>86.843261</td>\n",
       "      <td>86.843261</td>\n",
       "    </tr>\n",
       "    <tr>\n",
       "      <th>2</th>\n",
       "      <td>86.842308</td>\n",
       "      <td>86.842308</td>\n",
       "    </tr>\n",
       "    <tr>\n",
       "      <th>3</th>\n",
       "      <td>87.226430</td>\n",
       "      <td>87.226430</td>\n",
       "    </tr>\n",
       "    <tr>\n",
       "      <th>4</th>\n",
       "      <td>86.688794</td>\n",
       "      <td>86.688794</td>\n",
       "    </tr>\n",
       "    <tr>\n",
       "      <th>...</th>\n",
       "      <td>...</td>\n",
       "      <td>...</td>\n",
       "    </tr>\n",
       "    <tr>\n",
       "      <th>14144</th>\n",
       "      <td>89.574376</td>\n",
       "      <td>89.574376</td>\n",
       "    </tr>\n",
       "    <tr>\n",
       "      <th>14145</th>\n",
       "      <td>87.724007</td>\n",
       "      <td>87.724007</td>\n",
       "    </tr>\n",
       "    <tr>\n",
       "      <th>14146</th>\n",
       "      <td>88.890579</td>\n",
       "      <td>88.890579</td>\n",
       "    </tr>\n",
       "    <tr>\n",
       "      <th>14147</th>\n",
       "      <td>89.858126</td>\n",
       "      <td>89.858126</td>\n",
       "    </tr>\n",
       "    <tr>\n",
       "      <th>14148</th>\n",
       "      <td>89.514960</td>\n",
       "      <td>89.514960</td>\n",
       "    </tr>\n",
       "  </tbody>\n",
       "</table>\n",
       "<p>11017 rows × 2 columns</p>\n",
       "</div>"
      ],
      "text/plain": [
       "       rougher.output.recovery  rougher.output.recovery_checked\n",
       "0                    87.107763                        87.107763\n",
       "1                    86.843261                        86.843261\n",
       "2                    86.842308                        86.842308\n",
       "3                    87.226430                        87.226430\n",
       "4                    86.688794                        86.688794\n",
       "...                        ...                              ...\n",
       "14144                89.574376                        89.574376\n",
       "14145                87.724007                        87.724007\n",
       "14146                88.890579                        88.890579\n",
       "14147                89.858126                        89.858126\n",
       "14148                89.514960                        89.514960\n",
       "\n",
       "[11017 rows x 2 columns]"
      ]
     },
     "metadata": {},
     "output_type": "display_data"
    },
    {
     "name": "stdout",
     "output_type": "stream",
     "text": [
      "Среднее оригинала 82.7418884610155\n",
      "Проверенное среднее 82.7418884610155\n"
     ]
    }
   ],
   "source": [
    "# посмотрим на результаты\n",
    "display(data_train[['rougher.output.recovery', 'rougher.output.recovery_checked']])\n",
    "\n",
    "# сравним средние значения \n",
    "print (\"Среднее оригинала\", data_train['rougher.output.recovery'].mean())\n",
    "print (\"Проверенное среднее\", data_train['rougher.output.recovery_checked'].mean())"
   ]
  },
  {
   "cell_type": "code",
   "execution_count": 25,
   "metadata": {
    "scrolled": true
   },
   "outputs": [
    {
     "name": "stdout",
     "output_type": "stream",
     "text": [
      "MAE: 9.82970122149377e-15\n"
     ]
    }
   ],
   "source": [
    "#Найдем MAE\n",
    "print (\"MAE:\", mean_absolute_error(data_train['rougher.output.recovery'], data_train['rougher.output.recovery_checked']))"
   ]
  },
  {
   "cell_type": "markdown",
   "metadata": {},
   "source": [
    "#### Вывод по подготовке данных\n",
    "- Мы предобработали все три таблицы: нашли пропуски, дубликаты, изменили формат данных.\n",
    "- Был проверен рассчет эффективности обогащения, MAE = 9.8. Это небольшое отклонение. Средние значения наших рассчетов и исходных данных почти полностью совпали, это означает, что значения отколняются в обе стороны, на равенство средних ориентироваться не стоит."
   ]
  },
  {
   "cell_type": "markdown",
   "metadata": {},
   "source": [
    "## Анализ данных"
   ]
  },
  {
   "cell_type": "markdown",
   "metadata": {},
   "source": [
    "### Посмотрите, как меняется концентрация металлов (Au, Ag, Pb) на различных этапах очистки. Опишите выводы."
   ]
  },
  {
   "cell_type": "markdown",
   "metadata": {},
   "source": [
    "Сразу напишем функцию для фильтрации аномалий. Рассматриваемые признаки являются ключевыми для построения модели, поэтому сразу удалим все выбросы."
   ]
  },
  {
   "cell_type": "code",
   "execution_count": 26,
   "metadata": {},
   "outputs": [],
   "source": [
    "def kill_anomaly(data, column_name):\n",
    "    data_column = data[column_name]\n",
    "    Q1 = data_column.quantile(0.25)\n",
    "    Q3 = data_column.quantile(0.75)\n",
    "    IQR = Q3 - Q1\n",
    "    \n",
    "    \n",
    "    data_new = data[(data_column > (Q1-1.5*IQR)) & (data_column < (Q3+1.5*IQR))]\n",
    "    return  data_new                   \n",
    "\n"
   ]
  },
  {
   "cell_type": "code",
   "execution_count": 27,
   "metadata": {},
   "outputs": [],
   "source": [
    "x = ['rougher.input.feed_ag', 'primary_cleaner.output.concentrate_ag', 'rougher.output.concentrate_ag', 'final.output.concentrate_ag', 'rougher.input.feed_au', 'primary_cleaner.output.concentrate_au', 'rougher.output.concentrate_au', 'final.output.concentrate_au', 'rougher.input.feed_pb', 'primary_cleaner.output.concentrate_pb', 'rougher.output.concentrate_pb', 'final.output.concentrate_pb']\n",
    "\n",
    "for i in x:\n",
    "    data_train = kill_anomaly(data_train, i)"
   ]
  },
  {
   "cell_type": "markdown",
   "metadata": {},
   "source": [
    "Посмотрим на серебро:"
   ]
  },
  {
   "cell_type": "code",
   "execution_count": 41,
   "metadata": {
    "scrolled": false
   },
   "outputs": [
    {
     "data": {
      "text/plain": [
       "Text(0, 0.5, 'Концентрация серебра Ag')"
      ]
     },
     "execution_count": 41,
     "metadata": {},
     "output_type": "execute_result"
    },
    {
     "data": {
      "image/png": "[encoded data removed]",
      "text/plain": [
       "<Figure size 640x480 with 1 Axes>"
      ]
     },
     "metadata": {},
     "output_type": "display_data"
    }
   ],
   "source": [
    "fig, ax = plt.subplots()\n",
    "ax.boxplot([\n",
    "    data_train['rougher.input.feed_ag'],\n",
    "    data_train['rougher.output.concentrate_ag'],\n",
    "    data_train['primary_cleaner.output.concentrate_ag'],\n",
    "    data_train['final.output.concentrate_ag']\n",
    "], labels=['Исходное сырье', 'Флотация', 'Первичная очистка', 'Финальный концентрат'])\n",
    "\n",
    "ax.set_title(\"Изменение концентрации серебра Ag\")\n",
    "ax.set_ylabel(\"Концентрация серебра Ag\")"
   ]
  },
  {
   "cell_type": "markdown",
   "metadata": {},
   "source": [
    "Посмотрим на свинец:"
   ]
  },
  {
   "cell_type": "code",
   "execution_count": 42,
   "metadata": {
    "scrolled": true
   },
   "outputs": [
    {
     "data": {
      "image/png": "[encoded data removed]",
      "text/plain": [
       "<Figure size 640x480 with 1 Axes>"
      ]
     },
     "metadata": {},
     "output_type": "display_data"
    }
   ],
   "source": [
    "fig, ax = plt.subplots()\n",
    "ax.boxplot([\n",
    "    data_train['rougher.input.feed_pb'],\n",
    "    data_train['rougher.output.concentrate_pb'],\n",
    "    data_train['primary_cleaner.output.concentrate_pb'],\n",
    "    data_train['final.output.concentrate_pb']\n",
    "], labels=['Исходное сырье', 'Флотация', 'Первичная очистка', 'Финальный концентрат'])\n",
    "\n",
    "ax.set_title(\"Изменение концентрации свинца Pb\")\n",
    "ax.set_ylabel(\"Концентрация свинца Pb\")\n",
    "\n",
    "plt.savefig('static_plot2.png')\n",
    "plt.show()"
   ]
  },
  {
   "cell_type": "markdown",
   "metadata": {},
   "source": [
    "Посмотрим на золото:"
   ]
  },
  {
   "cell_type": "code",
   "execution_count": 43,
   "metadata": {
    "scrolled": true
   },
   "outputs": [
    {
     "data": {
      "image/png": "[encoded data removed]",
      "text/plain": [
       "<Figure size 640x480 with 1 Axes>"
      ]
     },
     "metadata": {},
     "output_type": "display_data"
    }
   ],
   "source": [
    "fig, ax = plt.subplots()\n",
    "ax.boxplot([\n",
    "    data_train['rougher.input.feed_au'],\n",
    "    data_train['rougher.output.concentrate_au'],\n",
    "    data_train['primary_cleaner.output.concentrate_au'],\n",
    "    data_train['final.output.concentrate_au']\n",
    "], labels=['Исходное сырье', 'Флотация', 'Первичная очистка', 'Финальный концентрат'])\n",
    "\n",
    "ax.set_title(\"Изменение концентрации золота Au\")\n",
    "ax.set_ylabel(\"Концентрация золота Au\")\n",
    "\n",
    "plt.savefig('static_plot3.png')\n",
    "plt.show()"
   ]
  },
  {
   "cell_type": "code",
   "execution_count": 31,
   "metadata": {},
   "outputs": [],
   "source": [
    "au = data_train[['rougher.input.feed_au','rougher.output.concentrate_au','primary_cleaner.output.concentrate_au','final.output.concentrate_au' ]]\n",
    "pb = data_train[['rougher.input.feed_pb','rougher.output.concentrate_pb','primary_cleaner.output.concentrate_pb','final.output.concentrate_pb' ]]\n",
    "ag = data_train[['rougher.input.feed_ag','rougher.output.concentrate_ag','primary_cleaner.output.concentrate_ag','final.output.concentrate_ag' ]]                "
   ]
  },
  {
   "cell_type": "code",
   "execution_count": 48,
   "metadata": {},
   "outputs": [
    {
     "data": {
      "image/png": "[encoded data removed]",
      "text/plain": [
       "<Figure size 640x480 with 1 Axes>"
      ]
     },
     "metadata": {},
     "output_type": "display_data"
    }
   ],
   "source": [
    "fig, ax = plt.subplots()\n",
    "ax.plot(ag.mean(), label='Серебро Ag')\n",
    "ax.plot(pb.mean(), label='Свинец Pb')\n",
    "ax.plot(au.mean(), label='Золото Au')\n",
    "\n",
    "ax.set_title(\"График изменения концентрации металлов\")\n",
    "ax.set_ylabel(\"Средняя концентрация\")\n",
    "ax.set_xticks([]) \n",
    "ax.legend()\n",
    "plt.show()"
   ]
  },
  {
   "cell_type": "markdown",
   "metadata": {},
   "source": [
    "Выводы:\n",
    "- Мы видим значительный рост концентрации золота на каждом этапе.\n",
    "\n",
    "- Концентрация свинца плавно увеличивалась с каждым этапом\n",
    "\n",
    "- Наибольшая концентрация серебра была на этапе флотации, затем медленно падала\n",
    "\n",
    "- На данном этапе мы удалили все аномалии из рассматриваемых признаков"
   ]
  },
  {
   "cell_type": "markdown",
   "metadata": {},
   "source": [
    "### 2.2. Сравните распределения размеров гранул сырья на обучающей и тестовой выборках. Если распределения сильно отличаются друг от друга, оценка модели будет неправильной."
   ]
  },
  {
   "cell_type": "markdown",
   "metadata": {},
   "source": [
    "Построим гистограмму и боксплоты распределений на обучающей и тестовой выборках."
   ]
  },
  {
   "cell_type": "code",
   "execution_count": 49,
   "metadata": {},
   "outputs": [
    {
     "data": {
      "image/png": "[encoded data removed]",
      "text/plain": [
       "<Figure size 640x480 with 1 Axes>"
      ]
     },
     "metadata": {},
     "output_type": "display_data"
    }
   ],
   "source": [
    "fig, ax = plt.subplots()\n",
    "\n",
    "ax.hist(data_train['rougher.input.feed_size'], density=True, alpha=0.5, label='Обучающая')\n",
    "ax.hist(data_test['rougher.input.feed_size'], density=True, alpha=0.5, label='Тестовая')\n",
    "\n",
    "ax.set_title(\"Pаспределение размеров гранул сырья на обучающей и тестовой выборках\")\n",
    "ax.set_xlabel(\"Размер гранул сырья\")\n",
    "ax.set_ylabel(\"Плотность вероятности\")\n",
    "\n",
    "ax.legend()\n",
    "plt.show()"
   ]
  },
  {
   "cell_type": "code",
   "execution_count": 50,
   "metadata": {
    "scrolled": true
   },
   "outputs": [
    {
     "data": {
      "image/png": "[encoded data removed]",
      "text/plain": [
       "<Figure size 640x480 with 1 Axes>"
      ]
     },
     "metadata": {},
     "output_type": "display_data"
    }
   ],
   "source": [
    "fig, ax = plt.subplots()\n",
    "ax.boxplot([data_train['rougher.input.feed_size'], data_test['rougher.input.feed_size']], labels=['Обучающая', 'Тестовая'])\n",
    "\n",
    "ax.set_title(\"Pаспределение размеров гранул сырья на обучающей и тестовой выборках\")\n",
    "ax.set_ylabel(\"Размер гранул сырья\")\n",
    "\n",
    "plt.show()"
   ]
  },
  {
   "cell_type": "code",
   "execution_count": 35,
   "metadata": {
    "scrolled": true
   },
   "outputs": [
    {
     "name": "stdout",
     "output_type": "stream",
     "text": [
      "count    8883.000000\n",
      "mean       57.198364\n",
      "std        19.847786\n",
      "min         9.659576\n",
      "25%        48.645721\n",
      "50%        53.872774\n",
      "75%        61.003728\n",
      "max       484.967466\n",
      "Name: rougher.input.feed_size, dtype: float64\n",
      "count    5229.000000\n",
      "mean       55.863978\n",
      "std        18.914656\n",
      "min         0.046369\n",
      "25%        43.911874\n",
      "50%        50.772729\n",
      "75%        62.265394\n",
      "max       392.494040\n",
      "Name: rougher.input.feed_size, dtype: float64\n"
     ]
    }
   ],
   "source": [
    "print (data_train['rougher.input.feed_size'].describe())\n",
    "print (data_test['rougher.input.feed_size'].describe())"
   ]
  },
  {
   "cell_type": "markdown",
   "metadata": {},
   "source": [
    "Вывод\n",
    "\n",
    "Распределения выборок отличаются, но не существенно. В обучающей больше выбросов, а в тестовой распределние немного более рассеяно."
   ]
  },
  {
   "cell_type": "markdown",
   "metadata": {},
   "source": [
    "### 2.3. Исследуйте суммарную концентрацию всех веществ на разных стадиях: в сырье, в черновом и финальном концентратах. \n"
   ]
  },
  {
   "cell_type": "code",
   "execution_count": 36,
   "metadata": {},
   "outputs": [],
   "source": [
    "# исходное сырье\n",
    "rough = data_train[['rougher.input.feed_au', 'rougher.input.feed_pb', 'rougher.input.feed_ag', 'rougher.input.feed_sol']]\n",
    "\n",
    "# после флотации\n",
    "flotation = data_train[['rougher.output.concentrate_au', 'rougher.output.concentrate_pb', 'rougher.output.concentrate_ag', 'rougher.output.concentrate_sol']]\n",
    "\n",
    "# после отчистки\n",
    "clearing = data_train[['primary_cleaner.output.concentrate_au', 'primary_cleaner.output.concentrate_pb', 'primary_cleaner.output.concentrate_ag', 'primary_cleaner.output.concentrate_sol']]\n",
    "\n",
    "# финальные\n",
    "final = data_train[['final.output.concentrate_au','final.output.concentrate_pb', 'final.output.concentrate_ag', 'final.output.concentrate_sol']]\n",
    "\n"
   ]
  },
  {
   "cell_type": "code",
   "execution_count": 37,
   "metadata": {
    "scrolled": true
   },
   "outputs": [
    {
     "name": "stdout",
     "output_type": "stream",
     "text": [
      "Суммарная концентрация исходного сырья: 509284.46314136236\n",
      "Суммарная концентрация сырья после флотации: 620052.1241930837\n",
      "Суммарная концентрация сырья после отчистки: 553690.585473613\n",
      "Суммарная концентрация сырья на финальном этапе: 620803.9686735554\n"
     ]
    }
   ],
   "source": [
    "rough['total'] = rough[['rougher.input.feed_au', 'rougher.input.feed_pb', 'rougher.input.feed_ag', 'rougher.input.feed_sol']].sum(axis =1)\n",
    "print (\"Суммарная концентрация исходного сырья:\", rough['total'].sum())\n",
    "\n",
    "flotation['total'] = flotation[['rougher.output.concentrate_au', 'rougher.output.concentrate_pb', 'rougher.output.concentrate_ag', 'rougher.output.concentrate_sol']].sum(axis =1)\n",
    "print (\"Суммарная концентрация сырья после флотации:\", flotation['total'].sum())\n",
    "\n",
    "clearing['total'] = clearing[['primary_cleaner.output.concentrate_au', 'primary_cleaner.output.concentrate_pb', 'primary_cleaner.output.concentrate_ag', 'primary_cleaner.output.concentrate_sol']].sum(axis =1)\n",
    "print (\"Суммарная концентрация сырья после отчистки:\", clearing['total'].sum())\n",
    "\n",
    "final['total'] = final[['final.output.concentrate_au','final.output.concentrate_pb', 'final.output.concentrate_ag', 'final.output.concentrate_sol']].sum(axis =1)\n",
    "print (\"Суммарная концентрация сырья на финальном этапе:\",final['total'].sum())"
   ]
  },
  {
   "cell_type": "code",
   "execution_count": 51,
   "metadata": {
    "scrolled": false
   },
   "outputs": [
    {
     "data": {
      "image/png": "[encoded data removed]",
      "text/plain": [
       "<Figure size 640x480 with 1 Axes>"
      ]
     },
     "metadata": {},
     "output_type": "display_data"
    }
   ],
   "source": [
    "fig, ax = plt.subplots()\n",
    "\n",
    "ax.hist(rough['total'], bins=50, alpha=0.5, label='Исходное сырье')\n",
    "ax.hist(flotation['total'], bins=50, alpha=0.5, label='После флотации')\n",
    "ax.hist(clearing['total'], bins=50, alpha=0.5, label='После отчистки')\n",
    "ax.hist(final['total'], bins=50, alpha=0.5, label='На финальном этапе')\n",
    "\n",
    "ax.set_title(\"Суммарная концентрация сырья на разных этапах\")\n",
    "ax.set_xlabel(\"Суммарная концентрация сырья\")\n",
    "ax.set_ylabel(\"Частота\")\n",
    "\n",
    "ax.legend()\n",
    "plt.show()"
   ]
  },
  {
   "cell_type": "code",
   "execution_count": 52,
   "metadata": {},
   "outputs": [
    {
     "data": {
      "image/png": "[encoded data removed]",
      "text/plain": [
       "<Figure size 640x480 with 1 Axes>"
      ]
     },
     "metadata": {},
     "output_type": "display_data"
    }
   ],
   "source": [
    "fig, ax = plt.subplots()\n",
    "\n",
    "ax.boxplot([rough['total'], flotation['total'], clearing['total'], final['total']],\n",
    "           labels=['Исходное сырье', 'Флотация', 'Первичная очистка', 'Финальный концентрат'])\n",
    "\n",
    "ax.set_title(\"Суммарная концентрация сырья на разных этапах\")\n",
    "ax.set_ylabel(\"Суммарная концентрация сырья\")\n",
    "\n",
    "plt.savefig('static_plot8.png')\n",
    "plt.show()"
   ]
  },
  {
   "cell_type": "markdown",
   "metadata": {},
   "source": [
    "На боксплотах видно некоторое количество выбросов, но данные уже были отфильтрованы на предыдущем шаге и выбросы были удалены из исходных значений. Возможно, экстремальные значения складываются из высокой концентрации веществ на разнвх этапах. Решила не удалять выбросы."
   ]
  },
  {
   "cell_type": "markdown",
   "metadata": {},
   "source": [
    "#### Вывод\n",
    "\n",
    "- Видим планомерное увеличение концентрации сырья на каждом этапе"
   ]
  },
  {
   "cell_type": "markdown",
   "metadata": {},
   "source": [
    "#### Общий Вывод по анализу данных\n",
    "- Мы видим значительный рост концентрации золота на каждом этапе.\n",
    "\n",
    "- Концентрация свинца плавно увеличивалась с каждым этапом\n",
    "\n",
    "- Наибольшая концентрация серебра была на этапе флотации, затем медленно падала\n",
    "\n",
    "- На данном этапе мы удалили все аномалии из рассматриваемых признаков\n",
    "\n",
    "- Видим планомерное увеличение концентрации сырья на каждом этапе\n",
    "\n",
    "- Распределения рамеров гранул сырья для выборок отличаются, но не существенно. В обучающей больше выбросов, а в тестовой распределние немного более рассеяно.\n"
   ]
  },
  {
   "cell_type": "markdown",
   "metadata": {},
   "source": [
    "## Модель"
   ]
  },
  {
   "cell_type": "markdown",
   "metadata": {},
   "source": [
    "### 3.1. Напишим функцию для вычисления итоговой sMAPE."
   ]
  },
  {
   "cell_type": "code",
   "execution_count": 42,
   "metadata": {},
   "outputs": [],
   "source": [
    "def smape_final(target_r, predict_r, target_f, predict_f):\n",
    "    smape_rougher = 100/len(target_r) * np.sum(2 * np.abs(predict_r - target_r) / \n",
    "                                                     (np.abs(target_r) + np.abs(predict_r)))\n",
    "    smape_final = 100/len(target_f) * np.sum(2 * np.abs(predict_f - target_f) / \n",
    "                                                 (np.abs(target_f) + np.abs(predict_f)))\n",
    "    return 0.25*(smape_rougher) + 0.75*(smape_final)"
   ]
  },
  {
   "cell_type": "markdown",
   "metadata": {},
   "source": [
    "### 3.2. Обучите разные модели и оцените их качество кросс-валидацией. Выберите лучшую модель и проверьте её на тестовой выборке. Опишите выводы."
   ]
  },
  {
   "cell_type": "markdown",
   "metadata": {},
   "source": [
    "Удалим признаки из обучающей выборки, которых нет в тестовой.\n"
   ]
  },
  {
   "cell_type": "code",
   "execution_count": 43,
   "metadata": {},
   "outputs": [],
   "source": [
    "data_train_new = data_train.drop(['final.output.concentrate_ag', 'final.output.concentrate_pb',\n",
    " 'final.output.concentrate_sol',\n",
    " 'final.output.concentrate_au',\n",
    " 'final.output.tail_ag',\n",
    " 'final.output.tail_pb',\n",
    " 'final.output.tail_sol',\n",
    " 'final.output.tail_au',\n",
    " 'primary_cleaner.output.concentrate_ag',\n",
    " 'primary_cleaner.output.concentrate_pb',\n",
    " 'primary_cleaner.output.concentrate_sol',\n",
    " 'primary_cleaner.output.concentrate_au',\n",
    " 'primary_cleaner.output.tail_ag',\n",
    " 'primary_cleaner.output.tail_pb',\n",
    " 'primary_cleaner.output.tail_sol',\n",
    " 'primary_cleaner.output.tail_au',\n",
    " 'rougher.calculation.sulfate_to_au_concentrate',\n",
    " 'rougher.calculation.floatbank10_sulfate_to_au_feed',\n",
    " 'rougher.calculation.floatbank11_sulfate_to_au_feed',\n",
    " 'rougher.calculation.au_pb_ratio',\n",
    " 'rougher.output.concentrate_ag',\n",
    " 'rougher.output.concentrate_pb',\n",
    " 'rougher.output.concentrate_sol',\n",
    " 'rougher.output.concentrate_au',\n",
    " 'rougher.output.recovery',\n",
    " 'rougher.output.tail_ag',\n",
    " 'rougher.output.tail_pb',\n",
    " 'rougher.output.tail_sol',\n",
    " 'rougher.output.tail_au',\n",
    " 'secondary_cleaner.output.tail_ag',\n",
    " 'secondary_cleaner.output.tail_pb',\n",
    " 'secondary_cleaner.output.tail_sol',\n",
    " 'secondary_cleaner.output.tail_au'], axis = 1)"
   ]
  },
  {
   "cell_type": "markdown",
   "metadata": {},
   "source": [
    "Подготовим признаки для моделей."
   ]
  },
  {
   "cell_type": "code",
   "execution_count": 44,
   "metadata": {},
   "outputs": [],
   "source": [
    "# для обучающей выборки\n",
    "target_train_r = data_train_new['rougher.output.recovery_checked']\n",
    "features_train_r = data_train_new.drop(['rougher.output.recovery_checked', \"date\", \"final.output.recovery\"], axis = 1)\n",
    "\n",
    "\n",
    "target_train_f = data_train_new['final.output.recovery']\n",
    "features_train_f = data_train_new.drop(['final.output.recovery', \"date\", \"rougher.output.recovery_checked\"], axis = 1)"
   ]
  },
  {
   "cell_type": "markdown",
   "metadata": {},
   "source": [
    "#### Линейная регрессия."
   ]
  },
  {
   "cell_type": "code",
   "execution_count": 45,
   "metadata": {},
   "outputs": [
    {
     "name": "stdout",
     "output_type": "stream",
     "text": [
      "SMAPE линейной регрессии: 8.338023260284858\n"
     ]
    }
   ],
   "source": [
    "model1 = LinearRegression()\n",
    "pred_r = cross_val_predict(model1, features_train_r, target_train_r, cv=5)\n",
    "pred_f = cross_val_predict(model1, features_train_f, target_train_f, cv=5)\n",
    "result1 = smape_final(target_train_r, pred_r, target_train_f, pred_f)\n",
    "\n",
    "print (\"SMAPE линейной регрессии:\",result1)"
   ]
  },
  {
   "cell_type": "markdown",
   "metadata": {},
   "source": [
    "#### Дерево решений."
   ]
  },
  {
   "cell_type": "code",
   "execution_count": 46,
   "metadata": {},
   "outputs": [
    {
     "name": "stdout",
     "output_type": "stream",
     "text": [
      "SMAPE на дереве решений: 8.968825427243086\n"
     ]
    }
   ],
   "source": [
    "model2 = DecisionTreeRegressor(random_state=12345, max_depth = 5)\n",
    "pred_r2 = cross_val_predict(model2, features_train_r, target_train_r, cv=5)\n",
    "pred_f2 = cross_val_predict(model2, features_train_f, target_train_f, cv=5)\n",
    "result2 = smape_final(target_train_r, pred_r2, target_train_f, pred_f2)\n",
    "print (\"SMAPE на дереве решений:\", result2)"
   ]
  },
  {
   "cell_type": "markdown",
   "metadata": {},
   "source": [
    "#### Случайный лес"
   ]
  },
  {
   "cell_type": "code",
   "execution_count": 47,
   "metadata": {},
   "outputs": [],
   "source": [
    "%%time\n",
    "for depth in range (5, 15):\n",
    "    \n",
    "    for n in range (5, 15):\n",
    "        model3 = RandomForestRegressor(random_state = 12345, max_depth = depth, n_estimators = n)\n",
    "        pred_r3 = cross_val_predict(model3, features_train_r, target_train_r, cv=5)\n",
    "        pred_f3 = cross_val_predict(model3, features_train_f, target_train_f, cv=5)\n",
    "        print (\"depth:\", depth)\n",
    "        print('n_estimators:', n) \n",
    "        result3 = smape_final(target_train_r, pred_r3, target_train_f, pred_f3)\n",
    "        print (\"SMAPE\", result3)"
   ]
  },
  {
   "cell_type": "markdown",
   "metadata": {},
   "source": [
    "Лучший SMAPE на случайом лесе 7.79 при depth: 6 и n_estimators: 13\n"
   ]
  },
  {
   "cell_type": "markdown",
   "metadata": {},
   "source": [
    "#### Градиентный бустинг"
   ]
  },
  {
   "cell_type": "code",
   "execution_count": 48,
   "metadata": {},
   "outputs": [
    {
     "name": "stdout",
     "output_type": "stream",
     "text": [
      "Итоговое sMAPE: 7.323118257539688\n"
     ]
    }
   ],
   "source": [
    "model_4 = GradientBoostingRegressor(max_depth=1, random_state=12345, loss='ls')\n",
    "y_pred_1 = cross_val_predict(model_4, features_train_r, target_train_r, cv=5)\n",
    "y_pred_2 = cross_val_predict(model_4, features_train_f, target_train_f, cv=5)\n",
    "print('Итоговое sMAPE:',smape_final(target_train_r, y_pred_1, target_train_f, y_pred_2))"
   ]
  },
  {
   "cell_type": "markdown",
   "metadata": {},
   "source": [
    "Проверим модель градиентого бустинга на тестовой выборке"
   ]
  },
  {
   "cell_type": "code",
   "execution_count": 49,
   "metadata": {},
   "outputs": [],
   "source": [
    "# подготовим признаки для тестовой выборки\n",
    "\n",
    "data_test_new = data_test.drop('date', axis = 1)"
   ]
  },
  {
   "cell_type": "code",
   "execution_count": 50,
   "metadata": {},
   "outputs": [],
   "source": [
    "model5 = GradientBoostingRegressor(max_depth=1, random_state=12345, loss='ls')\n",
    "fit5 = model5.fit(features_train_r, target_train_r)\n",
    "predictions4 = model5.predict(data_test_new)\n",
    "\n",
    "fit6 = model5.fit(features_train_f, target_train_f)\n",
    "predictions5 = model5.predict(data_test_new)\n",
    "\n",
    "data_test['rougher.output.recovery_predicted'] = predictions4\n",
    "data_test['final.output.recovery_predicted'] = predictions5"
   ]
  },
  {
   "cell_type": "markdown",
   "metadata": {},
   "source": [
    "Подсчитаем SMAPE полной таблицы и предсказанных значений."
   ]
  },
  {
   "cell_type": "code",
   "execution_count": 51,
   "metadata": {},
   "outputs": [],
   "source": [
    "data_test_new = data_test[['date', 'rougher.output.recovery_predicted', 'final.output.recovery_predicted']]\n",
    "data_full_new = data_full[['date', 'rougher.output.recovery', 'final.output.recovery']]\n",
    "check_results = data_test_new.merge(data_full_new, on = 'date', how = 'left')"
   ]
  },
  {
   "cell_type": "code",
   "execution_count": 52,
   "metadata": {},
   "outputs": [
    {
     "name": "stdout",
     "output_type": "stream",
     "text": [
      "SMAPE выбранной модели 8.28849677960863\n"
     ]
    }
   ],
   "source": [
    "# подготовим признаки для smape\n",
    "\n",
    "target_real_full_r = check_results['rougher.output.recovery']\n",
    "target_real_full_f = check_results['final.output.recovery']\n",
    "predictions_r = check_results['rougher.output.recovery_predicted']\n",
    "predictions_f = check_results['final.output.recovery_predicted']\n",
    "\n",
    "final_smape_test = smape_final(target_real_full_r, predictions_r , target_real_full_f, predictions_f)\n",
    "print (\"SMAPE выбранной модели\", final_smape_test)"
   ]
  },
  {
   "cell_type": "markdown",
   "metadata": {},
   "source": [
    "Сравним с константной моделью."
   ]
  },
  {
   "cell_type": "code",
   "execution_count": 53,
   "metadata": {},
   "outputs": [
    {
     "name": "stdout",
     "output_type": "stream",
     "text": [
      "SMAPE константной модели: 9.141552125892716\n"
     ]
    }
   ],
   "source": [
    "dummy_regr = DummyRegressor(strategy=\"median\")\n",
    "dummy_regr.fit(features_train_r, target_train_r)\n",
    "dummy_pred_r = dummy_regr.predict(data_test_new)\n",
    "dummy_regr1 = DummyRegressor(strategy=\"median\")\n",
    "dummy_regr1.fit(features_train_f, target_train_f)\n",
    "dummy_pred_f = dummy_regr1.predict(data_test_new)\n",
    "\n",
    "\n",
    "constant_smape_test = smape_final(target_real_full_r, dummy_pred_r , target_real_full_f, dummy_pred_f)\n",
    "print (\"SMAPE константной модели:\", constant_smape_test)"
   ]
  },
  {
   "cell_type": "markdown",
   "metadata": {},
   "source": [
    "#### Вывод\n",
    "Выбранная модель градиентого бустинга предсказывает лучше костантной.  "
   ]
  },
  {
   "cell_type": "markdown",
   "metadata": {},
   "source": [
    "### Выводы\n",
    "На этапе изучения данных:\n",
    "\n",
    "- Полных дубликатов не обнаружено\n",
    "- Пропуски удалены\n",
    "- Преобразован формат даты\n",
    "- Оutput - целевые признаки, поэтому отсутствуют в тестовой выборке, имеют тип float\n",
    "\n",
    "На этапе подготовки данных:\n",
    "\n",
    "Мы предобработали все три таблицы: нашли пропуски, дубликаты, изменили формат данных.\n",
    "Был проверен рассчет эффективности обогащения, MAE = 9.8. Это небольшое отклонение. Средние значения наших рассчетов и исходных данных почти полностью совпали, это означает, что значения отколняются в обе стороны, на равенство средних ориентироваться не стоит.\n",
    "\n",
    "На этапе анализа данных:\n",
    "- Мы видим значительный рост концентрации золота на каждом этапе.\n",
    "\n",
    "- Концентрация свинца плавно увеличивалась с каждым этапом\n",
    "\n",
    "- Наибольшая концентрация серебра была на этапе флотации, затем медленно падала\n",
    "\n",
    "- На данном этапе мы удалили все аномалии из рассматриваемых признаков\n",
    "\n",
    "- Видим планомерное увеличение концентрации сырья на каждом этапе\n",
    "\n",
    "- Распределения рамеров гранул сырья для выборок отличаются, но не существенно. В обучающей больше выбросов, а в тестовой распределние немного более рассеяно.\n",
    "\n",
    "На этапе обучения и выбора моделей:\n",
    "\n",
    "Было обучено 3 модели: случайного леса, дерева решений и логистической регрессии. Лучшие результаты дала модель градиентного бустинга. Модель была использована для предсказаний на тестовой выборке."
   ]
  }
 ],
 "metadata": {
  "ExecuteTimeLog": [
   {
    "duration": 1814,
    "start_time": "2022-10-17T16:25:01.797Z"
   },
   {
    "duration": 157,
    "start_time": "2022-10-17T16:27:53.323Z"
   },
   {
    "duration": 17,
    "start_time": "2022-10-17T16:28:15.884Z"
   },
   {
    "duration": 17,
    "start_time": "2022-10-17T16:28:24.877Z"
   },
   {
    "duration": 16,
    "start_time": "2022-10-17T16:29:02.477Z"
   },
   {
    "duration": 18,
    "start_time": "2022-10-17T16:29:05.986Z"
   },
   {
    "duration": 999,
    "start_time": "2022-10-17T16:30:32.508Z"
   },
   {
    "duration": 1009,
    "start_time": "2022-10-17T16:30:38.746Z"
   },
   {
    "duration": 32,
    "start_time": "2022-10-17T17:04:37.585Z"
   },
   {
    "duration": 23,
    "start_time": "2022-10-17T17:04:57.444Z"
   },
   {
    "duration": 22,
    "start_time": "2022-10-17T17:05:07.874Z"
   },
   {
    "duration": 33,
    "start_time": "2022-10-17T18:20:18.949Z"
   },
   {
    "duration": 18,
    "start_time": "2022-10-17T18:20:19.416Z"
   },
   {
    "duration": 31,
    "start_time": "2022-10-17T18:22:22.065Z"
   },
   {
    "duration": 15,
    "start_time": "2022-10-17T18:22:23.825Z"
   },
   {
    "duration": 48,
    "start_time": "2022-10-18T13:47:18.516Z"
   },
   {
    "duration": 1664,
    "start_time": "2022-10-18T13:47:23.509Z"
   },
   {
    "duration": 1433,
    "start_time": "2022-10-18T13:47:25.175Z"
   },
   {
    "duration": 26,
    "start_time": "2022-10-18T13:47:26.610Z"
   },
   {
    "duration": 25,
    "start_time": "2022-10-18T13:47:26.638Z"
   },
   {
    "duration": 26,
    "start_time": "2022-10-18T13:47:26.666Z"
   },
   {
    "duration": 28,
    "start_time": "2022-10-18T13:47:26.693Z"
   },
   {
    "duration": 22,
    "start_time": "2022-10-18T13:47:26.723Z"
   },
   {
    "duration": 17,
    "start_time": "2022-10-18T13:47:26.746Z"
   },
   {
    "duration": 11,
    "start_time": "2022-10-18T13:48:58.758Z"
   },
   {
    "duration": 79,
    "start_time": "2022-10-18T13:49:38.455Z"
   },
   {
    "duration": 10,
    "start_time": "2022-10-18T13:49:42.208Z"
   },
   {
    "duration": 12,
    "start_time": "2022-10-18T13:49:55.871Z"
   },
   {
    "duration": 102,
    "start_time": "2022-10-18T13:50:01.358Z"
   },
   {
    "duration": 20,
    "start_time": "2022-10-18T13:55:06.093Z"
   },
   {
    "duration": 136,
    "start_time": "2022-10-18T13:55:08.199Z"
   },
   {
    "duration": 8,
    "start_time": "2022-10-18T14:01:11.145Z"
   },
   {
    "duration": 17,
    "start_time": "2022-10-18T14:01:24.076Z"
   },
   {
    "duration": 21,
    "start_time": "2022-10-18T14:03:13.100Z"
   },
   {
    "duration": 957,
    "start_time": "2022-10-18T14:05:08.846Z"
   },
   {
    "duration": 604,
    "start_time": "2022-10-18T14:05:40.510Z"
   },
   {
    "duration": 799,
    "start_time": "2022-10-18T14:06:09.511Z"
   },
   {
    "duration": 7,
    "start_time": "2022-10-18T14:07:08.054Z"
   },
   {
    "duration": 10,
    "start_time": "2022-10-18T14:08:08.566Z"
   },
   {
    "duration": 136,
    "start_time": "2022-10-18T14:08:14.910Z"
   },
   {
    "duration": 41,
    "start_time": "2022-10-18T14:08:56.287Z"
   },
   {
    "duration": 120,
    "start_time": "2022-10-18T14:09:10.246Z"
   },
   {
    "duration": 50,
    "start_time": "2022-10-18T14:09:27.745Z"
   },
   {
    "duration": 128,
    "start_time": "2022-10-18T14:09:31.078Z"
   },
   {
    "duration": 9,
    "start_time": "2022-10-18T14:10:44.525Z"
   },
   {
    "duration": 13,
    "start_time": "2022-10-18T14:11:07.437Z"
   },
   {
    "duration": 69,
    "start_time": "2022-10-18T14:11:48.462Z"
   },
   {
    "duration": 5,
    "start_time": "2022-10-18T14:13:02.790Z"
   },
   {
    "duration": 23,
    "start_time": "2022-10-18T14:13:27.062Z"
   },
   {
    "duration": 6,
    "start_time": "2022-10-18T14:14:03.255Z"
   },
   {
    "duration": 198,
    "start_time": "2022-10-18T14:14:03.598Z"
   },
   {
    "duration": 11,
    "start_time": "2022-10-18T14:14:11.711Z"
   },
   {
    "duration": 23,
    "start_time": "2022-10-18T14:15:36.070Z"
   },
   {
    "duration": 816,
    "start_time": "2022-10-18T14:16:55.122Z"
   },
   {
    "duration": 7,
    "start_time": "2022-10-18T14:17:43.592Z"
   },
   {
    "duration": 5,
    "start_time": "2022-10-18T14:18:05.614Z"
   },
   {
    "duration": 7,
    "start_time": "2022-10-18T14:18:12.751Z"
   },
   {
    "duration": 25,
    "start_time": "2022-10-18T14:30:11.830Z"
   },
   {
    "duration": 10,
    "start_time": "2022-10-18T14:47:05.771Z"
   },
   {
    "duration": 3,
    "start_time": "2022-10-18T14:47:17.059Z"
   },
   {
    "duration": 5,
    "start_time": "2022-10-18T14:47:17.331Z"
   },
   {
    "duration": 18,
    "start_time": "2022-10-18T14:47:47.971Z"
   },
   {
    "duration": 5,
    "start_time": "2022-10-18T14:48:04.788Z"
   },
   {
    "duration": 10,
    "start_time": "2022-10-18T14:48:05.222Z"
   },
   {
    "duration": 5,
    "start_time": "2022-10-18T14:49:01.172Z"
   },
   {
    "duration": 11,
    "start_time": "2022-10-18T14:49:01.444Z"
   },
   {
    "duration": 14,
    "start_time": "2022-10-18T14:52:38.980Z"
   },
   {
    "duration": 3,
    "start_time": "2022-10-18T15:10:17.427Z"
   },
   {
    "duration": 5,
    "start_time": "2022-10-18T15:10:17.780Z"
   },
   {
    "duration": 10,
    "start_time": "2022-10-18T15:10:18.272Z"
   },
   {
    "duration": 66,
    "start_time": "2022-10-18T15:16:22.717Z"
   },
   {
    "duration": 9,
    "start_time": "2022-10-18T15:16:33.484Z"
   },
   {
    "duration": 4,
    "start_time": "2022-10-18T15:16:56.929Z"
   },
   {
    "duration": 738,
    "start_time": "2022-10-18T15:16:56.935Z"
   },
   {
    "duration": 21,
    "start_time": "2022-10-18T15:16:57.675Z"
   },
   {
    "duration": 32,
    "start_time": "2022-10-18T15:16:57.698Z"
   },
   {
    "duration": 8,
    "start_time": "2022-10-18T15:16:57.732Z"
   },
   {
    "duration": 14,
    "start_time": "2022-10-18T15:16:57.741Z"
   },
   {
    "duration": 14,
    "start_time": "2022-10-18T15:16:57.757Z"
   },
   {
    "duration": 178,
    "start_time": "2022-10-18T15:16:57.773Z"
   },
   {
    "duration": 23,
    "start_time": "2022-10-18T15:16:57.952Z"
   },
   {
    "duration": 21,
    "start_time": "2022-10-18T15:16:57.977Z"
   },
   {
    "duration": 7,
    "start_time": "2022-10-18T15:16:58.022Z"
   },
   {
    "duration": 131,
    "start_time": "2022-10-18T15:16:58.031Z"
   },
   {
    "duration": 8,
    "start_time": "2022-10-18T15:16:58.164Z"
   },
   {
    "duration": 10,
    "start_time": "2022-10-18T15:16:58.174Z"
   },
   {
    "duration": 41,
    "start_time": "2022-10-18T15:16:58.185Z"
   },
   {
    "duration": 14,
    "start_time": "2022-10-18T15:16:58.228Z"
   },
   {
    "duration": 5,
    "start_time": "2022-10-18T15:16:58.244Z"
   },
   {
    "duration": 34,
    "start_time": "2022-10-18T15:16:58.250Z"
   },
   {
    "duration": 6,
    "start_time": "2022-10-18T15:16:58.286Z"
   },
   {
    "duration": 32,
    "start_time": "2022-10-18T15:16:58.294Z"
   },
   {
    "duration": 17,
    "start_time": "2022-10-18T15:16:58.328Z"
   },
   {
    "duration": 4,
    "start_time": "2022-10-18T15:16:58.347Z"
   },
   {
    "duration": 7,
    "start_time": "2022-10-18T15:16:58.353Z"
   },
   {
    "duration": 7,
    "start_time": "2022-10-18T15:16:58.362Z"
   },
   {
    "duration": 18,
    "start_time": "2022-10-18T15:16:58.370Z"
   },
   {
    "duration": 33,
    "start_time": "2022-10-18T15:16:58.390Z"
   },
   {
    "duration": 15,
    "start_time": "2022-10-18T15:20:45.091Z"
   },
   {
    "duration": 13,
    "start_time": "2022-10-18T15:21:11.566Z"
   },
   {
    "duration": 15,
    "start_time": "2022-10-18T15:21:21.637Z"
   },
   {
    "duration": 5,
    "start_time": "2022-10-18T15:21:22.131Z"
   },
   {
    "duration": 13,
    "start_time": "2022-10-18T15:26:41.669Z"
   },
   {
    "duration": 16,
    "start_time": "2022-10-18T15:27:01.515Z"
   },
   {
    "duration": 5,
    "start_time": "2022-10-18T15:32:08.034Z"
   },
   {
    "duration": 5,
    "start_time": "2022-10-18T15:32:46.603Z"
   },
   {
    "duration": 4,
    "start_time": "2022-10-18T15:32:50.692Z"
   },
   {
    "duration": 1499,
    "start_time": "2022-10-18T15:33:36.604Z"
   },
   {
    "duration": 623,
    "start_time": "2022-10-18T15:33:38.105Z"
   },
   {
    "duration": 25,
    "start_time": "2022-10-18T15:33:38.730Z"
   },
   {
    "duration": 19,
    "start_time": "2022-10-18T15:33:38.757Z"
   },
   {
    "duration": 8,
    "start_time": "2022-10-18T15:33:38.779Z"
   },
   {
    "duration": 37,
    "start_time": "2022-10-18T15:33:38.788Z"
   },
   {
    "duration": 25,
    "start_time": "2022-10-18T15:33:38.826Z"
   },
   {
    "duration": 170,
    "start_time": "2022-10-18T15:33:38.852Z"
   },
   {
    "duration": 34,
    "start_time": "2022-10-18T15:33:39.025Z"
   },
   {
    "duration": 34,
    "start_time": "2022-10-18T15:33:39.063Z"
   },
   {
    "duration": 8,
    "start_time": "2022-10-18T15:33:39.099Z"
   },
   {
    "duration": 159,
    "start_time": "2022-10-18T15:33:39.108Z"
   },
   {
    "duration": 8,
    "start_time": "2022-10-18T15:33:39.270Z"
   },
   {
    "duration": 17,
    "start_time": "2022-10-18T15:33:39.279Z"
   },
   {
    "duration": 36,
    "start_time": "2022-10-18T15:33:39.297Z"
   },
   {
    "duration": 26,
    "start_time": "2022-10-18T15:33:39.335Z"
   },
   {
    "duration": 4,
    "start_time": "2022-10-18T15:33:39.363Z"
   },
   {
    "duration": 36,
    "start_time": "2022-10-18T15:33:39.369Z"
   },
   {
    "duration": 18,
    "start_time": "2022-10-18T15:33:39.407Z"
   },
   {
    "duration": 12,
    "start_time": "2022-10-18T15:33:39.426Z"
   },
   {
    "duration": 16,
    "start_time": "2022-10-18T15:33:39.439Z"
   },
   {
    "duration": 5,
    "start_time": "2022-10-18T15:33:39.457Z"
   },
   {
    "duration": 5,
    "start_time": "2022-10-18T15:33:39.463Z"
   },
   {
    "duration": 6,
    "start_time": "2022-10-18T15:33:39.470Z"
   },
   {
    "duration": 50,
    "start_time": "2022-10-18T15:33:39.478Z"
   },
   {
    "duration": 4,
    "start_time": "2022-10-18T15:33:39.530Z"
   },
   {
    "duration": 18,
    "start_time": "2022-10-18T15:33:39.536Z"
   },
   {
    "duration": 16,
    "start_time": "2022-10-18T15:33:39.557Z"
   },
   {
    "duration": 4,
    "start_time": "2022-10-18T15:33:46.039Z"
   },
   {
    "duration": 4,
    "start_time": "2022-10-18T15:34:27.007Z"
   },
   {
    "duration": 4,
    "start_time": "2022-10-18T15:34:35.711Z"
   },
   {
    "duration": 5,
    "start_time": "2022-10-18T15:34:54.312Z"
   },
   {
    "duration": 53,
    "start_time": "2022-10-18T15:35:31.824Z"
   },
   {
    "duration": 7,
    "start_time": "2022-10-18T15:35:55.063Z"
   },
   {
    "duration": 8,
    "start_time": "2022-10-18T15:37:51.240Z"
   },
   {
    "duration": 6,
    "start_time": "2022-10-18T15:38:39.303Z"
   },
   {
    "duration": 4,
    "start_time": "2022-10-18T15:41:30.408Z"
   },
   {
    "duration": 2,
    "start_time": "2022-10-18T15:41:50.631Z"
   },
   {
    "duration": 6,
    "start_time": "2022-10-18T15:41:55.183Z"
   },
   {
    "duration": 14,
    "start_time": "2022-10-18T15:44:34.693Z"
   },
   {
    "duration": 3,
    "start_time": "2022-10-18T17:19:07.432Z"
   },
   {
    "duration": 4,
    "start_time": "2022-10-18T17:20:26.185Z"
   },
   {
    "duration": 690,
    "start_time": "2022-10-18T17:20:26.190Z"
   },
   {
    "duration": 19,
    "start_time": "2022-10-18T17:20:26.882Z"
   },
   {
    "duration": 29,
    "start_time": "2022-10-18T17:20:26.903Z"
   },
   {
    "duration": 6,
    "start_time": "2022-10-18T17:20:26.935Z"
   },
   {
    "duration": 20,
    "start_time": "2022-10-18T17:20:26.942Z"
   },
   {
    "duration": 15,
    "start_time": "2022-10-18T17:20:26.963Z"
   },
   {
    "duration": 141,
    "start_time": "2022-10-18T17:20:26.979Z"
   },
   {
    "duration": 21,
    "start_time": "2022-10-18T17:20:27.122Z"
   },
   {
    "duration": 19,
    "start_time": "2022-10-18T17:20:27.145Z"
   },
   {
    "duration": 7,
    "start_time": "2022-10-18T17:20:27.166Z"
   },
   {
    "duration": 154,
    "start_time": "2022-10-18T17:20:27.174Z"
   },
   {
    "duration": 8,
    "start_time": "2022-10-18T17:20:27.330Z"
   },
   {
    "duration": 26,
    "start_time": "2022-10-18T17:20:27.339Z"
   },
   {
    "duration": 30,
    "start_time": "2022-10-18T17:20:27.367Z"
   },
   {
    "duration": 24,
    "start_time": "2022-10-18T17:20:27.399Z"
   },
   {
    "duration": 5,
    "start_time": "2022-10-18T17:20:27.426Z"
   },
   {
    "duration": 30,
    "start_time": "2022-10-18T17:20:27.433Z"
   },
   {
    "duration": 8,
    "start_time": "2022-10-18T17:20:27.465Z"
   },
   {
    "duration": 6,
    "start_time": "2022-10-18T17:20:27.474Z"
   },
   {
    "duration": 5,
    "start_time": "2022-10-18T17:20:27.482Z"
   },
   {
    "duration": 34,
    "start_time": "2022-10-18T17:20:27.489Z"
   },
   {
    "duration": 15,
    "start_time": "2022-10-18T17:20:27.525Z"
   },
   {
    "duration": 5,
    "start_time": "2022-10-18T17:20:27.541Z"
   },
   {
    "duration": 16,
    "start_time": "2022-10-18T17:20:27.548Z"
   },
   {
    "duration": 7,
    "start_time": "2022-10-18T17:20:27.566Z"
   },
   {
    "duration": 24,
    "start_time": "2022-10-18T17:20:27.575Z"
   },
   {
    "duration": 5,
    "start_time": "2022-10-18T17:20:27.600Z"
   },
   {
    "duration": 5,
    "start_time": "2022-10-18T17:20:27.622Z"
   },
   {
    "duration": 107,
    "start_time": "2022-10-18T17:20:58.582Z"
   },
   {
    "duration": 156,
    "start_time": "2022-10-18T17:21:05.725Z"
   },
   {
    "duration": 143,
    "start_time": "2022-10-18T17:21:23.917Z"
   },
   {
    "duration": 151,
    "start_time": "2022-10-18T17:21:37.462Z"
   },
   {
    "duration": 224,
    "start_time": "2022-10-18T17:21:57.510Z"
   },
   {
    "duration": 125,
    "start_time": "2022-10-18T17:22:14.149Z"
   },
   {
    "duration": 161,
    "start_time": "2022-10-18T17:23:09.174Z"
   },
   {
    "duration": 14,
    "start_time": "2022-10-18T17:23:45.393Z"
   },
   {
    "duration": 12,
    "start_time": "2022-10-18T17:24:02.321Z"
   },
   {
    "duration": 11,
    "start_time": "2022-10-18T17:24:11.964Z"
   },
   {
    "duration": 10,
    "start_time": "2022-10-18T17:24:24.141Z"
   },
   {
    "duration": 97,
    "start_time": "2022-10-18T17:28:03.088Z"
   },
   {
    "duration": 115,
    "start_time": "2022-10-18T17:28:20.676Z"
   },
   {
    "duration": 119,
    "start_time": "2022-10-18T17:30:01.751Z"
   },
   {
    "duration": 124,
    "start_time": "2022-10-18T17:32:33.402Z"
   },
   {
    "duration": 51,
    "start_time": "2022-10-18T17:34:51.018Z"
   },
   {
    "duration": 122,
    "start_time": "2022-10-18T17:36:15.423Z"
   },
   {
    "duration": 117,
    "start_time": "2022-10-18T17:36:21.174Z"
   },
   {
    "duration": 118,
    "start_time": "2022-10-18T17:36:40.296Z"
   },
   {
    "duration": 113,
    "start_time": "2022-10-18T17:36:45.960Z"
   },
   {
    "duration": 118,
    "start_time": "2022-10-18T17:40:02.493Z"
   },
   {
    "duration": 122,
    "start_time": "2022-10-18T17:41:03.583Z"
   },
   {
    "duration": 969,
    "start_time": "2022-10-18T17:42:01.069Z"
   },
   {
    "duration": 1167,
    "start_time": "2022-10-18T17:42:02.908Z"
   },
   {
    "duration": 740,
    "start_time": "2022-10-18T17:42:05.174Z"
   },
   {
    "duration": 132,
    "start_time": "2022-10-18T17:46:21.139Z"
   },
   {
    "duration": 111,
    "start_time": "2022-10-18T17:46:35.782Z"
   },
   {
    "duration": 237,
    "start_time": "2022-10-18T17:47:37.524Z"
   },
   {
    "duration": 326,
    "start_time": "2022-10-18T17:50:54.413Z"
   },
   {
    "duration": 140,
    "start_time": "2022-10-18T17:50:59.041Z"
   },
   {
    "duration": 216,
    "start_time": "2022-10-18T17:52:38.809Z"
   },
   {
    "duration": 184,
    "start_time": "2022-10-18T17:53:44.211Z"
   },
   {
    "duration": 39,
    "start_time": "2022-10-18T17:57:03.083Z"
   },
   {
    "duration": 14,
    "start_time": "2022-10-18T17:57:26.882Z"
   },
   {
    "duration": 184,
    "start_time": "2022-10-18T18:00:49.730Z"
   },
   {
    "duration": 176,
    "start_time": "2022-10-18T18:01:23.948Z"
   },
   {
    "duration": 173,
    "start_time": "2022-10-18T18:02:55.093Z"
   },
   {
    "duration": 169,
    "start_time": "2022-10-18T18:04:19.493Z"
   },
   {
    "duration": 13,
    "start_time": "2022-10-18T18:06:57.948Z"
   },
   {
    "duration": 298,
    "start_time": "2022-10-18T18:07:23.143Z"
   },
   {
    "duration": 63,
    "start_time": "2022-10-18T18:07:34.208Z"
   },
   {
    "duration": 183,
    "start_time": "2022-10-18T18:08:36.360Z"
   },
   {
    "duration": 165,
    "start_time": "2022-10-18T18:09:08.100Z"
   },
   {
    "duration": 173,
    "start_time": "2022-10-18T18:14:28.082Z"
   },
   {
    "duration": 18,
    "start_time": "2022-10-18T18:14:51.530Z"
   },
   {
    "duration": 88,
    "start_time": "2022-10-18T18:16:34.336Z"
   },
   {
    "duration": 47,
    "start_time": "2022-10-18T18:16:46.925Z"
   },
   {
    "duration": 83,
    "start_time": "2022-10-18T18:16:53.669Z"
   },
   {
    "duration": 352,
    "start_time": "2022-10-18T18:17:28.069Z"
   },
   {
    "duration": 1322,
    "start_time": "2022-10-18T18:18:17.421Z"
   },
   {
    "duration": 341,
    "start_time": "2022-10-18T18:18:39.562Z"
   },
   {
    "duration": 4,
    "start_time": "2022-10-18T18:21:35.722Z"
   },
   {
    "duration": 17,
    "start_time": "2022-10-18T18:21:53.864Z"
   },
   {
    "duration": 4,
    "start_time": "2022-10-18T18:22:02.211Z"
   },
   {
    "duration": 127,
    "start_time": "2022-10-18T18:22:24.598Z"
   },
   {
    "duration": 4,
    "start_time": "2022-10-18T18:23:14.092Z"
   },
   {
    "duration": 131,
    "start_time": "2022-10-18T18:23:29.881Z"
   },
   {
    "duration": 4,
    "start_time": "2022-10-18T18:24:13.604Z"
   },
   {
    "duration": 145,
    "start_time": "2022-10-18T18:24:29.319Z"
   },
   {
    "duration": 14,
    "start_time": "2022-10-18T18:25:48.870Z"
   },
   {
    "duration": 10,
    "start_time": "2022-10-18T18:26:00.164Z"
   },
   {
    "duration": 12,
    "start_time": "2022-10-18T18:28:32.943Z"
   },
   {
    "duration": 96,
    "start_time": "2022-10-18T18:30:54.496Z"
   },
   {
    "duration": 5,
    "start_time": "2022-10-18T18:31:05.908Z"
   },
   {
    "duration": 18,
    "start_time": "2022-10-18T18:31:29.107Z"
   },
   {
    "duration": 16,
    "start_time": "2022-10-18T18:35:20.608Z"
   },
   {
    "duration": 14,
    "start_time": "2022-10-18T18:36:28.102Z"
   },
   {
    "duration": 17,
    "start_time": "2022-10-18T18:36:33.527Z"
   },
   {
    "duration": 16,
    "start_time": "2022-10-18T18:39:46.115Z"
   },
   {
    "duration": 3,
    "start_time": "2022-10-18T18:40:24.267Z"
   },
   {
    "duration": 1502,
    "start_time": "2022-10-18T18:40:42.611Z"
   },
   {
    "duration": 135,
    "start_time": "2022-10-18T18:40:49.242Z"
   },
   {
    "duration": 244,
    "start_time": "2022-10-18T18:40:55.867Z"
   },
   {
    "duration": 474,
    "start_time": "2022-10-18T18:41:05.506Z"
   },
   {
    "duration": 403,
    "start_time": "2022-10-18T18:41:42.898Z"
   },
   {
    "duration": 298,
    "start_time": "2022-10-18T18:41:59.572Z"
   },
   {
    "duration": 261,
    "start_time": "2022-10-18T18:42:06.516Z"
   },
   {
    "duration": 307,
    "start_time": "2022-10-18T18:42:13.029Z"
   },
   {
    "duration": 439,
    "start_time": "2022-10-18T18:42:44.484Z"
   },
   {
    "duration": 47,
    "start_time": "2022-10-18T18:44:06.988Z"
   },
   {
    "duration": 84,
    "start_time": "2022-10-18T18:44:59.046Z"
   },
   {
    "duration": 65,
    "start_time": "2022-10-18T18:46:10.655Z"
   },
   {
    "duration": 68,
    "start_time": "2022-10-18T18:46:33.685Z"
   },
   {
    "duration": 67,
    "start_time": "2022-10-18T18:47:26.193Z"
   },
   {
    "duration": 66,
    "start_time": "2022-10-18T18:49:49.738Z"
   },
   {
    "duration": 9,
    "start_time": "2022-10-18T18:50:19.614Z"
   },
   {
    "duration": 12,
    "start_time": "2022-10-18T18:50:37.771Z"
   },
   {
    "duration": 13,
    "start_time": "2022-10-18T18:54:38.603Z"
   },
   {
    "duration": 40,
    "start_time": "2022-10-18T19:03:12.478Z"
   },
   {
    "duration": 5,
    "start_time": "2022-10-18T19:03:31.468Z"
   },
   {
    "duration": 16,
    "start_time": "2022-10-18T19:06:10.909Z"
   },
   {
    "duration": 7,
    "start_time": "2022-10-18T19:06:56.806Z"
   },
   {
    "duration": 7,
    "start_time": "2022-10-18T19:09:59.802Z"
   },
   {
    "duration": 8,
    "start_time": "2022-10-18T19:11:30.215Z"
   },
   {
    "duration": 16,
    "start_time": "2022-10-18T19:11:41.781Z"
   },
   {
    "duration": 903,
    "start_time": "2022-10-18T19:12:01.893Z"
   },
   {
    "duration": 15,
    "start_time": "2022-10-18T19:12:04.304Z"
   },
   {
    "duration": 7,
    "start_time": "2022-10-18T19:14:15.047Z"
   },
   {
    "duration": 12,
    "start_time": "2022-10-18T19:14:22.126Z"
   },
   {
    "duration": 4,
    "start_time": "2022-10-18T19:14:35.597Z"
   },
   {
    "duration": 7,
    "start_time": "2022-10-18T19:15:56.238Z"
   },
   {
    "duration": 15,
    "start_time": "2022-10-18T19:19:52.289Z"
   },
   {
    "duration": 16,
    "start_time": "2022-10-18T19:20:23.495Z"
   },
   {
    "duration": 6,
    "start_time": "2022-10-18T19:21:06.019Z"
   },
   {
    "duration": 16,
    "start_time": "2022-10-18T19:21:06.622Z"
   },
   {
    "duration": 15,
    "start_time": "2022-10-18T19:21:18.519Z"
   },
   {
    "duration": 19,
    "start_time": "2022-10-18T19:21:39.188Z"
   },
   {
    "duration": 6,
    "start_time": "2022-10-18T19:23:05.752Z"
   },
   {
    "duration": 16,
    "start_time": "2022-10-18T19:23:06.598Z"
   },
   {
    "duration": 24,
    "start_time": "2022-10-18T19:25:07.257Z"
   },
   {
    "duration": 131,
    "start_time": "2022-10-18T19:25:35.786Z"
   },
   {
    "duration": 142,
    "start_time": "2022-10-18T19:26:25.061Z"
   },
   {
    "duration": 214,
    "start_time": "2022-10-18T19:27:13.807Z"
   },
   {
    "duration": 171,
    "start_time": "2022-10-18T19:28:55.957Z"
   },
   {
    "duration": 188,
    "start_time": "2022-10-18T19:40:00.797Z"
   },
   {
    "duration": 11,
    "start_time": "2022-10-18T19:53:00.140Z"
   },
   {
    "duration": 922,
    "start_time": "2022-10-18T19:53:12.239Z"
   },
   {
    "duration": 863,
    "start_time": "2022-10-18T19:53:21.497Z"
   },
   {
    "duration": 7,
    "start_time": "2022-10-18T19:59:00.891Z"
   },
   {
    "duration": 9,
    "start_time": "2022-10-18T19:59:14.042Z"
   },
   {
    "duration": 6,
    "start_time": "2022-10-18T19:59:57.316Z"
   },
   {
    "duration": 6,
    "start_time": "2022-10-18T20:00:02.129Z"
   },
   {
    "duration": 6,
    "start_time": "2022-10-18T20:25:31.633Z"
   },
   {
    "duration": 6,
    "start_time": "2022-10-18T20:26:01.469Z"
   },
   {
    "duration": 6,
    "start_time": "2022-10-18T20:26:13.309Z"
   },
   {
    "duration": 6,
    "start_time": "2022-10-18T20:26:35.665Z"
   },
   {
    "duration": 9,
    "start_time": "2022-10-18T20:26:53.993Z"
   },
   {
    "duration": 12,
    "start_time": "2022-10-18T20:26:59.395Z"
   },
   {
    "duration": 6,
    "start_time": "2022-10-18T20:27:05.323Z"
   },
   {
    "duration": 7,
    "start_time": "2022-10-18T20:27:38.844Z"
   },
   {
    "duration": 6,
    "start_time": "2022-10-18T20:35:06.964Z"
   },
   {
    "duration": 5,
    "start_time": "2022-10-18T20:35:11.036Z"
   },
   {
    "duration": 7,
    "start_time": "2022-10-18T20:35:38.270Z"
   },
   {
    "duration": 6,
    "start_time": "2022-10-18T20:36:09.795Z"
   },
   {
    "duration": 8,
    "start_time": "2022-10-18T20:37:33.414Z"
   },
   {
    "duration": 4,
    "start_time": "2022-10-18T20:50:52.160Z"
   },
   {
    "duration": 780,
    "start_time": "2022-10-18T20:50:52.167Z"
   },
   {
    "duration": 22,
    "start_time": "2022-10-18T20:50:52.949Z"
   },
   {
    "duration": 46,
    "start_time": "2022-10-18T20:50:52.974Z"
   },
   {
    "duration": 12,
    "start_time": "2022-10-18T20:50:53.024Z"
   },
   {
    "duration": 17,
    "start_time": "2022-10-18T20:50:53.038Z"
   },
   {
    "duration": 12,
    "start_time": "2022-10-18T20:50:53.057Z"
   },
   {
    "duration": 152,
    "start_time": "2022-10-18T20:50:53.071Z"
   },
   {
    "duration": 22,
    "start_time": "2022-10-18T20:50:53.225Z"
   },
   {
    "duration": 19,
    "start_time": "2022-10-18T20:50:53.249Z"
   },
   {
    "duration": 7,
    "start_time": "2022-10-18T20:50:53.271Z"
   },
   {
    "duration": 147,
    "start_time": "2022-10-18T20:50:53.280Z"
   },
   {
    "duration": 9,
    "start_time": "2022-10-18T20:50:53.429Z"
   },
   {
    "duration": 15,
    "start_time": "2022-10-18T20:50:53.440Z"
   },
   {
    "duration": 21,
    "start_time": "2022-10-18T20:50:53.457Z"
   },
   {
    "duration": 43,
    "start_time": "2022-10-18T20:50:53.479Z"
   },
   {
    "duration": 5,
    "start_time": "2022-10-18T20:50:53.523Z"
   },
   {
    "duration": 26,
    "start_time": "2022-10-18T20:50:53.530Z"
   },
   {
    "duration": 7,
    "start_time": "2022-10-18T20:50:53.557Z"
   },
   {
    "duration": 7,
    "start_time": "2022-10-18T20:50:53.566Z"
   },
   {
    "duration": 10,
    "start_time": "2022-10-18T20:50:53.574Z"
   },
   {
    "duration": 37,
    "start_time": "2022-10-18T20:50:53.586Z"
   },
   {
    "duration": 17,
    "start_time": "2022-10-18T20:50:53.626Z"
   },
   {
    "duration": 5,
    "start_time": "2022-10-18T20:50:53.644Z"
   },
   {
    "duration": 4,
    "start_time": "2022-10-18T20:50:53.651Z"
   },
   {
    "duration": 11,
    "start_time": "2022-10-18T20:50:53.657Z"
   },
   {
    "duration": 55,
    "start_time": "2022-10-18T20:50:53.670Z"
   },
   {
    "duration": 4,
    "start_time": "2022-10-18T20:50:53.726Z"
   },
   {
    "duration": 8,
    "start_time": "2022-10-18T20:50:53.733Z"
   },
   {
    "duration": 18,
    "start_time": "2022-10-18T20:50:53.743Z"
   },
   {
    "duration": 0,
    "start_time": "2022-10-18T20:50:53.763Z"
   },
   {
    "duration": 0,
    "start_time": "2022-10-18T20:50:53.764Z"
   },
   {
    "duration": 0,
    "start_time": "2022-10-18T20:50:53.766Z"
   },
   {
    "duration": 0,
    "start_time": "2022-10-18T20:50:53.767Z"
   },
   {
    "duration": 0,
    "start_time": "2022-10-18T20:50:53.769Z"
   },
   {
    "duration": 0,
    "start_time": "2022-10-18T20:50:53.770Z"
   },
   {
    "duration": 0,
    "start_time": "2022-10-18T20:50:53.771Z"
   },
   {
    "duration": 0,
    "start_time": "2022-10-18T20:50:53.772Z"
   },
   {
    "duration": 0,
    "start_time": "2022-10-18T20:50:53.773Z"
   },
   {
    "duration": 0,
    "start_time": "2022-10-18T20:50:53.775Z"
   },
   {
    "duration": 0,
    "start_time": "2022-10-18T20:50:53.776Z"
   },
   {
    "duration": 0,
    "start_time": "2022-10-18T20:50:53.777Z"
   },
   {
    "duration": 0,
    "start_time": "2022-10-18T20:50:53.778Z"
   },
   {
    "duration": 0,
    "start_time": "2022-10-18T20:50:53.820Z"
   },
   {
    "duration": 0,
    "start_time": "2022-10-18T20:50:53.821Z"
   },
   {
    "duration": 0,
    "start_time": "2022-10-18T20:50:53.823Z"
   },
   {
    "duration": 181,
    "start_time": "2022-10-18T20:53:53.682Z"
   },
   {
    "duration": 18,
    "start_time": "2022-10-18T20:54:27.894Z"
   },
   {
    "duration": 4,
    "start_time": "2022-10-18T20:54:46.955Z"
   },
   {
    "duration": 5,
    "start_time": "2022-10-18T20:55:00.994Z"
   },
   {
    "duration": 35,
    "start_time": "2022-10-18T20:55:04.219Z"
   },
   {
    "duration": 18,
    "start_time": "2022-10-18T20:55:46.055Z"
   },
   {
    "duration": 117,
    "start_time": "2022-10-18T20:58:47.726Z"
   },
   {
    "duration": 103,
    "start_time": "2022-10-18T20:59:10.798Z"
   },
   {
    "duration": 3645,
    "start_time": "2022-10-18T21:07:22.103Z"
   },
   {
    "duration": 3844,
    "start_time": "2022-10-18T21:07:36.915Z"
   },
   {
    "duration": 91,
    "start_time": "2022-10-18T21:07:46.682Z"
   },
   {
    "duration": 3807,
    "start_time": "2022-10-18T21:08:22.610Z"
   },
   {
    "duration": 111,
    "start_time": "2022-10-18T21:08:26.421Z"
   },
   {
    "duration": 1714,
    "start_time": "2022-10-18T21:08:47.128Z"
   },
   {
    "duration": 929,
    "start_time": "2022-10-18T21:08:48.844Z"
   },
   {
    "duration": 26,
    "start_time": "2022-10-18T21:08:49.775Z"
   },
   {
    "duration": 29,
    "start_time": "2022-10-18T21:08:49.804Z"
   },
   {
    "duration": 9,
    "start_time": "2022-10-18T21:08:49.835Z"
   },
   {
    "duration": 48,
    "start_time": "2022-10-18T21:08:49.846Z"
   },
   {
    "duration": 42,
    "start_time": "2022-10-18T21:08:49.896Z"
   },
   {
    "duration": 136,
    "start_time": "2022-10-18T21:08:49.940Z"
   },
   {
    "duration": 22,
    "start_time": "2022-10-18T21:08:50.077Z"
   },
   {
    "duration": 30,
    "start_time": "2022-10-18T21:08:50.102Z"
   },
   {
    "duration": 7,
    "start_time": "2022-10-18T21:08:50.133Z"
   },
   {
    "duration": 147,
    "start_time": "2022-10-18T21:08:50.141Z"
   },
   {
    "duration": 9,
    "start_time": "2022-10-18T21:08:50.290Z"
   },
   {
    "duration": 32,
    "start_time": "2022-10-18T21:08:50.300Z"
   },
   {
    "duration": 23,
    "start_time": "2022-10-18T21:08:50.334Z"
   },
   {
    "duration": 43,
    "start_time": "2022-10-18T21:08:50.359Z"
   },
   {
    "duration": 21,
    "start_time": "2022-10-18T21:08:50.404Z"
   },
   {
    "duration": 29,
    "start_time": "2022-10-18T21:08:50.426Z"
   },
   {
    "duration": 6,
    "start_time": "2022-10-18T21:08:50.457Z"
   },
   {
    "duration": 19,
    "start_time": "2022-10-18T21:08:50.465Z"
   },
   {
    "duration": 3,
    "start_time": "2022-10-18T21:08:50.486Z"
   },
   {
    "duration": 9,
    "start_time": "2022-10-18T21:08:50.490Z"
   },
   {
    "duration": 30,
    "start_time": "2022-10-18T21:08:50.500Z"
   },
   {
    "duration": 8,
    "start_time": "2022-10-18T21:08:50.531Z"
   },
   {
    "duration": 30,
    "start_time": "2022-10-18T21:08:50.542Z"
   },
   {
    "duration": 59,
    "start_time": "2022-10-18T21:08:50.574Z"
   },
   {
    "duration": 30,
    "start_time": "2022-10-18T21:08:50.635Z"
   },
   {
    "duration": 4,
    "start_time": "2022-10-18T21:08:50.668Z"
   },
   {
    "duration": 15,
    "start_time": "2022-10-18T21:08:50.673Z"
   },
   {
    "duration": 5640,
    "start_time": "2022-10-18T21:08:52.830Z"
   },
   {
    "duration": 119,
    "start_time": "2022-10-18T21:08:58.472Z"
   },
   {
    "duration": 113,
    "start_time": "2022-10-18T21:09:10.620Z"
   },
   {
    "duration": 103,
    "start_time": "2022-10-18T21:10:07.931Z"
   },
   {
    "duration": 98,
    "start_time": "2022-10-18T21:10:27.242Z"
   },
   {
    "duration": 170,
    "start_time": "2022-10-18T21:10:39.107Z"
   },
   {
    "duration": 103,
    "start_time": "2022-10-18T21:10:56.817Z"
   },
   {
    "duration": 15,
    "start_time": "2022-10-18T21:12:12.003Z"
   },
   {
    "duration": 154,
    "start_time": "2022-10-18T21:12:43.924Z"
   },
   {
    "duration": 114,
    "start_time": "2022-10-18T21:14:53.547Z"
   },
   {
    "duration": 9,
    "start_time": "2022-10-18T21:14:58.707Z"
   },
   {
    "duration": 1386,
    "start_time": "2022-10-18T21:15:39.877Z"
   },
   {
    "duration": 676,
    "start_time": "2022-10-18T21:15:41.265Z"
   },
   {
    "duration": 25,
    "start_time": "2022-10-18T21:15:41.943Z"
   },
   {
    "duration": 28,
    "start_time": "2022-10-18T21:15:41.970Z"
   },
   {
    "duration": 25,
    "start_time": "2022-10-18T21:15:42.000Z"
   },
   {
    "duration": 12,
    "start_time": "2022-10-18T21:15:42.026Z"
   },
   {
    "duration": 16,
    "start_time": "2022-10-18T21:15:42.040Z"
   },
   {
    "duration": 149,
    "start_time": "2022-10-18T21:15:42.058Z"
   },
   {
    "duration": 30,
    "start_time": "2022-10-18T21:15:42.209Z"
   },
   {
    "duration": 18,
    "start_time": "2022-10-18T21:15:42.243Z"
   },
   {
    "duration": 7,
    "start_time": "2022-10-18T21:15:42.263Z"
   },
   {
    "duration": 157,
    "start_time": "2022-10-18T21:15:42.272Z"
   },
   {
    "duration": 10,
    "start_time": "2022-10-18T21:15:42.431Z"
   },
   {
    "duration": 13,
    "start_time": "2022-10-18T21:15:42.443Z"
   },
   {
    "duration": 22,
    "start_time": "2022-10-18T21:15:42.458Z"
   },
   {
    "duration": 45,
    "start_time": "2022-10-18T21:15:42.481Z"
   },
   {
    "duration": 4,
    "start_time": "2022-10-18T21:15:42.528Z"
   },
   {
    "duration": 28,
    "start_time": "2022-10-18T21:15:42.533Z"
   },
   {
    "duration": 7,
    "start_time": "2022-10-18T21:15:42.563Z"
   },
   {
    "duration": 6,
    "start_time": "2022-10-18T21:15:42.573Z"
   },
   {
    "duration": 6,
    "start_time": "2022-10-18T21:15:42.581Z"
   },
   {
    "duration": 34,
    "start_time": "2022-10-18T21:15:42.588Z"
   },
   {
    "duration": 17,
    "start_time": "2022-10-18T21:15:42.623Z"
   },
   {
    "duration": 6,
    "start_time": "2022-10-18T21:15:42.643Z"
   },
   {
    "duration": 7,
    "start_time": "2022-10-18T21:15:42.651Z"
   },
   {
    "duration": 14,
    "start_time": "2022-10-18T21:15:42.659Z"
   },
   {
    "duration": 46,
    "start_time": "2022-10-18T21:15:42.675Z"
   },
   {
    "duration": 5,
    "start_time": "2022-10-18T21:15:42.724Z"
   },
   {
    "duration": 12,
    "start_time": "2022-10-18T21:15:42.731Z"
   },
   {
    "duration": 179,
    "start_time": "2022-10-18T21:15:45.267Z"
   },
   {
    "duration": 4,
    "start_time": "2022-10-18T21:15:58.447Z"
   },
   {
    "duration": 3872,
    "start_time": "2022-10-18T21:16:00.785Z"
   },
   {
    "duration": 120,
    "start_time": "2022-10-18T21:16:05.488Z"
   },
   {
    "duration": 64,
    "start_time": "2022-10-18T21:16:23.875Z"
   },
   {
    "duration": 3785,
    "start_time": "2022-10-18T21:22:13.915Z"
   },
   {
    "duration": 3745,
    "start_time": "2022-10-18T21:22:36.461Z"
   },
   {
    "duration": 160,
    "start_time": "2022-10-18T21:22:44.288Z"
   },
   {
    "duration": 3738,
    "start_time": "2022-10-18T21:23:34.620Z"
   },
   {
    "duration": 160,
    "start_time": "2022-10-18T21:23:38.360Z"
   },
   {
    "duration": 5,
    "start_time": "2022-10-18T21:24:17.883Z"
   },
   {
    "duration": 26,
    "start_time": "2022-10-18T21:24:30.171Z"
   },
   {
    "duration": 1493,
    "start_time": "2022-10-18T21:24:44.742Z"
   },
   {
    "duration": 663,
    "start_time": "2022-10-18T21:24:46.237Z"
   },
   {
    "duration": 37,
    "start_time": "2022-10-18T21:24:46.902Z"
   },
   {
    "duration": 22,
    "start_time": "2022-10-18T21:24:46.942Z"
   },
   {
    "duration": 7,
    "start_time": "2022-10-18T21:24:46.965Z"
   },
   {
    "duration": 11,
    "start_time": "2022-10-18T21:24:46.974Z"
   },
   {
    "duration": 33,
    "start_time": "2022-10-18T21:24:46.987Z"
   },
   {
    "duration": 135,
    "start_time": "2022-10-18T21:24:47.022Z"
   },
   {
    "duration": 22,
    "start_time": "2022-10-18T21:24:47.158Z"
   },
   {
    "duration": 37,
    "start_time": "2022-10-18T21:24:47.183Z"
   },
   {
    "duration": 6,
    "start_time": "2022-10-18T21:24:47.222Z"
   },
   {
    "duration": 134,
    "start_time": "2022-10-18T21:24:47.230Z"
   },
   {
    "duration": 8,
    "start_time": "2022-10-18T21:24:47.366Z"
   },
   {
    "duration": 12,
    "start_time": "2022-10-18T21:24:47.376Z"
   },
   {
    "duration": 41,
    "start_time": "2022-10-18T21:24:47.390Z"
   },
   {
    "duration": 14,
    "start_time": "2022-10-18T21:24:47.432Z"
   },
   {
    "duration": 5,
    "start_time": "2022-10-18T21:24:47.447Z"
   },
   {
    "duration": 28,
    "start_time": "2022-10-18T21:24:47.453Z"
   },
   {
    "duration": 6,
    "start_time": "2022-10-18T21:24:47.483Z"
   },
   {
    "duration": 34,
    "start_time": "2022-10-18T21:24:47.490Z"
   },
   {
    "duration": 2,
    "start_time": "2022-10-18T21:24:47.526Z"
   },
   {
    "duration": 11,
    "start_time": "2022-10-18T21:24:47.530Z"
   },
   {
    "duration": 22,
    "start_time": "2022-10-18T21:24:47.542Z"
   },
   {
    "duration": 4,
    "start_time": "2022-10-18T21:24:47.566Z"
   },
   {
    "duration": 5,
    "start_time": "2022-10-18T21:24:47.572Z"
   },
   {
    "duration": 7,
    "start_time": "2022-10-18T21:24:47.579Z"
   },
   {
    "duration": 43,
    "start_time": "2022-10-18T21:24:47.588Z"
   },
   {
    "duration": 4,
    "start_time": "2022-10-18T21:24:47.634Z"
   },
   {
    "duration": 6,
    "start_time": "2022-10-18T21:24:47.640Z"
   },
   {
    "duration": 4694,
    "start_time": "2022-10-18T21:24:47.647Z"
   },
   {
    "duration": 193,
    "start_time": "2022-10-18T21:24:58.255Z"
   },
   {
    "duration": 260,
    "start_time": "2022-10-18T21:25:04.835Z"
   },
   {
    "duration": 3450,
    "start_time": "2022-10-18T21:26:21.038Z"
   },
   {
    "duration": 3084,
    "start_time": "2022-10-18T21:26:52.782Z"
   },
   {
    "duration": 1497,
    "start_time": "2022-10-18T21:27:15.202Z"
   },
   {
    "duration": 665,
    "start_time": "2022-10-18T21:27:16.701Z"
   },
   {
    "duration": 25,
    "start_time": "2022-10-18T21:27:17.368Z"
   },
   {
    "duration": 32,
    "start_time": "2022-10-18T21:27:17.396Z"
   },
   {
    "duration": 10,
    "start_time": "2022-10-18T21:27:17.431Z"
   },
   {
    "duration": 23,
    "start_time": "2022-10-18T21:27:17.443Z"
   },
   {
    "duration": 43,
    "start_time": "2022-10-18T21:27:17.468Z"
   },
   {
    "duration": 139,
    "start_time": "2022-10-18T21:27:17.512Z"
   },
   {
    "duration": 23,
    "start_time": "2022-10-18T21:27:17.652Z"
   },
   {
    "duration": 34,
    "start_time": "2022-10-18T21:27:17.679Z"
   },
   {
    "duration": 28,
    "start_time": "2022-10-18T21:27:17.716Z"
   },
   {
    "duration": 151,
    "start_time": "2022-10-18T21:27:17.746Z"
   },
   {
    "duration": 9,
    "start_time": "2022-10-18T21:27:17.899Z"
   },
   {
    "duration": 19,
    "start_time": "2022-10-18T21:27:17.921Z"
   },
   {
    "duration": 41,
    "start_time": "2022-10-18T21:27:17.942Z"
   },
   {
    "duration": 27,
    "start_time": "2022-10-18T21:27:17.984Z"
   },
   {
    "duration": 16,
    "start_time": "2022-10-18T21:27:18.012Z"
   },
   {
    "duration": 40,
    "start_time": "2022-10-18T21:27:18.030Z"
   },
   {
    "duration": 7,
    "start_time": "2022-10-18T21:27:18.072Z"
   },
   {
    "duration": 12,
    "start_time": "2022-10-18T21:27:18.080Z"
   },
   {
    "duration": 5,
    "start_time": "2022-10-18T21:27:18.094Z"
   },
   {
    "duration": 18,
    "start_time": "2022-10-18T21:27:18.100Z"
   },
   {
    "duration": 33,
    "start_time": "2022-10-18T21:27:18.120Z"
   },
   {
    "duration": 18,
    "start_time": "2022-10-18T21:27:18.155Z"
   },
   {
    "duration": 13,
    "start_time": "2022-10-18T21:27:18.174Z"
   },
   {
    "duration": 25,
    "start_time": "2022-10-18T21:27:18.189Z"
   },
   {
    "duration": 32,
    "start_time": "2022-10-18T21:27:18.215Z"
   },
   {
    "duration": 4,
    "start_time": "2022-10-18T21:27:18.251Z"
   },
   {
    "duration": 11,
    "start_time": "2022-10-18T21:27:18.256Z"
   },
   {
    "duration": 3260,
    "start_time": "2022-10-18T21:27:18.269Z"
   },
   {
    "duration": 493,
    "start_time": "2022-10-18T21:27:21.531Z"
   },
   {
    "duration": 335,
    "start_time": "2022-10-18T21:27:22.026Z"
   },
   {
    "duration": 323,
    "start_time": "2022-10-18T21:27:22.364Z"
   },
   {
    "duration": 5,
    "start_time": "2022-10-18T21:27:22.689Z"
   },
   {
    "duration": 38,
    "start_time": "2022-10-18T21:27:22.696Z"
   },
   {
    "duration": 7,
    "start_time": "2022-10-18T21:27:22.736Z"
   },
   {
    "duration": 119,
    "start_time": "2022-10-18T21:27:22.745Z"
   },
   {
    "duration": 3,
    "start_time": "2022-10-18T21:27:22.866Z"
   },
   {
    "duration": 100,
    "start_time": "2022-10-18T21:27:22.870Z"
   },
   {
    "duration": 91,
    "start_time": "2022-10-18T21:27:22.972Z"
   },
   {
    "duration": 12,
    "start_time": "2022-10-18T21:27:23.064Z"
   },
   {
    "duration": 7,
    "start_time": "2022-10-18T21:27:23.078Z"
   },
   {
    "duration": 48,
    "start_time": "2022-10-18T21:27:23.086Z"
   },
   {
    "duration": 186,
    "start_time": "2022-10-18T21:27:23.137Z"
   },
   {
    "duration": 280,
    "start_time": "2022-10-18T21:27:23.325Z"
   },
   {
    "duration": 57,
    "start_time": "2022-10-18T21:29:12.063Z"
   },
   {
    "duration": 1420,
    "start_time": "2022-10-18T21:29:39.845Z"
   },
   {
    "duration": 670,
    "start_time": "2022-10-18T21:29:41.268Z"
   },
   {
    "duration": 25,
    "start_time": "2022-10-18T21:29:41.940Z"
   },
   {
    "duration": 17,
    "start_time": "2022-10-18T21:29:41.967Z"
   },
   {
    "duration": 8,
    "start_time": "2022-10-18T21:29:41.985Z"
   },
   {
    "duration": 31,
    "start_time": "2022-10-18T21:29:41.994Z"
   },
   {
    "duration": 16,
    "start_time": "2022-10-18T21:29:42.027Z"
   },
   {
    "duration": 142,
    "start_time": "2022-10-18T21:29:42.044Z"
   },
   {
    "duration": 22,
    "start_time": "2022-10-18T21:29:42.188Z"
   },
   {
    "duration": 23,
    "start_time": "2022-10-18T21:29:42.220Z"
   },
   {
    "duration": 7,
    "start_time": "2022-10-18T21:29:42.246Z"
   },
   {
    "duration": 148,
    "start_time": "2022-10-18T21:29:42.254Z"
   },
   {
    "duration": 17,
    "start_time": "2022-10-18T21:29:42.404Z"
   },
   {
    "duration": 11,
    "start_time": "2022-10-18T21:29:42.423Z"
   },
   {
    "duration": 22,
    "start_time": "2022-10-18T21:29:42.435Z"
   },
   {
    "duration": 13,
    "start_time": "2022-10-18T21:29:42.459Z"
   },
   {
    "duration": 5,
    "start_time": "2022-10-18T21:29:42.473Z"
   },
   {
    "duration": 53,
    "start_time": "2022-10-18T21:29:42.479Z"
   },
   {
    "duration": 6,
    "start_time": "2022-10-18T21:29:42.534Z"
   },
   {
    "duration": 6,
    "start_time": "2022-10-18T21:29:42.542Z"
   },
   {
    "duration": 3,
    "start_time": "2022-10-18T21:29:42.549Z"
   },
   {
    "duration": 12,
    "start_time": "2022-10-18T21:29:42.553Z"
   },
   {
    "duration": 24,
    "start_time": "2022-10-18T21:29:42.567Z"
   },
   {
    "duration": 5,
    "start_time": "2022-10-18T21:29:42.592Z"
   },
   {
    "duration": 3,
    "start_time": "2022-10-18T21:29:42.621Z"
   },
   {
    "duration": 7,
    "start_time": "2022-10-18T21:29:42.626Z"
   },
   {
    "duration": 24,
    "start_time": "2022-10-18T21:29:42.634Z"
   },
   {
    "duration": 4,
    "start_time": "2022-10-18T21:29:42.661Z"
   },
   {
    "duration": 7,
    "start_time": "2022-10-18T21:29:42.666Z"
   },
   {
    "duration": 3079,
    "start_time": "2022-10-18T21:29:42.674Z"
   },
   {
    "duration": 434,
    "start_time": "2022-10-18T21:29:45.755Z"
   },
   {
    "duration": 329,
    "start_time": "2022-10-18T21:29:46.191Z"
   },
   {
    "duration": 325,
    "start_time": "2022-10-18T21:29:46.522Z"
   },
   {
    "duration": 6,
    "start_time": "2022-10-18T21:29:46.849Z"
   },
   {
    "duration": 18,
    "start_time": "2022-10-18T21:29:46.857Z"
   },
   {
    "duration": 2,
    "start_time": "2022-10-18T21:29:46.877Z"
   },
   {
    "duration": 148,
    "start_time": "2022-10-18T21:29:46.881Z"
   },
   {
    "duration": 53,
    "start_time": "2022-10-18T21:29:47.030Z"
   },
   {
    "duration": 130,
    "start_time": "2022-10-18T21:30:26.172Z"
   },
   {
    "duration": 8,
    "start_time": "2022-10-18T21:30:34.734Z"
   },
   {
    "duration": 19,
    "start_time": "2022-10-18T21:30:35.027Z"
   },
   {
    "duration": 171,
    "start_time": "2022-10-18T21:30:35.190Z"
   },
   {
    "duration": 203,
    "start_time": "2022-10-18T21:30:35.444Z"
   },
   {
    "duration": 17,
    "start_time": "2022-10-18T21:32:26.239Z"
   },
   {
    "duration": 12,
    "start_time": "2022-10-18T21:35:22.662Z"
   },
   {
    "duration": 2862,
    "start_time": "2022-10-18T21:35:30.784Z"
   },
   {
    "duration": 1813,
    "start_time": "2022-10-19T11:42:14.032Z"
   },
   {
    "duration": 1488,
    "start_time": "2022-10-19T11:42:15.847Z"
   },
   {
    "duration": 29,
    "start_time": "2022-10-19T11:42:17.336Z"
   },
   {
    "duration": 20,
    "start_time": "2022-10-19T11:42:17.367Z"
   },
   {
    "duration": 8,
    "start_time": "2022-10-19T11:42:17.389Z"
   },
   {
    "duration": 29,
    "start_time": "2022-10-19T11:42:17.399Z"
   },
   {
    "duration": 20,
    "start_time": "2022-10-19T11:42:17.431Z"
   },
   {
    "duration": 156,
    "start_time": "2022-10-19T11:42:17.453Z"
   },
   {
    "duration": 30,
    "start_time": "2022-10-19T11:42:17.611Z"
   },
   {
    "duration": 24,
    "start_time": "2022-10-19T11:42:17.644Z"
   },
   {
    "duration": 7,
    "start_time": "2022-10-19T11:42:17.670Z"
   },
   {
    "duration": 143,
    "start_time": "2022-10-19T11:42:17.679Z"
   },
   {
    "duration": 9,
    "start_time": "2022-10-19T11:42:17.824Z"
   },
   {
    "duration": 15,
    "start_time": "2022-10-19T11:42:17.835Z"
   },
   {
    "duration": 27,
    "start_time": "2022-10-19T11:42:17.852Z"
   },
   {
    "duration": 48,
    "start_time": "2022-10-19T11:42:17.881Z"
   },
   {
    "duration": 6,
    "start_time": "2022-10-19T11:42:17.931Z"
   },
   {
    "duration": 37,
    "start_time": "2022-10-19T11:42:17.939Z"
   },
   {
    "duration": 7,
    "start_time": "2022-10-19T11:42:17.978Z"
   },
   {
    "duration": 15,
    "start_time": "2022-10-19T11:42:17.988Z"
   },
   {
    "duration": 10,
    "start_time": "2022-10-19T11:42:18.005Z"
   },
   {
    "duration": 12,
    "start_time": "2022-10-19T11:42:18.021Z"
   },
   {
    "duration": 23,
    "start_time": "2022-10-19T11:42:18.035Z"
   },
   {
    "duration": 6,
    "start_time": "2022-10-19T11:42:18.059Z"
   },
   {
    "duration": 8,
    "start_time": "2022-10-19T11:42:18.066Z"
   },
   {
    "duration": 13,
    "start_time": "2022-10-19T11:42:18.076Z"
   },
   {
    "duration": 40,
    "start_time": "2022-10-19T11:42:18.091Z"
   },
   {
    "duration": 5,
    "start_time": "2022-10-19T11:42:18.134Z"
   },
   {
    "duration": 8,
    "start_time": "2022-10-19T11:42:18.140Z"
   },
   {
    "duration": 3293,
    "start_time": "2022-10-19T11:42:18.150Z"
   },
   {
    "duration": 477,
    "start_time": "2022-10-19T11:42:21.444Z"
   },
   {
    "duration": 354,
    "start_time": "2022-10-19T11:42:21.922Z"
   },
   {
    "duration": 338,
    "start_time": "2022-10-19T11:42:22.279Z"
   },
   {
    "duration": 14,
    "start_time": "2022-10-19T11:42:22.621Z"
   },
   {
    "duration": 94,
    "start_time": "2022-10-19T11:42:22.637Z"
   },
   {
    "duration": 25,
    "start_time": "2022-10-19T11:42:22.733Z"
   },
   {
    "duration": 109,
    "start_time": "2022-10-19T11:42:22.761Z"
   },
   {
    "duration": 89,
    "start_time": "2022-10-19T11:42:22.873Z"
   },
   {
    "duration": 15,
    "start_time": "2022-10-19T11:42:22.964Z"
   },
   {
    "duration": 57,
    "start_time": "2022-10-19T11:42:22.981Z"
   },
   {
    "duration": 45,
    "start_time": "2022-10-19T11:42:23.040Z"
   },
   {
    "duration": 197,
    "start_time": "2022-10-19T11:42:23.087Z"
   },
   {
    "duration": 269,
    "start_time": "2022-10-19T11:42:23.286Z"
   },
   {
    "duration": 128,
    "start_time": "2022-10-19T11:44:06.018Z"
   },
   {
    "duration": 11,
    "start_time": "2022-10-19T11:44:21.456Z"
   },
   {
    "duration": 11,
    "start_time": "2022-10-19T11:44:29.363Z"
   },
   {
    "duration": 3339,
    "start_time": "2022-10-19T11:44:48.953Z"
   },
   {
    "duration": 55,
    "start_time": "2022-10-19T11:45:35.771Z"
   },
   {
    "duration": 3638,
    "start_time": "2022-10-19T11:45:42.430Z"
   },
   {
    "duration": 12,
    "start_time": "2022-10-19T11:47:54.791Z"
   },
   {
    "duration": 2976,
    "start_time": "2022-10-19T11:48:14.129Z"
   },
   {
    "duration": 21,
    "start_time": "2022-10-19T11:48:28.878Z"
   },
   {
    "duration": 20,
    "start_time": "2022-10-19T11:48:49.152Z"
   },
   {
    "duration": 50,
    "start_time": "2022-10-19T11:48:57.042Z"
   },
   {
    "duration": 1587,
    "start_time": "2022-10-19T11:48:59.601Z"
   },
   {
    "duration": 712,
    "start_time": "2022-10-19T11:49:01.191Z"
   },
   {
    "duration": 34,
    "start_time": "2022-10-19T11:49:01.905Z"
   },
   {
    "duration": 27,
    "start_time": "2022-10-19T11:49:01.942Z"
   },
   {
    "duration": 7,
    "start_time": "2022-10-19T11:49:01.971Z"
   },
   {
    "duration": 20,
    "start_time": "2022-10-19T11:49:01.980Z"
   },
   {
    "duration": 34,
    "start_time": "2022-10-19T11:49:02.002Z"
   },
   {
    "duration": 155,
    "start_time": "2022-10-19T11:49:02.038Z"
   },
   {
    "duration": 30,
    "start_time": "2022-10-19T11:49:02.195Z"
   },
   {
    "duration": 19,
    "start_time": "2022-10-19T11:49:02.228Z"
   },
   {
    "duration": 6,
    "start_time": "2022-10-19T11:49:02.250Z"
   },
   {
    "duration": 155,
    "start_time": "2022-10-19T11:49:02.258Z"
   },
   {
    "duration": 9,
    "start_time": "2022-10-19T11:49:02.420Z"
   },
   {
    "duration": 50,
    "start_time": "2022-10-19T11:49:02.431Z"
   },
   {
    "duration": 55,
    "start_time": "2022-10-19T11:49:02.483Z"
   },
   {
    "duration": 44,
    "start_time": "2022-10-19T11:49:02.540Z"
   },
   {
    "duration": 32,
    "start_time": "2022-10-19T11:49:02.586Z"
   },
   {
    "duration": 46,
    "start_time": "2022-10-19T11:49:02.620Z"
   },
   {
    "duration": 36,
    "start_time": "2022-10-19T11:49:02.667Z"
   },
   {
    "duration": 23,
    "start_time": "2022-10-19T11:49:02.705Z"
   },
   {
    "duration": 9,
    "start_time": "2022-10-19T11:49:02.730Z"
   },
   {
    "duration": 32,
    "start_time": "2022-10-19T11:49:02.741Z"
   },
   {
    "duration": 38,
    "start_time": "2022-10-19T11:49:02.775Z"
   },
   {
    "duration": 5,
    "start_time": "2022-10-19T11:49:02.815Z"
   },
   {
    "duration": 19,
    "start_time": "2022-10-19T11:49:02.822Z"
   },
   {
    "duration": 30,
    "start_time": "2022-10-19T11:49:02.843Z"
   },
   {
    "duration": 41,
    "start_time": "2022-10-19T11:49:02.875Z"
   },
   {
    "duration": 4,
    "start_time": "2022-10-19T11:49:02.920Z"
   },
   {
    "duration": 31,
    "start_time": "2022-10-19T11:49:02.926Z"
   },
   {
    "duration": 82,
    "start_time": "2022-10-19T11:49:10.720Z"
   },
   {
    "duration": 5,
    "start_time": "2022-10-19T11:53:00.616Z"
   },
   {
    "duration": 14,
    "start_time": "2022-10-19T11:53:01.360Z"
   },
   {
    "duration": 14,
    "start_time": "2022-10-19T11:53:08.290Z"
   },
   {
    "duration": 1557,
    "start_time": "2022-10-19T11:53:24.375Z"
   },
   {
    "duration": 678,
    "start_time": "2022-10-19T11:53:25.933Z"
   },
   {
    "duration": 31,
    "start_time": "2022-10-19T11:53:26.613Z"
   },
   {
    "duration": 20,
    "start_time": "2022-10-19T11:53:26.646Z"
   },
   {
    "duration": 10,
    "start_time": "2022-10-19T11:53:26.667Z"
   },
   {
    "duration": 25,
    "start_time": "2022-10-19T11:53:26.678Z"
   },
   {
    "duration": 32,
    "start_time": "2022-10-19T11:53:26.705Z"
   },
   {
    "duration": 143,
    "start_time": "2022-10-19T11:53:26.739Z"
   },
   {
    "duration": 22,
    "start_time": "2022-10-19T11:53:26.884Z"
   },
   {
    "duration": 22,
    "start_time": "2022-10-19T11:53:26.919Z"
   },
   {
    "duration": 7,
    "start_time": "2022-10-19T11:53:26.943Z"
   },
   {
    "duration": 156,
    "start_time": "2022-10-19T11:53:26.952Z"
   },
   {
    "duration": 17,
    "start_time": "2022-10-19T11:53:27.110Z"
   },
   {
    "duration": 14,
    "start_time": "2022-10-19T11:53:27.129Z"
   },
   {
    "duration": 24,
    "start_time": "2022-10-19T11:53:27.145Z"
   },
   {
    "duration": 15,
    "start_time": "2022-10-19T11:53:27.171Z"
   },
   {
    "duration": 6,
    "start_time": "2022-10-19T11:53:27.221Z"
   },
   {
    "duration": 28,
    "start_time": "2022-10-19T11:53:27.229Z"
   },
   {
    "duration": 8,
    "start_time": "2022-10-19T11:53:27.259Z"
   },
   {
    "duration": 9,
    "start_time": "2022-10-19T11:53:27.268Z"
   },
   {
    "duration": 4,
    "start_time": "2022-10-19T11:53:27.279Z"
   },
   {
    "duration": 39,
    "start_time": "2022-10-19T11:53:27.285Z"
   },
   {
    "duration": 18,
    "start_time": "2022-10-19T11:53:27.326Z"
   },
   {
    "duration": 6,
    "start_time": "2022-10-19T11:53:27.346Z"
   },
   {
    "duration": 6,
    "start_time": "2022-10-19T11:53:27.354Z"
   },
   {
    "duration": 11,
    "start_time": "2022-10-19T11:53:27.362Z"
   },
   {
    "duration": 52,
    "start_time": "2022-10-19T11:53:27.375Z"
   },
   {
    "duration": 5,
    "start_time": "2022-10-19T11:53:27.431Z"
   },
   {
    "duration": 23,
    "start_time": "2022-10-19T11:53:27.438Z"
   },
   {
    "duration": 4,
    "start_time": "2022-10-19T11:53:27.463Z"
   },
   {
    "duration": 21,
    "start_time": "2022-10-19T11:53:27.469Z"
   },
   {
    "duration": 4,
    "start_time": "2022-10-19T11:54:37.086Z"
   },
   {
    "duration": 19,
    "start_time": "2022-10-19T11:54:37.805Z"
   },
   {
    "duration": 12,
    "start_time": "2022-10-19T11:54:38.565Z"
   },
   {
    "duration": 4,
    "start_time": "2022-10-19T11:54:43.780Z"
   },
   {
    "duration": 15,
    "start_time": "2022-10-19T11:54:45.596Z"
   },
   {
    "duration": 13,
    "start_time": "2022-10-19T11:54:46.352Z"
   },
   {
    "duration": 1476,
    "start_time": "2022-10-19T11:54:53.847Z"
   },
   {
    "duration": 733,
    "start_time": "2022-10-19T11:54:55.325Z"
   },
   {
    "duration": 31,
    "start_time": "2022-10-19T11:54:56.060Z"
   },
   {
    "duration": 36,
    "start_time": "2022-10-19T11:54:56.094Z"
   },
   {
    "duration": 10,
    "start_time": "2022-10-19T11:54:56.132Z"
   },
   {
    "duration": 19,
    "start_time": "2022-10-19T11:54:56.144Z"
   },
   {
    "duration": 20,
    "start_time": "2022-10-19T11:54:56.165Z"
   },
   {
    "duration": 159,
    "start_time": "2022-10-19T11:54:56.188Z"
   },
   {
    "duration": 23,
    "start_time": "2022-10-19T11:54:56.348Z"
   },
   {
    "duration": 27,
    "start_time": "2022-10-19T11:54:56.374Z"
   },
   {
    "duration": 18,
    "start_time": "2022-10-19T11:54:56.403Z"
   },
   {
    "duration": 144,
    "start_time": "2022-10-19T11:54:56.423Z"
   },
   {
    "duration": 10,
    "start_time": "2022-10-19T11:54:56.569Z"
   },
   {
    "duration": 23,
    "start_time": "2022-10-19T11:54:56.581Z"
   },
   {
    "duration": 40,
    "start_time": "2022-10-19T11:54:56.607Z"
   },
   {
    "duration": 24,
    "start_time": "2022-10-19T11:54:56.650Z"
   },
   {
    "duration": 5,
    "start_time": "2022-10-19T11:54:56.677Z"
   },
   {
    "duration": 54,
    "start_time": "2022-10-19T11:54:56.684Z"
   },
   {
    "duration": 11,
    "start_time": "2022-10-19T11:54:56.740Z"
   },
   {
    "duration": 9,
    "start_time": "2022-10-19T11:54:56.753Z"
   },
   {
    "duration": 9,
    "start_time": "2022-10-19T11:54:56.764Z"
   },
   {
    "duration": 9,
    "start_time": "2022-10-19T11:54:56.776Z"
   },
   {
    "duration": 45,
    "start_time": "2022-10-19T11:54:56.787Z"
   },
   {
    "duration": 15,
    "start_time": "2022-10-19T11:54:56.835Z"
   },
   {
    "duration": 15,
    "start_time": "2022-10-19T11:54:56.852Z"
   },
   {
    "duration": 13,
    "start_time": "2022-10-19T11:54:56.869Z"
   },
   {
    "duration": 44,
    "start_time": "2022-10-19T11:54:56.884Z"
   },
   {
    "duration": 4,
    "start_time": "2022-10-19T11:54:56.931Z"
   },
   {
    "duration": 22,
    "start_time": "2022-10-19T11:54:56.937Z"
   },
   {
    "duration": 4,
    "start_time": "2022-10-19T11:54:56.961Z"
   },
   {
    "duration": 182,
    "start_time": "2022-10-19T11:54:56.967Z"
   },
   {
    "duration": 3,
    "start_time": "2022-10-19T11:55:38.495Z"
   },
   {
    "duration": 55,
    "start_time": "2022-10-19T11:55:38.979Z"
   },
   {
    "duration": 18,
    "start_time": "2022-10-19T11:55:39.817Z"
   },
   {
    "duration": 4,
    "start_time": "2022-10-19T11:56:03.960Z"
   },
   {
    "duration": 52,
    "start_time": "2022-10-19T11:56:04.537Z"
   },
   {
    "duration": 4,
    "start_time": "2022-10-19T11:56:22.275Z"
   },
   {
    "duration": 3329,
    "start_time": "2022-10-19T11:56:22.896Z"
   },
   {
    "duration": 18,
    "start_time": "2022-10-19T11:56:35.867Z"
   },
   {
    "duration": 5,
    "start_time": "2022-10-19T11:56:36.464Z"
   },
   {
    "duration": 4,
    "start_time": "2022-10-19T11:56:40.641Z"
   },
   {
    "duration": 3363,
    "start_time": "2022-10-19T11:56:41.055Z"
   },
   {
    "duration": 18,
    "start_time": "2022-10-19T11:56:44.421Z"
   },
   {
    "duration": 3,
    "start_time": "2022-10-19T12:00:43.703Z"
   },
   {
    "duration": 3136,
    "start_time": "2022-10-19T12:00:44.127Z"
   },
   {
    "duration": 16,
    "start_time": "2022-10-19T12:00:47.265Z"
   },
   {
    "duration": 4,
    "start_time": "2022-10-19T12:03:05.528Z"
   },
   {
    "duration": 50,
    "start_time": "2022-10-19T12:03:05.887Z"
   },
   {
    "duration": 16,
    "start_time": "2022-10-19T12:03:06.503Z"
   },
   {
    "duration": 4,
    "start_time": "2022-10-19T12:03:31.696Z"
   },
   {
    "duration": 54,
    "start_time": "2022-10-19T12:03:34.034Z"
   },
   {
    "duration": 3,
    "start_time": "2022-10-19T12:03:50.887Z"
   },
   {
    "duration": 4,
    "start_time": "2022-10-19T12:03:55.607Z"
   },
   {
    "duration": 52,
    "start_time": "2022-10-19T12:03:58.750Z"
   },
   {
    "duration": 1745,
    "start_time": "2022-10-19T12:04:19.840Z"
   },
   {
    "duration": 727,
    "start_time": "2022-10-19T12:04:21.587Z"
   },
   {
    "duration": 29,
    "start_time": "2022-10-19T12:04:22.316Z"
   },
   {
    "duration": 19,
    "start_time": "2022-10-19T12:04:22.347Z"
   },
   {
    "duration": 18,
    "start_time": "2022-10-19T12:04:22.368Z"
   },
   {
    "duration": 43,
    "start_time": "2022-10-19T12:04:22.388Z"
   },
   {
    "duration": 30,
    "start_time": "2022-10-19T12:04:22.433Z"
   },
   {
    "duration": 137,
    "start_time": "2022-10-19T12:04:22.465Z"
   },
   {
    "duration": 26,
    "start_time": "2022-10-19T12:04:22.604Z"
   },
   {
    "duration": 148,
    "start_time": "2022-10-19T12:04:22.633Z"
   },
   {
    "duration": 9,
    "start_time": "2022-10-19T12:04:22.783Z"
   },
   {
    "duration": 150,
    "start_time": "2022-10-19T12:04:22.794Z"
   },
   {
    "duration": 10,
    "start_time": "2022-10-19T12:04:22.946Z"
   },
   {
    "duration": 23,
    "start_time": "2022-10-19T12:04:22.959Z"
   },
   {
    "duration": 38,
    "start_time": "2022-10-19T12:04:22.984Z"
   },
   {
    "duration": 15,
    "start_time": "2022-10-19T12:04:23.024Z"
   },
   {
    "duration": 6,
    "start_time": "2022-10-19T12:04:23.042Z"
   },
   {
    "duration": 36,
    "start_time": "2022-10-19T12:04:23.050Z"
   },
   {
    "duration": 38,
    "start_time": "2022-10-19T12:04:23.088Z"
   },
   {
    "duration": 17,
    "start_time": "2022-10-19T12:04:23.128Z"
   },
   {
    "duration": 24,
    "start_time": "2022-10-19T12:04:23.147Z"
   },
   {
    "duration": 14,
    "start_time": "2022-10-19T12:04:23.174Z"
   },
   {
    "duration": 28,
    "start_time": "2022-10-19T12:04:23.190Z"
   },
   {
    "duration": 14,
    "start_time": "2022-10-19T12:04:23.220Z"
   },
   {
    "duration": 14,
    "start_time": "2022-10-19T12:04:23.236Z"
   },
   {
    "duration": 18,
    "start_time": "2022-10-19T12:04:23.252Z"
   },
   {
    "duration": 35,
    "start_time": "2022-10-19T12:04:23.272Z"
   },
   {
    "duration": 5,
    "start_time": "2022-10-19T12:04:23.311Z"
   },
   {
    "duration": 34,
    "start_time": "2022-10-19T12:04:23.318Z"
   },
   {
    "duration": 15,
    "start_time": "2022-10-19T12:04:30.814Z"
   },
   {
    "duration": 3,
    "start_time": "2022-10-19T12:04:31.676Z"
   },
   {
    "duration": 174,
    "start_time": "2022-10-19T12:04:32.950Z"
   },
   {
    "duration": 3,
    "start_time": "2022-10-19T12:05:19.333Z"
   },
   {
    "duration": 71,
    "start_time": "2022-10-19T12:05:20.063Z"
   },
   {
    "duration": 14,
    "start_time": "2022-10-19T12:05:23.732Z"
   },
   {
    "duration": 3,
    "start_time": "2022-10-19T12:05:48.797Z"
   },
   {
    "duration": 56,
    "start_time": "2022-10-19T12:05:49.104Z"
   },
   {
    "duration": 3,
    "start_time": "2022-10-19T12:06:36.037Z"
   },
   {
    "duration": 49,
    "start_time": "2022-10-19T12:06:36.592Z"
   },
   {
    "duration": 4,
    "start_time": "2022-10-19T12:06:44.484Z"
   },
   {
    "duration": 3237,
    "start_time": "2022-10-19T12:06:45.399Z"
   },
   {
    "duration": 19,
    "start_time": "2022-10-19T12:06:52.844Z"
   },
   {
    "duration": 14,
    "start_time": "2022-10-19T12:06:57.317Z"
   },
   {
    "duration": 1521,
    "start_time": "2022-10-19T12:07:03.731Z"
   },
   {
    "duration": 684,
    "start_time": "2022-10-19T12:07:05.254Z"
   },
   {
    "duration": 35,
    "start_time": "2022-10-19T12:07:05.940Z"
   },
   {
    "duration": 23,
    "start_time": "2022-10-19T12:07:05.978Z"
   },
   {
    "duration": 23,
    "start_time": "2022-10-19T12:07:06.003Z"
   },
   {
    "duration": 33,
    "start_time": "2022-10-19T12:07:06.028Z"
   },
   {
    "duration": 26,
    "start_time": "2022-10-19T12:07:06.062Z"
   },
   {
    "duration": 146,
    "start_time": "2022-10-19T12:07:06.090Z"
   },
   {
    "duration": 32,
    "start_time": "2022-10-19T12:07:06.239Z"
   },
   {
    "duration": 55,
    "start_time": "2022-10-19T12:07:06.274Z"
   },
   {
    "duration": 6,
    "start_time": "2022-10-19T12:07:06.332Z"
   },
   {
    "duration": 149,
    "start_time": "2022-10-19T12:07:06.340Z"
   },
   {
    "duration": 9,
    "start_time": "2022-10-19T12:07:06.490Z"
   },
   {
    "duration": 27,
    "start_time": "2022-10-19T12:07:06.501Z"
   },
   {
    "duration": 37,
    "start_time": "2022-10-19T12:07:06.531Z"
   },
   {
    "duration": 46,
    "start_time": "2022-10-19T12:07:06.570Z"
   },
   {
    "duration": 13,
    "start_time": "2022-10-19T12:07:06.619Z"
   },
   {
    "duration": 41,
    "start_time": "2022-10-19T12:07:06.634Z"
   },
   {
    "duration": 7,
    "start_time": "2022-10-19T12:07:06.677Z"
   },
   {
    "duration": 21,
    "start_time": "2022-10-19T12:07:06.685Z"
   },
   {
    "duration": 15,
    "start_time": "2022-10-19T12:07:06.708Z"
   },
   {
    "duration": 46,
    "start_time": "2022-10-19T12:07:06.725Z"
   },
   {
    "duration": 40,
    "start_time": "2022-10-19T12:07:06.774Z"
   },
   {
    "duration": 6,
    "start_time": "2022-10-19T12:07:06.816Z"
   },
   {
    "duration": 23,
    "start_time": "2022-10-19T12:07:06.824Z"
   },
   {
    "duration": 18,
    "start_time": "2022-10-19T12:07:06.850Z"
   },
   {
    "duration": 39,
    "start_time": "2022-10-19T12:07:06.870Z"
   },
   {
    "duration": 5,
    "start_time": "2022-10-19T12:07:06.914Z"
   },
   {
    "duration": 32,
    "start_time": "2022-10-19T12:07:06.921Z"
   },
   {
    "duration": 5,
    "start_time": "2022-10-19T12:07:06.955Z"
   },
   {
    "duration": 3457,
    "start_time": "2022-10-19T12:07:06.962Z"
   },
   {
    "duration": 20,
    "start_time": "2022-10-19T12:07:11.500Z"
   },
   {
    "duration": 4,
    "start_time": "2022-10-19T12:11:55.606Z"
   },
   {
    "duration": 152,
    "start_time": "2022-10-19T12:11:58.774Z"
   },
   {
    "duration": 15,
    "start_time": "2022-10-19T12:12:18.743Z"
   },
   {
    "duration": 163,
    "start_time": "2022-10-19T12:12:42.284Z"
   },
   {
    "duration": 28,
    "start_time": "2022-10-19T12:12:42.949Z"
   },
   {
    "duration": 56,
    "start_time": "2022-10-19T12:13:52.590Z"
   },
   {
    "duration": 29,
    "start_time": "2022-10-19T12:13:53.233Z"
   },
   {
    "duration": 5,
    "start_time": "2022-10-19T12:14:10.252Z"
   },
   {
    "duration": 25,
    "start_time": "2022-10-19T12:14:10.829Z"
   },
   {
    "duration": 4,
    "start_time": "2022-10-19T12:15:43.829Z"
   },
   {
    "duration": 27,
    "start_time": "2022-10-19T12:15:44.335Z"
   },
   {
    "duration": 1523,
    "start_time": "2022-10-19T12:15:52.038Z"
   },
   {
    "duration": 732,
    "start_time": "2022-10-19T12:15:53.563Z"
   },
   {
    "duration": 37,
    "start_time": "2022-10-19T12:15:54.297Z"
   },
   {
    "duration": 75,
    "start_time": "2022-10-19T12:15:54.336Z"
   },
   {
    "duration": 36,
    "start_time": "2022-10-19T12:15:54.413Z"
   },
   {
    "duration": 68,
    "start_time": "2022-10-19T12:15:54.451Z"
   },
   {
    "duration": 34,
    "start_time": "2022-10-19T12:15:54.521Z"
   },
   {
    "duration": 151,
    "start_time": "2022-10-19T12:15:54.557Z"
   },
   {
    "duration": 25,
    "start_time": "2022-10-19T12:15:54.710Z"
   },
   {
    "duration": 25,
    "start_time": "2022-10-19T12:15:54.737Z"
   },
   {
    "duration": 7,
    "start_time": "2022-10-19T12:15:54.764Z"
   },
   {
    "duration": 159,
    "start_time": "2022-10-19T12:15:54.773Z"
   },
   {
    "duration": 9,
    "start_time": "2022-10-19T12:15:54.934Z"
   },
   {
    "duration": 15,
    "start_time": "2022-10-19T12:15:54.944Z"
   },
   {
    "duration": 27,
    "start_time": "2022-10-19T12:15:54.961Z"
   },
   {
    "duration": 44,
    "start_time": "2022-10-19T12:15:54.990Z"
   },
   {
    "duration": 20,
    "start_time": "2022-10-19T12:15:55.035Z"
   },
   {
    "duration": 41,
    "start_time": "2022-10-19T12:15:55.057Z"
   },
   {
    "duration": 7,
    "start_time": "2022-10-19T12:15:55.100Z"
   },
   {
    "duration": 43,
    "start_time": "2022-10-19T12:15:55.109Z"
   },
   {
    "duration": 16,
    "start_time": "2022-10-19T12:15:55.154Z"
   },
   {
    "duration": 26,
    "start_time": "2022-10-19T12:15:55.172Z"
   },
   {
    "duration": 23,
    "start_time": "2022-10-19T12:15:55.200Z"
   },
   {
    "duration": 6,
    "start_time": "2022-10-19T12:15:55.225Z"
   },
   {
    "duration": 12,
    "start_time": "2022-10-19T12:15:55.233Z"
   },
   {
    "duration": 26,
    "start_time": "2022-10-19T12:15:55.247Z"
   },
   {
    "duration": 37,
    "start_time": "2022-10-19T12:15:55.275Z"
   },
   {
    "duration": 16,
    "start_time": "2022-10-19T12:15:55.315Z"
   },
   {
    "duration": 32,
    "start_time": "2022-10-19T12:15:55.333Z"
   },
   {
    "duration": 4,
    "start_time": "2022-10-19T12:15:59.371Z"
   },
   {
    "duration": 145,
    "start_time": "2022-10-19T12:15:59.377Z"
   },
   {
    "duration": 70,
    "start_time": "2022-10-19T12:16:09.079Z"
   },
   {
    "duration": 27,
    "start_time": "2022-10-19T12:16:09.574Z"
   },
   {
    "duration": 20,
    "start_time": "2022-10-19T12:16:10.844Z"
   },
   {
    "duration": 4,
    "start_time": "2022-10-19T12:16:22.157Z"
   },
   {
    "duration": 3322,
    "start_time": "2022-10-19T12:16:25.037Z"
   },
   {
    "duration": 17,
    "start_time": "2022-10-19T12:16:29.413Z"
   },
   {
    "duration": 4,
    "start_time": "2022-10-19T12:16:52.340Z"
   },
   {
    "duration": 29,
    "start_time": "2022-10-19T12:16:52.740Z"
   },
   {
    "duration": 1575,
    "start_time": "2022-10-19T12:17:16.092Z"
   },
   {
    "duration": 744,
    "start_time": "2022-10-19T12:17:17.669Z"
   },
   {
    "duration": 34,
    "start_time": "2022-10-19T12:17:18.415Z"
   },
   {
    "duration": 22,
    "start_time": "2022-10-19T12:17:18.451Z"
   },
   {
    "duration": 9,
    "start_time": "2022-10-19T12:17:18.476Z"
   },
   {
    "duration": 58,
    "start_time": "2022-10-19T12:17:18.486Z"
   },
   {
    "duration": 20,
    "start_time": "2022-10-19T12:17:18.546Z"
   },
   {
    "duration": 158,
    "start_time": "2022-10-19T12:17:18.568Z"
   },
   {
    "duration": 24,
    "start_time": "2022-10-19T12:17:18.728Z"
   },
   {
    "duration": 38,
    "start_time": "2022-10-19T12:17:18.754Z"
   },
   {
    "duration": 18,
    "start_time": "2022-10-19T12:17:18.794Z"
   },
   {
    "duration": 166,
    "start_time": "2022-10-19T12:17:18.814Z"
   },
   {
    "duration": 11,
    "start_time": "2022-10-19T12:17:18.983Z"
   },
   {
    "duration": 28,
    "start_time": "2022-10-19T12:17:18.998Z"
   },
   {
    "duration": 31,
    "start_time": "2022-10-19T12:17:19.029Z"
   },
   {
    "duration": 21,
    "start_time": "2022-10-19T12:17:19.062Z"
   },
   {
    "duration": 8,
    "start_time": "2022-10-19T12:17:19.086Z"
   },
   {
    "duration": 32,
    "start_time": "2022-10-19T12:17:19.120Z"
   },
   {
    "duration": 10,
    "start_time": "2022-10-19T12:17:19.154Z"
   },
   {
    "duration": 23,
    "start_time": "2022-10-19T12:17:19.167Z"
   },
   {
    "duration": 21,
    "start_time": "2022-10-19T12:17:19.193Z"
   },
   {
    "duration": 20,
    "start_time": "2022-10-19T12:17:19.216Z"
   },
   {
    "duration": 31,
    "start_time": "2022-10-19T12:17:19.238Z"
   },
   {
    "duration": 16,
    "start_time": "2022-10-19T12:17:19.270Z"
   },
   {
    "duration": 9,
    "start_time": "2022-10-19T12:17:19.288Z"
   },
   {
    "duration": 15,
    "start_time": "2022-10-19T12:17:19.299Z"
   },
   {
    "duration": 25,
    "start_time": "2022-10-19T12:17:19.316Z"
   },
   {
    "duration": 5,
    "start_time": "2022-10-19T12:17:19.343Z"
   },
   {
    "duration": 23,
    "start_time": "2022-10-19T12:17:19.349Z"
   },
   {
    "duration": 146,
    "start_time": "2022-10-19T12:17:23.476Z"
   },
   {
    "duration": 4,
    "start_time": "2022-10-19T12:17:27.556Z"
   },
   {
    "duration": 40,
    "start_time": "2022-10-19T12:17:29.046Z"
   },
   {
    "duration": 4,
    "start_time": "2022-10-19T12:41:03.045Z"
   },
   {
    "duration": 24,
    "start_time": "2022-10-19T12:41:03.758Z"
   },
   {
    "duration": 4,
    "start_time": "2022-10-19T12:41:15.684Z"
   },
   {
    "duration": 36,
    "start_time": "2022-10-19T12:41:16.197Z"
   },
   {
    "duration": 5,
    "start_time": "2022-10-19T12:41:39.812Z"
   },
   {
    "duration": 3231,
    "start_time": "2022-10-19T12:41:40.276Z"
   },
   {
    "duration": 19,
    "start_time": "2022-10-19T12:41:44.568Z"
   },
   {
    "duration": 5,
    "start_time": "2022-10-19T12:41:59.864Z"
   },
   {
    "duration": 3367,
    "start_time": "2022-10-19T12:42:00.245Z"
   },
   {
    "duration": 19,
    "start_time": "2022-10-19T12:42:03.615Z"
   },
   {
    "duration": 3,
    "start_time": "2022-10-19T12:42:15.334Z"
   },
   {
    "duration": 35,
    "start_time": "2022-10-19T12:42:15.772Z"
   },
   {
    "duration": 15,
    "start_time": "2022-10-19T12:42:16.218Z"
   },
   {
    "duration": 4,
    "start_time": "2022-10-19T12:51:10.204Z"
   },
   {
    "duration": 8,
    "start_time": "2022-10-19T12:51:10.501Z"
   },
   {
    "duration": 18,
    "start_time": "2022-10-19T12:51:14.144Z"
   },
   {
    "duration": 1570,
    "start_time": "2022-10-19T12:51:24.783Z"
   },
   {
    "duration": 734,
    "start_time": "2022-10-19T12:51:26.355Z"
   },
   {
    "duration": 34,
    "start_time": "2022-10-19T12:51:27.091Z"
   },
   {
    "duration": 21,
    "start_time": "2022-10-19T12:51:27.127Z"
   },
   {
    "duration": 8,
    "start_time": "2022-10-19T12:51:27.150Z"
   },
   {
    "duration": 16,
    "start_time": "2022-10-19T12:51:27.160Z"
   },
   {
    "duration": 50,
    "start_time": "2022-10-19T12:51:27.178Z"
   },
   {
    "duration": 155,
    "start_time": "2022-10-19T12:51:27.230Z"
   },
   {
    "duration": 38,
    "start_time": "2022-10-19T12:51:27.387Z"
   },
   {
    "duration": 35,
    "start_time": "2022-10-19T12:51:27.429Z"
   },
   {
    "duration": 17,
    "start_time": "2022-10-19T12:51:27.467Z"
   },
   {
    "duration": 163,
    "start_time": "2022-10-19T12:51:27.485Z"
   },
   {
    "duration": 12,
    "start_time": "2022-10-19T12:51:27.650Z"
   },
   {
    "duration": 32,
    "start_time": "2022-10-19T12:51:27.664Z"
   },
   {
    "duration": 36,
    "start_time": "2022-10-19T12:51:27.698Z"
   },
   {
    "duration": 36,
    "start_time": "2022-10-19T12:51:27.736Z"
   },
   {
    "duration": 5,
    "start_time": "2022-10-19T12:51:27.775Z"
   },
   {
    "duration": 36,
    "start_time": "2022-10-19T12:51:27.782Z"
   },
   {
    "duration": 9,
    "start_time": "2022-10-19T12:51:27.820Z"
   },
   {
    "duration": 17,
    "start_time": "2022-10-19T12:51:27.831Z"
   },
   {
    "duration": 5,
    "start_time": "2022-10-19T12:51:27.850Z"
   },
   {
    "duration": 11,
    "start_time": "2022-10-19T12:51:27.858Z"
   },
   {
    "duration": 17,
    "start_time": "2022-10-19T12:51:27.871Z"
   },
   {
    "duration": 32,
    "start_time": "2022-10-19T12:51:27.890Z"
   },
   {
    "duration": 8,
    "start_time": "2022-10-19T12:51:27.924Z"
   },
   {
    "duration": 10,
    "start_time": "2022-10-19T12:51:27.934Z"
   },
   {
    "duration": 29,
    "start_time": "2022-10-19T12:51:27.945Z"
   },
   {
    "duration": 5,
    "start_time": "2022-10-19T12:51:27.977Z"
   },
   {
    "duration": 41,
    "start_time": "2022-10-19T12:51:27.984Z"
   },
   {
    "duration": 4,
    "start_time": "2022-10-19T12:51:28.027Z"
   },
   {
    "duration": 11,
    "start_time": "2022-10-19T12:51:29.577Z"
   },
   {
    "duration": 18,
    "start_time": "2022-10-19T12:51:30.127Z"
   },
   {
    "duration": 12,
    "start_time": "2022-10-19T12:51:41.026Z"
   },
   {
    "duration": 18,
    "start_time": "2022-10-19T12:51:41.464Z"
   },
   {
    "duration": 9,
    "start_time": "2022-10-19T12:52:08.769Z"
   },
   {
    "duration": 17,
    "start_time": "2022-10-19T12:52:09.481Z"
   },
   {
    "duration": 4,
    "start_time": "2022-10-19T12:52:27.667Z"
   },
   {
    "duration": 127,
    "start_time": "2022-10-19T12:52:28.013Z"
   },
   {
    "duration": 15,
    "start_time": "2022-10-19T12:52:28.437Z"
   },
   {
    "duration": 790,
    "start_time": "2022-10-19T12:53:07.355Z"
   },
   {
    "duration": 3054,
    "start_time": "2022-10-19T12:53:22.380Z"
   },
   {
    "duration": 2950,
    "start_time": "2022-10-19T12:53:29.080Z"
   },
   {
    "duration": 17,
    "start_time": "2022-10-19T12:53:32.032Z"
   },
   {
    "duration": 28,
    "start_time": "2022-10-19T12:53:58.985Z"
   },
   {
    "duration": 53,
    "start_time": "2022-10-19T12:54:55.384Z"
   },
   {
    "duration": 17,
    "start_time": "2022-10-19T12:54:58.792Z"
   },
   {
    "duration": 54,
    "start_time": "2022-10-19T12:55:11.464Z"
   },
   {
    "duration": 30122,
    "start_time": "2022-10-19T12:55:23.217Z"
   },
   {
    "duration": 2350,
    "start_time": "2022-10-19T12:56:14.143Z"
   },
   {
    "duration": 26,
    "start_time": "2022-10-19T12:56:16.495Z"
   },
   {
    "duration": 63,
    "start_time": "2022-10-19T12:56:59.600Z"
   },
   {
    "duration": 883,
    "start_time": "2022-10-19T12:57:13.060Z"
   },
   {
    "duration": 0,
    "start_time": "2022-10-19T12:57:13.944Z"
   },
   {
    "duration": 838,
    "start_time": "2022-10-19T12:57:47.450Z"
   },
   {
    "duration": 4,
    "start_time": "2022-10-19T12:58:08.256Z"
   },
   {
    "duration": 13,
    "start_time": "2022-10-19T12:58:08.544Z"
   },
   {
    "duration": 4,
    "start_time": "2022-10-19T12:58:22.225Z"
   },
   {
    "duration": 2348,
    "start_time": "2022-10-19T12:58:22.936Z"
   },
   {
    "duration": 16,
    "start_time": "2022-10-19T12:58:41.048Z"
   },
   {
    "duration": 50,
    "start_time": "2022-10-19T12:59:22.111Z"
   },
   {
    "duration": 4,
    "start_time": "2022-10-19T12:59:25.367Z"
   },
   {
    "duration": 1570,
    "start_time": "2022-10-19T12:59:27.793Z"
   },
   {
    "duration": 675,
    "start_time": "2022-10-19T12:59:29.365Z"
   },
   {
    "duration": 26,
    "start_time": "2022-10-19T12:59:30.042Z"
   },
   {
    "duration": 20,
    "start_time": "2022-10-19T12:59:30.071Z"
   },
   {
    "duration": 28,
    "start_time": "2022-10-19T12:59:30.092Z"
   },
   {
    "duration": 17,
    "start_time": "2022-10-19T12:59:30.122Z"
   },
   {
    "duration": 27,
    "start_time": "2022-10-19T12:59:30.141Z"
   },
   {
    "duration": 151,
    "start_time": "2022-10-19T12:59:30.170Z"
   },
   {
    "duration": 23,
    "start_time": "2022-10-19T12:59:30.323Z"
   },
   {
    "duration": 51,
    "start_time": "2022-10-19T12:59:30.348Z"
   },
   {
    "duration": 11,
    "start_time": "2022-10-19T12:59:30.401Z"
   },
   {
    "duration": 166,
    "start_time": "2022-10-19T12:59:30.414Z"
   },
   {
    "duration": 10,
    "start_time": "2022-10-19T12:59:30.582Z"
   },
   {
    "duration": 49,
    "start_time": "2022-10-19T12:59:30.594Z"
   },
   {
    "duration": 49,
    "start_time": "2022-10-19T12:59:30.646Z"
   },
   {
    "duration": 65,
    "start_time": "2022-10-19T12:59:30.696Z"
   },
   {
    "duration": 20,
    "start_time": "2022-10-19T12:59:30.763Z"
   },
   {
    "duration": 82,
    "start_time": "2022-10-19T12:59:30.784Z"
   },
   {
    "duration": 47,
    "start_time": "2022-10-19T12:59:30.867Z"
   },
   {
    "duration": 75,
    "start_time": "2022-10-19T12:59:30.915Z"
   },
   {
    "duration": 20,
    "start_time": "2022-10-19T12:59:30.992Z"
   },
   {
    "duration": 18,
    "start_time": "2022-10-19T12:59:31.014Z"
   },
   {
    "duration": 87,
    "start_time": "2022-10-19T12:59:31.034Z"
   },
   {
    "duration": 19,
    "start_time": "2022-10-19T12:59:31.123Z"
   },
   {
    "duration": 14,
    "start_time": "2022-10-19T12:59:31.144Z"
   },
   {
    "duration": 67,
    "start_time": "2022-10-19T12:59:31.160Z"
   },
   {
    "duration": 44,
    "start_time": "2022-10-19T12:59:31.229Z"
   },
   {
    "duration": 4,
    "start_time": "2022-10-19T12:59:31.276Z"
   },
   {
    "duration": 33,
    "start_time": "2022-10-19T12:59:31.282Z"
   },
   {
    "duration": 4,
    "start_time": "2022-10-19T12:59:31.316Z"
   },
   {
    "duration": 4,
    "start_time": "2022-10-19T12:59:36.048Z"
   },
   {
    "duration": 77,
    "start_time": "2022-10-19T13:00:16.059Z"
   },
   {
    "duration": 20,
    "start_time": "2022-10-19T13:00:16.139Z"
   },
   {
    "duration": 54,
    "start_time": "2022-10-19T13:00:19.583Z"
   },
   {
    "duration": 22,
    "start_time": "2022-10-19T13:00:20.013Z"
   },
   {
    "duration": 135,
    "start_time": "2022-10-19T13:04:43.688Z"
   },
   {
    "duration": 19,
    "start_time": "2022-10-19T13:05:30.330Z"
   },
   {
    "duration": 13,
    "start_time": "2022-10-19T13:05:48.760Z"
   },
   {
    "duration": 2544,
    "start_time": "2022-10-19T13:06:07.450Z"
   },
   {
    "duration": 2395,
    "start_time": "2022-10-19T13:06:25.241Z"
   },
   {
    "duration": 5,
    "start_time": "2022-10-19T13:10:45.200Z"
   },
   {
    "duration": 5,
    "start_time": "2022-10-19T13:11:32.064Z"
   },
   {
    "duration": 937,
    "start_time": "2022-10-19T13:11:33.986Z"
   },
   {
    "duration": 22,
    "start_time": "2022-10-19T13:11:52.899Z"
   },
   {
    "duration": 21,
    "start_time": "2022-10-19T13:12:07.624Z"
   },
   {
    "duration": 3,
    "start_time": "2022-10-19T13:12:11.281Z"
   },
   {
    "duration": 1595,
    "start_time": "2022-10-19T13:12:23.915Z"
   },
   {
    "duration": 664,
    "start_time": "2022-10-19T13:12:25.512Z"
   },
   {
    "duration": 29,
    "start_time": "2022-10-19T13:12:26.177Z"
   },
   {
    "duration": 50,
    "start_time": "2022-10-19T13:12:26.208Z"
   },
   {
    "duration": 12,
    "start_time": "2022-10-19T13:12:26.261Z"
   },
   {
    "duration": 17,
    "start_time": "2022-10-19T13:12:26.275Z"
   },
   {
    "duration": 19,
    "start_time": "2022-10-19T13:12:26.294Z"
   },
   {
    "duration": 149,
    "start_time": "2022-10-19T13:12:26.315Z"
   },
   {
    "duration": 23,
    "start_time": "2022-10-19T13:12:26.465Z"
   },
   {
    "duration": 33,
    "start_time": "2022-10-19T13:12:26.491Z"
   },
   {
    "duration": 7,
    "start_time": "2022-10-19T13:12:26.526Z"
   },
   {
    "duration": 145,
    "start_time": "2022-10-19T13:12:26.535Z"
   },
   {
    "duration": 9,
    "start_time": "2022-10-19T13:12:26.682Z"
   },
   {
    "duration": 28,
    "start_time": "2022-10-19T13:12:26.692Z"
   },
   {
    "duration": 22,
    "start_time": "2022-10-19T13:12:26.722Z"
   },
   {
    "duration": 13,
    "start_time": "2022-10-19T13:12:26.746Z"
   },
   {
    "duration": 5,
    "start_time": "2022-10-19T13:12:26.761Z"
   },
   {
    "duration": 31,
    "start_time": "2022-10-19T13:12:26.768Z"
   },
   {
    "duration": 7,
    "start_time": "2022-10-19T13:12:26.820Z"
   },
   {
    "duration": 9,
    "start_time": "2022-10-19T13:12:26.828Z"
   },
   {
    "duration": 6,
    "start_time": "2022-10-19T13:12:26.839Z"
   },
   {
    "duration": 14,
    "start_time": "2022-10-19T13:12:26.847Z"
   },
   {
    "duration": 27,
    "start_time": "2022-10-19T13:12:26.863Z"
   },
   {
    "duration": 5,
    "start_time": "2022-10-19T13:12:26.891Z"
   },
   {
    "duration": 3,
    "start_time": "2022-10-19T13:12:26.920Z"
   },
   {
    "duration": 12,
    "start_time": "2022-10-19T13:12:26.925Z"
   },
   {
    "duration": 28,
    "start_time": "2022-10-19T13:12:26.939Z"
   },
   {
    "duration": 4,
    "start_time": "2022-10-19T13:12:26.970Z"
   },
   {
    "duration": 24,
    "start_time": "2022-10-19T13:12:26.975Z"
   },
   {
    "duration": 20,
    "start_time": "2022-10-19T13:12:27.001Z"
   },
   {
    "duration": 44,
    "start_time": "2022-10-19T13:12:27.023Z"
   },
   {
    "duration": 16,
    "start_time": "2022-10-19T13:12:29.189Z"
   },
   {
    "duration": 96,
    "start_time": "2022-10-19T13:13:59.860Z"
   },
   {
    "duration": 16,
    "start_time": "2022-10-19T13:14:02.037Z"
   },
   {
    "duration": 1651,
    "start_time": "2022-10-19T13:14:15.492Z"
   },
   {
    "duration": 685,
    "start_time": "2022-10-19T13:14:17.145Z"
   },
   {
    "duration": 28,
    "start_time": "2022-10-19T13:14:17.833Z"
   },
   {
    "duration": 21,
    "start_time": "2022-10-19T13:14:17.864Z"
   },
   {
    "duration": 12,
    "start_time": "2022-10-19T13:14:17.886Z"
   },
   {
    "duration": 10,
    "start_time": "2022-10-19T13:14:17.920Z"
   },
   {
    "duration": 27,
    "start_time": "2022-10-19T13:14:17.931Z"
   },
   {
    "duration": 151,
    "start_time": "2022-10-19T13:14:17.960Z"
   },
   {
    "duration": 27,
    "start_time": "2022-10-19T13:14:18.113Z"
   },
   {
    "duration": 19,
    "start_time": "2022-10-19T13:14:18.143Z"
   },
   {
    "duration": 6,
    "start_time": "2022-10-19T13:14:18.165Z"
   },
   {
    "duration": 157,
    "start_time": "2022-10-19T13:14:18.173Z"
   },
   {
    "duration": 9,
    "start_time": "2022-10-19T13:14:18.332Z"
   },
   {
    "duration": 13,
    "start_time": "2022-10-19T13:14:18.343Z"
   },
   {
    "duration": 21,
    "start_time": "2022-10-19T13:14:18.358Z"
   },
   {
    "duration": 42,
    "start_time": "2022-10-19T13:14:18.381Z"
   },
   {
    "duration": 6,
    "start_time": "2022-10-19T13:14:18.425Z"
   },
   {
    "duration": 34,
    "start_time": "2022-10-19T13:14:18.433Z"
   },
   {
    "duration": 7,
    "start_time": "2022-10-19T13:14:18.469Z"
   },
   {
    "duration": 16,
    "start_time": "2022-10-19T13:14:18.478Z"
   },
   {
    "duration": 4,
    "start_time": "2022-10-19T13:14:18.495Z"
   },
   {
    "duration": 26,
    "start_time": "2022-10-19T13:14:18.500Z"
   },
   {
    "duration": 18,
    "start_time": "2022-10-19T13:14:18.528Z"
   },
   {
    "duration": 5,
    "start_time": "2022-10-19T13:14:18.548Z"
   },
   {
    "duration": 12,
    "start_time": "2022-10-19T13:14:18.555Z"
   },
   {
    "duration": 12,
    "start_time": "2022-10-19T13:14:18.568Z"
   },
   {
    "duration": 43,
    "start_time": "2022-10-19T13:14:18.582Z"
   },
   {
    "duration": 5,
    "start_time": "2022-10-19T13:14:18.628Z"
   },
   {
    "duration": 23,
    "start_time": "2022-10-19T13:14:18.635Z"
   },
   {
    "duration": 12,
    "start_time": "2022-10-19T13:14:18.660Z"
   },
   {
    "duration": 115,
    "start_time": "2022-10-19T13:14:18.674Z"
   },
   {
    "duration": 85,
    "start_time": "2022-10-19T13:14:20.662Z"
   },
   {
    "duration": 15,
    "start_time": "2022-10-19T13:14:21.037Z"
   },
   {
    "duration": 4,
    "start_time": "2022-10-19T13:14:26.169Z"
   },
   {
    "duration": 71,
    "start_time": "2022-10-19T13:14:26.423Z"
   },
   {
    "duration": 16,
    "start_time": "2022-10-19T13:14:27.063Z"
   },
   {
    "duration": 50,
    "start_time": "2022-10-19T13:26:48.361Z"
   },
   {
    "duration": 6,
    "start_time": "2022-10-19T13:26:49.504Z"
   },
   {
    "duration": 1548,
    "start_time": "2022-10-19T13:27:01.002Z"
   },
   {
    "duration": 730,
    "start_time": "2022-10-19T13:27:02.552Z"
   },
   {
    "duration": 38,
    "start_time": "2022-10-19T13:27:03.284Z"
   },
   {
    "duration": 21,
    "start_time": "2022-10-19T13:27:03.324Z"
   },
   {
    "duration": 8,
    "start_time": "2022-10-19T13:27:03.347Z"
   },
   {
    "duration": 17,
    "start_time": "2022-10-19T13:27:03.357Z"
   },
   {
    "duration": 18,
    "start_time": "2022-10-19T13:27:03.377Z"
   },
   {
    "duration": 163,
    "start_time": "2022-10-19T13:27:03.397Z"
   },
   {
    "duration": 24,
    "start_time": "2022-10-19T13:27:03.562Z"
   },
   {
    "duration": 42,
    "start_time": "2022-10-19T13:27:03.589Z"
   },
   {
    "duration": 8,
    "start_time": "2022-10-19T13:27:03.633Z"
   },
   {
    "duration": 150,
    "start_time": "2022-10-19T13:27:03.642Z"
   },
   {
    "duration": 10,
    "start_time": "2022-10-19T13:27:03.794Z"
   },
   {
    "duration": 28,
    "start_time": "2022-10-19T13:27:03.806Z"
   },
   {
    "duration": 30,
    "start_time": "2022-10-19T13:27:03.837Z"
   },
   {
    "duration": 21,
    "start_time": "2022-10-19T13:27:03.870Z"
   },
   {
    "duration": 5,
    "start_time": "2022-10-19T13:27:03.894Z"
   },
   {
    "duration": 49,
    "start_time": "2022-10-19T13:27:03.901Z"
   },
   {
    "duration": 7,
    "start_time": "2022-10-19T13:27:03.952Z"
   },
   {
    "duration": 14,
    "start_time": "2022-10-19T13:27:03.960Z"
   },
   {
    "duration": 3,
    "start_time": "2022-10-19T13:27:03.975Z"
   },
   {
    "duration": 15,
    "start_time": "2022-10-19T13:27:03.980Z"
   },
   {
    "duration": 39,
    "start_time": "2022-10-19T13:27:03.996Z"
   },
   {
    "duration": 12,
    "start_time": "2022-10-19T13:27:04.037Z"
   },
   {
    "duration": 11,
    "start_time": "2022-10-19T13:27:04.051Z"
   },
   {
    "duration": 8,
    "start_time": "2022-10-19T13:27:04.064Z"
   },
   {
    "duration": 26,
    "start_time": "2022-10-19T13:27:04.074Z"
   },
   {
    "duration": 5,
    "start_time": "2022-10-19T13:27:04.120Z"
   },
   {
    "duration": 26,
    "start_time": "2022-10-19T13:27:04.127Z"
   },
   {
    "duration": 15,
    "start_time": "2022-10-19T13:27:04.155Z"
   },
   {
    "duration": 4,
    "start_time": "2022-10-19T13:27:04.172Z"
   },
   {
    "duration": 4,
    "start_time": "2022-10-19T13:27:05.075Z"
   },
   {
    "duration": 58,
    "start_time": "2022-10-19T13:27:05.458Z"
   },
   {
    "duration": 16,
    "start_time": "2022-10-19T13:27:07.901Z"
   },
   {
    "duration": 53,
    "start_time": "2022-10-19T13:28:41.874Z"
   },
   {
    "duration": 15,
    "start_time": "2022-10-19T13:28:42.181Z"
   },
   {
    "duration": 58,
    "start_time": "2022-10-19T13:28:59.898Z"
   },
   {
    "duration": 17,
    "start_time": "2022-10-19T13:29:03.114Z"
   },
   {
    "duration": 1650,
    "start_time": "2022-10-19T13:29:21.023Z"
   },
   {
    "duration": 736,
    "start_time": "2022-10-19T13:29:22.675Z"
   },
   {
    "duration": 30,
    "start_time": "2022-10-19T13:29:23.413Z"
   },
   {
    "duration": 20,
    "start_time": "2022-10-19T13:29:23.446Z"
   },
   {
    "duration": 9,
    "start_time": "2022-10-19T13:29:23.468Z"
   },
   {
    "duration": 24,
    "start_time": "2022-10-19T13:29:23.479Z"
   },
   {
    "duration": 34,
    "start_time": "2022-10-19T13:29:23.505Z"
   },
   {
    "duration": 159,
    "start_time": "2022-10-19T13:29:23.541Z"
   },
   {
    "duration": 29,
    "start_time": "2022-10-19T13:29:23.702Z"
   },
   {
    "duration": 19,
    "start_time": "2022-10-19T13:29:23.734Z"
   },
   {
    "duration": 7,
    "start_time": "2022-10-19T13:29:23.754Z"
   },
   {
    "duration": 167,
    "start_time": "2022-10-19T13:29:23.763Z"
   },
   {
    "duration": 9,
    "start_time": "2022-10-19T13:29:23.932Z"
   },
   {
    "duration": 14,
    "start_time": "2022-10-19T13:29:23.943Z"
   },
   {
    "duration": 24,
    "start_time": "2022-10-19T13:29:23.959Z"
   },
   {
    "duration": 36,
    "start_time": "2022-10-19T13:29:23.985Z"
   },
   {
    "duration": 5,
    "start_time": "2022-10-19T13:29:24.023Z"
   },
   {
    "duration": 32,
    "start_time": "2022-10-19T13:29:24.030Z"
   },
   {
    "duration": 8,
    "start_time": "2022-10-19T13:29:24.064Z"
   },
   {
    "duration": 8,
    "start_time": "2022-10-19T13:29:24.073Z"
   },
   {
    "duration": 7,
    "start_time": "2022-10-19T13:29:24.082Z"
   },
   {
    "duration": 36,
    "start_time": "2022-10-19T13:29:24.091Z"
   },
   {
    "duration": 20,
    "start_time": "2022-10-19T13:29:24.129Z"
   },
   {
    "duration": 7,
    "start_time": "2022-10-19T13:29:24.150Z"
   },
   {
    "duration": 8,
    "start_time": "2022-10-19T13:29:24.158Z"
   },
   {
    "duration": 11,
    "start_time": "2022-10-19T13:29:24.168Z"
   },
   {
    "duration": 50,
    "start_time": "2022-10-19T13:29:24.181Z"
   },
   {
    "duration": 5,
    "start_time": "2022-10-19T13:29:24.234Z"
   },
   {
    "duration": 21,
    "start_time": "2022-10-19T13:29:24.241Z"
   },
   {
    "duration": 15,
    "start_time": "2022-10-19T13:29:24.264Z"
   },
   {
    "duration": 4,
    "start_time": "2022-10-19T13:29:26.480Z"
   },
   {
    "duration": 61,
    "start_time": "2022-10-19T13:29:27.256Z"
   },
   {
    "duration": 18,
    "start_time": "2022-10-19T13:29:27.993Z"
   },
   {
    "duration": 1615,
    "start_time": "2022-10-19T13:30:06.076Z"
   },
   {
    "duration": 740,
    "start_time": "2022-10-19T13:30:07.693Z"
   },
   {
    "duration": 37,
    "start_time": "2022-10-19T13:30:08.435Z"
   },
   {
    "duration": 21,
    "start_time": "2022-10-19T13:30:08.474Z"
   },
   {
    "duration": 30,
    "start_time": "2022-10-19T13:30:08.497Z"
   },
   {
    "duration": 36,
    "start_time": "2022-10-19T13:30:08.530Z"
   },
   {
    "duration": 23,
    "start_time": "2022-10-19T13:30:08.568Z"
   },
   {
    "duration": 167,
    "start_time": "2022-10-19T13:30:08.594Z"
   },
   {
    "duration": 28,
    "start_time": "2022-10-19T13:30:08.763Z"
   },
   {
    "duration": 45,
    "start_time": "2022-10-19T13:30:08.794Z"
   },
   {
    "duration": 9,
    "start_time": "2022-10-19T13:30:08.841Z"
   },
   {
    "duration": 225,
    "start_time": "2022-10-19T13:30:08.852Z"
   },
   {
    "duration": 12,
    "start_time": "2022-10-19T13:30:09.080Z"
   },
   {
    "duration": 34,
    "start_time": "2022-10-19T13:30:09.096Z"
   },
   {
    "duration": 34,
    "start_time": "2022-10-19T13:30:09.133Z"
   },
   {
    "duration": 26,
    "start_time": "2022-10-19T13:30:09.169Z"
   },
   {
    "duration": 16,
    "start_time": "2022-10-19T13:30:09.197Z"
   },
   {
    "duration": 84,
    "start_time": "2022-10-19T13:30:09.215Z"
   },
   {
    "duration": 10,
    "start_time": "2022-10-19T13:30:09.301Z"
   },
   {
    "duration": 20,
    "start_time": "2022-10-19T13:30:09.313Z"
   },
   {
    "duration": 10,
    "start_time": "2022-10-19T13:30:09.337Z"
   },
   {
    "duration": 21,
    "start_time": "2022-10-19T13:30:09.349Z"
   },
   {
    "duration": 21,
    "start_time": "2022-10-19T13:30:09.372Z"
   },
   {
    "duration": 8,
    "start_time": "2022-10-19T13:30:09.395Z"
   },
   {
    "duration": 28,
    "start_time": "2022-10-19T13:30:09.405Z"
   },
   {
    "duration": 15,
    "start_time": "2022-10-19T13:30:09.436Z"
   },
   {
    "duration": 26,
    "start_time": "2022-10-19T13:30:09.453Z"
   },
   {
    "duration": 6,
    "start_time": "2022-10-19T13:30:09.481Z"
   },
   {
    "duration": 25,
    "start_time": "2022-10-19T13:30:09.489Z"
   },
   {
    "duration": 25,
    "start_time": "2022-10-19T13:30:09.516Z"
   },
   {
    "duration": 10,
    "start_time": "2022-10-19T13:30:09.543Z"
   },
   {
    "duration": 70,
    "start_time": "2022-10-19T13:30:09.554Z"
   },
   {
    "duration": 17,
    "start_time": "2022-10-19T13:30:11.567Z"
   },
   {
    "duration": 14,
    "start_time": "2022-10-19T13:30:20.193Z"
   },
   {
    "duration": 387,
    "start_time": "2022-10-19T13:30:20.209Z"
   },
   {
    "duration": 338,
    "start_time": "2022-10-19T13:30:20.598Z"
   },
   {
    "duration": 291,
    "start_time": "2022-10-19T13:30:20.939Z"
   },
   {
    "duration": 11,
    "start_time": "2022-10-19T13:30:21.235Z"
   },
   {
    "duration": 34,
    "start_time": "2022-10-19T13:30:21.248Z"
   },
   {
    "duration": 21,
    "start_time": "2022-10-19T13:30:21.322Z"
   },
   {
    "duration": 129,
    "start_time": "2022-10-19T13:30:21.347Z"
   },
   {
    "duration": 112,
    "start_time": "2022-10-19T13:30:21.478Z"
   },
   {
    "duration": 38,
    "start_time": "2022-10-19T13:30:21.593Z"
   },
   {
    "duration": 25,
    "start_time": "2022-10-19T13:30:21.633Z"
   },
   {
    "duration": 25,
    "start_time": "2022-10-19T13:30:21.660Z"
   },
   {
    "duration": 209,
    "start_time": "2022-10-19T13:30:21.687Z"
   },
   {
    "duration": 286,
    "start_time": "2022-10-19T13:30:21.899Z"
   },
   {
    "duration": 5,
    "start_time": "2022-10-19T13:30:22.186Z"
   },
   {
    "duration": 189,
    "start_time": "2022-10-19T13:30:22.193Z"
   },
   {
    "duration": 5,
    "start_time": "2022-10-19T13:30:22.384Z"
   },
   {
    "duration": 1617,
    "start_time": "2022-10-19T17:07:06.263Z"
   },
   {
    "duration": 1531,
    "start_time": "2022-10-19T17:07:07.882Z"
   },
   {
    "duration": 26,
    "start_time": "2022-10-19T17:07:09.414Z"
   },
   {
    "duration": 22,
    "start_time": "2022-10-19T17:07:09.442Z"
   },
   {
    "duration": 7,
    "start_time": "2022-10-19T17:07:09.466Z"
   },
   {
    "duration": 12,
    "start_time": "2022-10-19T17:07:09.475Z"
   },
   {
    "duration": 20,
    "start_time": "2022-10-19T17:07:09.489Z"
   },
   {
    "duration": 155,
    "start_time": "2022-10-19T17:07:09.511Z"
   },
   {
    "duration": 20,
    "start_time": "2022-10-19T17:07:09.668Z"
   },
   {
    "duration": 23,
    "start_time": "2022-10-19T17:07:09.690Z"
   },
   {
    "duration": 5,
    "start_time": "2022-10-19T17:07:09.715Z"
   },
   {
    "duration": 143,
    "start_time": "2022-10-19T17:07:09.722Z"
   },
   {
    "duration": 9,
    "start_time": "2022-10-19T17:07:09.867Z"
   },
   {
    "duration": 12,
    "start_time": "2022-10-19T17:07:09.877Z"
   },
   {
    "duration": 20,
    "start_time": "2022-10-19T17:07:09.890Z"
   },
   {
    "duration": 15,
    "start_time": "2022-10-19T17:07:09.912Z"
   },
   {
    "duration": 6,
    "start_time": "2022-10-19T17:07:09.953Z"
   },
   {
    "duration": 28,
    "start_time": "2022-10-19T17:07:09.961Z"
   },
   {
    "duration": 8,
    "start_time": "2022-10-19T17:07:09.991Z"
   },
   {
    "duration": 8,
    "start_time": "2022-10-19T17:07:10.001Z"
   },
   {
    "duration": 4,
    "start_time": "2022-10-19T17:07:10.010Z"
   },
   {
    "duration": 40,
    "start_time": "2022-10-19T17:07:10.015Z"
   },
   {
    "duration": 17,
    "start_time": "2022-10-19T17:07:10.057Z"
   },
   {
    "duration": 5,
    "start_time": "2022-10-19T17:07:10.076Z"
   },
   {
    "duration": 9,
    "start_time": "2022-10-19T17:07:10.082Z"
   },
   {
    "duration": 8,
    "start_time": "2022-10-19T17:07:10.093Z"
   },
   {
    "duration": 25,
    "start_time": "2022-10-19T17:07:10.103Z"
   },
   {
    "duration": 6,
    "start_time": "2022-10-19T17:07:10.156Z"
   },
   {
    "duration": 22,
    "start_time": "2022-10-19T17:07:10.163Z"
   },
   {
    "duration": 14,
    "start_time": "2022-10-19T17:07:10.187Z"
   },
   {
    "duration": 4,
    "start_time": "2022-10-19T17:07:10.203Z"
   },
   {
    "duration": 94,
    "start_time": "2022-10-19T17:07:10.209Z"
   },
   {
    "duration": 14,
    "start_time": "2022-10-19T17:07:10.305Z"
   },
   {
    "duration": 354,
    "start_time": "2022-10-19T17:07:10.321Z"
   },
   {
    "duration": 251,
    "start_time": "2022-10-19T17:07:10.677Z"
   },
   {
    "duration": 261,
    "start_time": "2022-10-19T17:07:10.930Z"
   },
   {
    "duration": 7,
    "start_time": "2022-10-19T17:07:11.193Z"
   },
   {
    "duration": 62,
    "start_time": "2022-10-19T17:07:11.201Z"
   },
   {
    "duration": 17,
    "start_time": "2022-10-19T17:07:11.265Z"
   },
   {
    "duration": 124,
    "start_time": "2022-10-19T17:07:11.285Z"
   },
   {
    "duration": 100,
    "start_time": "2022-10-19T17:07:11.412Z"
   },
   {
    "duration": 47,
    "start_time": "2022-10-19T17:07:11.514Z"
   },
   {
    "duration": 10,
    "start_time": "2022-10-19T17:07:11.565Z"
   },
   {
    "duration": 38,
    "start_time": "2022-10-19T17:07:11.577Z"
   },
   {
    "duration": 200,
    "start_time": "2022-10-19T17:07:11.654Z"
   },
   {
    "duration": 225,
    "start_time": "2022-10-19T17:07:11.857Z"
   },
   {
    "duration": 4,
    "start_time": "2022-10-19T17:21:04.981Z"
   },
   {
    "duration": 1643,
    "start_time": "2022-10-19T19:17:37.606Z"
   },
   {
    "duration": 1461,
    "start_time": "2022-10-19T19:17:39.251Z"
   },
   {
    "duration": 25,
    "start_time": "2022-10-19T19:17:40.714Z"
   },
   {
    "duration": 21,
    "start_time": "2022-10-19T19:17:40.741Z"
   },
   {
    "duration": 7,
    "start_time": "2022-10-19T19:17:40.764Z"
   },
   {
    "duration": 15,
    "start_time": "2022-10-19T19:17:40.772Z"
   },
   {
    "duration": 19,
    "start_time": "2022-10-19T19:17:40.788Z"
   },
   {
    "duration": 169,
    "start_time": "2022-10-19T19:17:40.809Z"
   },
   {
    "duration": 23,
    "start_time": "2022-10-19T19:17:40.981Z"
   },
   {
    "duration": 31,
    "start_time": "2022-10-19T19:17:41.007Z"
   },
   {
    "duration": 15,
    "start_time": "2022-10-19T19:17:41.040Z"
   },
   {
    "duration": 139,
    "start_time": "2022-10-19T19:17:41.057Z"
   },
   {
    "duration": 8,
    "start_time": "2022-10-19T19:17:41.198Z"
   },
   {
    "duration": 12,
    "start_time": "2022-10-19T19:17:41.208Z"
   },
   {
    "duration": 40,
    "start_time": "2022-10-19T19:17:41.223Z"
   },
   {
    "duration": 17,
    "start_time": "2022-10-19T19:17:41.265Z"
   },
   {
    "duration": 5,
    "start_time": "2022-10-19T19:17:41.284Z"
   },
   {
    "duration": 37,
    "start_time": "2022-10-19T19:17:41.290Z"
   },
   {
    "duration": 6,
    "start_time": "2022-10-19T19:17:41.329Z"
   },
   {
    "duration": 8,
    "start_time": "2022-10-19T19:17:41.354Z"
   },
   {
    "duration": 2,
    "start_time": "2022-10-19T19:17:41.364Z"
   },
   {
    "duration": 11,
    "start_time": "2022-10-19T19:17:41.367Z"
   },
   {
    "duration": 20,
    "start_time": "2022-10-19T19:17:41.379Z"
   },
   {
    "duration": 5,
    "start_time": "2022-10-19T19:17:41.401Z"
   },
   {
    "duration": 8,
    "start_time": "2022-10-19T19:17:41.408Z"
   },
   {
    "duration": 11,
    "start_time": "2022-10-19T19:17:41.417Z"
   },
   {
    "duration": 26,
    "start_time": "2022-10-19T19:17:41.454Z"
   },
   {
    "duration": 6,
    "start_time": "2022-10-19T19:17:41.485Z"
   },
   {
    "duration": 28,
    "start_time": "2022-10-19T19:17:41.493Z"
   },
   {
    "duration": 46,
    "start_time": "2022-10-19T19:17:41.523Z"
   },
   {
    "duration": 7,
    "start_time": "2022-10-19T19:17:41.572Z"
   },
   {
    "duration": 99,
    "start_time": "2022-10-19T19:17:41.581Z"
   },
   {
    "duration": 19,
    "start_time": "2022-10-19T19:17:41.682Z"
   },
   {
    "duration": 373,
    "start_time": "2022-10-19T19:17:41.703Z"
   },
   {
    "duration": 227,
    "start_time": "2022-10-19T19:17:42.078Z"
   },
   {
    "duration": 203,
    "start_time": "2022-10-19T19:17:42.307Z"
   },
   {
    "duration": 5,
    "start_time": "2022-10-19T19:17:42.512Z"
   },
   {
    "duration": 46,
    "start_time": "2022-10-19T19:17:42.519Z"
   },
   {
    "duration": 15,
    "start_time": "2022-10-19T19:17:42.566Z"
   },
   {
    "duration": 120,
    "start_time": "2022-10-19T19:17:42.583Z"
   },
   {
    "duration": 88,
    "start_time": "2022-10-19T19:17:42.705Z"
   },
   {
    "duration": 11,
    "start_time": "2022-10-19T19:17:42.795Z"
   },
   {
    "duration": 6,
    "start_time": "2022-10-19T19:17:42.808Z"
   },
   {
    "duration": 51,
    "start_time": "2022-10-19T19:17:42.815Z"
   },
   {
    "duration": 157,
    "start_time": "2022-10-19T19:17:42.868Z"
   },
   {
    "duration": 202,
    "start_time": "2022-10-19T19:17:43.026Z"
   },
   {
    "duration": 3,
    "start_time": "2022-10-19T19:17:43.230Z"
   },
   {
    "duration": 186,
    "start_time": "2022-10-19T19:17:43.234Z"
   },
   {
    "duration": 0,
    "start_time": "2022-10-19T19:17:43.421Z"
   },
   {
    "duration": 13,
    "start_time": "2022-10-19T19:18:16.256Z"
   },
   {
    "duration": 2,
    "start_time": "2022-10-19T19:18:25.286Z"
   },
   {
    "duration": 14,
    "start_time": "2022-10-19T19:21:08.959Z"
   },
   {
    "duration": 12,
    "start_time": "2022-10-19T19:22:45.463Z"
   },
   {
    "duration": 7,
    "start_time": "2022-10-19T19:23:01.039Z"
   },
   {
    "duration": 17,
    "start_time": "2022-10-19T19:24:57.325Z"
   },
   {
    "duration": 7,
    "start_time": "2022-10-19T20:18:15.846Z"
   },
   {
    "duration": 5,
    "start_time": "2022-10-19T20:18:39.835Z"
   },
   {
    "duration": 19,
    "start_time": "2022-10-19T20:18:50.725Z"
   },
   {
    "duration": 867,
    "start_time": "2022-10-19T20:21:21.510Z"
   },
   {
    "duration": 6,
    "start_time": "2022-10-19T20:21:48.178Z"
   },
   {
    "duration": 6,
    "start_time": "2022-10-19T20:21:53.329Z"
   },
   {
    "duration": 28,
    "start_time": "2022-10-19T20:22:02.252Z"
   },
   {
    "duration": 13,
    "start_time": "2022-10-19T20:22:14.243Z"
   },
   {
    "duration": 14,
    "start_time": "2022-10-19T20:22:32.993Z"
   },
   {
    "duration": 20,
    "start_time": "2022-10-19T20:23:03.582Z"
   },
   {
    "duration": 18,
    "start_time": "2022-10-19T20:23:22.097Z"
   },
   {
    "duration": 1512,
    "start_time": "2022-10-19T20:23:37.742Z"
   },
   {
    "duration": 698,
    "start_time": "2022-10-19T20:23:39.257Z"
   },
   {
    "duration": 24,
    "start_time": "2022-10-19T20:23:39.957Z"
   },
   {
    "duration": 36,
    "start_time": "2022-10-19T20:23:39.983Z"
   },
   {
    "duration": 9,
    "start_time": "2022-10-19T20:23:40.021Z"
   },
   {
    "duration": 41,
    "start_time": "2022-10-19T20:23:40.031Z"
   },
   {
    "duration": 33,
    "start_time": "2022-10-19T20:23:40.074Z"
   },
   {
    "duration": 139,
    "start_time": "2022-10-19T20:23:40.109Z"
   },
   {
    "duration": 22,
    "start_time": "2022-10-19T20:23:40.250Z"
   },
   {
    "duration": 28,
    "start_time": "2022-10-19T20:23:40.275Z"
   },
   {
    "duration": 10,
    "start_time": "2022-10-19T20:23:40.306Z"
   },
   {
    "duration": 154,
    "start_time": "2022-10-19T20:23:40.318Z"
   },
   {
    "duration": 9,
    "start_time": "2022-10-19T20:23:40.475Z"
   },
   {
    "duration": 34,
    "start_time": "2022-10-19T20:23:40.486Z"
   },
   {
    "duration": 20,
    "start_time": "2022-10-19T20:23:40.522Z"
   },
   {
    "duration": 28,
    "start_time": "2022-10-19T20:23:40.543Z"
   },
   {
    "duration": 6,
    "start_time": "2022-10-19T20:23:40.573Z"
   },
   {
    "duration": 41,
    "start_time": "2022-10-19T20:23:40.581Z"
   },
   {
    "duration": 19,
    "start_time": "2022-10-19T20:23:40.624Z"
   },
   {
    "duration": 19,
    "start_time": "2022-10-19T20:23:40.645Z"
   },
   {
    "duration": 32,
    "start_time": "2022-10-19T20:23:40.666Z"
   },
   {
    "duration": 22,
    "start_time": "2022-10-19T20:23:40.700Z"
   },
   {
    "duration": 39,
    "start_time": "2022-10-19T20:23:40.724Z"
   },
   {
    "duration": 10,
    "start_time": "2022-10-19T20:23:40.765Z"
   },
   {
    "duration": 26,
    "start_time": "2022-10-19T20:23:40.776Z"
   },
   {
    "duration": 35,
    "start_time": "2022-10-19T20:23:40.804Z"
   },
   {
    "duration": 39,
    "start_time": "2022-10-19T20:23:40.841Z"
   },
   {
    "duration": 6,
    "start_time": "2022-10-19T20:23:40.881Z"
   },
   {
    "duration": 25,
    "start_time": "2022-10-19T20:23:40.888Z"
   },
   {
    "duration": 27,
    "start_time": "2022-10-19T20:23:40.914Z"
   },
   {
    "duration": 18,
    "start_time": "2022-10-19T20:23:40.942Z"
   },
   {
    "duration": 79,
    "start_time": "2022-10-19T20:23:40.962Z"
   },
   {
    "duration": 16,
    "start_time": "2022-10-19T20:23:41.043Z"
   },
   {
    "duration": 342,
    "start_time": "2022-10-19T20:23:41.061Z"
   },
   {
    "duration": 299,
    "start_time": "2022-10-19T20:23:41.405Z"
   },
   {
    "duration": 263,
    "start_time": "2022-10-19T20:23:41.706Z"
   },
   {
    "duration": 6,
    "start_time": "2022-10-19T20:23:41.971Z"
   },
   {
    "duration": 109,
    "start_time": "2022-10-19T20:23:41.979Z"
   },
   {
    "duration": 42,
    "start_time": "2022-10-19T20:23:42.090Z"
   },
   {
    "duration": 79,
    "start_time": "2022-10-19T20:23:42.137Z"
   },
   {
    "duration": 79,
    "start_time": "2022-10-19T20:23:42.218Z"
   },
   {
    "duration": 12,
    "start_time": "2022-10-19T20:23:42.298Z"
   },
   {
    "duration": 48,
    "start_time": "2022-10-19T20:23:42.312Z"
   },
   {
    "duration": 63,
    "start_time": "2022-10-19T20:23:42.363Z"
   },
   {
    "duration": 151,
    "start_time": "2022-10-19T20:23:42.428Z"
   },
   {
    "duration": 232,
    "start_time": "2022-10-19T20:23:42.581Z"
   },
   {
    "duration": 4,
    "start_time": "2022-10-19T20:23:42.815Z"
   },
   {
    "duration": 6,
    "start_time": "2022-10-19T20:23:43.463Z"
   },
   {
    "duration": 143,
    "start_time": "2022-10-19T20:23:48.483Z"
   },
   {
    "duration": 16,
    "start_time": "2022-10-19T20:24:09.324Z"
   },
   {
    "duration": 6,
    "start_time": "2022-10-19T20:24:29.209Z"
   },
   {
    "duration": 16,
    "start_time": "2022-10-19T20:24:33.506Z"
   },
   {
    "duration": 7,
    "start_time": "2022-10-19T20:24:44.376Z"
   },
   {
    "duration": 12,
    "start_time": "2022-10-19T20:24:44.968Z"
   },
   {
    "duration": 1684,
    "start_time": "2022-10-19T20:25:02.167Z"
   },
   {
    "duration": 717,
    "start_time": "2022-10-19T20:25:03.853Z"
   },
   {
    "duration": 27,
    "start_time": "2022-10-19T20:25:04.572Z"
   },
   {
    "duration": 20,
    "start_time": "2022-10-19T20:25:04.601Z"
   },
   {
    "duration": 31,
    "start_time": "2022-10-19T20:25:04.623Z"
   },
   {
    "duration": 11,
    "start_time": "2022-10-19T20:25:04.657Z"
   },
   {
    "duration": 23,
    "start_time": "2022-10-19T20:25:04.670Z"
   },
   {
    "duration": 163,
    "start_time": "2022-10-19T20:25:04.696Z"
   },
   {
    "duration": 21,
    "start_time": "2022-10-19T20:25:04.861Z"
   },
   {
    "duration": 27,
    "start_time": "2022-10-19T20:25:04.885Z"
   },
   {
    "duration": 10,
    "start_time": "2022-10-19T20:25:04.914Z"
   },
   {
    "duration": 149,
    "start_time": "2022-10-19T20:25:04.925Z"
   },
   {
    "duration": 8,
    "start_time": "2022-10-19T20:25:05.076Z"
   },
   {
    "duration": 25,
    "start_time": "2022-10-19T20:25:05.086Z"
   },
   {
    "duration": 22,
    "start_time": "2022-10-19T20:25:05.112Z"
   },
   {
    "duration": 30,
    "start_time": "2022-10-19T20:25:05.135Z"
   },
   {
    "duration": 24,
    "start_time": "2022-10-19T20:25:05.167Z"
   },
   {
    "duration": 41,
    "start_time": "2022-10-19T20:25:05.193Z"
   },
   {
    "duration": 6,
    "start_time": "2022-10-19T20:25:05.237Z"
   },
   {
    "duration": 51,
    "start_time": "2022-10-19T20:25:05.245Z"
   },
   {
    "duration": 24,
    "start_time": "2022-10-19T20:25:05.297Z"
   },
   {
    "duration": 31,
    "start_time": "2022-10-19T20:25:05.323Z"
   },
   {
    "duration": 58,
    "start_time": "2022-10-19T20:25:05.357Z"
   },
   {
    "duration": 7,
    "start_time": "2022-10-19T20:25:05.417Z"
   },
   {
    "duration": 46,
    "start_time": "2022-10-19T20:25:05.426Z"
   },
   {
    "duration": 83,
    "start_time": "2022-10-19T20:25:05.474Z"
   },
   {
    "duration": 40,
    "start_time": "2022-10-19T20:25:05.559Z"
   },
   {
    "duration": 34,
    "start_time": "2022-10-19T20:25:05.603Z"
   },
   {
    "duration": 46,
    "start_time": "2022-10-19T20:25:05.639Z"
   },
   {
    "duration": 39,
    "start_time": "2022-10-19T20:25:05.687Z"
   },
   {
    "duration": 11,
    "start_time": "2022-10-19T20:25:05.727Z"
   },
   {
    "duration": 71,
    "start_time": "2022-10-19T20:25:05.740Z"
   },
   {
    "duration": 15,
    "start_time": "2022-10-19T20:25:05.812Z"
   },
   {
    "duration": 326,
    "start_time": "2022-10-19T20:25:05.828Z"
   },
   {
    "duration": 212,
    "start_time": "2022-10-19T20:25:06.156Z"
   },
   {
    "duration": 219,
    "start_time": "2022-10-19T20:25:06.369Z"
   },
   {
    "duration": 6,
    "start_time": "2022-10-19T20:25:06.590Z"
   },
   {
    "duration": 21,
    "start_time": "2022-10-19T20:25:06.598Z"
   },
   {
    "duration": 19,
    "start_time": "2022-10-19T20:25:06.653Z"
   },
   {
    "duration": 112,
    "start_time": "2022-10-19T20:25:06.673Z"
   },
   {
    "duration": 89,
    "start_time": "2022-10-19T20:25:06.787Z"
   },
   {
    "duration": 14,
    "start_time": "2022-10-19T20:25:06.878Z"
   },
   {
    "duration": 7,
    "start_time": "2022-10-19T20:25:06.893Z"
   },
   {
    "duration": 62,
    "start_time": "2022-10-19T20:25:06.901Z"
   },
   {
    "duration": 154,
    "start_time": "2022-10-19T20:25:06.964Z"
   },
   {
    "duration": 264,
    "start_time": "2022-10-19T20:25:07.120Z"
   },
   {
    "duration": 5,
    "start_time": "2022-10-19T20:25:07.386Z"
   },
   {
    "duration": 29,
    "start_time": "2022-10-19T20:25:07.393Z"
   },
   {
    "duration": 34,
    "start_time": "2022-10-19T20:25:07.424Z"
   },
   {
    "duration": 44,
    "start_time": "2022-10-19T20:25:07.460Z"
   },
   {
    "duration": 1470,
    "start_time": "2022-10-19T20:26:24.158Z"
   },
   {
    "duration": 682,
    "start_time": "2022-10-19T20:26:25.630Z"
   },
   {
    "duration": 25,
    "start_time": "2022-10-19T20:26:26.314Z"
   },
   {
    "duration": 29,
    "start_time": "2022-10-19T20:26:26.341Z"
   },
   {
    "duration": 9,
    "start_time": "2022-10-19T20:26:26.372Z"
   },
   {
    "duration": 39,
    "start_time": "2022-10-19T20:26:26.383Z"
   },
   {
    "duration": 19,
    "start_time": "2022-10-19T20:26:26.424Z"
   },
   {
    "duration": 144,
    "start_time": "2022-10-19T20:26:26.445Z"
   },
   {
    "duration": 21,
    "start_time": "2022-10-19T20:26:26.590Z"
   },
   {
    "duration": 23,
    "start_time": "2022-10-19T20:26:26.614Z"
   },
   {
    "duration": 8,
    "start_time": "2022-10-19T20:26:26.653Z"
   },
   {
    "duration": 148,
    "start_time": "2022-10-19T20:26:26.663Z"
   },
   {
    "duration": 10,
    "start_time": "2022-10-19T20:26:26.812Z"
   },
   {
    "duration": 30,
    "start_time": "2022-10-19T20:26:26.824Z"
   },
   {
    "duration": 22,
    "start_time": "2022-10-19T20:26:26.856Z"
   },
   {
    "duration": 37,
    "start_time": "2022-10-19T20:26:26.879Z"
   },
   {
    "duration": 9,
    "start_time": "2022-10-19T20:26:26.918Z"
   },
   {
    "duration": 31,
    "start_time": "2022-10-19T20:26:26.929Z"
   },
   {
    "duration": 6,
    "start_time": "2022-10-19T20:26:26.962Z"
   },
   {
    "duration": 19,
    "start_time": "2022-10-19T20:26:26.970Z"
   },
   {
    "duration": 11,
    "start_time": "2022-10-19T20:26:26.991Z"
   },
   {
    "duration": 28,
    "start_time": "2022-10-19T20:26:27.004Z"
   },
   {
    "duration": 24,
    "start_time": "2022-10-19T20:26:27.033Z"
   },
   {
    "duration": 11,
    "start_time": "2022-10-19T20:26:27.058Z"
   },
   {
    "duration": 9,
    "start_time": "2022-10-19T20:26:27.071Z"
   },
   {
    "duration": 31,
    "start_time": "2022-10-19T20:26:27.082Z"
   },
   {
    "duration": 38,
    "start_time": "2022-10-19T20:26:27.115Z"
   },
   {
    "duration": 4,
    "start_time": "2022-10-19T20:26:27.157Z"
   },
   {
    "duration": 25,
    "start_time": "2022-10-19T20:26:27.163Z"
   },
   {
    "duration": 14,
    "start_time": "2022-10-19T20:26:27.190Z"
   },
   {
    "duration": 4,
    "start_time": "2022-10-19T20:26:27.206Z"
   },
   {
    "duration": 72,
    "start_time": "2022-10-19T20:26:27.212Z"
   },
   {
    "duration": 18,
    "start_time": "2022-10-19T20:26:27.286Z"
   },
   {
    "duration": 313,
    "start_time": "2022-10-19T20:26:27.306Z"
   },
   {
    "duration": 235,
    "start_time": "2022-10-19T20:26:27.621Z"
   },
   {
    "duration": 215,
    "start_time": "2022-10-19T20:26:27.857Z"
   },
   {
    "duration": 5,
    "start_time": "2022-10-19T20:26:28.074Z"
   },
   {
    "duration": 29,
    "start_time": "2022-10-19T20:26:28.081Z"
   },
   {
    "duration": 47,
    "start_time": "2022-10-19T20:26:28.112Z"
   },
   {
    "duration": 107,
    "start_time": "2022-10-19T20:26:28.161Z"
   },
   {
    "duration": 122,
    "start_time": "2022-10-19T20:26:28.270Z"
   },
   {
    "duration": 10,
    "start_time": "2022-10-19T20:26:28.394Z"
   },
   {
    "duration": 8,
    "start_time": "2022-10-19T20:26:28.406Z"
   },
   {
    "duration": 49,
    "start_time": "2022-10-19T20:26:28.416Z"
   },
   {
    "duration": 162,
    "start_time": "2022-10-19T20:26:28.467Z"
   },
   {
    "duration": 206,
    "start_time": "2022-10-19T20:26:28.632Z"
   },
   {
    "duration": 15,
    "start_time": "2022-10-19T20:26:28.839Z"
   },
   {
    "duration": 9,
    "start_time": "2022-10-19T20:26:28.855Z"
   },
   {
    "duration": 12,
    "start_time": "2022-10-19T20:26:28.865Z"
   },
   {
    "duration": 23,
    "start_time": "2022-10-19T20:26:28.879Z"
   },
   {
    "duration": 64,
    "start_time": "2022-10-19T20:26:28.903Z"
   },
   {
    "duration": 68,
    "start_time": "2022-10-19T20:26:28.969Z"
   },
   {
    "duration": 0,
    "start_time": "2022-10-19T20:26:29.038Z"
   },
   {
    "duration": 0,
    "start_time": "2022-10-19T20:26:29.040Z"
   },
   {
    "duration": 0,
    "start_time": "2022-10-19T20:26:29.041Z"
   },
   {
    "duration": 7,
    "start_time": "2022-10-19T20:30:22.990Z"
   },
   {
    "duration": 117,
    "start_time": "2022-10-19T20:35:18.876Z"
   },
   {
    "duration": 8,
    "start_time": "2022-10-19T20:36:31.581Z"
   },
   {
    "duration": 7,
    "start_time": "2022-10-19T20:36:32.924Z"
   },
   {
    "duration": 6,
    "start_time": "2022-10-19T20:37:28.667Z"
   },
   {
    "duration": 4,
    "start_time": "2022-10-19T20:52:14.262Z"
   },
   {
    "duration": 685,
    "start_time": "2022-10-19T20:52:14.268Z"
   },
   {
    "duration": 20,
    "start_time": "2022-10-19T20:52:14.955Z"
   },
   {
    "duration": 22,
    "start_time": "2022-10-19T20:52:14.977Z"
   },
   {
    "duration": 7,
    "start_time": "2022-10-19T20:52:15.001Z"
   },
   {
    "duration": 21,
    "start_time": "2022-10-19T20:52:15.010Z"
   },
   {
    "duration": 30,
    "start_time": "2022-10-19T20:52:15.033Z"
   },
   {
    "duration": 146,
    "start_time": "2022-10-19T20:52:15.064Z"
   },
   {
    "duration": 22,
    "start_time": "2022-10-19T20:52:15.212Z"
   },
   {
    "duration": 32,
    "start_time": "2022-10-19T20:52:15.237Z"
   },
   {
    "duration": 6,
    "start_time": "2022-10-19T20:52:15.272Z"
   },
   {
    "duration": 137,
    "start_time": "2022-10-19T20:52:15.279Z"
   },
   {
    "duration": 9,
    "start_time": "2022-10-19T20:52:15.417Z"
   },
   {
    "duration": 27,
    "start_time": "2022-10-19T20:52:15.428Z"
   },
   {
    "duration": 21,
    "start_time": "2022-10-19T20:52:15.457Z"
   },
   {
    "duration": 18,
    "start_time": "2022-10-19T20:52:15.480Z"
   },
   {
    "duration": 6,
    "start_time": "2022-10-19T20:52:15.501Z"
   },
   {
    "duration": 45,
    "start_time": "2022-10-19T20:52:15.509Z"
   },
   {
    "duration": 7,
    "start_time": "2022-10-19T20:52:15.556Z"
   },
   {
    "duration": 13,
    "start_time": "2022-10-19T20:52:15.564Z"
   },
   {
    "duration": 4,
    "start_time": "2022-10-19T20:52:15.578Z"
   },
   {
    "duration": 10,
    "start_time": "2022-10-19T20:52:15.583Z"
   },
   {
    "duration": 26,
    "start_time": "2022-10-19T20:52:15.595Z"
   },
   {
    "duration": 5,
    "start_time": "2022-10-19T20:52:15.622Z"
   },
   {
    "duration": 25,
    "start_time": "2022-10-19T20:52:15.629Z"
   },
   {
    "duration": 5,
    "start_time": "2022-10-19T20:52:15.656Z"
   },
   {
    "duration": 23,
    "start_time": "2022-10-19T20:52:15.663Z"
   },
   {
    "duration": 5,
    "start_time": "2022-10-19T20:52:15.687Z"
   },
   {
    "duration": 17,
    "start_time": "2022-10-19T20:52:15.695Z"
   },
   {
    "duration": 49,
    "start_time": "2022-10-19T20:52:15.714Z"
   },
   {
    "duration": 4,
    "start_time": "2022-10-19T20:52:15.764Z"
   },
   {
    "duration": 57,
    "start_time": "2022-10-19T20:52:15.770Z"
   },
   {
    "duration": 32,
    "start_time": "2022-10-19T20:52:15.829Z"
   },
   {
    "duration": 237,
    "start_time": "2022-10-19T20:52:15.863Z"
   },
   {
    "duration": 255,
    "start_time": "2022-10-19T20:52:16.102Z"
   },
   {
    "duration": 242,
    "start_time": "2022-10-19T20:52:16.358Z"
   },
   {
    "duration": 5,
    "start_time": "2022-10-19T20:52:16.602Z"
   },
   {
    "duration": 48,
    "start_time": "2022-10-19T20:52:16.609Z"
   },
   {
    "duration": 17,
    "start_time": "2022-10-19T20:52:16.659Z"
   },
   {
    "duration": 113,
    "start_time": "2022-10-19T20:52:16.678Z"
   },
   {
    "duration": 96,
    "start_time": "2022-10-19T20:52:16.793Z"
   },
   {
    "duration": 11,
    "start_time": "2022-10-19T20:52:16.891Z"
   },
   {
    "duration": 6,
    "start_time": "2022-10-19T20:52:16.904Z"
   },
   {
    "duration": 55,
    "start_time": "2022-10-19T20:52:16.912Z"
   },
   {
    "duration": 173,
    "start_time": "2022-10-19T20:52:16.969Z"
   },
   {
    "duration": 219,
    "start_time": "2022-10-19T20:52:17.154Z"
   },
   {
    "duration": 3,
    "start_time": "2022-10-19T20:52:17.375Z"
   },
   {
    "duration": 15,
    "start_time": "2022-10-19T20:52:17.380Z"
   },
   {
    "duration": 12,
    "start_time": "2022-10-19T20:52:17.397Z"
   },
   {
    "duration": 59,
    "start_time": "2022-10-19T20:52:17.411Z"
   },
   {
    "duration": 0,
    "start_time": "2022-10-19T20:52:17.471Z"
   },
   {
    "duration": 28,
    "start_time": "2022-10-19T20:55:37.176Z"
   },
   {
    "duration": 5,
    "start_time": "2022-10-19T20:56:03.383Z"
   },
   {
    "duration": 714,
    "start_time": "2022-10-19T20:56:03.390Z"
   },
   {
    "duration": 22,
    "start_time": "2022-10-19T20:56:04.106Z"
   },
   {
    "duration": 31,
    "start_time": "2022-10-19T20:56:04.130Z"
   },
   {
    "duration": 8,
    "start_time": "2022-10-19T20:56:04.163Z"
   },
   {
    "duration": 19,
    "start_time": "2022-10-19T20:56:04.172Z"
   },
   {
    "duration": 12,
    "start_time": "2022-10-19T20:56:04.193Z"
   },
   {
    "duration": 152,
    "start_time": "2022-10-19T20:56:04.207Z"
   },
   {
    "duration": 22,
    "start_time": "2022-10-19T20:56:04.361Z"
   },
   {
    "duration": 23,
    "start_time": "2022-10-19T20:56:04.385Z"
   },
   {
    "duration": 7,
    "start_time": "2022-10-19T20:56:04.411Z"
   },
   {
    "duration": 148,
    "start_time": "2022-10-19T20:56:04.419Z"
   },
   {
    "duration": 8,
    "start_time": "2022-10-19T20:56:04.569Z"
   },
   {
    "duration": 11,
    "start_time": "2022-10-19T20:56:04.578Z"
   },
   {
    "duration": 21,
    "start_time": "2022-10-19T20:56:04.590Z"
   },
   {
    "duration": 13,
    "start_time": "2022-10-19T20:56:04.613Z"
   },
   {
    "duration": 29,
    "start_time": "2022-10-19T20:56:04.627Z"
   },
   {
    "duration": 38,
    "start_time": "2022-10-19T20:56:04.658Z"
   },
   {
    "duration": 7,
    "start_time": "2022-10-19T20:56:04.698Z"
   },
   {
    "duration": 8,
    "start_time": "2022-10-19T20:56:04.707Z"
   },
   {
    "duration": 6,
    "start_time": "2022-10-19T20:56:04.716Z"
   },
   {
    "duration": 32,
    "start_time": "2022-10-19T20:56:04.723Z"
   },
   {
    "duration": 17,
    "start_time": "2022-10-19T20:56:04.757Z"
   },
   {
    "duration": 6,
    "start_time": "2022-10-19T20:56:04.776Z"
   },
   {
    "duration": 16,
    "start_time": "2022-10-19T20:56:04.784Z"
   },
   {
    "duration": 12,
    "start_time": "2022-10-19T20:56:04.802Z"
   },
   {
    "duration": 25,
    "start_time": "2022-10-19T20:56:04.816Z"
   },
   {
    "duration": 16,
    "start_time": "2022-10-19T20:56:04.842Z"
   },
   {
    "duration": 21,
    "start_time": "2022-10-19T20:56:04.862Z"
   },
   {
    "duration": 15,
    "start_time": "2022-10-19T20:56:04.885Z"
   },
   {
    "duration": 3,
    "start_time": "2022-10-19T20:56:04.902Z"
   },
   {
    "duration": 86,
    "start_time": "2022-10-19T20:56:04.906Z"
   },
   {
    "duration": 16,
    "start_time": "2022-10-19T20:56:04.993Z"
   },
   {
    "duration": 160,
    "start_time": "2022-10-19T20:56:05.011Z"
   },
   {
    "duration": 213,
    "start_time": "2022-10-19T20:56:05.172Z"
   },
   {
    "duration": 227,
    "start_time": "2022-10-19T20:56:05.387Z"
   },
   {
    "duration": 5,
    "start_time": "2022-10-19T20:56:05.616Z"
   },
   {
    "duration": 41,
    "start_time": "2022-10-19T20:56:05.623Z"
   },
   {
    "duration": 13,
    "start_time": "2022-10-19T20:56:05.666Z"
   },
   {
    "duration": 113,
    "start_time": "2022-10-19T20:56:05.681Z"
   },
   {
    "duration": 100,
    "start_time": "2022-10-19T20:56:05.795Z"
   },
   {
    "duration": 10,
    "start_time": "2022-10-19T20:56:05.897Z"
   },
   {
    "duration": 45,
    "start_time": "2022-10-19T20:56:05.909Z"
   },
   {
    "duration": 21,
    "start_time": "2022-10-19T20:56:05.956Z"
   },
   {
    "duration": 168,
    "start_time": "2022-10-19T20:56:05.979Z"
   },
   {
    "duration": 251,
    "start_time": "2022-10-19T20:56:06.149Z"
   },
   {
    "duration": 3,
    "start_time": "2022-10-19T20:56:06.402Z"
   },
   {
    "duration": 20,
    "start_time": "2022-10-19T20:56:06.407Z"
   },
   {
    "duration": 7,
    "start_time": "2022-10-19T20:56:06.454Z"
   },
   {
    "duration": 28,
    "start_time": "2022-10-19T20:56:06.463Z"
   },
   {
    "duration": 25,
    "start_time": "2022-10-19T20:56:10.485Z"
   },
   {
    "duration": 6,
    "start_time": "2022-10-19T20:56:50.384Z"
   },
   {
    "duration": 27,
    "start_time": "2022-10-19T20:56:50.815Z"
   },
   {
    "duration": 14,
    "start_time": "2022-10-19T20:56:51.668Z"
   },
   {
    "duration": 12,
    "start_time": "2022-10-19T20:58:29.179Z"
   },
   {
    "duration": 24,
    "start_time": "2022-10-19T20:59:02.189Z"
   },
   {
    "duration": 724,
    "start_time": "2022-10-19T20:59:02.215Z"
   },
   {
    "duration": 23,
    "start_time": "2022-10-19T20:59:02.941Z"
   },
   {
    "duration": 61,
    "start_time": "2022-10-19T20:59:02.966Z"
   },
   {
    "duration": 10,
    "start_time": "2022-10-19T20:59:03.029Z"
   },
   {
    "duration": 22,
    "start_time": "2022-10-19T20:59:03.040Z"
   },
   {
    "duration": 14,
    "start_time": "2022-10-19T20:59:03.064Z"
   },
   {
    "duration": 141,
    "start_time": "2022-10-19T20:59:03.080Z"
   },
   {
    "duration": 32,
    "start_time": "2022-10-19T20:59:03.223Z"
   },
   {
    "duration": 22,
    "start_time": "2022-10-19T20:59:03.258Z"
   },
   {
    "duration": 10,
    "start_time": "2022-10-19T20:59:03.282Z"
   },
   {
    "duration": 132,
    "start_time": "2022-10-19T20:59:03.293Z"
   },
   {
    "duration": 8,
    "start_time": "2022-10-19T20:59:03.427Z"
   },
   {
    "duration": 25,
    "start_time": "2022-10-19T20:59:03.437Z"
   },
   {
    "duration": 21,
    "start_time": "2022-10-19T20:59:03.464Z"
   },
   {
    "duration": 14,
    "start_time": "2022-10-19T20:59:03.487Z"
   },
   {
    "duration": 5,
    "start_time": "2022-10-19T20:59:03.503Z"
   },
   {
    "duration": 45,
    "start_time": "2022-10-19T20:59:03.509Z"
   },
   {
    "duration": 7,
    "start_time": "2022-10-19T20:59:03.556Z"
   },
   {
    "duration": 7,
    "start_time": "2022-10-19T20:59:03.564Z"
   },
   {
    "duration": 6,
    "start_time": "2022-10-19T20:59:03.573Z"
   },
   {
    "duration": 12,
    "start_time": "2022-10-19T20:59:03.580Z"
   },
   {
    "duration": 26,
    "start_time": "2022-10-19T20:59:03.594Z"
   },
   {
    "duration": 6,
    "start_time": "2022-10-19T20:59:03.622Z"
   },
   {
    "duration": 26,
    "start_time": "2022-10-19T20:59:03.629Z"
   },
   {
    "duration": 6,
    "start_time": "2022-10-19T20:59:03.657Z"
   },
   {
    "duration": 26,
    "start_time": "2022-10-19T20:59:03.665Z"
   },
   {
    "duration": 5,
    "start_time": "2022-10-19T20:59:03.694Z"
   },
   {
    "duration": 23,
    "start_time": "2022-10-19T20:59:03.701Z"
   },
   {
    "duration": 35,
    "start_time": "2022-10-19T20:59:03.726Z"
   },
   {
    "duration": 3,
    "start_time": "2022-10-19T20:59:03.762Z"
   },
   {
    "duration": 48,
    "start_time": "2022-10-19T20:59:03.767Z"
   },
   {
    "duration": 15,
    "start_time": "2022-10-19T20:59:03.817Z"
   },
   {
    "duration": 171,
    "start_time": "2022-10-19T20:59:03.834Z"
   },
   {
    "duration": 220,
    "start_time": "2022-10-19T20:59:04.007Z"
   },
   {
    "duration": 211,
    "start_time": "2022-10-19T20:59:04.229Z"
   },
   {
    "duration": 5,
    "start_time": "2022-10-19T20:59:04.454Z"
   },
   {
    "duration": 24,
    "start_time": "2022-10-19T20:59:04.461Z"
   },
   {
    "duration": 14,
    "start_time": "2022-10-19T20:59:04.486Z"
   },
   {
    "duration": 105,
    "start_time": "2022-10-19T20:59:04.501Z"
   },
   {
    "duration": 154,
    "start_time": "2022-10-19T20:59:04.608Z"
   },
   {
    "duration": 13,
    "start_time": "2022-10-19T20:59:04.764Z"
   },
   {
    "duration": 8,
    "start_time": "2022-10-19T20:59:04.779Z"
   },
   {
    "duration": 71,
    "start_time": "2022-10-19T20:59:04.789Z"
   },
   {
    "duration": 162,
    "start_time": "2022-10-19T20:59:04.862Z"
   },
   {
    "duration": 228,
    "start_time": "2022-10-19T20:59:05.026Z"
   },
   {
    "duration": 4,
    "start_time": "2022-10-19T20:59:05.256Z"
   },
   {
    "duration": 22,
    "start_time": "2022-10-19T20:59:05.262Z"
   },
   {
    "duration": 16,
    "start_time": "2022-10-19T20:59:05.286Z"
   },
   {
    "duration": 75,
    "start_time": "2022-10-19T20:59:05.305Z"
   },
   {
    "duration": 35,
    "start_time": "2022-10-19T20:59:05.382Z"
   },
   {
    "duration": 5,
    "start_time": "2022-10-19T20:59:05.455Z"
   },
   {
    "duration": 1876,
    "start_time": "2022-10-20T09:12:51.227Z"
   },
   {
    "duration": 3603,
    "start_time": "2022-10-20T09:12:53.106Z"
   },
   {
    "duration": 26,
    "start_time": "2022-10-20T09:12:56.711Z"
   },
   {
    "duration": 19,
    "start_time": "2022-10-20T09:12:56.738Z"
   },
   {
    "duration": 8,
    "start_time": "2022-10-20T09:12:56.760Z"
   },
   {
    "duration": 15,
    "start_time": "2022-10-20T09:12:56.769Z"
   },
   {
    "duration": 24,
    "start_time": "2022-10-20T09:12:56.785Z"
   },
   {
    "duration": 167,
    "start_time": "2022-10-20T09:12:56.811Z"
   },
   {
    "duration": 23,
    "start_time": "2022-10-20T09:12:56.979Z"
   },
   {
    "duration": 32,
    "start_time": "2022-10-20T09:12:57.003Z"
   },
   {
    "duration": 6,
    "start_time": "2022-10-20T09:12:57.037Z"
   },
   {
    "duration": 141,
    "start_time": "2022-10-20T09:12:57.045Z"
   },
   {
    "duration": 9,
    "start_time": "2022-10-20T09:12:57.188Z"
   },
   {
    "duration": 32,
    "start_time": "2022-10-20T09:12:57.200Z"
   },
   {
    "duration": 21,
    "start_time": "2022-10-20T09:12:57.234Z"
   },
   {
    "duration": 17,
    "start_time": "2022-10-20T09:12:57.257Z"
   },
   {
    "duration": 5,
    "start_time": "2022-10-20T09:12:57.276Z"
   },
   {
    "duration": 48,
    "start_time": "2022-10-20T09:12:57.283Z"
   },
   {
    "duration": 6,
    "start_time": "2022-10-20T09:12:57.333Z"
   },
   {
    "duration": 6,
    "start_time": "2022-10-20T09:12:57.341Z"
   },
   {
    "duration": 2,
    "start_time": "2022-10-20T09:12:57.349Z"
   },
   {
    "duration": 9,
    "start_time": "2022-10-20T09:12:57.353Z"
   },
   {
    "duration": 22,
    "start_time": "2022-10-20T09:12:57.364Z"
   },
   {
    "duration": 7,
    "start_time": "2022-10-20T09:12:57.388Z"
   },
   {
    "duration": 3,
    "start_time": "2022-10-20T09:12:57.429Z"
   },
   {
    "duration": 6,
    "start_time": "2022-10-20T09:12:57.435Z"
   },
   {
    "duration": 32,
    "start_time": "2022-10-20T09:12:57.443Z"
   },
   {
    "duration": 5,
    "start_time": "2022-10-20T09:12:57.476Z"
   },
   {
    "duration": 52,
    "start_time": "2022-10-20T09:12:57.483Z"
   },
   {
    "duration": 20,
    "start_time": "2022-10-20T09:12:57.537Z"
   },
   {
    "duration": 4,
    "start_time": "2022-10-20T09:12:57.559Z"
   },
   {
    "duration": 72,
    "start_time": "2022-10-20T09:12:57.565Z"
   },
   {
    "duration": 16,
    "start_time": "2022-10-20T09:12:57.639Z"
   },
   {
    "duration": 396,
    "start_time": "2022-10-20T09:12:57.658Z"
   },
   {
    "duration": 374,
    "start_time": "2022-10-20T09:12:58.056Z"
   },
   {
    "duration": 240,
    "start_time": "2022-10-20T09:12:58.432Z"
   },
   {
    "duration": 5,
    "start_time": "2022-10-20T09:12:58.674Z"
   },
   {
    "duration": 18,
    "start_time": "2022-10-20T09:12:58.681Z"
   },
   {
    "duration": 13,
    "start_time": "2022-10-20T09:12:58.730Z"
   },
   {
    "duration": 113,
    "start_time": "2022-10-20T09:12:58.745Z"
   },
   {
    "duration": 99,
    "start_time": "2022-10-20T09:12:58.862Z"
   },
   {
    "duration": 12,
    "start_time": "2022-10-20T09:12:58.962Z"
   },
   {
    "duration": 6,
    "start_time": "2022-10-20T09:12:58.976Z"
   },
   {
    "duration": 57,
    "start_time": "2022-10-20T09:12:58.983Z"
   },
   {
    "duration": 170,
    "start_time": "2022-10-20T09:12:59.042Z"
   },
   {
    "duration": 257,
    "start_time": "2022-10-20T09:12:59.214Z"
   },
   {
    "duration": 4,
    "start_time": "2022-10-20T09:12:59.473Z"
   },
   {
    "duration": 8,
    "start_time": "2022-10-20T09:12:59.479Z"
   },
   {
    "duration": 12,
    "start_time": "2022-10-20T09:12:59.488Z"
   },
   {
    "duration": 25,
    "start_time": "2022-10-20T09:12:59.529Z"
   },
   {
    "duration": 93,
    "start_time": "2022-10-20T09:12:59.556Z"
   },
   {
    "duration": 5,
    "start_time": "2022-10-20T09:12:59.651Z"
   },
   {
    "duration": 3,
    "start_time": "2022-10-20T09:23:09.110Z"
   },
   {
    "duration": 3,
    "start_time": "2022-10-20T09:23:16.075Z"
   },
   {
    "duration": 3,
    "start_time": "2022-10-20T09:26:04.219Z"
   },
   {
    "duration": 2,
    "start_time": "2022-10-20T09:26:09.222Z"
   },
   {
    "duration": 2,
    "start_time": "2022-10-20T09:26:26.915Z"
   },
   {
    "duration": 3,
    "start_time": "2022-10-20T09:28:46.236Z"
   },
   {
    "duration": 63,
    "start_time": "2022-10-20T09:30:04.377Z"
   },
   {
    "duration": 144,
    "start_time": "2022-10-20T09:34:20.308Z"
   },
   {
    "duration": 15,
    "start_time": "2022-10-20T09:34:46.215Z"
   },
   {
    "duration": 268,
    "start_time": "2022-10-20T09:36:09.277Z"
   },
   {
    "duration": 188,
    "start_time": "2022-10-20T09:36:22.940Z"
   },
   {
    "duration": 271,
    "start_time": "2022-10-20T09:37:02.037Z"
   },
   {
    "duration": 192,
    "start_time": "2022-10-20T09:37:18.777Z"
   },
   {
    "duration": 6,
    "start_time": "2022-10-20T09:39:44.988Z"
   },
   {
    "duration": 15,
    "start_time": "2022-10-20T09:39:45.510Z"
   },
   {
    "duration": 167,
    "start_time": "2022-10-20T09:39:46.172Z"
   },
   {
    "duration": 142,
    "start_time": "2022-10-20T09:39:51.877Z"
   },
   {
    "duration": 144,
    "start_time": "2022-10-20T09:43:45.075Z"
   },
   {
    "duration": 8,
    "start_time": "2022-10-20T10:00:40.549Z"
   },
   {
    "duration": 18,
    "start_time": "2022-10-20T10:01:17.269Z"
   },
   {
    "duration": 20,
    "start_time": "2022-10-20T10:01:24.906Z"
   },
   {
    "duration": 8,
    "start_time": "2022-10-20T10:01:36.610Z"
   },
   {
    "duration": 9,
    "start_time": "2022-10-20T10:01:45.138Z"
   },
   {
    "duration": 8,
    "start_time": "2022-10-20T10:01:57.723Z"
   },
   {
    "duration": 24,
    "start_time": "2022-10-20T10:03:29.146Z"
   },
   {
    "duration": 26,
    "start_time": "2022-10-20T10:03:29.172Z"
   },
   {
    "duration": 17,
    "start_time": "2022-10-20T10:04:35.788Z"
   },
   {
    "duration": 32,
    "start_time": "2022-10-20T10:05:17.689Z"
   },
   {
    "duration": 33,
    "start_time": "2022-10-20T10:05:37.522Z"
   },
   {
    "duration": 31,
    "start_time": "2022-10-20T10:06:18.660Z"
   },
   {
    "duration": 22,
    "start_time": "2022-10-20T10:07:14.399Z"
   },
   {
    "duration": 1908,
    "start_time": "2022-10-20T10:07:14.971Z"
   },
   {
    "duration": 25,
    "start_time": "2022-10-20T10:07:21.571Z"
   },
   {
    "duration": 1842,
    "start_time": "2022-10-20T10:07:22.629Z"
   },
   {
    "duration": 6,
    "start_time": "2022-10-20T10:07:34.825Z"
   },
   {
    "duration": 1609,
    "start_time": "2022-10-20T10:07:37.081Z"
   },
   {
    "duration": 1645,
    "start_time": "2022-10-20T10:08:01.259Z"
   },
   {
    "duration": 8,
    "start_time": "2022-10-20T10:08:54.651Z"
   },
   {
    "duration": 1203,
    "start_time": "2022-10-20T10:08:56.011Z"
   },
   {
    "duration": 1184,
    "start_time": "2022-10-20T10:09:12.352Z"
   },
   {
    "duration": 7,
    "start_time": "2022-10-20T10:09:35.604Z"
   },
   {
    "duration": 9,
    "start_time": "2022-10-20T10:09:36.997Z"
   },
   {
    "duration": 9,
    "start_time": "2022-10-20T10:09:49.266Z"
   },
   {
    "duration": 7,
    "start_time": "2022-10-20T10:09:53.479Z"
   },
   {
    "duration": 24,
    "start_time": "2022-10-20T10:10:52.220Z"
   },
   {
    "duration": 26,
    "start_time": "2022-10-20T10:10:55.732Z"
   },
   {
    "duration": 1495,
    "start_time": "2022-10-20T10:11:03.848Z"
   },
   {
    "duration": 687,
    "start_time": "2022-10-20T10:11:05.345Z"
   },
   {
    "duration": 26,
    "start_time": "2022-10-20T10:11:06.033Z"
   },
   {
    "duration": 21,
    "start_time": "2022-10-20T10:11:06.061Z"
   },
   {
    "duration": 8,
    "start_time": "2022-10-20T10:11:06.085Z"
   },
   {
    "duration": 42,
    "start_time": "2022-10-20T10:11:06.094Z"
   },
   {
    "duration": 18,
    "start_time": "2022-10-20T10:11:06.137Z"
   },
   {
    "duration": 167,
    "start_time": "2022-10-20T10:11:06.157Z"
   },
   {
    "duration": 25,
    "start_time": "2022-10-20T10:11:06.328Z"
   },
   {
    "duration": 32,
    "start_time": "2022-10-20T10:11:06.355Z"
   },
   {
    "duration": 11,
    "start_time": "2022-10-20T10:11:06.389Z"
   },
   {
    "duration": 145,
    "start_time": "2022-10-20T10:11:06.401Z"
   },
   {
    "duration": 10,
    "start_time": "2022-10-20T10:11:06.548Z"
   },
   {
    "duration": 18,
    "start_time": "2022-10-20T10:11:06.562Z"
   },
   {
    "duration": 28,
    "start_time": "2022-10-20T10:11:06.582Z"
   },
   {
    "duration": 26,
    "start_time": "2022-10-20T10:11:06.612Z"
   },
   {
    "duration": 6,
    "start_time": "2022-10-20T10:11:06.640Z"
   },
   {
    "duration": 28,
    "start_time": "2022-10-20T10:11:06.647Z"
   },
   {
    "duration": 19,
    "start_time": "2022-10-20T10:11:06.677Z"
   },
   {
    "duration": 6,
    "start_time": "2022-10-20T10:11:06.698Z"
   },
   {
    "duration": 2,
    "start_time": "2022-10-20T10:11:06.706Z"
   },
   {
    "duration": 22,
    "start_time": "2022-10-20T10:11:06.710Z"
   },
   {
    "duration": 5,
    "start_time": "2022-10-20T10:11:06.734Z"
   },
   {
    "duration": 7,
    "start_time": "2022-10-20T10:11:06.741Z"
   },
   {
    "duration": 10,
    "start_time": "2022-10-20T10:11:06.750Z"
   },
   {
    "duration": 20,
    "start_time": "2022-10-20T10:11:06.761Z"
   },
   {
    "duration": 4,
    "start_time": "2022-10-20T10:11:06.783Z"
   },
   {
    "duration": 4,
    "start_time": "2022-10-20T10:11:06.788Z"
   },
   {
    "duration": 82,
    "start_time": "2022-10-20T10:11:06.793Z"
   },
   {
    "duration": 3,
    "start_time": "2022-10-20T10:11:06.877Z"
   },
   {
    "duration": 348,
    "start_time": "2022-10-20T10:11:06.881Z"
   },
   {
    "duration": 209,
    "start_time": "2022-10-20T10:11:07.231Z"
   },
   {
    "duration": 243,
    "start_time": "2022-10-20T10:11:07.442Z"
   },
   {
    "duration": 6,
    "start_time": "2022-10-20T10:11:07.686Z"
   },
   {
    "duration": 35,
    "start_time": "2022-10-20T10:11:07.694Z"
   },
   {
    "duration": 111,
    "start_time": "2022-10-20T10:11:07.731Z"
   },
   {
    "duration": 100,
    "start_time": "2022-10-20T10:11:07.844Z"
   },
   {
    "duration": 12,
    "start_time": "2022-10-20T10:11:07.945Z"
   },
   {
    "duration": 7,
    "start_time": "2022-10-20T10:11:07.959Z"
   },
   {
    "duration": 17,
    "start_time": "2022-10-20T10:11:07.968Z"
   },
   {
    "duration": 207,
    "start_time": "2022-10-20T10:11:08.032Z"
   },
   {
    "duration": 234,
    "start_time": "2022-10-20T10:11:08.242Z"
   },
   {
    "duration": 3,
    "start_time": "2022-10-20T10:11:08.478Z"
   },
   {
    "duration": 7,
    "start_time": "2022-10-20T10:11:08.482Z"
   },
   {
    "duration": 10,
    "start_time": "2022-10-20T10:11:08.491Z"
   },
   {
    "duration": 49,
    "start_time": "2022-10-20T10:11:08.502Z"
   },
   {
    "duration": 183,
    "start_time": "2022-10-20T10:11:08.553Z"
   },
   {
    "duration": 0,
    "start_time": "2022-10-20T10:11:08.737Z"
   },
   {
    "duration": 29,
    "start_time": "2022-10-20T10:11:46.904Z"
   },
   {
    "duration": 26,
    "start_time": "2022-10-20T10:13:23.064Z"
   },
   {
    "duration": 31,
    "start_time": "2022-10-20T10:13:34.374Z"
   },
   {
    "duration": 28,
    "start_time": "2022-10-20T10:27:43.401Z"
   },
   {
    "duration": 30,
    "start_time": "2022-10-20T10:27:48.726Z"
   },
   {
    "duration": 31,
    "start_time": "2022-10-20T10:28:01.405Z"
   },
   {
    "duration": 32,
    "start_time": "2022-10-20T10:31:22.838Z"
   },
   {
    "duration": 23,
    "start_time": "2022-10-20T10:31:33.944Z"
   },
   {
    "duration": 30,
    "start_time": "2022-10-20T10:31:36.085Z"
   },
   {
    "duration": 3,
    "start_time": "2022-10-20T10:31:57.981Z"
   },
   {
    "duration": 4,
    "start_time": "2022-10-20T10:32:10.547Z"
   },
   {
    "duration": 97,
    "start_time": "2022-10-20T10:33:07.718Z"
   },
   {
    "duration": 9,
    "start_time": "2022-10-20T10:34:12.694Z"
   },
   {
    "duration": 126,
    "start_time": "2022-10-20T10:34:15.503Z"
   },
   {
    "duration": 149,
    "start_time": "2022-10-20T10:34:31.086Z"
   },
   {
    "duration": 872,
    "start_time": "2022-10-20T10:34:37.365Z"
   },
   {
    "duration": 858,
    "start_time": "2022-10-20T10:34:54.272Z"
   },
   {
    "duration": 1308,
    "start_time": "2022-10-20T10:35:22.932Z"
   },
   {
    "duration": 585,
    "start_time": "2022-10-20T10:36:14.958Z"
   },
   {
    "duration": 1200,
    "start_time": "2022-10-20T10:36:37.032Z"
   },
   {
    "duration": 1165,
    "start_time": "2022-10-20T10:36:43.966Z"
   },
   {
    "duration": 1265,
    "start_time": "2022-10-20T10:38:15.271Z"
   },
   {
    "duration": 1371,
    "start_time": "2022-10-20T10:38:19.061Z"
   },
   {
    "duration": 3,
    "start_time": "2022-10-20T10:52:46.318Z"
   },
   {
    "duration": 5,
    "start_time": "2022-10-20T12:11:59.789Z"
   },
   {
    "duration": 5,
    "start_time": "2022-10-20T12:12:03.011Z"
   },
   {
    "duration": 694,
    "start_time": "2022-10-20T12:12:03.017Z"
   },
   {
    "duration": 23,
    "start_time": "2022-10-20T12:12:03.713Z"
   },
   {
    "duration": 18,
    "start_time": "2022-10-20T12:12:03.737Z"
   },
   {
    "duration": 7,
    "start_time": "2022-10-20T12:12:03.757Z"
   },
   {
    "duration": 10,
    "start_time": "2022-10-20T12:12:03.765Z"
   },
   {
    "duration": 19,
    "start_time": "2022-10-20T12:12:03.776Z"
   },
   {
    "duration": 160,
    "start_time": "2022-10-20T12:12:03.797Z"
   },
   {
    "duration": 20,
    "start_time": "2022-10-20T12:12:03.959Z"
   },
   {
    "duration": 29,
    "start_time": "2022-10-20T12:12:03.981Z"
   },
   {
    "duration": 17,
    "start_time": "2022-10-20T12:12:04.013Z"
   },
   {
    "duration": 132,
    "start_time": "2022-10-20T12:12:04.032Z"
   },
   {
    "duration": 10,
    "start_time": "2022-10-20T12:12:04.166Z"
   },
   {
    "duration": 30,
    "start_time": "2022-10-20T12:12:04.178Z"
   },
   {
    "duration": 25,
    "start_time": "2022-10-20T12:12:04.210Z"
   },
   {
    "duration": 32,
    "start_time": "2022-10-20T12:12:04.237Z"
   },
   {
    "duration": 6,
    "start_time": "2022-10-20T12:12:04.271Z"
   },
   {
    "duration": 46,
    "start_time": "2022-10-20T12:12:04.279Z"
   },
   {
    "duration": 10,
    "start_time": "2022-10-20T12:12:04.326Z"
   },
   {
    "duration": 23,
    "start_time": "2022-10-20T12:12:04.337Z"
   },
   {
    "duration": 21,
    "start_time": "2022-10-20T12:12:04.361Z"
   },
   {
    "duration": 29,
    "start_time": "2022-10-20T12:12:04.384Z"
   },
   {
    "duration": 23,
    "start_time": "2022-10-20T12:12:04.414Z"
   },
   {
    "duration": 28,
    "start_time": "2022-10-20T12:12:04.438Z"
   },
   {
    "duration": 43,
    "start_time": "2022-10-20T12:12:04.468Z"
   },
   {
    "duration": 28,
    "start_time": "2022-10-20T12:12:04.512Z"
   },
   {
    "duration": 14,
    "start_time": "2022-10-20T12:12:04.541Z"
   },
   {
    "duration": 31,
    "start_time": "2022-10-20T12:12:04.557Z"
   },
   {
    "duration": 77,
    "start_time": "2022-10-20T12:12:04.592Z"
   },
   {
    "duration": 3,
    "start_time": "2022-10-20T12:12:04.670Z"
   },
   {
    "duration": 231,
    "start_time": "2022-10-20T12:12:04.674Z"
   },
   {
    "duration": 252,
    "start_time": "2022-10-20T12:12:04.907Z"
   },
   {
    "duration": 210,
    "start_time": "2022-10-20T12:12:05.160Z"
   },
   {
    "duration": 5,
    "start_time": "2022-10-20T12:12:05.372Z"
   },
   {
    "duration": 59,
    "start_time": "2022-10-20T12:12:05.378Z"
   },
   {
    "duration": 103,
    "start_time": "2022-10-20T12:12:05.439Z"
   },
   {
    "duration": 91,
    "start_time": "2022-10-20T12:12:05.544Z"
   },
   {
    "duration": 10,
    "start_time": "2022-10-20T12:12:05.636Z"
   },
   {
    "duration": 16,
    "start_time": "2022-10-20T12:12:05.648Z"
   },
   {
    "duration": 53,
    "start_time": "2022-10-20T12:12:05.666Z"
   },
   {
    "duration": 152,
    "start_time": "2022-10-20T12:12:05.721Z"
   },
   {
    "duration": 212,
    "start_time": "2022-10-20T12:12:05.874Z"
   },
   {
    "duration": 4,
    "start_time": "2022-10-20T12:12:06.087Z"
   },
   {
    "duration": 39,
    "start_time": "2022-10-20T12:12:06.093Z"
   },
   {
    "duration": 48,
    "start_time": "2022-10-20T12:12:06.134Z"
   },
   {
    "duration": 106,
    "start_time": "2022-10-20T12:12:06.184Z"
   },
   {
    "duration": 0,
    "start_time": "2022-10-20T12:12:06.292Z"
   },
   {
    "duration": 0,
    "start_time": "2022-10-20T12:12:06.294Z"
   },
   {
    "duration": 0,
    "start_time": "2022-10-20T12:12:06.295Z"
   },
   {
    "duration": 78,
    "start_time": "2022-10-20T12:12:46.315Z"
   },
   {
    "duration": 2319,
    "start_time": "2022-10-20T12:13:37.011Z"
   },
   {
    "duration": 2493,
    "start_time": "2022-10-20T12:15:57.835Z"
   },
   {
    "duration": 2299,
    "start_time": "2022-10-20T12:16:02.930Z"
   },
   {
    "duration": 3,
    "start_time": "2022-10-20T12:20:33.460Z"
   },
   {
    "duration": 3,
    "start_time": "2022-10-20T12:20:55.475Z"
   },
   {
    "duration": 4,
    "start_time": "2022-10-20T12:20:55.651Z"
   },
   {
    "duration": 2277,
    "start_time": "2022-10-20T12:22:30.454Z"
   },
   {
    "duration": 2344,
    "start_time": "2022-10-20T12:22:37.195Z"
   },
   {
    "duration": 2578,
    "start_time": "2022-10-20T12:23:04.958Z"
   },
   {
    "duration": 28,
    "start_time": "2022-10-20T12:24:59.316Z"
   },
   {
    "duration": 5,
    "start_time": "2022-10-20T12:27:34.674Z"
   },
   {
    "duration": 734,
    "start_time": "2022-10-20T12:27:34.681Z"
   },
   {
    "duration": 23,
    "start_time": "2022-10-20T12:27:35.417Z"
   },
   {
    "duration": 22,
    "start_time": "2022-10-20T12:27:35.442Z"
   },
   {
    "duration": 7,
    "start_time": "2022-10-20T12:27:35.467Z"
   },
   {
    "duration": 11,
    "start_time": "2022-10-20T12:27:35.476Z"
   },
   {
    "duration": 14,
    "start_time": "2022-10-20T12:27:35.489Z"
   },
   {
    "duration": 138,
    "start_time": "2022-10-20T12:27:35.530Z"
   },
   {
    "duration": 22,
    "start_time": "2022-10-20T12:27:35.670Z"
   },
   {
    "duration": 35,
    "start_time": "2022-10-20T12:27:35.694Z"
   },
   {
    "duration": 9,
    "start_time": "2022-10-20T12:27:35.733Z"
   },
   {
    "duration": 144,
    "start_time": "2022-10-20T12:27:35.743Z"
   },
   {
    "duration": 8,
    "start_time": "2022-10-20T12:27:35.889Z"
   },
   {
    "duration": 13,
    "start_time": "2022-10-20T12:27:35.899Z"
   },
   {
    "duration": 35,
    "start_time": "2022-10-20T12:27:35.914Z"
   },
   {
    "duration": 15,
    "start_time": "2022-10-20T12:27:35.951Z"
   },
   {
    "duration": 4,
    "start_time": "2022-10-20T12:27:35.968Z"
   },
   {
    "duration": 27,
    "start_time": "2022-10-20T12:27:35.974Z"
   },
   {
    "duration": 28,
    "start_time": "2022-10-20T12:27:36.003Z"
   },
   {
    "duration": 7,
    "start_time": "2022-10-20T12:27:36.032Z"
   },
   {
    "duration": 3,
    "start_time": "2022-10-20T12:27:36.040Z"
   },
   {
    "duration": 10,
    "start_time": "2022-10-20T12:27:36.044Z"
   },
   {
    "duration": 4,
    "start_time": "2022-10-20T12:27:36.056Z"
   },
   {
    "duration": 5,
    "start_time": "2022-10-20T12:27:36.061Z"
   },
   {
    "duration": 8,
    "start_time": "2022-10-20T12:27:36.068Z"
   },
   {
    "duration": 58,
    "start_time": "2022-10-20T12:27:36.078Z"
   },
   {
    "duration": 6,
    "start_time": "2022-10-20T12:27:36.138Z"
   },
   {
    "duration": 8,
    "start_time": "2022-10-20T12:27:36.145Z"
   },
   {
    "duration": 47,
    "start_time": "2022-10-20T12:27:36.157Z"
   },
   {
    "duration": 24,
    "start_time": "2022-10-20T12:27:36.206Z"
   },
   {
    "duration": 178,
    "start_time": "2022-10-20T12:27:36.232Z"
   },
   {
    "duration": 223,
    "start_time": "2022-10-20T12:27:36.412Z"
   },
   {
    "duration": 215,
    "start_time": "2022-10-20T12:27:36.637Z"
   },
   {
    "duration": 6,
    "start_time": "2022-10-20T12:27:36.854Z"
   },
   {
    "duration": 27,
    "start_time": "2022-10-20T12:27:36.862Z"
   },
   {
    "duration": 139,
    "start_time": "2022-10-20T12:27:36.890Z"
   },
   {
    "duration": 59,
    "start_time": "2022-10-20T12:27:37.032Z"
   },
   {
    "duration": 45,
    "start_time": "2022-10-20T12:27:37.092Z"
   },
   {
    "duration": 8,
    "start_time": "2022-10-20T12:27:37.140Z"
   },
   {
    "duration": 20,
    "start_time": "2022-10-20T12:27:37.150Z"
   },
   {
    "duration": 196,
    "start_time": "2022-10-20T12:27:37.171Z"
   },
   {
    "duration": 212,
    "start_time": "2022-10-20T12:27:37.368Z"
   },
   {
    "duration": 3,
    "start_time": "2022-10-20T12:27:37.582Z"
   },
   {
    "duration": 10,
    "start_time": "2022-10-20T12:27:37.586Z"
   },
   {
    "duration": 31,
    "start_time": "2022-10-20T12:27:37.598Z"
   },
   {
    "duration": 7,
    "start_time": "2022-10-20T12:27:37.631Z"
   },
   {
    "duration": 2390,
    "start_time": "2022-10-20T12:27:37.640Z"
   },
   {
    "duration": 118,
    "start_time": "2022-10-20T12:27:40.032Z"
   },
   {
    "duration": 0,
    "start_time": "2022-10-20T12:27:40.152Z"
   },
   {
    "duration": 0,
    "start_time": "2022-10-20T12:27:40.153Z"
   },
   {
    "duration": 13,
    "start_time": "2022-10-20T12:30:19.604Z"
   },
   {
    "duration": 12,
    "start_time": "2022-10-20T12:30:31.699Z"
   },
   {
    "duration": 13,
    "start_time": "2022-10-20T12:30:48.091Z"
   },
   {
    "duration": 29,
    "start_time": "2022-10-20T12:30:52.435Z"
   },
   {
    "duration": 2275,
    "start_time": "2022-10-20T12:31:05.563Z"
   },
   {
    "duration": 1540,
    "start_time": "2022-10-20T14:26:02.345Z"
   },
   {
    "duration": 1499,
    "start_time": "2022-10-20T14:26:03.887Z"
   },
   {
    "duration": 24,
    "start_time": "2022-10-20T14:26:05.387Z"
   },
   {
    "duration": 17,
    "start_time": "2022-10-20T14:26:05.413Z"
   },
   {
    "duration": 8,
    "start_time": "2022-10-20T14:26:05.432Z"
   },
   {
    "duration": 25,
    "start_time": "2022-10-20T14:26:05.441Z"
   },
   {
    "duration": 18,
    "start_time": "2022-10-20T14:26:05.470Z"
   },
   {
    "duration": 143,
    "start_time": "2022-10-20T14:26:05.490Z"
   },
   {
    "duration": 22,
    "start_time": "2022-10-20T14:26:05.635Z"
   },
   {
    "duration": 16,
    "start_time": "2022-10-20T14:26:05.661Z"
   },
   {
    "duration": 25,
    "start_time": "2022-10-20T14:26:05.679Z"
   },
   {
    "duration": 129,
    "start_time": "2022-10-20T14:26:05.706Z"
   },
   {
    "duration": 8,
    "start_time": "2022-10-20T14:26:05.838Z"
   },
   {
    "duration": 23,
    "start_time": "2022-10-20T14:26:05.848Z"
   },
   {
    "duration": 32,
    "start_time": "2022-10-20T14:26:05.873Z"
   },
   {
    "duration": 14,
    "start_time": "2022-10-20T14:26:05.907Z"
   },
   {
    "duration": 5,
    "start_time": "2022-10-20T14:26:05.922Z"
   },
   {
    "duration": 34,
    "start_time": "2022-10-20T14:26:05.929Z"
   },
   {
    "duration": 7,
    "start_time": "2022-10-20T14:26:05.965Z"
   },
   {
    "duration": 31,
    "start_time": "2022-10-20T14:26:05.974Z"
   },
   {
    "duration": 9,
    "start_time": "2022-10-20T14:26:06.007Z"
   },
   {
    "duration": 8,
    "start_time": "2022-10-20T14:26:06.017Z"
   },
   {
    "duration": 3,
    "start_time": "2022-10-20T14:26:06.027Z"
   },
   {
    "duration": 5,
    "start_time": "2022-10-20T14:26:06.031Z"
   },
   {
    "duration": 12,
    "start_time": "2022-10-20T14:26:06.037Z"
   },
   {
    "duration": 20,
    "start_time": "2022-10-20T14:26:06.050Z"
   },
   {
    "duration": 4,
    "start_time": "2022-10-20T14:26:06.072Z"
   },
   {
    "duration": 3,
    "start_time": "2022-10-20T14:26:06.101Z"
   },
   {
    "duration": 55,
    "start_time": "2022-10-20T14:26:06.106Z"
   },
   {
    "duration": 2,
    "start_time": "2022-10-20T14:26:06.163Z"
   },
   {
    "duration": 297,
    "start_time": "2022-10-20T14:26:06.166Z"
   },
   {
    "duration": 208,
    "start_time": "2022-10-20T14:26:06.464Z"
   },
   {
    "duration": 198,
    "start_time": "2022-10-20T14:26:06.673Z"
   },
   {
    "duration": 5,
    "start_time": "2022-10-20T14:26:06.872Z"
   },
   {
    "duration": 28,
    "start_time": "2022-10-20T14:26:06.878Z"
   },
   {
    "duration": 107,
    "start_time": "2022-10-20T14:26:06.908Z"
   },
   {
    "duration": 119,
    "start_time": "2022-10-20T14:26:07.017Z"
   },
   {
    "duration": 10,
    "start_time": "2022-10-20T14:26:07.138Z"
   },
   {
    "duration": 15,
    "start_time": "2022-10-20T14:26:07.149Z"
   },
   {
    "duration": 43,
    "start_time": "2022-10-20T14:26:07.166Z"
   },
   {
    "duration": 133,
    "start_time": "2022-10-20T14:26:07.211Z"
   },
   {
    "duration": 192,
    "start_time": "2022-10-20T14:26:07.345Z"
   },
   {
    "duration": 2,
    "start_time": "2022-10-20T14:26:07.539Z"
   },
   {
    "duration": 33,
    "start_time": "2022-10-20T14:26:07.543Z"
   },
   {
    "duration": 22,
    "start_time": "2022-10-20T14:26:07.579Z"
   },
   {
    "duration": 18,
    "start_time": "2022-10-20T14:26:07.602Z"
   },
   {
    "duration": 2379,
    "start_time": "2022-10-20T14:26:07.622Z"
   },
   {
    "duration": 178,
    "start_time": "2022-10-20T14:26:10.004Z"
   },
   {
    "duration": 0,
    "start_time": "2022-10-20T14:26:10.184Z"
   },
   {
    "duration": 0,
    "start_time": "2022-10-20T14:26:10.185Z"
   },
   {
    "duration": 14,
    "start_time": "2022-10-20T14:30:59.231Z"
   },
   {
    "duration": 689,
    "start_time": "2022-10-20T14:30:59.247Z"
   },
   {
    "duration": 19,
    "start_time": "2022-10-20T14:30:59.938Z"
   },
   {
    "duration": 16,
    "start_time": "2022-10-20T14:30:59.959Z"
   },
   {
    "duration": 12,
    "start_time": "2022-10-20T14:30:59.976Z"
   },
   {
    "duration": 24,
    "start_time": "2022-10-20T14:31:00.001Z"
   },
   {
    "duration": 18,
    "start_time": "2022-10-20T14:31:00.027Z"
   },
   {
    "duration": 121,
    "start_time": "2022-10-20T14:31:00.047Z"
   },
   {
    "duration": 18,
    "start_time": "2022-10-20T14:31:00.171Z"
   },
   {
    "duration": 22,
    "start_time": "2022-10-20T14:31:00.201Z"
   },
   {
    "duration": 17,
    "start_time": "2022-10-20T14:31:00.225Z"
   },
   {
    "duration": 153,
    "start_time": "2022-10-20T14:31:00.244Z"
   },
   {
    "duration": 8,
    "start_time": "2022-10-20T14:31:00.399Z"
   },
   {
    "duration": 13,
    "start_time": "2022-10-20T14:31:00.408Z"
   },
   {
    "duration": 43,
    "start_time": "2022-10-20T14:31:00.423Z"
   },
   {
    "duration": 41,
    "start_time": "2022-10-20T14:31:00.469Z"
   },
   {
    "duration": 19,
    "start_time": "2022-10-20T14:31:00.511Z"
   },
   {
    "duration": 38,
    "start_time": "2022-10-20T14:31:00.532Z"
   },
   {
    "duration": 6,
    "start_time": "2022-10-20T14:31:00.571Z"
   },
   {
    "duration": 15,
    "start_time": "2022-10-20T14:31:00.579Z"
   },
   {
    "duration": 30,
    "start_time": "2022-10-20T14:31:00.596Z"
   },
   {
    "duration": 24,
    "start_time": "2022-10-20T14:31:00.627Z"
   },
   {
    "duration": 20,
    "start_time": "2022-10-20T14:31:00.653Z"
   },
   {
    "duration": 59,
    "start_time": "2022-10-20T14:31:00.677Z"
   },
   {
    "duration": 88,
    "start_time": "2022-10-20T14:31:00.737Z"
   },
   {
    "duration": 51,
    "start_time": "2022-10-20T14:31:00.827Z"
   },
   {
    "duration": 16,
    "start_time": "2022-10-20T14:31:00.880Z"
   },
   {
    "duration": 20,
    "start_time": "2022-10-20T14:31:00.898Z"
   },
   {
    "duration": 97,
    "start_time": "2022-10-20T14:31:00.920Z"
   },
   {
    "duration": 18,
    "start_time": "2022-10-20T14:31:01.019Z"
   },
   {
    "duration": 197,
    "start_time": "2022-10-20T14:31:01.038Z"
   },
   {
    "duration": 195,
    "start_time": "2022-10-20T14:31:01.237Z"
   },
   {
    "duration": 198,
    "start_time": "2022-10-20T14:31:01.434Z"
   },
   {
    "duration": 5,
    "start_time": "2022-10-20T14:31:01.633Z"
   },
   {
    "duration": 84,
    "start_time": "2022-10-20T14:31:01.640Z"
   },
   {
    "duration": 78,
    "start_time": "2022-10-20T14:31:01.726Z"
   },
   {
    "duration": 54,
    "start_time": "2022-10-20T14:31:01.806Z"
   },
   {
    "duration": 57,
    "start_time": "2022-10-20T14:31:01.862Z"
   },
   {
    "duration": 45,
    "start_time": "2022-10-20T14:31:01.920Z"
   },
   {
    "duration": 60,
    "start_time": "2022-10-20T14:31:01.967Z"
   },
   {
    "duration": 204,
    "start_time": "2022-10-20T14:31:02.028Z"
   },
   {
    "duration": 207,
    "start_time": "2022-10-20T14:31:02.233Z"
   },
   {
    "duration": 2,
    "start_time": "2022-10-20T14:31:02.442Z"
   },
   {
    "duration": 35,
    "start_time": "2022-10-20T14:31:02.445Z"
   },
   {
    "duration": 21,
    "start_time": "2022-10-20T14:31:02.482Z"
   },
   {
    "duration": 46,
    "start_time": "2022-10-20T14:31:02.505Z"
   },
   {
    "duration": 2351,
    "start_time": "2022-10-20T14:31:02.552Z"
   },
   {
    "duration": 26,
    "start_time": "2022-10-20T14:31:04.904Z"
   },
   {
    "duration": 0,
    "start_time": "2022-10-20T14:31:04.931Z"
   },
   {
    "duration": 0,
    "start_time": "2022-10-20T14:31:04.932Z"
   },
   {
    "duration": 1440,
    "start_time": "2022-10-20T14:37:15.778Z"
   },
   {
    "duration": 641,
    "start_time": "2022-10-20T14:37:17.220Z"
   },
   {
    "duration": 22,
    "start_time": "2022-10-20T14:37:17.863Z"
   },
   {
    "duration": 27,
    "start_time": "2022-10-20T14:37:17.886Z"
   },
   {
    "duration": 6,
    "start_time": "2022-10-20T14:37:17.915Z"
   },
   {
    "duration": 11,
    "start_time": "2022-10-20T14:37:17.922Z"
   },
   {
    "duration": 15,
    "start_time": "2022-10-20T14:37:17.935Z"
   },
   {
    "duration": 138,
    "start_time": "2022-10-20T14:37:17.951Z"
   },
   {
    "duration": 22,
    "start_time": "2022-10-20T14:37:18.091Z"
   },
   {
    "duration": 19,
    "start_time": "2022-10-20T14:37:18.115Z"
   },
   {
    "duration": 5,
    "start_time": "2022-10-20T14:37:18.136Z"
   },
   {
    "duration": 133,
    "start_time": "2022-10-20T14:37:18.142Z"
   },
   {
    "duration": 8,
    "start_time": "2022-10-20T14:37:18.276Z"
   },
   {
    "duration": 21,
    "start_time": "2022-10-20T14:37:18.285Z"
   },
   {
    "duration": 18,
    "start_time": "2022-10-20T14:37:18.308Z"
   },
   {
    "duration": 20,
    "start_time": "2022-10-20T14:37:18.327Z"
   },
   {
    "duration": 7,
    "start_time": "2022-10-20T14:37:18.348Z"
   },
   {
    "duration": 25,
    "start_time": "2022-10-20T14:37:18.356Z"
   },
   {
    "duration": 21,
    "start_time": "2022-10-20T14:37:18.383Z"
   },
   {
    "duration": 12,
    "start_time": "2022-10-20T14:37:18.405Z"
   },
   {
    "duration": 7,
    "start_time": "2022-10-20T14:37:18.419Z"
   },
   {
    "duration": 10,
    "start_time": "2022-10-20T14:37:18.427Z"
   },
   {
    "duration": 6,
    "start_time": "2022-10-20T14:37:18.438Z"
   },
   {
    "duration": 6,
    "start_time": "2022-10-20T14:37:18.445Z"
   },
   {
    "duration": 8,
    "start_time": "2022-10-20T14:37:18.452Z"
   },
   {
    "duration": 41,
    "start_time": "2022-10-20T14:37:18.462Z"
   },
   {
    "duration": 4,
    "start_time": "2022-10-20T14:37:18.504Z"
   },
   {
    "duration": 26,
    "start_time": "2022-10-20T14:37:18.511Z"
   },
   {
    "duration": 50,
    "start_time": "2022-10-20T14:37:18.539Z"
   },
   {
    "duration": 2,
    "start_time": "2022-10-20T14:37:18.591Z"
   },
   {
    "duration": 311,
    "start_time": "2022-10-20T14:37:18.594Z"
   },
   {
    "duration": 194,
    "start_time": "2022-10-20T14:37:18.906Z"
   },
   {
    "duration": 201,
    "start_time": "2022-10-20T14:37:19.102Z"
   },
   {
    "duration": 6,
    "start_time": "2022-10-20T14:37:19.304Z"
   },
   {
    "duration": 30,
    "start_time": "2022-10-20T14:37:19.311Z"
   },
   {
    "duration": 104,
    "start_time": "2022-10-20T14:37:19.343Z"
   },
   {
    "duration": 88,
    "start_time": "2022-10-20T14:37:19.448Z"
   },
   {
    "duration": 10,
    "start_time": "2022-10-20T14:37:19.538Z"
   },
   {
    "duration": 52,
    "start_time": "2022-10-20T14:37:19.549Z"
   },
   {
    "duration": 20,
    "start_time": "2022-10-20T14:37:19.602Z"
   },
   {
    "duration": 133,
    "start_time": "2022-10-20T14:37:19.623Z"
   },
   {
    "duration": 184,
    "start_time": "2022-10-20T14:37:19.757Z"
   },
   {
    "duration": 2,
    "start_time": "2022-10-20T14:37:19.942Z"
   },
   {
    "duration": 7,
    "start_time": "2022-10-20T14:37:19.946Z"
   },
   {
    "duration": 10,
    "start_time": "2022-10-20T14:37:19.954Z"
   },
   {
    "duration": 35,
    "start_time": "2022-10-20T14:37:19.965Z"
   },
   {
    "duration": 2013,
    "start_time": "2022-10-20T14:41:15.494Z"
   },
   {
    "duration": 249,
    "start_time": "2022-10-20T14:41:17.508Z"
   },
   {
    "duration": 0,
    "start_time": "2022-10-20T14:41:17.759Z"
   },
   {
    "duration": 0,
    "start_time": "2022-10-20T14:41:17.760Z"
   },
   {
    "duration": 0,
    "start_time": "2022-10-20T14:41:17.760Z"
   },
   {
    "duration": 29594,
    "start_time": "2022-10-20T14:41:23.490Z"
   },
   {
    "duration": 0,
    "start_time": "2022-10-20T14:41:53.085Z"
   },
   {
    "duration": 1391,
    "start_time": "2022-10-20T14:45:48.726Z"
   },
   {
    "duration": 613,
    "start_time": "2022-10-20T14:45:50.119Z"
   },
   {
    "duration": 22,
    "start_time": "2022-10-20T14:45:50.734Z"
   },
   {
    "duration": 18,
    "start_time": "2022-10-20T14:45:50.758Z"
   },
   {
    "duration": 23,
    "start_time": "2022-10-20T14:45:50.777Z"
   },
   {
    "duration": 8,
    "start_time": "2022-10-20T14:45:50.802Z"
   },
   {
    "duration": 20,
    "start_time": "2022-10-20T14:45:50.811Z"
   },
   {
    "duration": 149,
    "start_time": "2022-10-20T14:45:50.832Z"
   },
   {
    "duration": 22,
    "start_time": "2022-10-20T14:45:50.983Z"
   },
   {
    "duration": 36,
    "start_time": "2022-10-20T14:45:51.007Z"
   },
   {
    "duration": 6,
    "start_time": "2022-10-20T14:45:51.044Z"
   },
   {
    "duration": 135,
    "start_time": "2022-10-20T14:45:51.052Z"
   },
   {
    "duration": 8,
    "start_time": "2022-10-20T14:45:51.188Z"
   },
   {
    "duration": 11,
    "start_time": "2022-10-20T14:45:51.201Z"
   },
   {
    "duration": 22,
    "start_time": "2022-10-20T14:45:51.214Z"
   },
   {
    "duration": 26,
    "start_time": "2022-10-20T14:45:51.238Z"
   },
   {
    "duration": 9,
    "start_time": "2022-10-20T14:45:51.266Z"
   },
   {
    "duration": 37,
    "start_time": "2022-10-20T14:45:51.277Z"
   },
   {
    "duration": 6,
    "start_time": "2022-10-20T14:45:51.315Z"
   },
   {
    "duration": 7,
    "start_time": "2022-10-20T14:45:51.323Z"
   },
   {
    "duration": 10,
    "start_time": "2022-10-20T14:45:51.331Z"
   },
   {
    "duration": 18,
    "start_time": "2022-10-20T14:45:51.342Z"
   },
   {
    "duration": 9,
    "start_time": "2022-10-20T14:45:51.361Z"
   },
   {
    "duration": 6,
    "start_time": "2022-10-20T14:45:51.372Z"
   },
   {
    "duration": 20,
    "start_time": "2022-10-20T14:45:51.379Z"
   },
   {
    "duration": 22,
    "start_time": "2022-10-20T14:45:51.401Z"
   },
   {
    "duration": 4,
    "start_time": "2022-10-20T14:45:51.424Z"
   },
   {
    "duration": 12,
    "start_time": "2022-10-20T14:45:51.431Z"
   },
   {
    "duration": 58,
    "start_time": "2022-10-20T14:45:51.444Z"
   },
   {
    "duration": 2,
    "start_time": "2022-10-20T14:45:51.503Z"
   },
   {
    "duration": 345,
    "start_time": "2022-10-20T14:45:51.508Z"
   },
   {
    "duration": 246,
    "start_time": "2022-10-20T14:45:51.856Z"
   },
   {
    "duration": 175,
    "start_time": "2022-10-20T14:45:52.104Z"
   },
   {
    "duration": 21,
    "start_time": "2022-10-20T14:45:52.280Z"
   },
   {
    "duration": 35,
    "start_time": "2022-10-20T14:45:52.303Z"
   },
   {
    "duration": 97,
    "start_time": "2022-10-20T14:45:52.340Z"
   },
   {
    "duration": 88,
    "start_time": "2022-10-20T14:45:52.439Z"
   },
   {
    "duration": 11,
    "start_time": "2022-10-20T14:45:52.529Z"
   },
   {
    "duration": 6,
    "start_time": "2022-10-20T14:45:52.541Z"
   },
   {
    "duration": 57,
    "start_time": "2022-10-20T14:45:52.548Z"
   },
   {
    "duration": 137,
    "start_time": "2022-10-20T14:45:52.606Z"
   },
   {
    "duration": 192,
    "start_time": "2022-10-20T14:45:52.745Z"
   },
   {
    "duration": 2,
    "start_time": "2022-10-20T14:45:52.939Z"
   },
   {
    "duration": 10,
    "start_time": "2022-10-20T14:45:52.942Z"
   },
   {
    "duration": 8,
    "start_time": "2022-10-20T14:45:52.953Z"
   },
   {
    "duration": 12,
    "start_time": "2022-10-20T14:45:52.962Z"
   },
   {
    "duration": 2428,
    "start_time": "2022-10-20T14:45:52.976Z"
   },
   {
    "duration": 2,
    "start_time": "2022-10-20T14:45:55.406Z"
   },
   {
    "duration": 243,
    "start_time": "2022-10-20T14:45:55.409Z"
   },
   {
    "duration": 0,
    "start_time": "2022-10-20T14:45:55.653Z"
   },
   {
    "duration": 0,
    "start_time": "2022-10-20T14:45:55.654Z"
   },
   {
    "duration": 21,
    "start_time": "2022-10-20T14:47:07.775Z"
   },
   {
    "duration": 15,
    "start_time": "2022-10-20T14:47:22.962Z"
   },
   {
    "duration": 17,
    "start_time": "2022-10-20T14:47:35.479Z"
   },
   {
    "duration": 6,
    "start_time": "2022-10-20T14:48:37.670Z"
   },
   {
    "duration": 918,
    "start_time": "2022-10-20T14:48:48.741Z"
   },
   {
    "duration": 9,
    "start_time": "2022-10-20T14:49:02.285Z"
   },
   {
    "duration": 233728,
    "start_time": "2022-10-20T14:49:12.587Z"
   },
   {
    "duration": 135017,
    "start_time": "2022-10-20T14:53:43.215Z"
   },
   {
    "duration": 0,
    "start_time": "2022-10-20T14:55:58.234Z"
   },
   {
    "duration": 0,
    "start_time": "2022-10-20T14:55:58.235Z"
   },
   {
    "duration": 10,
    "start_time": "2022-10-20T14:56:09.231Z"
   },
   {
    "duration": 5,
    "start_time": "2022-10-20T14:56:12.984Z"
   },
   {
    "duration": 603,
    "start_time": "2022-10-20T14:56:12.991Z"
   },
   {
    "duration": 20,
    "start_time": "2022-10-20T14:56:13.596Z"
   },
   {
    "duration": 87,
    "start_time": "2022-10-20T14:56:13.618Z"
   },
   {
    "duration": 6,
    "start_time": "2022-10-20T14:56:13.707Z"
   },
   {
    "duration": 14,
    "start_time": "2022-10-20T14:56:13.714Z"
   },
   {
    "duration": 10,
    "start_time": "2022-10-20T14:56:13.729Z"
   },
   {
    "duration": 126,
    "start_time": "2022-10-20T14:56:13.741Z"
   },
   {
    "duration": 18,
    "start_time": "2022-10-20T14:56:13.869Z"
   },
   {
    "duration": 24,
    "start_time": "2022-10-20T14:56:13.888Z"
   },
   {
    "duration": 6,
    "start_time": "2022-10-20T14:56:13.913Z"
   },
   {
    "duration": 122,
    "start_time": "2022-10-20T14:56:13.920Z"
   },
   {
    "duration": 7,
    "start_time": "2022-10-20T14:56:14.044Z"
   },
   {
    "duration": 8,
    "start_time": "2022-10-20T14:56:14.052Z"
   },
   {
    "duration": 18,
    "start_time": "2022-10-20T14:56:14.062Z"
   },
   {
    "duration": 14,
    "start_time": "2022-10-20T14:56:14.101Z"
   },
   {
    "duration": 13,
    "start_time": "2022-10-20T14:56:14.117Z"
   },
   {
    "duration": 29,
    "start_time": "2022-10-20T14:56:14.131Z"
   },
   {
    "duration": 6,
    "start_time": "2022-10-20T14:56:14.161Z"
   },
   {
    "duration": 10,
    "start_time": "2022-10-20T14:56:14.168Z"
   },
   {
    "duration": 21,
    "start_time": "2022-10-20T14:56:14.179Z"
   },
   {
    "duration": 6,
    "start_time": "2022-10-20T14:56:14.201Z"
   },
   {
    "duration": 3,
    "start_time": "2022-10-20T14:56:14.209Z"
   },
   {
    "duration": 14,
    "start_time": "2022-10-20T14:56:14.216Z"
   },
   {
    "duration": 8,
    "start_time": "2022-10-20T14:56:14.232Z"
   },
   {
    "duration": 22,
    "start_time": "2022-10-20T14:56:14.242Z"
   },
   {
    "duration": 4,
    "start_time": "2022-10-20T14:56:14.266Z"
   },
   {
    "duration": 9,
    "start_time": "2022-10-20T14:56:14.271Z"
   },
   {
    "duration": 61,
    "start_time": "2022-10-20T14:56:14.281Z"
   },
   {
    "duration": 2,
    "start_time": "2022-10-20T14:56:14.343Z"
   },
   {
    "duration": 169,
    "start_time": "2022-10-20T14:56:14.347Z"
   },
   {
    "duration": 214,
    "start_time": "2022-10-20T14:56:14.518Z"
   },
   {
    "duration": 197,
    "start_time": "2022-10-20T14:56:14.734Z"
   },
   {
    "duration": 5,
    "start_time": "2022-10-20T14:56:14.933Z"
   },
   {
    "duration": 14,
    "start_time": "2022-10-20T14:56:14.939Z"
   },
   {
    "duration": 90,
    "start_time": "2022-10-20T14:56:14.954Z"
   },
   {
    "duration": 101,
    "start_time": "2022-10-20T14:56:15.045Z"
   },
   {
    "duration": 10,
    "start_time": "2022-10-20T14:56:15.147Z"
   },
   {
    "duration": 6,
    "start_time": "2022-10-20T14:56:15.201Z"
   },
   {
    "duration": 14,
    "start_time": "2022-10-20T14:56:15.209Z"
   },
   {
    "duration": 157,
    "start_time": "2022-10-20T14:56:15.225Z"
   },
   {
    "duration": 193,
    "start_time": "2022-10-20T14:56:15.384Z"
   },
   {
    "duration": 21,
    "start_time": "2022-10-20T14:56:15.579Z"
   },
   {
    "duration": 9,
    "start_time": "2022-10-20T14:56:15.601Z"
   },
   {
    "duration": 7,
    "start_time": "2022-10-20T14:56:15.612Z"
   },
   {
    "duration": 10,
    "start_time": "2022-10-20T14:56:15.620Z"
   },
   {
    "duration": 3067,
    "start_time": "2022-10-20T14:56:15.632Z"
   },
   {
    "duration": 5254,
    "start_time": "2022-10-20T14:56:18.701Z"
   },
   {
    "duration": 0,
    "start_time": "2022-10-20T14:56:23.957Z"
   },
   {
    "duration": 1501,
    "start_time": "2022-10-20T14:56:28.422Z"
   },
   {
    "duration": 51,
    "start_time": "2022-10-20T15:02:52.701Z"
   },
   {
    "duration": 78,
    "start_time": "2022-10-20T15:03:06.149Z"
   },
   {
    "duration": 1445576,
    "start_time": "2022-10-20T15:14:48.488Z"
   },
   {
    "duration": 2130,
    "start_time": "2022-10-20T15:38:55.670Z"
   },
   {
    "duration": 1544,
    "start_time": "2022-10-20T15:38:57.802Z"
   },
   {
    "duration": 8,
    "start_time": "2022-10-20T15:38:59.348Z"
   },
   {
    "duration": 8,
    "start_time": "2022-10-20T15:39:32.177Z"
   },
   {
    "duration": 11,
    "start_time": "2022-10-20T15:39:42.299Z"
   },
   {
    "duration": 4,
    "start_time": "2022-10-20T15:40:02.466Z"
   },
   {
    "duration": 14,
    "start_time": "2022-10-20T15:41:37.131Z"
   },
   {
    "duration": 2,
    "start_time": "2022-10-20T15:42:13.403Z"
   },
   {
    "duration": 1628,
    "start_time": "2022-10-20T15:42:14.355Z"
   },
   {
    "duration": 12,
    "start_time": "2022-10-20T15:43:12.507Z"
   },
   {
    "duration": 19,
    "start_time": "2022-10-20T15:43:34.984Z"
   },
   {
    "duration": 7,
    "start_time": "2022-10-20T15:46:55.317Z"
   },
   {
    "duration": 1552,
    "start_time": "2022-10-20T15:47:01.386Z"
   },
   {
    "duration": 1572,
    "start_time": "2022-10-20T15:47:46.715Z"
   },
   {
    "duration": 1554,
    "start_time": "2022-10-20T15:48:15.170Z"
   },
   {
    "duration": 1566,
    "start_time": "2022-10-20T15:48:34.715Z"
   },
   {
    "duration": 1602,
    "start_time": "2022-10-20T15:49:14.923Z"
   },
   {
    "duration": 50,
    "start_time": "2022-10-20T15:51:31.458Z"
   },
   {
    "duration": 1604,
    "start_time": "2022-10-20T15:51:43.083Z"
   },
   {
    "duration": 1569,
    "start_time": "2022-10-20T15:52:19.543Z"
   },
   {
    "duration": 1755,
    "start_time": "2022-10-20T15:52:37.082Z"
   },
   {
    "duration": 1741,
    "start_time": "2022-10-20T15:53:00.394Z"
   },
   {
    "duration": 1575,
    "start_time": "2022-10-20T15:54:20.963Z"
   },
   {
    "duration": 1757,
    "start_time": "2022-10-20T15:55:00.819Z"
   },
   {
    "duration": 3062,
    "start_time": "2022-10-20T16:13:42.414Z"
   },
   {
    "duration": 60,
    "start_time": "2022-10-20T18:59:27.296Z"
   },
   {
    "duration": 1726,
    "start_time": "2022-10-20T19:00:25.359Z"
   },
   {
    "duration": 3443,
    "start_time": "2022-10-20T19:00:27.087Z"
   },
   {
    "duration": 29,
    "start_time": "2022-10-20T19:00:30.532Z"
   },
   {
    "duration": 26,
    "start_time": "2022-10-20T19:00:30.562Z"
   },
   {
    "duration": 12,
    "start_time": "2022-10-20T19:00:30.591Z"
   },
   {
    "duration": 31,
    "start_time": "2022-10-20T19:00:30.605Z"
   },
   {
    "duration": 84,
    "start_time": "2022-10-20T19:00:30.638Z"
   },
   {
    "duration": 153,
    "start_time": "2022-10-20T19:00:30.724Z"
   },
   {
    "duration": 27,
    "start_time": "2022-10-20T19:00:30.879Z"
   },
   {
    "duration": 26,
    "start_time": "2022-10-20T19:00:30.907Z"
   },
   {
    "duration": 14,
    "start_time": "2022-10-20T19:00:30.935Z"
   },
   {
    "duration": 148,
    "start_time": "2022-10-20T19:00:30.951Z"
   },
   {
    "duration": 9,
    "start_time": "2022-10-20T19:00:31.101Z"
   },
   {
    "duration": 13,
    "start_time": "2022-10-20T19:00:31.114Z"
   },
   {
    "duration": 19,
    "start_time": "2022-10-20T19:00:31.128Z"
   },
   {
    "duration": 16,
    "start_time": "2022-10-20T19:00:31.150Z"
   },
   {
    "duration": 5,
    "start_time": "2022-10-20T19:00:31.194Z"
   },
   {
    "duration": 24,
    "start_time": "2022-10-20T19:00:31.201Z"
   },
   {
    "duration": 7,
    "start_time": "2022-10-20T19:00:31.227Z"
   },
   {
    "duration": 8,
    "start_time": "2022-10-20T19:00:31.236Z"
   },
   {
    "duration": 9,
    "start_time": "2022-10-20T19:00:31.246Z"
   },
   {
    "duration": 11,
    "start_time": "2022-10-20T19:00:31.256Z"
   },
   {
    "duration": 4,
    "start_time": "2022-10-20T19:00:31.269Z"
   },
   {
    "duration": 22,
    "start_time": "2022-10-20T19:00:31.274Z"
   },
   {
    "duration": 7,
    "start_time": "2022-10-20T19:00:31.297Z"
   },
   {
    "duration": 19,
    "start_time": "2022-10-20T19:00:31.306Z"
   },
   {
    "duration": 4,
    "start_time": "2022-10-20T19:00:31.326Z"
   },
   {
    "duration": 4,
    "start_time": "2022-10-20T19:00:31.331Z"
   },
   {
    "duration": 80,
    "start_time": "2022-10-20T19:00:31.337Z"
   },
   {
    "duration": 3,
    "start_time": "2022-10-20T19:00:31.418Z"
   },
   {
    "duration": 332,
    "start_time": "2022-10-20T19:00:31.422Z"
   },
   {
    "duration": 239,
    "start_time": "2022-10-20T19:00:31.756Z"
   },
   {
    "duration": 225,
    "start_time": "2022-10-20T19:00:31.996Z"
   },
   {
    "duration": 6,
    "start_time": "2022-10-20T19:00:32.223Z"
   },
   {
    "duration": 20,
    "start_time": "2022-10-20T19:00:32.231Z"
   },
   {
    "duration": 124,
    "start_time": "2022-10-20T19:00:32.295Z"
   },
   {
    "duration": 96,
    "start_time": "2022-10-20T19:00:32.421Z"
   },
   {
    "duration": 15,
    "start_time": "2022-10-20T19:00:32.519Z"
   },
   {
    "duration": 7,
    "start_time": "2022-10-20T19:00:32.537Z"
   },
   {
    "duration": 18,
    "start_time": "2022-10-20T19:00:32.594Z"
   },
   {
    "duration": 185,
    "start_time": "2022-10-20T19:00:32.618Z"
   },
   {
    "duration": 246,
    "start_time": "2022-10-20T19:00:32.805Z"
   },
   {
    "duration": 3,
    "start_time": "2022-10-20T19:00:33.053Z"
   },
   {
    "duration": 9,
    "start_time": "2022-10-20T19:00:33.057Z"
   },
   {
    "duration": 28,
    "start_time": "2022-10-20T19:00:33.067Z"
   },
   {
    "duration": 12,
    "start_time": "2022-10-20T19:00:33.097Z"
   },
   {
    "duration": 5,
    "start_time": "2022-10-20T19:00:33.111Z"
   },
   {
    "duration": 6,
    "start_time": "2022-10-20T19:00:33.118Z"
   },
   {
    "duration": 5,
    "start_time": "2022-10-20T19:00:33.125Z"
   },
   {
    "duration": 71,
    "start_time": "2022-10-20T19:00:33.132Z"
   },
   {
    "duration": 1054,
    "start_time": "2022-10-20T19:00:33.205Z"
   },
   {
    "duration": 0,
    "start_time": "2022-10-20T19:00:34.260Z"
   },
   {
    "duration": 0,
    "start_time": "2022-10-20T19:00:34.261Z"
   },
   {
    "duration": 2,
    "start_time": "2022-10-20T19:02:19.445Z"
   },
   {
    "duration": 4,
    "start_time": "2022-10-20T19:02:50.725Z"
   },
   {
    "duration": 1655,
    "start_time": "2022-10-20T19:02:54.054Z"
   },
   {
    "duration": 1649,
    "start_time": "2022-10-20T19:03:03.149Z"
   },
   {
    "duration": 1659,
    "start_time": "2022-10-20T19:03:09.646Z"
   },
   {
    "duration": 1676,
    "start_time": "2022-10-20T19:03:16.653Z"
   },
   {
    "duration": 1683,
    "start_time": "2022-10-20T19:04:59.200Z"
   },
   {
    "duration": 1671,
    "start_time": "2022-10-20T19:06:07.557Z"
   },
   {
    "duration": 813,
    "start_time": "2022-10-20T19:07:10.373Z"
   },
   {
    "duration": 817,
    "start_time": "2022-10-20T19:07:26.941Z"
   },
   {
    "duration": 840,
    "start_time": "2022-10-20T19:08:29.695Z"
   },
   {
    "duration": 1697,
    "start_time": "2022-10-20T19:08:40.321Z"
   },
   {
    "duration": 1665,
    "start_time": "2022-10-20T19:09:07.806Z"
   },
   {
    "duration": 1689,
    "start_time": "2022-10-20T19:09:21.862Z"
   },
   {
    "duration": 1703,
    "start_time": "2022-10-20T19:10:30.042Z"
   },
   {
    "duration": 1687,
    "start_time": "2022-10-20T19:11:04.596Z"
   },
   {
    "duration": 1658,
    "start_time": "2022-10-20T19:11:19.749Z"
   },
   {
    "duration": 1682,
    "start_time": "2022-10-20T19:13:10.826Z"
   },
   {
    "duration": 1727,
    "start_time": "2022-10-20T19:14:05.571Z"
   },
   {
    "duration": 856,
    "start_time": "2022-10-20T19:14:22.891Z"
   },
   {
    "duration": 822,
    "start_time": "2022-10-20T19:14:37.146Z"
   },
   {
    "duration": 1501,
    "start_time": "2022-10-20T19:15:04.264Z"
   },
   {
    "duration": 692,
    "start_time": "2022-10-20T19:15:05.767Z"
   },
   {
    "duration": 26,
    "start_time": "2022-10-20T19:15:06.460Z"
   },
   {
    "duration": 22,
    "start_time": "2022-10-20T19:15:06.495Z"
   },
   {
    "duration": 8,
    "start_time": "2022-10-20T19:15:06.519Z"
   },
   {
    "duration": 16,
    "start_time": "2022-10-20T19:15:06.529Z"
   },
   {
    "duration": 17,
    "start_time": "2022-10-20T19:15:06.547Z"
   },
   {
    "duration": 174,
    "start_time": "2022-10-20T19:15:06.566Z"
   },
   {
    "duration": 27,
    "start_time": "2022-10-20T19:15:06.743Z"
   },
   {
    "duration": 38,
    "start_time": "2022-10-20T19:15:06.773Z"
   },
   {
    "duration": 8,
    "start_time": "2022-10-20T19:15:06.813Z"
   },
   {
    "duration": 146,
    "start_time": "2022-10-20T19:15:06.824Z"
   },
   {
    "duration": 8,
    "start_time": "2022-10-20T19:15:06.971Z"
   },
   {
    "duration": 22,
    "start_time": "2022-10-20T19:15:06.981Z"
   },
   {
    "duration": 25,
    "start_time": "2022-10-20T19:15:07.005Z"
   },
   {
    "duration": 15,
    "start_time": "2022-10-20T19:15:07.032Z"
   },
   {
    "duration": 5,
    "start_time": "2022-10-20T19:15:07.049Z"
   },
   {
    "duration": 50,
    "start_time": "2022-10-20T19:15:07.056Z"
   },
   {
    "duration": 6,
    "start_time": "2022-10-20T19:15:07.108Z"
   },
   {
    "duration": 10,
    "start_time": "2022-10-20T19:15:07.115Z"
   },
   {
    "duration": 2,
    "start_time": "2022-10-20T19:15:07.126Z"
   },
   {
    "duration": 6,
    "start_time": "2022-10-20T19:15:07.130Z"
   },
   {
    "duration": 2,
    "start_time": "2022-10-20T19:15:07.138Z"
   },
   {
    "duration": 6,
    "start_time": "2022-10-20T19:15:07.141Z"
   },
   {
    "duration": 13,
    "start_time": "2022-10-20T19:15:07.148Z"
   },
   {
    "duration": 43,
    "start_time": "2022-10-20T19:15:07.162Z"
   },
   {
    "duration": 4,
    "start_time": "2022-10-20T19:15:07.206Z"
   },
   {
    "duration": 4,
    "start_time": "2022-10-20T19:15:07.212Z"
   },
   {
    "duration": 48,
    "start_time": "2022-10-20T19:15:07.218Z"
   },
   {
    "duration": 3,
    "start_time": "2022-10-20T19:15:07.268Z"
   },
   {
    "duration": 342,
    "start_time": "2022-10-20T19:15:07.272Z"
   },
   {
    "duration": 218,
    "start_time": "2022-10-20T19:15:07.616Z"
   },
   {
    "duration": 303,
    "start_time": "2022-10-20T19:15:07.835Z"
   },
   {
    "duration": 6,
    "start_time": "2022-10-20T19:15:08.141Z"
   },
   {
    "duration": 57,
    "start_time": "2022-10-20T19:15:08.148Z"
   },
   {
    "duration": 108,
    "start_time": "2022-10-20T19:15:08.207Z"
   },
   {
    "duration": 93,
    "start_time": "2022-10-20T19:15:08.316Z"
   },
   {
    "duration": 10,
    "start_time": "2022-10-20T19:15:08.410Z"
   },
   {
    "duration": 6,
    "start_time": "2022-10-20T19:15:08.421Z"
   },
   {
    "duration": 19,
    "start_time": "2022-10-20T19:15:08.429Z"
   },
   {
    "duration": 178,
    "start_time": "2022-10-20T19:15:08.450Z"
   },
   {
    "duration": 207,
    "start_time": "2022-10-20T19:15:08.630Z"
   },
   {
    "duration": 2,
    "start_time": "2022-10-20T19:15:08.839Z"
   },
   {
    "duration": 7,
    "start_time": "2022-10-20T19:15:08.842Z"
   },
   {
    "duration": 13,
    "start_time": "2022-10-20T19:15:08.850Z"
   },
   {
    "duration": 36,
    "start_time": "2022-10-20T19:15:08.864Z"
   },
   {
    "duration": 11,
    "start_time": "2022-10-20T19:15:08.902Z"
   },
   {
    "duration": 8,
    "start_time": "2022-10-20T19:15:08.914Z"
   },
   {
    "duration": 4,
    "start_time": "2022-10-20T19:15:08.924Z"
   },
   {
    "duration": 5,
    "start_time": "2022-10-20T19:15:08.930Z"
   },
   {
    "duration": 1741,
    "start_time": "2022-10-20T19:15:16.168Z"
   },
   {
    "duration": 958,
    "start_time": "2022-10-20T19:16:12.930Z"
   },
   {
    "duration": 1517,
    "start_time": "2022-10-20T19:16:29.375Z"
   },
   {
    "duration": 693,
    "start_time": "2022-10-20T19:16:30.895Z"
   },
   {
    "duration": 27,
    "start_time": "2022-10-20T19:16:31.590Z"
   },
   {
    "duration": 18,
    "start_time": "2022-10-20T19:16:31.618Z"
   },
   {
    "duration": 7,
    "start_time": "2022-10-20T19:16:31.638Z"
   },
   {
    "duration": 11,
    "start_time": "2022-10-20T19:16:31.646Z"
   },
   {
    "duration": 37,
    "start_time": "2022-10-20T19:16:31.658Z"
   },
   {
    "duration": 132,
    "start_time": "2022-10-20T19:16:31.697Z"
   },
   {
    "duration": 19,
    "start_time": "2022-10-20T19:16:31.830Z"
   },
   {
    "duration": 17,
    "start_time": "2022-10-20T19:16:31.851Z"
   },
   {
    "duration": 5,
    "start_time": "2022-10-20T19:16:31.870Z"
   },
   {
    "duration": 138,
    "start_time": "2022-10-20T19:16:31.877Z"
   },
   {
    "duration": 8,
    "start_time": "2022-10-20T19:16:32.018Z"
   },
   {
    "duration": 10,
    "start_time": "2022-10-20T19:16:32.029Z"
   },
   {
    "duration": 18,
    "start_time": "2022-10-20T19:16:32.041Z"
   },
   {
    "duration": 39,
    "start_time": "2022-10-20T19:16:32.061Z"
   },
   {
    "duration": 5,
    "start_time": "2022-10-20T19:16:32.102Z"
   },
   {
    "duration": 32,
    "start_time": "2022-10-20T19:16:32.109Z"
   },
   {
    "duration": 7,
    "start_time": "2022-10-20T19:16:32.143Z"
   },
   {
    "duration": 10,
    "start_time": "2022-10-20T19:16:32.151Z"
   },
   {
    "duration": 4,
    "start_time": "2022-10-20T19:16:32.163Z"
   },
   {
    "duration": 29,
    "start_time": "2022-10-20T19:16:32.168Z"
   },
   {
    "duration": 2,
    "start_time": "2022-10-20T19:16:32.199Z"
   },
   {
    "duration": 6,
    "start_time": "2022-10-20T19:16:32.202Z"
   },
   {
    "duration": 8,
    "start_time": "2022-10-20T19:16:32.210Z"
   },
   {
    "duration": 21,
    "start_time": "2022-10-20T19:16:32.219Z"
   },
   {
    "duration": 5,
    "start_time": "2022-10-20T19:16:32.242Z"
   },
   {
    "duration": 8,
    "start_time": "2022-10-20T19:16:32.249Z"
   },
   {
    "duration": 85,
    "start_time": "2022-10-20T19:16:32.258Z"
   },
   {
    "duration": 3,
    "start_time": "2022-10-20T19:16:32.345Z"
   },
   {
    "duration": 393,
    "start_time": "2022-10-20T19:16:32.349Z"
   },
   {
    "duration": 263,
    "start_time": "2022-10-20T19:16:32.744Z"
   },
   {
    "duration": 207,
    "start_time": "2022-10-20T19:16:33.009Z"
   },
   {
    "duration": 6,
    "start_time": "2022-10-20T19:16:33.218Z"
   },
   {
    "duration": 16,
    "start_time": "2022-10-20T19:16:33.225Z"
   },
   {
    "duration": 94,
    "start_time": "2022-10-20T19:16:33.242Z"
   },
   {
    "duration": 107,
    "start_time": "2022-10-20T19:16:33.338Z"
   },
   {
    "duration": 48,
    "start_time": "2022-10-20T19:16:33.447Z"
   },
   {
    "duration": 9,
    "start_time": "2022-10-20T19:16:33.497Z"
   },
   {
    "duration": 18,
    "start_time": "2022-10-20T19:16:33.508Z"
   },
   {
    "duration": 201,
    "start_time": "2022-10-20T19:16:33.531Z"
   },
   {
    "duration": 210,
    "start_time": "2022-10-20T19:16:33.734Z"
   },
   {
    "duration": 2,
    "start_time": "2022-10-20T19:16:33.946Z"
   },
   {
    "duration": 46,
    "start_time": "2022-10-20T19:16:33.950Z"
   },
   {
    "duration": 7,
    "start_time": "2022-10-20T19:16:33.998Z"
   },
   {
    "duration": 11,
    "start_time": "2022-10-20T19:16:34.007Z"
   },
   {
    "duration": 6,
    "start_time": "2022-10-20T19:16:34.020Z"
   },
   {
    "duration": 6,
    "start_time": "2022-10-20T19:16:34.029Z"
   },
   {
    "duration": 7,
    "start_time": "2022-10-20T19:16:34.037Z"
   },
   {
    "duration": 51,
    "start_time": "2022-10-20T19:16:34.046Z"
   },
   {
    "duration": 1659,
    "start_time": "2022-10-20T19:16:42.347Z"
   },
   {
    "duration": 928,
    "start_time": "2022-10-20T19:16:58.787Z"
   },
   {
    "duration": 1497,
    "start_time": "2022-10-20T19:17:11.227Z"
   },
   {
    "duration": 677,
    "start_time": "2022-10-20T19:17:12.726Z"
   },
   {
    "duration": 25,
    "start_time": "2022-10-20T19:17:13.405Z"
   },
   {
    "duration": 19,
    "start_time": "2022-10-20T19:17:13.432Z"
   },
   {
    "duration": 8,
    "start_time": "2022-10-20T19:17:13.453Z"
   },
   {
    "duration": 35,
    "start_time": "2022-10-20T19:17:13.463Z"
   },
   {
    "duration": 24,
    "start_time": "2022-10-20T19:17:13.500Z"
   },
   {
    "duration": 145,
    "start_time": "2022-10-20T19:17:13.525Z"
   },
   {
    "duration": 31,
    "start_time": "2022-10-20T19:17:13.673Z"
   },
   {
    "duration": 16,
    "start_time": "2022-10-20T19:17:13.707Z"
   },
   {
    "duration": 6,
    "start_time": "2022-10-20T19:17:13.724Z"
   },
   {
    "duration": 139,
    "start_time": "2022-10-20T19:17:13.731Z"
   },
   {
    "duration": 9,
    "start_time": "2022-10-20T19:17:13.872Z"
   },
   {
    "duration": 21,
    "start_time": "2022-10-20T19:17:13.883Z"
   },
   {
    "duration": 21,
    "start_time": "2022-10-20T19:17:13.906Z"
   },
   {
    "duration": 12,
    "start_time": "2022-10-20T19:17:13.929Z"
   },
   {
    "duration": 13,
    "start_time": "2022-10-20T19:17:13.943Z"
   },
   {
    "duration": 46,
    "start_time": "2022-10-20T19:17:13.958Z"
   },
   {
    "duration": 7,
    "start_time": "2022-10-20T19:17:14.006Z"
   },
   {
    "duration": 6,
    "start_time": "2022-10-20T19:17:14.015Z"
   },
   {
    "duration": 3,
    "start_time": "2022-10-20T19:17:14.023Z"
   },
   {
    "duration": 7,
    "start_time": "2022-10-20T19:17:14.028Z"
   },
   {
    "duration": 4,
    "start_time": "2022-10-20T19:17:14.036Z"
   },
   {
    "duration": 6,
    "start_time": "2022-10-20T19:17:14.041Z"
   },
   {
    "duration": 7,
    "start_time": "2022-10-20T19:17:14.048Z"
   },
   {
    "duration": 54,
    "start_time": "2022-10-20T19:17:14.056Z"
   },
   {
    "duration": 5,
    "start_time": "2022-10-20T19:17:14.112Z"
   },
   {
    "duration": 7,
    "start_time": "2022-10-20T19:17:14.120Z"
   },
   {
    "duration": 70,
    "start_time": "2022-10-20T19:17:14.128Z"
   },
   {
    "duration": 2,
    "start_time": "2022-10-20T19:17:14.200Z"
   },
   {
    "duration": 303,
    "start_time": "2022-10-20T19:17:14.204Z"
   },
   {
    "duration": 228,
    "start_time": "2022-10-20T19:17:14.508Z"
   },
   {
    "duration": 200,
    "start_time": "2022-10-20T19:17:14.738Z"
   },
   {
    "duration": 5,
    "start_time": "2022-10-20T19:17:14.940Z"
   },
   {
    "duration": 15,
    "start_time": "2022-10-20T19:17:14.946Z"
   },
   {
    "duration": 133,
    "start_time": "2022-10-20T19:17:14.962Z"
   },
   {
    "duration": 56,
    "start_time": "2022-10-20T19:17:15.096Z"
   },
   {
    "duration": 49,
    "start_time": "2022-10-20T19:17:15.154Z"
   },
   {
    "duration": 6,
    "start_time": "2022-10-20T19:17:15.205Z"
   },
   {
    "duration": 15,
    "start_time": "2022-10-20T19:17:15.212Z"
   },
   {
    "duration": 163,
    "start_time": "2022-10-20T19:17:15.228Z"
   },
   {
    "duration": 176,
    "start_time": "2022-10-20T19:17:15.394Z"
   },
   {
    "duration": 23,
    "start_time": "2022-10-20T19:17:15.572Z"
   },
   {
    "duration": 7,
    "start_time": "2022-10-20T19:17:15.597Z"
   },
   {
    "duration": 7,
    "start_time": "2022-10-20T19:17:15.605Z"
   },
   {
    "duration": 11,
    "start_time": "2022-10-20T19:17:15.613Z"
   },
   {
    "duration": 5,
    "start_time": "2022-10-20T19:17:15.626Z"
   },
   {
    "duration": 10,
    "start_time": "2022-10-20T19:17:15.632Z"
   },
   {
    "duration": 4,
    "start_time": "2022-10-20T19:17:15.643Z"
   },
   {
    "duration": 48,
    "start_time": "2022-10-20T19:17:15.649Z"
   },
   {
    "duration": 1668,
    "start_time": "2022-10-20T19:17:22.482Z"
   },
   {
    "duration": 919,
    "start_time": "2022-10-20T19:18:01.770Z"
   },
   {
    "duration": 1413,
    "start_time": "2022-10-20T19:18:16.640Z"
   },
   {
    "duration": 691,
    "start_time": "2022-10-20T19:18:18.055Z"
   },
   {
    "duration": 23,
    "start_time": "2022-10-20T19:18:18.747Z"
   },
   {
    "duration": 26,
    "start_time": "2022-10-20T19:18:18.772Z"
   },
   {
    "duration": 8,
    "start_time": "2022-10-20T19:18:18.800Z"
   },
   {
    "duration": 28,
    "start_time": "2022-10-20T19:18:18.810Z"
   },
   {
    "duration": 17,
    "start_time": "2022-10-20T19:18:18.840Z"
   },
   {
    "duration": 137,
    "start_time": "2022-10-20T19:18:18.859Z"
   },
   {
    "duration": 22,
    "start_time": "2022-10-20T19:18:18.998Z"
   },
   {
    "duration": 17,
    "start_time": "2022-10-20T19:18:19.022Z"
   },
   {
    "duration": 6,
    "start_time": "2022-10-20T19:18:19.041Z"
   },
   {
    "duration": 161,
    "start_time": "2022-10-20T19:18:19.049Z"
   },
   {
    "duration": 10,
    "start_time": "2022-10-20T19:18:19.212Z"
   },
   {
    "duration": 11,
    "start_time": "2022-10-20T19:18:19.224Z"
   },
   {
    "duration": 25,
    "start_time": "2022-10-20T19:18:19.237Z"
   },
   {
    "duration": 41,
    "start_time": "2022-10-20T19:18:19.263Z"
   },
   {
    "duration": 4,
    "start_time": "2022-10-20T19:18:19.306Z"
   },
   {
    "duration": 25,
    "start_time": "2022-10-20T19:18:19.312Z"
   },
   {
    "duration": 6,
    "start_time": "2022-10-20T19:18:19.338Z"
   },
   {
    "duration": 7,
    "start_time": "2022-10-20T19:18:19.346Z"
   },
   {
    "duration": 2,
    "start_time": "2022-10-20T19:18:19.355Z"
   },
   {
    "duration": 38,
    "start_time": "2022-10-20T19:18:19.359Z"
   },
   {
    "duration": 3,
    "start_time": "2022-10-20T19:18:19.398Z"
   },
   {
    "duration": 10,
    "start_time": "2022-10-20T19:18:19.402Z"
   },
   {
    "duration": 12,
    "start_time": "2022-10-20T19:18:19.413Z"
   },
   {
    "duration": 21,
    "start_time": "2022-10-20T19:18:19.427Z"
   },
   {
    "duration": 5,
    "start_time": "2022-10-20T19:18:19.449Z"
   },
   {
    "duration": 4,
    "start_time": "2022-10-20T19:18:19.457Z"
   },
   {
    "duration": 82,
    "start_time": "2022-10-20T19:18:19.463Z"
   },
   {
    "duration": 2,
    "start_time": "2022-10-20T19:18:19.547Z"
   },
   {
    "duration": 358,
    "start_time": "2022-10-20T19:18:19.551Z"
   },
   {
    "duration": 211,
    "start_time": "2022-10-20T19:18:19.911Z"
   },
   {
    "duration": 206,
    "start_time": "2022-10-20T19:18:20.124Z"
   },
   {
    "duration": 6,
    "start_time": "2022-10-20T19:18:20.332Z"
   },
   {
    "duration": 15,
    "start_time": "2022-10-20T19:18:20.340Z"
   },
   {
    "duration": 93,
    "start_time": "2022-10-20T19:18:20.357Z"
   },
   {
    "duration": 165,
    "start_time": "2022-10-20T19:18:20.452Z"
   },
   {
    "duration": 13,
    "start_time": "2022-10-20T19:18:20.619Z"
   },
   {
    "duration": 7,
    "start_time": "2022-10-20T19:18:20.634Z"
   },
   {
    "duration": 64,
    "start_time": "2022-10-20T19:18:20.643Z"
   },
   {
    "duration": 177,
    "start_time": "2022-10-20T19:18:20.708Z"
   },
   {
    "duration": 251,
    "start_time": "2022-10-20T19:18:20.887Z"
   },
   {
    "duration": 3,
    "start_time": "2022-10-20T19:18:21.139Z"
   },
   {
    "duration": 11,
    "start_time": "2022-10-20T19:18:21.143Z"
   },
   {
    "duration": 10,
    "start_time": "2022-10-20T19:18:21.156Z"
   },
   {
    "duration": 33,
    "start_time": "2022-10-20T19:18:21.167Z"
   },
   {
    "duration": 11,
    "start_time": "2022-10-20T19:18:21.202Z"
   },
   {
    "duration": 7,
    "start_time": "2022-10-20T19:18:21.215Z"
   },
   {
    "duration": 10,
    "start_time": "2022-10-20T19:18:21.224Z"
   },
   {
    "duration": 9,
    "start_time": "2022-10-20T19:18:21.237Z"
   },
   {
    "duration": 1720,
    "start_time": "2022-10-20T19:18:21.248Z"
   },
   {
    "duration": 72,
    "start_time": "2022-10-20T19:18:22.970Z"
   },
   {
    "duration": 0,
    "start_time": "2022-10-20T19:18:23.044Z"
   },
   {
    "duration": 922,
    "start_time": "2022-10-20T19:18:36.934Z"
   },
   {
    "duration": 1566,
    "start_time": "2022-10-20T19:18:55.381Z"
   },
   {
    "duration": 670,
    "start_time": "2022-10-20T19:18:56.949Z"
   },
   {
    "duration": 26,
    "start_time": "2022-10-20T19:18:57.620Z"
   },
   {
    "duration": 19,
    "start_time": "2022-10-20T19:18:57.648Z"
   },
   {
    "duration": 7,
    "start_time": "2022-10-20T19:18:57.669Z"
   },
   {
    "duration": 9,
    "start_time": "2022-10-20T19:18:57.695Z"
   },
   {
    "duration": 16,
    "start_time": "2022-10-20T19:18:57.705Z"
   },
   {
    "duration": 149,
    "start_time": "2022-10-20T19:18:57.723Z"
   },
   {
    "duration": 25,
    "start_time": "2022-10-20T19:18:57.874Z"
   },
   {
    "duration": 18,
    "start_time": "2022-10-20T19:18:57.902Z"
   },
   {
    "duration": 7,
    "start_time": "2022-10-20T19:18:57.922Z"
   },
   {
    "duration": 137,
    "start_time": "2022-10-20T19:18:57.930Z"
   },
   {
    "duration": 8,
    "start_time": "2022-10-20T19:18:58.069Z"
   },
   {
    "duration": 24,
    "start_time": "2022-10-20T19:18:58.078Z"
   },
   {
    "duration": 21,
    "start_time": "2022-10-20T19:18:58.104Z"
   },
   {
    "duration": 18,
    "start_time": "2022-10-20T19:18:58.128Z"
   },
   {
    "duration": 5,
    "start_time": "2022-10-20T19:18:58.147Z"
   },
   {
    "duration": 46,
    "start_time": "2022-10-20T19:18:58.153Z"
   },
   {
    "duration": 7,
    "start_time": "2022-10-20T19:18:58.200Z"
   },
   {
    "duration": 5,
    "start_time": "2022-10-20T19:18:58.209Z"
   },
   {
    "duration": 2,
    "start_time": "2022-10-20T19:18:58.216Z"
   },
   {
    "duration": 7,
    "start_time": "2022-10-20T19:18:58.220Z"
   },
   {
    "duration": 3,
    "start_time": "2022-10-20T19:18:58.228Z"
   },
   {
    "duration": 8,
    "start_time": "2022-10-20T19:18:58.232Z"
   },
   {
    "duration": 8,
    "start_time": "2022-10-20T19:18:58.241Z"
   },
   {
    "duration": 48,
    "start_time": "2022-10-20T19:18:58.251Z"
   },
   {
    "duration": 4,
    "start_time": "2022-10-20T19:18:58.301Z"
   },
   {
    "duration": 3,
    "start_time": "2022-10-20T19:18:58.308Z"
   },
   {
    "duration": 52,
    "start_time": "2022-10-20T19:18:58.313Z"
   },
   {
    "duration": 2,
    "start_time": "2022-10-20T19:18:58.367Z"
   },
   {
    "duration": 332,
    "start_time": "2022-10-20T19:18:58.370Z"
   },
   {
    "duration": 214,
    "start_time": "2022-10-20T19:18:58.704Z"
   },
   {
    "duration": 199,
    "start_time": "2022-10-20T19:18:58.920Z"
   },
   {
    "duration": 6,
    "start_time": "2022-10-20T19:18:59.120Z"
   },
   {
    "duration": 15,
    "start_time": "2022-10-20T19:18:59.128Z"
   },
   {
    "duration": 95,
    "start_time": "2022-10-20T19:18:59.145Z"
   },
   {
    "duration": 107,
    "start_time": "2022-10-20T19:18:59.242Z"
   },
   {
    "duration": 48,
    "start_time": "2022-10-20T19:18:59.350Z"
   },
   {
    "duration": 5,
    "start_time": "2022-10-20T19:18:59.400Z"
   },
   {
    "duration": 15,
    "start_time": "2022-10-20T19:18:59.407Z"
   },
   {
    "duration": 163,
    "start_time": "2022-10-20T19:18:59.423Z"
   },
   {
    "duration": 186,
    "start_time": "2022-10-20T19:18:59.587Z"
   },
   {
    "duration": 2,
    "start_time": "2022-10-20T19:18:59.794Z"
   },
   {
    "duration": 8,
    "start_time": "2022-10-20T19:18:59.798Z"
   },
   {
    "duration": 6,
    "start_time": "2022-10-20T19:18:59.808Z"
   },
   {
    "duration": 10,
    "start_time": "2022-10-20T19:18:59.816Z"
   },
   {
    "duration": 5,
    "start_time": "2022-10-20T19:18:59.828Z"
   },
   {
    "duration": 7,
    "start_time": "2022-10-20T19:18:59.835Z"
   },
   {
    "duration": 5,
    "start_time": "2022-10-20T19:18:59.843Z"
   },
   {
    "duration": 4,
    "start_time": "2022-10-20T19:18:59.895Z"
   },
   {
    "duration": 1670,
    "start_time": "2022-10-20T19:19:14.055Z"
   },
   {
    "duration": 4,
    "start_time": "2022-10-20T19:31:41.422Z"
   },
   {
    "duration": 1709,
    "start_time": "2022-10-20T19:35:09.534Z"
   },
   {
    "duration": 676,
    "start_time": "2022-10-20T19:35:11.245Z"
   },
   {
    "duration": 25,
    "start_time": "2022-10-20T19:35:11.923Z"
   },
   {
    "duration": 19,
    "start_time": "2022-10-20T19:35:11.950Z"
   },
   {
    "duration": 25,
    "start_time": "2022-10-20T19:35:11.971Z"
   },
   {
    "duration": 12,
    "start_time": "2022-10-20T19:35:11.998Z"
   },
   {
    "duration": 16,
    "start_time": "2022-10-20T19:35:12.012Z"
   },
   {
    "duration": 141,
    "start_time": "2022-10-20T19:35:12.029Z"
   },
   {
    "duration": 25,
    "start_time": "2022-10-20T19:35:12.171Z"
   },
   {
    "duration": 16,
    "start_time": "2022-10-20T19:35:12.198Z"
   },
   {
    "duration": 5,
    "start_time": "2022-10-20T19:35:12.216Z"
   },
   {
    "duration": 134,
    "start_time": "2022-10-20T19:35:12.223Z"
   },
   {
    "duration": 7,
    "start_time": "2022-10-20T19:35:12.359Z"
   },
   {
    "duration": 11,
    "start_time": "2022-10-20T19:35:12.370Z"
   },
   {
    "duration": 28,
    "start_time": "2022-10-20T19:35:12.382Z"
   },
   {
    "duration": 16,
    "start_time": "2022-10-20T19:35:12.411Z"
   },
   {
    "duration": 4,
    "start_time": "2022-10-20T19:35:12.429Z"
   },
   {
    "duration": 23,
    "start_time": "2022-10-20T19:35:12.434Z"
   },
   {
    "duration": 5,
    "start_time": "2022-10-20T19:35:12.459Z"
   },
   {
    "duration": 31,
    "start_time": "2022-10-20T19:35:12.466Z"
   },
   {
    "duration": 2,
    "start_time": "2022-10-20T19:35:12.499Z"
   },
   {
    "duration": 8,
    "start_time": "2022-10-20T19:35:12.502Z"
   },
   {
    "duration": 3,
    "start_time": "2022-10-20T19:35:12.511Z"
   },
   {
    "duration": 7,
    "start_time": "2022-10-20T19:35:12.516Z"
   },
   {
    "duration": 20,
    "start_time": "2022-10-20T19:35:12.524Z"
   },
   {
    "duration": 3,
    "start_time": "2022-10-20T19:35:12.545Z"
   },
   {
    "duration": 5,
    "start_time": "2022-10-20T19:35:12.550Z"
   },
   {
    "duration": 76,
    "start_time": "2022-10-20T19:35:12.557Z"
   },
   {
    "duration": 3,
    "start_time": "2022-10-20T19:35:12.634Z"
   },
   {
    "duration": 311,
    "start_time": "2022-10-20T19:35:12.638Z"
   },
   {
    "duration": 213,
    "start_time": "2022-10-20T19:35:12.951Z"
   },
   {
    "duration": 204,
    "start_time": "2022-10-20T19:35:13.194Z"
   },
   {
    "duration": 6,
    "start_time": "2022-10-20T19:35:13.399Z"
   },
   {
    "duration": 16,
    "start_time": "2022-10-20T19:35:13.406Z"
   },
   {
    "duration": 104,
    "start_time": "2022-10-20T19:35:13.423Z"
   },
   {
    "duration": 114,
    "start_time": "2022-10-20T19:35:13.530Z"
   },
   {
    "duration": 12,
    "start_time": "2022-10-20T19:35:13.646Z"
   },
   {
    "duration": 8,
    "start_time": "2022-10-20T19:35:13.694Z"
   },
   {
    "duration": 24,
    "start_time": "2022-10-20T19:35:13.704Z"
   },
   {
    "duration": 172,
    "start_time": "2022-10-20T19:35:13.730Z"
   },
   {
    "duration": 193,
    "start_time": "2022-10-20T19:35:13.905Z"
   },
   {
    "duration": 4,
    "start_time": "2022-10-20T19:35:14.100Z"
   },
   {
    "duration": 17,
    "start_time": "2022-10-20T19:35:14.106Z"
   },
   {
    "duration": 8,
    "start_time": "2022-10-20T19:35:14.125Z"
   },
   {
    "duration": 2562,
    "start_time": "2022-10-20T19:35:14.135Z"
   },
   {
    "duration": 0,
    "start_time": "2022-10-20T19:35:16.699Z"
   },
   {
    "duration": 0,
    "start_time": "2022-10-20T19:35:16.700Z"
   },
   {
    "duration": 0,
    "start_time": "2022-10-20T19:35:16.701Z"
   },
   {
    "duration": 0,
    "start_time": "2022-10-20T19:35:16.702Z"
   },
   {
    "duration": 4,
    "start_time": "2022-10-20T19:38:06.588Z"
   },
   {
    "duration": 7,
    "start_time": "2022-10-20T19:38:11.244Z"
   },
   {
    "duration": 2561,
    "start_time": "2022-10-20T19:38:15.538Z"
   },
   {
    "duration": 1528,
    "start_time": "2022-10-20T19:38:25.041Z"
   },
   {
    "duration": 1446132,
    "start_time": "2022-10-20T19:38:26.571Z"
   },
   {
    "duration": 4,
    "start_time": "2022-10-20T20:02:32.704Z"
   },
   {
    "duration": 1659,
    "start_time": "2022-10-20T20:02:32.710Z"
   },
   {
    "duration": 8,
    "start_time": "2022-10-20T20:02:34.370Z"
   },
   {
    "duration": 12,
    "start_time": "2022-10-20T20:03:35.306Z"
   },
   {
    "duration": 15,
    "start_time": "2022-10-20T20:04:17.965Z"
   },
   {
    "duration": 73,
    "start_time": "2022-10-21T09:44:34.886Z"
   },
   {
    "duration": 1734,
    "start_time": "2022-10-21T09:45:09.966Z"
   },
   {
    "duration": 1395,
    "start_time": "2022-10-21T09:45:11.701Z"
   },
   {
    "duration": 25,
    "start_time": "2022-10-21T09:45:13.098Z"
   },
   {
    "duration": 32,
    "start_time": "2022-10-21T09:45:13.126Z"
   },
   {
    "duration": 74,
    "start_time": "2022-10-21T09:45:13.160Z"
   },
   {
    "duration": 35,
    "start_time": "2022-10-21T09:45:13.236Z"
   },
   {
    "duration": 27,
    "start_time": "2022-10-21T09:45:13.273Z"
   },
   {
    "duration": 135,
    "start_time": "2022-10-21T09:45:13.301Z"
   },
   {
    "duration": 18,
    "start_time": "2022-10-21T09:45:13.438Z"
   },
   {
    "duration": 38,
    "start_time": "2022-10-21T09:45:13.459Z"
   },
   {
    "duration": 24,
    "start_time": "2022-10-21T09:45:13.499Z"
   },
   {
    "duration": 146,
    "start_time": "2022-10-21T09:45:13.525Z"
   },
   {
    "duration": 10,
    "start_time": "2022-10-21T09:45:13.673Z"
   },
   {
    "duration": 25,
    "start_time": "2022-10-21T09:45:13.684Z"
   },
   {
    "duration": 30,
    "start_time": "2022-10-21T09:45:13.710Z"
   },
   {
    "duration": 38,
    "start_time": "2022-10-21T09:45:13.742Z"
   },
   {
    "duration": 15,
    "start_time": "2022-10-21T09:45:13.782Z"
   },
   {
    "duration": 56,
    "start_time": "2022-10-21T09:45:13.798Z"
   },
   {
    "duration": 7,
    "start_time": "2022-10-21T09:45:13.856Z"
   },
   {
    "duration": 15,
    "start_time": "2022-10-21T09:45:13.865Z"
   },
   {
    "duration": 28,
    "start_time": "2022-10-21T09:45:13.882Z"
   },
   {
    "duration": 32,
    "start_time": "2022-10-21T09:45:13.911Z"
   },
   {
    "duration": 35,
    "start_time": "2022-10-21T09:45:13.945Z"
   },
   {
    "duration": 28,
    "start_time": "2022-10-21T09:45:13.982Z"
   },
   {
    "duration": 39,
    "start_time": "2022-10-21T09:45:14.012Z"
   },
   {
    "duration": 6,
    "start_time": "2022-10-21T09:45:14.053Z"
   },
   {
    "duration": 26,
    "start_time": "2022-10-21T09:45:14.060Z"
   },
   {
    "duration": 70,
    "start_time": "2022-10-21T09:45:14.090Z"
   },
   {
    "duration": 3,
    "start_time": "2022-10-21T09:45:14.162Z"
   },
   {
    "duration": 345,
    "start_time": "2022-10-21T09:45:14.167Z"
   },
   {
    "duration": 239,
    "start_time": "2022-10-21T09:45:14.514Z"
   },
   {
    "duration": 292,
    "start_time": "2022-10-21T09:45:14.755Z"
   },
   {
    "duration": 6,
    "start_time": "2022-10-21T09:45:15.049Z"
   },
   {
    "duration": 58,
    "start_time": "2022-10-21T09:45:15.057Z"
   },
   {
    "duration": 62,
    "start_time": "2022-10-21T09:45:18.002Z"
   },
   {
    "duration": 58,
    "start_time": "2022-10-21T09:45:38.489Z"
   },
   {
    "duration": 59,
    "start_time": "2022-10-21T09:47:41.100Z"
   },
   {
    "duration": 17,
    "start_time": "2022-10-21T09:55:11.277Z"
   },
   {
    "duration": 6,
    "start_time": "2022-10-21T09:59:31.497Z"
   },
   {
    "duration": 7,
    "start_time": "2022-10-21T10:00:34.167Z"
   },
   {
    "duration": 13,
    "start_time": "2022-10-21T10:01:37.989Z"
   },
   {
    "duration": 15,
    "start_time": "2022-10-21T10:01:43.469Z"
   },
   {
    "duration": 146,
    "start_time": "2022-10-21T10:01:43.975Z"
   },
   {
    "duration": 144,
    "start_time": "2022-10-21T10:01:44.617Z"
   },
   {
    "duration": 4,
    "start_time": "2022-10-21T10:07:16.479Z"
   },
   {
    "duration": 92,
    "start_time": "2022-10-21T10:07:19.612Z"
   },
   {
    "duration": 3,
    "start_time": "2022-10-21T10:07:59.929Z"
   },
   {
    "duration": 638,
    "start_time": "2022-10-21T10:07:59.934Z"
   },
   {
    "duration": 19,
    "start_time": "2022-10-21T10:08:00.573Z"
   },
   {
    "duration": 31,
    "start_time": "2022-10-21T10:08:00.593Z"
   },
   {
    "duration": 14,
    "start_time": "2022-10-21T10:08:00.627Z"
   },
   {
    "duration": 19,
    "start_time": "2022-10-21T10:08:00.642Z"
   },
   {
    "duration": 20,
    "start_time": "2022-10-21T10:08:00.663Z"
   },
   {
    "duration": 150,
    "start_time": "2022-10-21T10:08:00.685Z"
   },
   {
    "duration": 33,
    "start_time": "2022-10-21T10:08:00.837Z"
   },
   {
    "duration": 18,
    "start_time": "2022-10-21T10:08:00.872Z"
   },
   {
    "duration": 16,
    "start_time": "2022-10-21T10:08:00.893Z"
   },
   {
    "duration": 133,
    "start_time": "2022-10-21T10:08:00.911Z"
   },
   {
    "duration": 11,
    "start_time": "2022-10-21T10:08:01.046Z"
   },
   {
    "duration": 9,
    "start_time": "2022-10-21T10:08:01.060Z"
   },
   {
    "duration": 40,
    "start_time": "2022-10-21T10:08:01.070Z"
   },
   {
    "duration": 20,
    "start_time": "2022-10-21T10:08:01.112Z"
   },
   {
    "duration": 5,
    "start_time": "2022-10-21T10:08:01.134Z"
   },
   {
    "duration": 98,
    "start_time": "2022-10-21T10:08:01.140Z"
   },
   {
    "duration": 7,
    "start_time": "2022-10-21T10:08:01.240Z"
   },
   {
    "duration": 14,
    "start_time": "2022-10-21T10:08:01.248Z"
   },
   {
    "duration": 19,
    "start_time": "2022-10-21T10:08:01.264Z"
   },
   {
    "duration": 24,
    "start_time": "2022-10-21T10:08:01.284Z"
   },
   {
    "duration": 12,
    "start_time": "2022-10-21T10:08:01.310Z"
   },
   {
    "duration": 17,
    "start_time": "2022-10-21T10:08:01.323Z"
   },
   {
    "duration": 31,
    "start_time": "2022-10-21T10:08:01.342Z"
   },
   {
    "duration": 3,
    "start_time": "2022-10-21T10:08:01.375Z"
   },
   {
    "duration": 19,
    "start_time": "2022-10-21T10:08:01.380Z"
   },
   {
    "duration": 49,
    "start_time": "2022-10-21T10:08:01.401Z"
   },
   {
    "duration": 2,
    "start_time": "2022-10-21T10:08:01.454Z"
   },
   {
    "duration": 187,
    "start_time": "2022-10-21T10:08:01.458Z"
   },
   {
    "duration": 223,
    "start_time": "2022-10-21T10:08:01.646Z"
   },
   {
    "duration": 225,
    "start_time": "2022-10-21T10:08:01.872Z"
   },
   {
    "duration": 10,
    "start_time": "2022-10-21T10:08:02.099Z"
   },
   {
    "duration": 42,
    "start_time": "2022-10-21T10:08:02.110Z"
   },
   {
    "duration": 114,
    "start_time": "2022-10-21T10:08:02.154Z"
   },
   {
    "duration": 105,
    "start_time": "2022-10-21T10:08:02.270Z"
   },
   {
    "duration": 37,
    "start_time": "2022-10-21T10:08:02.377Z"
   },
   {
    "duration": 19,
    "start_time": "2022-10-21T10:08:02.417Z"
   },
   {
    "duration": 39,
    "start_time": "2022-10-21T10:08:02.437Z"
   },
   {
    "duration": 211,
    "start_time": "2022-10-21T10:08:02.479Z"
   },
   {
    "duration": 251,
    "start_time": "2022-10-21T10:08:02.692Z"
   },
   {
    "duration": 3,
    "start_time": "2022-10-21T10:08:02.945Z"
   },
   {
    "duration": 18,
    "start_time": "2022-10-21T10:08:02.950Z"
   },
   {
    "duration": 47,
    "start_time": "2022-10-21T10:08:02.970Z"
   },
   {
    "duration": 30,
    "start_time": "2022-10-21T10:08:03.018Z"
   },
   {
    "duration": 38,
    "start_time": "2022-10-21T10:08:03.050Z"
   },
   {
    "duration": 35,
    "start_time": "2022-10-21T10:08:03.090Z"
   },
   {
    "duration": 34,
    "start_time": "2022-10-21T10:08:03.126Z"
   },
   {
    "duration": 2123,
    "start_time": "2022-10-21T10:08:03.162Z"
   },
   {
    "duration": 15,
    "start_time": "2022-10-21T10:08:05.286Z"
   },
   {
    "duration": 20,
    "start_time": "2022-10-21T10:09:23.349Z"
   },
   {
    "duration": 11,
    "start_time": "2022-10-21T10:09:54.868Z"
   },
   {
    "duration": 20,
    "start_time": "2022-10-21T10:10:03.004Z"
   },
   {
    "duration": 18,
    "start_time": "2022-10-21T10:11:53.965Z"
   },
   {
    "duration": 26,
    "start_time": "2022-10-21T10:12:05.596Z"
   },
   {
    "duration": 13,
    "start_time": "2022-10-21T10:13:48.614Z"
   },
   {
    "duration": 2027,
    "start_time": "2022-10-21T10:14:44.914Z"
   },
   {
    "duration": 2,
    "start_time": "2022-10-21T10:14:49.332Z"
   },
   {
    "duration": 42,
    "start_time": "2022-10-21T10:14:52.188Z"
   },
   {
    "duration": 2075,
    "start_time": "2022-10-21T10:15:55.133Z"
   },
   {
    "duration": 724,
    "start_time": "2022-10-21T10:24:28.480Z"
   },
   {
    "duration": 5,
    "start_time": "2022-10-21T10:24:44.012Z"
   },
   {
    "duration": 4,
    "start_time": "2022-10-21T10:24:51.386Z"
   },
   {
    "duration": 12,
    "start_time": "2022-10-21T10:25:10.283Z"
   },
   {
    "duration": 3,
    "start_time": "2022-10-21T10:25:20.507Z"
   },
   {
    "duration": 4,
    "start_time": "2022-10-21T10:25:29.115Z"
   },
   {
    "duration": 62,
    "start_time": "2022-10-21T10:25:41.636Z"
   },
   {
    "duration": 11,
    "start_time": "2022-10-21T10:25:48.315Z"
   },
   {
    "duration": 17,
    "start_time": "2022-10-21T10:25:51.814Z"
   },
   {
    "duration": 13,
    "start_time": "2022-10-21T10:26:14.134Z"
   },
   {
    "duration": 15,
    "start_time": "2022-10-21T10:26:14.589Z"
   },
   {
    "duration": 15,
    "start_time": "2022-10-21T10:26:15.575Z"
   },
   {
    "duration": 14,
    "start_time": "2022-10-21T10:26:24.725Z"
   },
   {
    "duration": 16,
    "start_time": "2022-10-21T10:26:25.565Z"
   },
   {
    "duration": 1149,
    "start_time": "2022-10-21T10:27:34.580Z"
   },
   {
    "duration": 1148,
    "start_time": "2022-10-21T10:27:48.715Z"
   },
   {
    "duration": 1120,
    "start_time": "2022-10-21T10:27:53.925Z"
   },
   {
    "duration": 1538,
    "start_time": "2022-10-21T10:28:22.307Z"
   },
   {
    "duration": 638,
    "start_time": "2022-10-21T10:28:23.847Z"
   },
   {
    "duration": 24,
    "start_time": "2022-10-21T10:28:24.486Z"
   },
   {
    "duration": 18,
    "start_time": "2022-10-21T10:28:24.512Z"
   },
   {
    "duration": 7,
    "start_time": "2022-10-21T10:28:24.531Z"
   },
   {
    "duration": 13,
    "start_time": "2022-10-21T10:28:24.540Z"
   },
   {
    "duration": 15,
    "start_time": "2022-10-21T10:28:24.555Z"
   },
   {
    "duration": 164,
    "start_time": "2022-10-21T10:28:24.572Z"
   },
   {
    "duration": 19,
    "start_time": "2022-10-21T10:28:24.738Z"
   },
   {
    "duration": 18,
    "start_time": "2022-10-21T10:28:24.760Z"
   },
   {
    "duration": 6,
    "start_time": "2022-10-21T10:28:24.780Z"
   },
   {
    "duration": 150,
    "start_time": "2022-10-21T10:28:24.808Z"
   },
   {
    "duration": 8,
    "start_time": "2022-10-21T10:28:24.960Z"
   },
   {
    "duration": 13,
    "start_time": "2022-10-21T10:28:24.969Z"
   },
   {
    "duration": 27,
    "start_time": "2022-10-21T10:28:24.983Z"
   },
   {
    "duration": 13,
    "start_time": "2022-10-21T10:28:25.012Z"
   },
   {
    "duration": 4,
    "start_time": "2022-10-21T10:28:25.027Z"
   },
   {
    "duration": 26,
    "start_time": "2022-10-21T10:28:25.033Z"
   },
   {
    "duration": 6,
    "start_time": "2022-10-21T10:28:25.061Z"
   },
   {
    "duration": 11,
    "start_time": "2022-10-21T10:28:25.068Z"
   },
   {
    "duration": 3,
    "start_time": "2022-10-21T10:28:25.109Z"
   },
   {
    "duration": 10,
    "start_time": "2022-10-21T10:28:25.114Z"
   },
   {
    "duration": 5,
    "start_time": "2022-10-21T10:28:25.125Z"
   },
   {
    "duration": 7,
    "start_time": "2022-10-21T10:28:25.131Z"
   },
   {
    "duration": 19,
    "start_time": "2022-10-21T10:28:25.140Z"
   },
   {
    "duration": 4,
    "start_time": "2022-10-21T10:28:25.161Z"
   },
   {
    "duration": 6,
    "start_time": "2022-10-21T10:28:25.166Z"
   },
   {
    "duration": 79,
    "start_time": "2022-10-21T10:28:25.175Z"
   },
   {
    "duration": 2,
    "start_time": "2022-10-21T10:28:25.256Z"
   },
   {
    "duration": 369,
    "start_time": "2022-10-21T10:28:25.260Z"
   },
   {
    "duration": 237,
    "start_time": "2022-10-21T10:28:25.631Z"
   },
   {
    "duration": 215,
    "start_time": "2022-10-21T10:28:25.870Z"
   },
   {
    "duration": 22,
    "start_time": "2022-10-21T10:28:26.087Z"
   },
   {
    "duration": 14,
    "start_time": "2022-10-21T10:28:26.110Z"
   },
   {
    "duration": 117,
    "start_time": "2022-10-21T10:28:26.126Z"
   },
   {
    "duration": 123,
    "start_time": "2022-10-21T10:28:26.245Z"
   },
   {
    "duration": 49,
    "start_time": "2022-10-21T10:28:26.370Z"
   },
   {
    "duration": 8,
    "start_time": "2022-10-21T10:28:26.421Z"
   },
   {
    "duration": 18,
    "start_time": "2022-10-21T10:28:26.430Z"
   },
   {
    "duration": 203,
    "start_time": "2022-10-21T10:28:26.450Z"
   },
   {
    "duration": 263,
    "start_time": "2022-10-21T10:28:26.655Z"
   },
   {
    "duration": 3,
    "start_time": "2022-10-21T10:28:26.920Z"
   },
   {
    "duration": 8,
    "start_time": "2022-10-21T10:28:26.925Z"
   },
   {
    "duration": 11,
    "start_time": "2022-10-21T10:28:26.934Z"
   },
   {
    "duration": 6,
    "start_time": "2022-10-21T10:28:26.947Z"
   },
   {
    "duration": 9,
    "start_time": "2022-10-21T10:28:26.954Z"
   },
   {
    "duration": 44,
    "start_time": "2022-10-21T10:28:26.965Z"
   },
   {
    "duration": 5,
    "start_time": "2022-10-21T10:28:27.011Z"
   },
   {
    "duration": 1294,
    "start_time": "2022-10-21T10:28:27.018Z"
   },
   {
    "duration": 0,
    "start_time": "2022-10-21T10:28:28.314Z"
   },
   {
    "duration": 0,
    "start_time": "2022-10-21T10:28:28.315Z"
   },
   {
    "duration": 0,
    "start_time": "2022-10-21T10:28:28.316Z"
   },
   {
    "duration": 0,
    "start_time": "2022-10-21T10:28:28.317Z"
   },
   {
    "duration": 0,
    "start_time": "2022-10-21T10:28:28.318Z"
   },
   {
    "duration": 0,
    "start_time": "2022-10-21T10:28:28.320Z"
   },
   {
    "duration": 2060,
    "start_time": "2022-10-21T10:29:06.746Z"
   },
   {
    "duration": 9,
    "start_time": "2022-10-21T10:33:03.113Z"
   },
   {
    "duration": 3,
    "start_time": "2022-10-21T10:33:06.937Z"
   },
   {
    "duration": 6,
    "start_time": "2022-10-21T10:33:07.176Z"
   },
   {
    "duration": 14,
    "start_time": "2022-10-21T10:33:07.512Z"
   },
   {
    "duration": 19,
    "start_time": "2022-10-21T10:33:07.688Z"
   },
   {
    "duration": 10,
    "start_time": "2022-10-21T10:33:50.568Z"
   },
   {
    "duration": 14,
    "start_time": "2022-10-21T10:33:51.186Z"
   },
   {
    "duration": 2,
    "start_time": "2022-10-21T10:35:41.017Z"
   },
   {
    "duration": 210,
    "start_time": "2022-10-21T10:36:56.597Z"
   },
   {
    "duration": 2,
    "start_time": "2022-10-21T10:37:00.066Z"
   },
   {
    "duration": 892,
    "start_time": "2022-10-21T10:37:00.577Z"
   },
   {
    "duration": 1089,
    "start_time": "2022-10-21T10:37:25.514Z"
   },
   {
    "duration": 3,
    "start_time": "2022-10-21T10:37:26.655Z"
   },
   {
    "duration": 2,
    "start_time": "2022-10-21T10:37:26.944Z"
   },
   {
    "duration": 3,
    "start_time": "2022-10-21T10:37:27.192Z"
   },
   {
    "duration": 9,
    "start_time": "2022-10-21T10:37:27.400Z"
   },
   {
    "duration": 3,
    "start_time": "2022-10-21T10:37:30.683Z"
   },
   {
    "duration": 14,
    "start_time": "2022-10-21T10:37:31.128Z"
   },
   {
    "duration": 4,
    "start_time": "2022-10-21T10:37:31.544Z"
   },
   {
    "duration": 205,
    "start_time": "2022-10-21T10:37:32.411Z"
   },
   {
    "duration": 23,
    "start_time": "2022-10-21T10:38:13.265Z"
   },
   {
    "duration": 1405,
    "start_time": "2022-10-21T10:38:47.955Z"
   },
   {
    "duration": 642,
    "start_time": "2022-10-21T10:38:49.362Z"
   },
   {
    "duration": 23,
    "start_time": "2022-10-21T10:38:50.006Z"
   },
   {
    "duration": 20,
    "start_time": "2022-10-21T10:38:50.031Z"
   },
   {
    "duration": 8,
    "start_time": "2022-10-21T10:38:50.053Z"
   },
   {
    "duration": 13,
    "start_time": "2022-10-21T10:38:50.062Z"
   },
   {
    "duration": 39,
    "start_time": "2022-10-21T10:38:50.076Z"
   },
   {
    "duration": 151,
    "start_time": "2022-10-21T10:38:50.117Z"
   },
   {
    "duration": 17,
    "start_time": "2022-10-21T10:38:50.270Z"
   },
   {
    "duration": 29,
    "start_time": "2022-10-21T10:38:50.290Z"
   },
   {
    "duration": 6,
    "start_time": "2022-10-21T10:38:50.321Z"
   },
   {
    "duration": 140,
    "start_time": "2022-10-21T10:38:50.328Z"
   },
   {
    "duration": 8,
    "start_time": "2022-10-21T10:38:50.470Z"
   },
   {
    "duration": 10,
    "start_time": "2022-10-21T10:38:50.480Z"
   },
   {
    "duration": 34,
    "start_time": "2022-10-21T10:38:50.492Z"
   },
   {
    "duration": 19,
    "start_time": "2022-10-21T10:38:50.528Z"
   },
   {
    "duration": 13,
    "start_time": "2022-10-21T10:38:50.548Z"
   },
   {
    "duration": 41,
    "start_time": "2022-10-21T10:38:50.563Z"
   },
   {
    "duration": 6,
    "start_time": "2022-10-21T10:38:50.605Z"
   },
   {
    "duration": 6,
    "start_time": "2022-10-21T10:38:50.613Z"
   },
   {
    "duration": 3,
    "start_time": "2022-10-21T10:38:50.621Z"
   },
   {
    "duration": 15,
    "start_time": "2022-10-21T10:38:50.625Z"
   },
   {
    "duration": 8,
    "start_time": "2022-10-21T10:38:50.641Z"
   },
   {
    "duration": 11,
    "start_time": "2022-10-21T10:38:50.650Z"
   },
   {
    "duration": 26,
    "start_time": "2022-10-21T10:38:50.663Z"
   },
   {
    "duration": 4,
    "start_time": "2022-10-21T10:38:50.691Z"
   },
   {
    "duration": 5,
    "start_time": "2022-10-21T10:38:50.709Z"
   },
   {
    "duration": 49,
    "start_time": "2022-10-21T10:38:50.718Z"
   },
   {
    "duration": 2,
    "start_time": "2022-10-21T10:38:50.769Z"
   },
   {
    "duration": 364,
    "start_time": "2022-10-21T10:38:50.773Z"
   },
   {
    "duration": 228,
    "start_time": "2022-10-21T10:38:51.138Z"
   },
   {
    "duration": 214,
    "start_time": "2022-10-21T10:38:51.367Z"
   },
   {
    "duration": 5,
    "start_time": "2022-10-21T10:38:51.583Z"
   },
   {
    "duration": 30,
    "start_time": "2022-10-21T10:38:51.590Z"
   },
   {
    "duration": 110,
    "start_time": "2022-10-21T10:38:51.622Z"
   },
   {
    "duration": 110,
    "start_time": "2022-10-21T10:38:51.734Z"
   },
   {
    "duration": 12,
    "start_time": "2022-10-21T10:38:51.846Z"
   },
   {
    "duration": 49,
    "start_time": "2022-10-21T10:38:51.860Z"
   },
   {
    "duration": 22,
    "start_time": "2022-10-21T10:38:51.911Z"
   },
   {
    "duration": 185,
    "start_time": "2022-10-21T10:38:51.935Z"
   },
   {
    "duration": 211,
    "start_time": "2022-10-21T10:38:52.121Z"
   },
   {
    "duration": 4,
    "start_time": "2022-10-21T10:38:52.333Z"
   },
   {
    "duration": 8,
    "start_time": "2022-10-21T10:38:52.339Z"
   },
   {
    "duration": 16,
    "start_time": "2022-10-21T10:38:52.348Z"
   },
   {
    "duration": 44,
    "start_time": "2022-10-21T10:38:52.365Z"
   },
   {
    "duration": 7,
    "start_time": "2022-10-21T10:38:52.410Z"
   },
   {
    "duration": 5,
    "start_time": "2022-10-21T10:38:52.419Z"
   },
   {
    "duration": 10,
    "start_time": "2022-10-21T10:38:52.425Z"
   },
   {
    "duration": 2164,
    "start_time": "2022-10-21T10:38:52.437Z"
   },
   {
    "duration": 7,
    "start_time": "2022-10-21T10:38:54.603Z"
   },
   {
    "duration": 6,
    "start_time": "2022-10-21T10:38:54.611Z"
   },
   {
    "duration": 8,
    "start_time": "2022-10-21T10:38:54.618Z"
   },
   {
    "duration": 21,
    "start_time": "2022-10-21T10:38:54.628Z"
   },
   {
    "duration": 2,
    "start_time": "2022-10-21T10:38:54.651Z"
   },
   {
    "duration": 334,
    "start_time": "2022-10-21T10:38:54.655Z"
   },
   {
    "duration": 0,
    "start_time": "2022-10-21T10:38:54.991Z"
   },
   {
    "duration": 0,
    "start_time": "2022-10-21T10:38:54.992Z"
   },
   {
    "duration": 1097,
    "start_time": "2022-10-21T10:39:24.801Z"
   },
   {
    "duration": 5,
    "start_time": "2022-10-21T10:39:52.101Z"
   },
   {
    "duration": 1050,
    "start_time": "2022-10-21T10:39:52.896Z"
   },
   {
    "duration": 1489,
    "start_time": "2022-10-21T10:40:06.871Z"
   },
   {
    "duration": 641,
    "start_time": "2022-10-21T10:40:08.362Z"
   },
   {
    "duration": 24,
    "start_time": "2022-10-21T10:40:09.004Z"
   },
   {
    "duration": 28,
    "start_time": "2022-10-21T10:40:09.030Z"
   },
   {
    "duration": 7,
    "start_time": "2022-10-21T10:40:09.059Z"
   },
   {
    "duration": 13,
    "start_time": "2022-10-21T10:40:09.067Z"
   },
   {
    "duration": 33,
    "start_time": "2022-10-21T10:40:09.081Z"
   },
   {
    "duration": 142,
    "start_time": "2022-10-21T10:40:09.116Z"
   },
   {
    "duration": 19,
    "start_time": "2022-10-21T10:40:09.259Z"
   },
   {
    "duration": 31,
    "start_time": "2022-10-21T10:40:09.280Z"
   },
   {
    "duration": 6,
    "start_time": "2022-10-21T10:40:09.313Z"
   },
   {
    "duration": 149,
    "start_time": "2022-10-21T10:40:09.321Z"
   },
   {
    "duration": 8,
    "start_time": "2022-10-21T10:40:09.472Z"
   },
   {
    "duration": 13,
    "start_time": "2022-10-21T10:40:09.481Z"
   },
   {
    "duration": 24,
    "start_time": "2022-10-21T10:40:09.496Z"
   },
   {
    "duration": 18,
    "start_time": "2022-10-21T10:40:09.521Z"
   },
   {
    "duration": 4,
    "start_time": "2022-10-21T10:40:09.541Z"
   },
   {
    "duration": 36,
    "start_time": "2022-10-21T10:40:09.547Z"
   },
   {
    "duration": 8,
    "start_time": "2022-10-21T10:40:09.585Z"
   },
   {
    "duration": 25,
    "start_time": "2022-10-21T10:40:09.596Z"
   },
   {
    "duration": 8,
    "start_time": "2022-10-21T10:40:09.622Z"
   },
   {
    "duration": 17,
    "start_time": "2022-10-21T10:40:09.632Z"
   },
   {
    "duration": 8,
    "start_time": "2022-10-21T10:40:09.651Z"
   },
   {
    "duration": 22,
    "start_time": "2022-10-21T10:40:09.661Z"
   },
   {
    "duration": 40,
    "start_time": "2022-10-21T10:40:09.685Z"
   },
   {
    "duration": 23,
    "start_time": "2022-10-21T10:40:09.727Z"
   },
   {
    "duration": 16,
    "start_time": "2022-10-21T10:40:09.751Z"
   },
   {
    "duration": 69,
    "start_time": "2022-10-21T10:40:09.771Z"
   },
   {
    "duration": 2,
    "start_time": "2022-10-21T10:40:09.841Z"
   },
   {
    "duration": 332,
    "start_time": "2022-10-21T10:40:09.845Z"
   },
   {
    "duration": 218,
    "start_time": "2022-10-21T10:40:10.208Z"
   },
   {
    "duration": 212,
    "start_time": "2022-10-21T10:40:10.428Z"
   },
   {
    "duration": 5,
    "start_time": "2022-10-21T10:40:10.642Z"
   },
   {
    "duration": 35,
    "start_time": "2022-10-21T10:40:10.649Z"
   },
   {
    "duration": 100,
    "start_time": "2022-10-21T10:40:10.710Z"
   },
   {
    "duration": 97,
    "start_time": "2022-10-21T10:40:10.812Z"
   },
   {
    "duration": 11,
    "start_time": "2022-10-21T10:40:10.911Z"
   },
   {
    "duration": 36,
    "start_time": "2022-10-21T10:40:10.923Z"
   },
   {
    "duration": 39,
    "start_time": "2022-10-21T10:40:10.961Z"
   },
   {
    "duration": 168,
    "start_time": "2022-10-21T10:40:11.001Z"
   },
   {
    "duration": 250,
    "start_time": "2022-10-21T10:40:11.171Z"
   },
   {
    "duration": 3,
    "start_time": "2022-10-21T10:40:11.423Z"
   },
   {
    "duration": 33,
    "start_time": "2022-10-21T10:40:11.428Z"
   },
   {
    "duration": 49,
    "start_time": "2022-10-21T10:40:11.463Z"
   },
   {
    "duration": 14,
    "start_time": "2022-10-21T10:40:11.514Z"
   },
   {
    "duration": 42,
    "start_time": "2022-10-21T10:40:11.530Z"
   },
   {
    "duration": 26,
    "start_time": "2022-10-21T10:40:11.574Z"
   },
   {
    "duration": 25,
    "start_time": "2022-10-21T10:40:11.602Z"
   },
   {
    "duration": 2122,
    "start_time": "2022-10-21T10:40:11.629Z"
   },
   {
    "duration": 3,
    "start_time": "2022-10-21T10:40:13.753Z"
   },
   {
    "duration": 23,
    "start_time": "2022-10-21T10:40:13.758Z"
   },
   {
    "duration": 33,
    "start_time": "2022-10-21T10:40:13.782Z"
   },
   {
    "duration": 67,
    "start_time": "2022-10-21T10:40:13.816Z"
   },
   {
    "duration": 3,
    "start_time": "2022-10-21T10:40:13.885Z"
   },
   {
    "duration": 327,
    "start_time": "2022-10-21T10:40:13.889Z"
   },
   {
    "duration": 0,
    "start_time": "2022-10-21T10:40:14.217Z"
   },
   {
    "duration": 0,
    "start_time": "2022-10-21T10:40:14.218Z"
   },
   {
    "duration": 3,
    "start_time": "2022-10-21T10:41:42.963Z"
   },
   {
    "duration": 5,
    "start_time": "2022-10-21T10:41:54.451Z"
   },
   {
    "duration": 5,
    "start_time": "2022-10-21T10:42:04.933Z"
   },
   {
    "duration": 11,
    "start_time": "2022-10-21T10:42:33.988Z"
   },
   {
    "duration": 9,
    "start_time": "2022-10-21T10:52:55.323Z"
   },
   {
    "duration": 4,
    "start_time": "2022-10-21T10:53:05.579Z"
   },
   {
    "duration": 5,
    "start_time": "2022-10-21T10:53:33.770Z"
   },
   {
    "duration": 8,
    "start_time": "2022-10-21T10:54:08.422Z"
   },
   {
    "duration": 8,
    "start_time": "2022-10-21T10:54:38.195Z"
   },
   {
    "duration": 8,
    "start_time": "2022-10-21T10:54:45.956Z"
   },
   {
    "duration": 7,
    "start_time": "2022-10-21T10:56:05.556Z"
   },
   {
    "duration": 8,
    "start_time": "2022-10-21T10:56:20.842Z"
   },
   {
    "duration": 10,
    "start_time": "2022-10-21T10:57:13.438Z"
   },
   {
    "duration": 7,
    "start_time": "2022-10-21T10:57:48.912Z"
   },
   {
    "duration": 7,
    "start_time": "2022-10-21T10:58:04.692Z"
   },
   {
    "duration": 1522,
    "start_time": "2022-10-21T11:00:50.594Z"
   },
   {
    "duration": 744,
    "start_time": "2022-10-21T11:00:52.117Z"
   },
   {
    "duration": 33,
    "start_time": "2022-10-21T11:00:52.863Z"
   },
   {
    "duration": 20,
    "start_time": "2022-10-21T11:00:52.908Z"
   },
   {
    "duration": 12,
    "start_time": "2022-10-21T11:00:52.930Z"
   },
   {
    "duration": 11,
    "start_time": "2022-10-21T11:00:52.944Z"
   },
   {
    "duration": 16,
    "start_time": "2022-10-21T11:00:52.956Z"
   },
   {
    "duration": 158,
    "start_time": "2022-10-21T11:00:52.973Z"
   },
   {
    "duration": 18,
    "start_time": "2022-10-21T11:00:53.133Z"
   },
   {
    "duration": 19,
    "start_time": "2022-10-21T11:00:53.154Z"
   },
   {
    "duration": 6,
    "start_time": "2022-10-21T11:00:53.175Z"
   },
   {
    "duration": 168,
    "start_time": "2022-10-21T11:00:53.183Z"
   },
   {
    "duration": 8,
    "start_time": "2022-10-21T11:00:53.353Z"
   },
   {
    "duration": 10,
    "start_time": "2022-10-21T11:00:53.363Z"
   },
   {
    "duration": 34,
    "start_time": "2022-10-21T11:00:53.375Z"
   },
   {
    "duration": 12,
    "start_time": "2022-10-21T11:00:53.411Z"
   },
   {
    "duration": 4,
    "start_time": "2022-10-21T11:00:53.425Z"
   },
   {
    "duration": 26,
    "start_time": "2022-10-21T11:00:53.430Z"
   },
   {
    "duration": 5,
    "start_time": "2022-10-21T11:00:53.458Z"
   },
   {
    "duration": 24,
    "start_time": "2022-10-21T11:00:53.465Z"
   },
   {
    "duration": 7,
    "start_time": "2022-10-21T11:00:53.490Z"
   },
   {
    "duration": 15,
    "start_time": "2022-10-21T11:00:53.498Z"
   },
   {
    "duration": 11,
    "start_time": "2022-10-21T11:00:53.514Z"
   },
   {
    "duration": 7,
    "start_time": "2022-10-21T11:00:53.526Z"
   },
   {
    "duration": 16,
    "start_time": "2022-10-21T11:00:53.535Z"
   },
   {
    "duration": 3,
    "start_time": "2022-10-21T11:00:53.553Z"
   },
   {
    "duration": 4,
    "start_time": "2022-10-21T11:00:53.558Z"
   },
   {
    "duration": 66,
    "start_time": "2022-10-21T11:00:53.565Z"
   },
   {
    "duration": 2,
    "start_time": "2022-10-21T11:00:53.633Z"
   },
   {
    "duration": 405,
    "start_time": "2022-10-21T11:00:53.636Z"
   },
   {
    "duration": 251,
    "start_time": "2022-10-21T11:00:54.042Z"
   },
   {
    "duration": 207,
    "start_time": "2022-10-21T11:00:54.309Z"
   },
   {
    "duration": 5,
    "start_time": "2022-10-21T11:00:54.518Z"
   },
   {
    "duration": 15,
    "start_time": "2022-10-21T11:00:54.524Z"
   },
   {
    "duration": 103,
    "start_time": "2022-10-21T11:00:54.540Z"
   },
   {
    "duration": 108,
    "start_time": "2022-10-21T11:00:54.644Z"
   },
   {
    "duration": 10,
    "start_time": "2022-10-21T11:00:54.754Z"
   },
   {
    "duration": 6,
    "start_time": "2022-10-21T11:00:54.765Z"
   },
   {
    "duration": 18,
    "start_time": "2022-10-21T11:00:54.809Z"
   },
   {
    "duration": 196,
    "start_time": "2022-10-21T11:00:54.829Z"
   },
   {
    "duration": 217,
    "start_time": "2022-10-21T11:00:55.026Z"
   },
   {
    "duration": 4,
    "start_time": "2022-10-21T11:00:55.244Z"
   },
   {
    "duration": 9,
    "start_time": "2022-10-21T11:00:55.250Z"
   },
   {
    "duration": 26,
    "start_time": "2022-10-21T11:00:55.261Z"
   },
   {
    "duration": 2,
    "start_time": "2022-10-21T11:00:55.309Z"
   },
   {
    "duration": 8,
    "start_time": "2022-10-21T11:00:55.313Z"
   },
   {
    "duration": 5,
    "start_time": "2022-10-21T11:00:55.322Z"
   },
   {
    "duration": 7,
    "start_time": "2022-10-21T11:00:55.328Z"
   },
   {
    "duration": 2105,
    "start_time": "2022-10-21T11:00:55.336Z"
   },
   {
    "duration": 12,
    "start_time": "2022-10-21T11:00:57.443Z"
   },
   {
    "duration": 149,
    "start_time": "2022-10-21T11:00:57.457Z"
   },
   {
    "duration": 0,
    "start_time": "2022-10-21T11:00:57.608Z"
   },
   {
    "duration": 0,
    "start_time": "2022-10-21T11:00:57.608Z"
   },
   {
    "duration": 0,
    "start_time": "2022-10-21T11:00:57.609Z"
   },
   {
    "duration": 0,
    "start_time": "2022-10-21T11:00:57.610Z"
   },
   {
    "duration": 131,
    "start_time": "2022-10-21T11:03:45.625Z"
   },
   {
    "duration": 10,
    "start_time": "2022-10-21T11:04:18.498Z"
   },
   {
    "duration": 3,
    "start_time": "2022-10-21T11:04:35.067Z"
   },
   {
    "duration": 10,
    "start_time": "2022-10-21T11:04:40.770Z"
   },
   {
    "duration": 6,
    "start_time": "2022-10-21T11:06:35.372Z"
   },
   {
    "duration": 11,
    "start_time": "2022-10-21T11:06:56.180Z"
   },
   {
    "duration": 5,
    "start_time": "2022-10-21T11:08:07.725Z"
   },
   {
    "duration": 9,
    "start_time": "2022-10-21T11:09:11.955Z"
   },
   {
    "duration": 243,
    "start_time": "2022-10-21T11:09:49.522Z"
   },
   {
    "duration": 12,
    "start_time": "2022-10-21T11:10:28.476Z"
   },
   {
    "duration": 4,
    "start_time": "2022-10-21T11:10:28.874Z"
   },
   {
    "duration": 6,
    "start_time": "2022-10-21T11:10:29.234Z"
   },
   {
    "duration": 208,
    "start_time": "2022-10-21T11:10:32.403Z"
   },
   {
    "duration": 26,
    "start_time": "2022-10-21T11:12:23.773Z"
   },
   {
    "duration": 1078,
    "start_time": "2022-10-21T11:12:45.874Z"
   },
   {
    "duration": 1473,
    "start_time": "2022-10-21T11:13:03.502Z"
   },
   {
    "duration": 628,
    "start_time": "2022-10-21T11:13:04.977Z"
   },
   {
    "duration": 22,
    "start_time": "2022-10-21T11:13:05.606Z"
   },
   {
    "duration": 18,
    "start_time": "2022-10-21T11:13:05.630Z"
   },
   {
    "duration": 7,
    "start_time": "2022-10-21T11:13:05.650Z"
   },
   {
    "duration": 13,
    "start_time": "2022-10-21T11:13:05.658Z"
   },
   {
    "duration": 37,
    "start_time": "2022-10-21T11:13:05.672Z"
   },
   {
    "duration": 142,
    "start_time": "2022-10-21T11:13:05.710Z"
   },
   {
    "duration": 19,
    "start_time": "2022-10-21T11:13:05.854Z"
   },
   {
    "duration": 36,
    "start_time": "2022-10-21T11:13:05.875Z"
   },
   {
    "duration": 6,
    "start_time": "2022-10-21T11:13:05.913Z"
   },
   {
    "duration": 141,
    "start_time": "2022-10-21T11:13:05.921Z"
   },
   {
    "duration": 8,
    "start_time": "2022-10-21T11:13:06.064Z"
   },
   {
    "duration": 10,
    "start_time": "2022-10-21T11:13:06.073Z"
   },
   {
    "duration": 39,
    "start_time": "2022-10-21T11:13:06.085Z"
   },
   {
    "duration": 12,
    "start_time": "2022-10-21T11:13:06.126Z"
   },
   {
    "duration": 6,
    "start_time": "2022-10-21T11:13:06.140Z"
   },
   {
    "duration": 34,
    "start_time": "2022-10-21T11:13:06.147Z"
   },
   {
    "duration": 28,
    "start_time": "2022-10-21T11:13:06.182Z"
   },
   {
    "duration": 8,
    "start_time": "2022-10-21T11:13:06.211Z"
   },
   {
    "duration": 3,
    "start_time": "2022-10-21T11:13:06.220Z"
   },
   {
    "duration": 7,
    "start_time": "2022-10-21T11:13:06.224Z"
   },
   {
    "duration": 8,
    "start_time": "2022-10-21T11:13:06.233Z"
   },
   {
    "duration": 6,
    "start_time": "2022-10-21T11:13:06.243Z"
   },
   {
    "duration": 21,
    "start_time": "2022-10-21T11:13:06.250Z"
   },
   {
    "duration": 5,
    "start_time": "2022-10-21T11:13:06.272Z"
   },
   {
    "duration": 30,
    "start_time": "2022-10-21T11:13:06.278Z"
   },
   {
    "duration": 47,
    "start_time": "2022-10-21T11:13:06.312Z"
   },
   {
    "duration": 2,
    "start_time": "2022-10-21T11:13:06.360Z"
   },
   {
    "duration": 346,
    "start_time": "2022-10-21T11:13:06.363Z"
   },
   {
    "duration": 215,
    "start_time": "2022-10-21T11:13:06.710Z"
   },
   {
    "duration": 227,
    "start_time": "2022-10-21T11:13:06.927Z"
   },
   {
    "duration": 5,
    "start_time": "2022-10-21T11:13:07.156Z"
   },
   {
    "duration": 46,
    "start_time": "2022-10-21T11:13:07.163Z"
   },
   {
    "duration": 113,
    "start_time": "2022-10-21T11:13:07.210Z"
   },
   {
    "duration": 111,
    "start_time": "2022-10-21T11:13:07.325Z"
   },
   {
    "duration": 10,
    "start_time": "2022-10-21T11:13:07.438Z"
   },
   {
    "duration": 6,
    "start_time": "2022-10-21T11:13:07.449Z"
   },
   {
    "duration": 54,
    "start_time": "2022-10-21T11:13:07.457Z"
   },
   {
    "duration": 155,
    "start_time": "2022-10-21T11:13:07.512Z"
   },
   {
    "duration": 208,
    "start_time": "2022-10-21T11:13:07.669Z"
   },
   {
    "duration": 3,
    "start_time": "2022-10-21T11:13:07.879Z"
   },
   {
    "duration": 25,
    "start_time": "2022-10-21T11:13:07.884Z"
   },
   {
    "duration": 11,
    "start_time": "2022-10-21T11:13:07.912Z"
   },
   {
    "duration": 5,
    "start_time": "2022-10-21T11:13:07.924Z"
   },
   {
    "duration": 8,
    "start_time": "2022-10-21T11:13:07.931Z"
   },
   {
    "duration": 4,
    "start_time": "2022-10-21T11:13:07.941Z"
   },
   {
    "duration": 8,
    "start_time": "2022-10-21T11:13:07.947Z"
   },
   {
    "duration": 2121,
    "start_time": "2022-10-21T11:13:07.956Z"
   },
   {
    "duration": 30,
    "start_time": "2022-10-21T11:13:10.078Z"
   },
   {
    "duration": 3,
    "start_time": "2022-10-21T11:13:10.110Z"
   },
   {
    "duration": 12,
    "start_time": "2022-10-21T11:13:10.114Z"
   },
   {
    "duration": 6,
    "start_time": "2022-10-21T11:13:10.128Z"
   },
   {
    "duration": 148,
    "start_time": "2022-10-21T11:13:10.135Z"
   },
   {
    "duration": 0,
    "start_time": "2022-10-21T11:13:10.285Z"
   },
   {
    "duration": 0,
    "start_time": "2022-10-21T11:13:10.286Z"
   },
   {
    "duration": 0,
    "start_time": "2022-10-21T11:13:10.287Z"
   },
   {
    "duration": 1075,
    "start_time": "2022-10-21T11:13:18.599Z"
   },
   {
    "duration": 1078,
    "start_time": "2022-10-21T11:13:22.984Z"
   },
   {
    "duration": 29,
    "start_time": "2022-10-21T11:13:44.527Z"
   },
   {
    "duration": 29,
    "start_time": "2022-10-21T11:13:51.607Z"
   },
   {
    "duration": 23,
    "start_time": "2022-10-21T11:13:56.001Z"
   },
   {
    "duration": 51,
    "start_time": "2022-10-21T11:14:06.479Z"
   },
   {
    "duration": 1579,
    "start_time": "2022-10-21T11:14:10.916Z"
   },
   {
    "duration": 678,
    "start_time": "2022-10-21T11:14:12.497Z"
   },
   {
    "duration": 22,
    "start_time": "2022-10-21T11:14:13.177Z"
   },
   {
    "duration": 20,
    "start_time": "2022-10-21T11:14:13.208Z"
   },
   {
    "duration": 7,
    "start_time": "2022-10-21T11:14:13.229Z"
   },
   {
    "duration": 18,
    "start_time": "2022-10-21T11:14:13.237Z"
   },
   {
    "duration": 16,
    "start_time": "2022-10-21T11:14:13.257Z"
   },
   {
    "duration": 154,
    "start_time": "2022-10-21T11:14:13.275Z"
   },
   {
    "duration": 18,
    "start_time": "2022-10-21T11:14:13.431Z"
   },
   {
    "duration": 19,
    "start_time": "2022-10-21T11:14:13.452Z"
   },
   {
    "duration": 6,
    "start_time": "2022-10-21T11:14:13.473Z"
   },
   {
    "duration": 150,
    "start_time": "2022-10-21T11:14:13.481Z"
   },
   {
    "duration": 8,
    "start_time": "2022-10-21T11:14:13.633Z"
   },
   {
    "duration": 14,
    "start_time": "2022-10-21T11:14:13.642Z"
   },
   {
    "duration": 18,
    "start_time": "2022-10-21T11:14:13.657Z"
   },
   {
    "duration": 34,
    "start_time": "2022-10-21T11:14:13.677Z"
   },
   {
    "duration": 4,
    "start_time": "2022-10-21T11:14:13.713Z"
   },
   {
    "duration": 25,
    "start_time": "2022-10-21T11:14:13.718Z"
   },
   {
    "duration": 6,
    "start_time": "2022-10-21T11:14:13.745Z"
   },
   {
    "duration": 6,
    "start_time": "2022-10-21T11:14:13.753Z"
   },
   {
    "duration": 9,
    "start_time": "2022-10-21T11:14:13.760Z"
   },
   {
    "duration": 9,
    "start_time": "2022-10-21T11:14:13.770Z"
   },
   {
    "duration": 27,
    "start_time": "2022-10-21T11:14:13.781Z"
   },
   {
    "duration": 5,
    "start_time": "2022-10-21T11:14:13.810Z"
   },
   {
    "duration": 33,
    "start_time": "2022-10-21T11:14:13.816Z"
   },
   {
    "duration": 4,
    "start_time": "2022-10-21T11:14:13.851Z"
   },
   {
    "duration": 8,
    "start_time": "2022-10-21T11:14:13.857Z"
   },
   {
    "duration": 56,
    "start_time": "2022-10-21T11:14:13.868Z"
   },
   {
    "duration": 3,
    "start_time": "2022-10-21T11:14:13.925Z"
   },
   {
    "duration": 333,
    "start_time": "2022-10-21T11:14:13.929Z"
   },
   {
    "duration": 219,
    "start_time": "2022-10-21T11:14:14.264Z"
   },
   {
    "duration": 201,
    "start_time": "2022-10-21T11:14:14.485Z"
   },
   {
    "duration": 21,
    "start_time": "2022-10-21T11:14:14.688Z"
   },
   {
    "duration": 22,
    "start_time": "2022-10-21T11:14:14.711Z"
   },
   {
    "duration": 116,
    "start_time": "2022-10-21T11:14:14.734Z"
   },
   {
    "duration": 100,
    "start_time": "2022-10-21T11:14:14.852Z"
   },
   {
    "duration": 10,
    "start_time": "2022-10-21T11:14:14.954Z"
   },
   {
    "duration": 7,
    "start_time": "2022-10-21T11:14:14.965Z"
   },
   {
    "duration": 14,
    "start_time": "2022-10-21T11:14:15.010Z"
   },
   {
    "duration": 169,
    "start_time": "2022-10-21T11:14:15.025Z"
   },
   {
    "duration": 228,
    "start_time": "2022-10-21T11:14:15.196Z"
   },
   {
    "duration": 4,
    "start_time": "2022-10-21T11:14:15.425Z"
   },
   {
    "duration": 8,
    "start_time": "2022-10-21T11:14:15.431Z"
   },
   {
    "duration": 13,
    "start_time": "2022-10-21T11:14:15.440Z"
   },
   {
    "duration": 7,
    "start_time": "2022-10-21T11:14:15.454Z"
   },
   {
    "duration": 47,
    "start_time": "2022-10-21T11:14:15.462Z"
   },
   {
    "duration": 2,
    "start_time": "2022-10-21T11:14:15.511Z"
   },
   {
    "duration": 7,
    "start_time": "2022-10-21T11:14:15.514Z"
   },
   {
    "duration": 2155,
    "start_time": "2022-10-21T11:14:15.522Z"
   },
   {
    "duration": 0,
    "start_time": "2022-10-21T11:14:17.678Z"
   },
   {
    "duration": 0,
    "start_time": "2022-10-21T11:14:17.680Z"
   },
   {
    "duration": 0,
    "start_time": "2022-10-21T11:14:17.681Z"
   },
   {
    "duration": 0,
    "start_time": "2022-10-21T11:14:17.682Z"
   },
   {
    "duration": 0,
    "start_time": "2022-10-21T11:14:17.683Z"
   },
   {
    "duration": 0,
    "start_time": "2022-10-21T11:14:17.684Z"
   },
   {
    "duration": 0,
    "start_time": "2022-10-21T11:14:17.685Z"
   },
   {
    "duration": 0,
    "start_time": "2022-10-21T11:14:17.686Z"
   },
   {
    "duration": 4,
    "start_time": "2022-10-21T11:14:44.599Z"
   },
   {
    "duration": 2036,
    "start_time": "2022-10-21T11:14:47.217Z"
   },
   {
    "duration": 2046,
    "start_time": "2022-10-21T11:14:58.602Z"
   },
   {
    "duration": 2026,
    "start_time": "2022-10-21T11:15:27.129Z"
   },
   {
    "duration": 23,
    "start_time": "2022-10-21T11:15:54.585Z"
   },
   {
    "duration": 1097,
    "start_time": "2022-10-21T11:16:58.748Z"
   },
   {
    "duration": 1498,
    "start_time": "2022-10-21T11:17:06.397Z"
   },
   {
    "duration": 641,
    "start_time": "2022-10-21T11:17:07.896Z"
   },
   {
    "duration": 23,
    "start_time": "2022-10-21T11:17:08.538Z"
   },
   {
    "duration": 24,
    "start_time": "2022-10-21T11:17:08.562Z"
   },
   {
    "duration": 15,
    "start_time": "2022-10-21T11:17:08.588Z"
   },
   {
    "duration": 16,
    "start_time": "2022-10-21T11:17:08.605Z"
   },
   {
    "duration": 22,
    "start_time": "2022-10-21T11:17:08.623Z"
   },
   {
    "duration": 146,
    "start_time": "2022-10-21T11:17:08.647Z"
   },
   {
    "duration": 21,
    "start_time": "2022-10-21T11:17:08.795Z"
   },
   {
    "duration": 37,
    "start_time": "2022-10-21T11:17:08.818Z"
   },
   {
    "duration": 7,
    "start_time": "2022-10-21T11:17:08.857Z"
   },
   {
    "duration": 146,
    "start_time": "2022-10-21T11:17:08.865Z"
   },
   {
    "duration": 8,
    "start_time": "2022-10-21T11:17:09.012Z"
   },
   {
    "duration": 34,
    "start_time": "2022-10-21T11:17:09.022Z"
   },
   {
    "duration": 39,
    "start_time": "2022-10-21T11:17:09.057Z"
   },
   {
    "duration": 41,
    "start_time": "2022-10-21T11:17:09.097Z"
   },
   {
    "duration": 38,
    "start_time": "2022-10-21T11:17:09.140Z"
   },
   {
    "duration": 71,
    "start_time": "2022-10-21T11:17:09.179Z"
   },
   {
    "duration": 26,
    "start_time": "2022-10-21T11:17:09.252Z"
   },
   {
    "duration": 23,
    "start_time": "2022-10-21T11:17:09.280Z"
   },
   {
    "duration": 32,
    "start_time": "2022-10-21T11:17:09.305Z"
   },
   {
    "duration": 34,
    "start_time": "2022-10-21T11:17:09.338Z"
   },
   {
    "duration": 38,
    "start_time": "2022-10-21T11:17:09.374Z"
   },
   {
    "duration": 38,
    "start_time": "2022-10-21T11:17:09.414Z"
   },
   {
    "duration": 30,
    "start_time": "2022-10-21T11:17:09.453Z"
   },
   {
    "duration": 17,
    "start_time": "2022-10-21T11:17:09.484Z"
   },
   {
    "duration": 40,
    "start_time": "2022-10-21T11:17:09.503Z"
   },
   {
    "duration": 80,
    "start_time": "2022-10-21T11:17:09.545Z"
   },
   {
    "duration": 3,
    "start_time": "2022-10-21T11:17:09.626Z"
   },
   {
    "duration": 339,
    "start_time": "2022-10-21T11:17:09.630Z"
   },
   {
    "duration": 267,
    "start_time": "2022-10-21T11:17:09.970Z"
   },
   {
    "duration": 208,
    "start_time": "2022-10-21T11:17:10.238Z"
   },
   {
    "duration": 5,
    "start_time": "2022-10-21T11:17:10.448Z"
   },
   {
    "duration": 67,
    "start_time": "2022-10-21T11:17:10.455Z"
   },
   {
    "duration": 91,
    "start_time": "2022-10-21T11:17:10.523Z"
   },
   {
    "duration": 99,
    "start_time": "2022-10-21T11:17:10.616Z"
   },
   {
    "duration": 10,
    "start_time": "2022-10-21T11:17:10.717Z"
   },
   {
    "duration": 31,
    "start_time": "2022-10-21T11:17:10.728Z"
   },
   {
    "duration": 26,
    "start_time": "2022-10-21T11:17:10.761Z"
   },
   {
    "duration": 160,
    "start_time": "2022-10-21T11:17:10.789Z"
   },
   {
    "duration": 208,
    "start_time": "2022-10-21T11:17:10.952Z"
   },
   {
    "duration": 4,
    "start_time": "2022-10-21T11:17:11.161Z"
   },
   {
    "duration": 43,
    "start_time": "2022-10-21T11:17:11.166Z"
   },
   {
    "duration": 48,
    "start_time": "2022-10-21T11:17:11.211Z"
   },
   {
    "duration": 18,
    "start_time": "2022-10-21T11:17:11.260Z"
   },
   {
    "duration": 45,
    "start_time": "2022-10-21T11:17:11.279Z"
   },
   {
    "duration": 20,
    "start_time": "2022-10-21T11:17:11.326Z"
   },
   {
    "duration": 24,
    "start_time": "2022-10-21T11:17:11.348Z"
   },
   {
    "duration": 2038,
    "start_time": "2022-10-21T11:17:17.915Z"
   },
   {
    "duration": 26,
    "start_time": "2022-10-21T11:17:45.287Z"
   },
   {
    "duration": 30,
    "start_time": "2022-10-21T11:18:23.224Z"
   },
   {
    "duration": 24,
    "start_time": "2022-10-21T11:18:32.831Z"
   },
   {
    "duration": 143,
    "start_time": "2022-10-21T11:18:40.352Z"
   },
   {
    "duration": 21,
    "start_time": "2022-10-21T11:19:08.875Z"
   },
   {
    "duration": 14,
    "start_time": "2022-10-21T11:19:36.591Z"
   },
   {
    "duration": 33,
    "start_time": "2022-10-21T11:20:56.144Z"
   },
   {
    "duration": 20,
    "start_time": "2022-10-21T11:21:50.943Z"
   },
   {
    "duration": 12,
    "start_time": "2022-10-21T11:21:57.263Z"
   },
   {
    "duration": 12,
    "start_time": "2022-10-21T11:22:05.736Z"
   },
   {
    "duration": 27,
    "start_time": "2022-10-21T11:22:12.865Z"
   },
   {
    "duration": 26,
    "start_time": "2022-10-21T11:22:30.304Z"
   },
   {
    "duration": 34,
    "start_time": "2022-10-21T11:23:29.930Z"
   },
   {
    "duration": 90,
    "start_time": "2022-10-21T11:23:39.833Z"
   },
   {
    "duration": 30,
    "start_time": "2022-10-21T11:23:52.995Z"
   },
   {
    "duration": 32,
    "start_time": "2022-10-21T11:24:01.207Z"
   },
   {
    "duration": 14,
    "start_time": "2022-10-21T11:25:07.520Z"
   },
   {
    "duration": 29,
    "start_time": "2022-10-21T11:25:21.792Z"
   },
   {
    "duration": 29,
    "start_time": "2022-10-21T12:02:17.050Z"
   },
   {
    "duration": 3,
    "start_time": "2022-10-21T12:02:17.279Z"
   },
   {
    "duration": 6,
    "start_time": "2022-10-21T12:02:17.494Z"
   },
   {
    "duration": 244,
    "start_time": "2022-10-21T12:02:18.483Z"
   },
   {
    "duration": 31,
    "start_time": "2022-10-21T12:02:53.324Z"
   },
   {
    "duration": 31,
    "start_time": "2022-10-21T12:03:01.916Z"
   },
   {
    "duration": 34,
    "start_time": "2022-10-21T12:03:04.410Z"
   },
   {
    "duration": 34,
    "start_time": "2022-10-21T12:03:23.776Z"
   },
   {
    "duration": 21,
    "start_time": "2022-10-21T12:04:22.415Z"
   },
   {
    "duration": 22,
    "start_time": "2022-10-21T12:04:44.103Z"
   },
   {
    "duration": 21,
    "start_time": "2022-10-21T12:04:59.400Z"
   },
   {
    "duration": 27,
    "start_time": "2022-10-21T12:05:12.600Z"
   },
   {
    "duration": 26,
    "start_time": "2022-10-21T12:05:25.140Z"
   },
   {
    "duration": 25,
    "start_time": "2022-10-21T12:05:44.137Z"
   },
   {
    "duration": 25,
    "start_time": "2022-10-21T12:06:02.456Z"
   },
   {
    "duration": 32,
    "start_time": "2022-10-21T12:06:08.735Z"
   },
   {
    "duration": 27,
    "start_time": "2022-10-21T12:06:56.807Z"
   },
   {
    "duration": 27,
    "start_time": "2022-10-21T12:07:11.898Z"
   },
   {
    "duration": 32,
    "start_time": "2022-10-21T12:07:19.086Z"
   },
   {
    "duration": 27,
    "start_time": "2022-10-21T12:07:32.415Z"
   },
   {
    "duration": 17,
    "start_time": "2022-10-21T12:12:05.298Z"
   },
   {
    "duration": 17,
    "start_time": "2022-10-21T12:12:16.245Z"
   },
   {
    "duration": 28,
    "start_time": "2022-10-21T12:12:29.634Z"
   },
   {
    "duration": 25,
    "start_time": "2022-10-21T12:13:05.630Z"
   },
   {
    "duration": 23,
    "start_time": "2022-10-21T12:14:25.541Z"
   },
   {
    "duration": 19,
    "start_time": "2022-10-21T12:14:32.000Z"
   },
   {
    "duration": 18,
    "start_time": "2022-10-21T12:14:54.366Z"
   },
   {
    "duration": 20,
    "start_time": "2022-10-21T12:14:59.393Z"
   },
   {
    "duration": 24,
    "start_time": "2022-10-21T12:15:07.360Z"
   },
   {
    "duration": 23,
    "start_time": "2022-10-21T12:15:23.823Z"
   },
   {
    "duration": 17,
    "start_time": "2022-10-21T12:15:34.807Z"
   },
   {
    "duration": 18,
    "start_time": "2022-10-21T12:15:39.928Z"
   },
   {
    "duration": 19,
    "start_time": "2022-10-21T12:17:24.888Z"
   },
   {
    "duration": 21,
    "start_time": "2022-10-21T12:17:36.902Z"
   },
   {
    "duration": 10,
    "start_time": "2022-10-21T12:17:50.614Z"
   },
   {
    "duration": 10,
    "start_time": "2022-10-21T12:18:34.973Z"
   },
   {
    "duration": 7,
    "start_time": "2022-10-21T12:18:57.271Z"
   },
   {
    "duration": 17,
    "start_time": "2022-10-21T12:19:13.966Z"
   },
   {
    "duration": 20,
    "start_time": "2022-10-21T12:29:49.545Z"
   },
   {
    "duration": 16,
    "start_time": "2022-10-21T12:29:53.119Z"
   },
   {
    "duration": 16,
    "start_time": "2022-10-21T12:30:20.897Z"
   },
   {
    "duration": 41,
    "start_time": "2022-10-21T12:31:49.086Z"
   },
   {
    "duration": 22,
    "start_time": "2022-10-21T12:31:52.845Z"
   },
   {
    "duration": 22,
    "start_time": "2022-10-21T12:32:45.071Z"
   },
   {
    "duration": 34,
    "start_time": "2022-10-21T12:32:57.176Z"
   },
   {
    "duration": 17,
    "start_time": "2022-10-21T12:33:35.961Z"
   },
   {
    "duration": 22,
    "start_time": "2022-10-21T12:33:42.857Z"
   },
   {
    "duration": 1420,
    "start_time": "2022-10-21T12:33:53.362Z"
   },
   {
    "duration": 643,
    "start_time": "2022-10-21T12:33:54.784Z"
   },
   {
    "duration": 23,
    "start_time": "2022-10-21T12:33:55.429Z"
   },
   {
    "duration": 37,
    "start_time": "2022-10-21T12:33:55.454Z"
   },
   {
    "duration": 8,
    "start_time": "2022-10-21T12:33:55.492Z"
   },
   {
    "duration": 35,
    "start_time": "2022-10-21T12:33:55.502Z"
   },
   {
    "duration": 66,
    "start_time": "2022-10-21T12:33:55.539Z"
   },
   {
    "duration": 143,
    "start_time": "2022-10-21T12:33:55.607Z"
   },
   {
    "duration": 19,
    "start_time": "2022-10-21T12:33:55.752Z"
   },
   {
    "duration": 50,
    "start_time": "2022-10-21T12:33:55.774Z"
   },
   {
    "duration": 10,
    "start_time": "2022-10-21T12:33:55.825Z"
   },
   {
    "duration": 151,
    "start_time": "2022-10-21T12:33:55.837Z"
   },
   {
    "duration": 9,
    "start_time": "2022-10-21T12:33:55.990Z"
   },
   {
    "duration": 30,
    "start_time": "2022-10-21T12:33:56.000Z"
   },
   {
    "duration": 37,
    "start_time": "2022-10-21T12:33:56.031Z"
   },
   {
    "duration": 53,
    "start_time": "2022-10-21T12:33:56.070Z"
   },
   {
    "duration": 5,
    "start_time": "2022-10-21T12:33:56.125Z"
   },
   {
    "duration": 34,
    "start_time": "2022-10-21T12:33:56.131Z"
   },
   {
    "duration": 7,
    "start_time": "2022-10-21T12:33:56.167Z"
   },
   {
    "duration": 13,
    "start_time": "2022-10-21T12:33:56.175Z"
   },
   {
    "duration": 5,
    "start_time": "2022-10-21T12:33:56.189Z"
   },
   {
    "duration": 7,
    "start_time": "2022-10-21T12:33:56.209Z"
   },
   {
    "duration": 7,
    "start_time": "2022-10-21T12:33:56.217Z"
   },
   {
    "duration": 13,
    "start_time": "2022-10-21T12:33:56.225Z"
   },
   {
    "duration": 22,
    "start_time": "2022-10-21T12:33:56.240Z"
   },
   {
    "duration": 4,
    "start_time": "2022-10-21T12:33:56.263Z"
   },
   {
    "duration": 42,
    "start_time": "2022-10-21T12:33:56.269Z"
   },
   {
    "duration": 66,
    "start_time": "2022-10-21T12:33:56.315Z"
   },
   {
    "duration": 2,
    "start_time": "2022-10-21T12:33:56.383Z"
   },
   {
    "duration": 360,
    "start_time": "2022-10-21T12:33:56.386Z"
   },
   {
    "duration": 225,
    "start_time": "2022-10-21T12:33:56.748Z"
   },
   {
    "duration": 212,
    "start_time": "2022-10-21T12:33:56.975Z"
   },
   {
    "duration": 6,
    "start_time": "2022-10-21T12:33:57.188Z"
   },
   {
    "duration": 53,
    "start_time": "2022-10-21T12:33:57.195Z"
   },
   {
    "duration": 104,
    "start_time": "2022-10-21T12:33:57.249Z"
   },
   {
    "duration": 90,
    "start_time": "2022-10-21T12:33:57.354Z"
   },
   {
    "duration": 13,
    "start_time": "2022-10-21T12:33:57.446Z"
   },
   {
    "duration": 12,
    "start_time": "2022-10-21T12:33:57.460Z"
   },
   {
    "duration": 70,
    "start_time": "2022-10-21T12:33:57.474Z"
   },
   {
    "duration": 193,
    "start_time": "2022-10-21T12:33:57.546Z"
   },
   {
    "duration": 214,
    "start_time": "2022-10-21T12:33:57.741Z"
   },
   {
    "duration": 4,
    "start_time": "2022-10-21T12:33:57.956Z"
   },
   {
    "duration": 48,
    "start_time": "2022-10-21T12:33:57.961Z"
   },
   {
    "duration": 50,
    "start_time": "2022-10-21T12:33:58.011Z"
   },
   {
    "duration": 19,
    "start_time": "2022-10-21T12:33:58.063Z"
   },
   {
    "duration": 49,
    "start_time": "2022-10-21T12:33:58.084Z"
   },
   {
    "duration": 45,
    "start_time": "2022-10-21T12:33:58.135Z"
   },
   {
    "duration": 21,
    "start_time": "2022-10-21T12:33:58.182Z"
   },
   {
    "duration": 2142,
    "start_time": "2022-10-21T12:33:58.205Z"
   },
   {
    "duration": 25,
    "start_time": "2022-10-21T12:34:00.349Z"
   },
   {
    "duration": 23,
    "start_time": "2022-10-21T12:34:06.974Z"
   },
   {
    "duration": 36,
    "start_time": "2022-10-21T12:35:12.240Z"
   },
   {
    "duration": 33,
    "start_time": "2022-10-21T12:35:25.831Z"
   },
   {
    "duration": 26,
    "start_time": "2022-10-21T12:35:43.703Z"
   },
   {
    "duration": 43,
    "start_time": "2022-10-21T12:36:27.583Z"
   },
   {
    "duration": 27,
    "start_time": "2022-10-21T12:36:37.046Z"
   },
   {
    "duration": 18,
    "start_time": "2022-10-21T12:36:46.704Z"
   },
   {
    "duration": 1490,
    "start_time": "2022-10-21T12:38:23.290Z"
   },
   {
    "duration": 644,
    "start_time": "2022-10-21T12:38:24.782Z"
   },
   {
    "duration": 23,
    "start_time": "2022-10-21T12:38:25.428Z"
   },
   {
    "duration": 19,
    "start_time": "2022-10-21T12:38:25.453Z"
   },
   {
    "duration": 7,
    "start_time": "2022-10-21T12:38:25.474Z"
   },
   {
    "duration": 29,
    "start_time": "2022-10-21T12:38:25.482Z"
   },
   {
    "duration": 2,
    "start_time": "2022-10-21T12:38:25.513Z"
   },
   {
    "duration": 112,
    "start_time": "2022-10-21T12:38:25.516Z"
   },
   {
    "duration": 19,
    "start_time": "2022-10-21T12:38:25.630Z"
   },
   {
    "duration": 25,
    "start_time": "2022-10-21T12:38:25.652Z"
   },
   {
    "duration": 6,
    "start_time": "2022-10-21T12:38:25.679Z"
   },
   {
    "duration": 151,
    "start_time": "2022-10-21T12:38:25.686Z"
   },
   {
    "duration": 8,
    "start_time": "2022-10-21T12:38:25.839Z"
   },
   {
    "duration": 14,
    "start_time": "2022-10-21T12:38:25.849Z"
   },
   {
    "duration": 19,
    "start_time": "2022-10-21T12:38:25.865Z"
   },
   {
    "duration": 13,
    "start_time": "2022-10-21T12:38:25.909Z"
   },
   {
    "duration": 4,
    "start_time": "2022-10-21T12:38:25.924Z"
   },
   {
    "duration": 27,
    "start_time": "2022-10-21T12:38:25.930Z"
   },
   {
    "duration": 6,
    "start_time": "2022-10-21T12:38:25.958Z"
   },
   {
    "duration": 7,
    "start_time": "2022-10-21T12:38:25.965Z"
   },
   {
    "duration": 8,
    "start_time": "2022-10-21T12:38:25.973Z"
   },
   {
    "duration": 30,
    "start_time": "2022-10-21T12:38:25.982Z"
   },
   {
    "duration": 9,
    "start_time": "2022-10-21T12:38:26.014Z"
   },
   {
    "duration": 7,
    "start_time": "2022-10-21T12:38:26.025Z"
   },
   {
    "duration": 21,
    "start_time": "2022-10-21T12:38:26.033Z"
   },
   {
    "duration": 4,
    "start_time": "2022-10-21T12:38:26.055Z"
   },
   {
    "duration": 4,
    "start_time": "2022-10-21T12:38:26.060Z"
   },
   {
    "duration": 67,
    "start_time": "2022-10-21T12:38:26.068Z"
   },
   {
    "duration": 3,
    "start_time": "2022-10-21T12:38:26.136Z"
   },
   {
    "duration": 332,
    "start_time": "2022-10-21T12:38:26.140Z"
   },
   {
    "duration": 208,
    "start_time": "2022-10-21T12:38:26.474Z"
   },
   {
    "duration": 230,
    "start_time": "2022-10-21T12:38:26.684Z"
   },
   {
    "duration": 5,
    "start_time": "2022-10-21T12:38:26.916Z"
   },
   {
    "duration": 16,
    "start_time": "2022-10-21T12:38:26.922Z"
   },
   {
    "duration": 115,
    "start_time": "2022-10-21T12:38:26.939Z"
   },
   {
    "duration": 105,
    "start_time": "2022-10-21T12:38:27.056Z"
   },
   {
    "duration": 48,
    "start_time": "2022-10-21T12:38:27.163Z"
   },
   {
    "duration": 6,
    "start_time": "2022-10-21T12:38:27.213Z"
   },
   {
    "duration": 20,
    "start_time": "2022-10-21T12:38:27.221Z"
   },
   {
    "duration": 193,
    "start_time": "2022-10-21T12:38:27.243Z"
   },
   {
    "duration": 206,
    "start_time": "2022-10-21T12:38:27.438Z"
   },
   {
    "duration": 4,
    "start_time": "2022-10-21T12:38:27.646Z"
   },
   {
    "duration": 9,
    "start_time": "2022-10-21T12:38:27.652Z"
   },
   {
    "duration": 10,
    "start_time": "2022-10-21T12:38:27.663Z"
   },
   {
    "duration": 34,
    "start_time": "2022-10-21T12:38:27.675Z"
   },
   {
    "duration": 8,
    "start_time": "2022-10-21T12:38:27.711Z"
   },
   {
    "duration": 4,
    "start_time": "2022-10-21T12:38:27.721Z"
   },
   {
    "duration": 12,
    "start_time": "2022-10-21T12:38:27.727Z"
   },
   {
    "duration": 2104,
    "start_time": "2022-10-21T12:38:27.741Z"
   },
   {
    "duration": 20,
    "start_time": "2022-10-21T12:38:29.847Z"
   },
   {
    "duration": 3,
    "start_time": "2022-10-21T12:38:29.868Z"
   },
   {
    "duration": 10,
    "start_time": "2022-10-21T12:38:29.873Z"
   },
   {
    "duration": 27,
    "start_time": "2022-10-21T12:38:29.885Z"
   },
   {
    "duration": 140,
    "start_time": "2022-10-21T12:38:29.914Z"
   },
   {
    "duration": 0,
    "start_time": "2022-10-21T12:38:30.056Z"
   },
   {
    "duration": 0,
    "start_time": "2022-10-21T12:38:30.056Z"
   },
   {
    "duration": 0,
    "start_time": "2022-10-21T12:38:30.058Z"
   },
   {
    "duration": 8,
    "start_time": "2022-10-21T12:41:34.265Z"
   },
   {
    "duration": 8,
    "start_time": "2022-10-21T12:42:05.379Z"
   },
   {
    "duration": 13,
    "start_time": "2022-10-21T12:47:29.630Z"
   },
   {
    "duration": 16,
    "start_time": "2022-10-21T12:47:43.185Z"
   },
   {
    "duration": 4,
    "start_time": "2022-10-21T12:50:27.502Z"
   },
   {
    "duration": 5,
    "start_time": "2022-10-21T12:51:06.584Z"
   },
   {
    "duration": 9,
    "start_time": "2022-10-21T12:53:37.377Z"
   },
   {
    "duration": 1053,
    "start_time": "2022-10-21T12:54:33.262Z"
   },
   {
    "duration": 1718,
    "start_time": "2022-10-21T12:55:02.184Z"
   },
   {
    "duration": 785,
    "start_time": "2022-10-21T12:55:03.904Z"
   },
   {
    "duration": 29,
    "start_time": "2022-10-21T12:55:04.691Z"
   },
   {
    "duration": 18,
    "start_time": "2022-10-21T12:55:04.722Z"
   },
   {
    "duration": 8,
    "start_time": "2022-10-21T12:55:04.741Z"
   },
   {
    "duration": 17,
    "start_time": "2022-10-21T12:55:04.751Z"
   },
   {
    "duration": 3,
    "start_time": "2022-10-21T12:55:04.769Z"
   },
   {
    "duration": 135,
    "start_time": "2022-10-21T12:55:04.774Z"
   },
   {
    "duration": 22,
    "start_time": "2022-10-21T12:55:04.910Z"
   },
   {
    "duration": 18,
    "start_time": "2022-10-21T12:55:04.934Z"
   },
   {
    "duration": 6,
    "start_time": "2022-10-21T12:55:04.954Z"
   },
   {
    "duration": 156,
    "start_time": "2022-10-21T12:55:04.961Z"
   },
   {
    "duration": 9,
    "start_time": "2022-10-21T12:55:05.119Z"
   },
   {
    "duration": 15,
    "start_time": "2022-10-21T12:55:05.130Z"
   },
   {
    "duration": 27,
    "start_time": "2022-10-21T12:55:05.146Z"
   },
   {
    "duration": 41,
    "start_time": "2022-10-21T12:55:05.175Z"
   },
   {
    "duration": 4,
    "start_time": "2022-10-21T12:55:05.218Z"
   },
   {
    "duration": 37,
    "start_time": "2022-10-21T12:55:05.224Z"
   },
   {
    "duration": 7,
    "start_time": "2022-10-21T12:55:05.263Z"
   },
   {
    "duration": 7,
    "start_time": "2022-10-21T12:55:05.272Z"
   },
   {
    "duration": 2,
    "start_time": "2022-10-21T12:55:05.281Z"
   },
   {
    "duration": 8,
    "start_time": "2022-10-21T12:55:05.309Z"
   },
   {
    "duration": 8,
    "start_time": "2022-10-21T12:55:05.318Z"
   },
   {
    "duration": 9,
    "start_time": "2022-10-21T12:55:05.328Z"
   },
   {
    "duration": 26,
    "start_time": "2022-10-21T12:55:05.339Z"
   },
   {
    "duration": 4,
    "start_time": "2022-10-21T12:55:05.367Z"
   },
   {
    "duration": 6,
    "start_time": "2022-10-21T12:55:05.372Z"
   },
   {
    "duration": 91,
    "start_time": "2022-10-21T12:55:05.382Z"
   },
   {
    "duration": 2,
    "start_time": "2022-10-21T12:55:05.474Z"
   },
   {
    "duration": 380,
    "start_time": "2022-10-21T12:55:05.478Z"
   },
   {
    "duration": 308,
    "start_time": "2022-10-21T12:55:05.860Z"
   },
   {
    "duration": 217,
    "start_time": "2022-10-21T12:55:06.170Z"
   },
   {
    "duration": 20,
    "start_time": "2022-10-21T12:55:06.389Z"
   },
   {
    "duration": 21,
    "start_time": "2022-10-21T12:55:06.411Z"
   },
   {
    "duration": 139,
    "start_time": "2022-10-21T12:55:06.433Z"
   },
   {
    "duration": 94,
    "start_time": "2022-10-21T12:55:06.574Z"
   },
   {
    "duration": 47,
    "start_time": "2022-10-21T12:55:06.670Z"
   },
   {
    "duration": 8,
    "start_time": "2022-10-21T12:55:06.719Z"
   },
   {
    "duration": 27,
    "start_time": "2022-10-21T12:55:06.729Z"
   },
   {
    "duration": 192,
    "start_time": "2022-10-21T12:55:06.757Z"
   },
   {
    "duration": 306,
    "start_time": "2022-10-21T12:55:06.951Z"
   },
   {
    "duration": 4,
    "start_time": "2022-10-21T12:55:07.259Z"
   },
   {
    "duration": 10,
    "start_time": "2022-10-21T12:55:07.264Z"
   },
   {
    "duration": 36,
    "start_time": "2022-10-21T12:55:07.275Z"
   },
   {
    "duration": 10,
    "start_time": "2022-10-21T12:55:07.313Z"
   },
   {
    "duration": 17,
    "start_time": "2022-10-21T12:55:07.325Z"
   },
   {
    "duration": 5,
    "start_time": "2022-10-21T12:55:07.344Z"
   },
   {
    "duration": 6,
    "start_time": "2022-10-21T12:55:07.350Z"
   },
   {
    "duration": 2116,
    "start_time": "2022-10-21T12:55:07.358Z"
   },
   {
    "duration": 18,
    "start_time": "2022-10-21T12:55:09.476Z"
   },
   {
    "duration": 14,
    "start_time": "2022-10-21T12:55:09.495Z"
   },
   {
    "duration": 137,
    "start_time": "2022-10-21T12:55:09.511Z"
   },
   {
    "duration": 0,
    "start_time": "2022-10-21T12:55:09.649Z"
   },
   {
    "duration": 1305,
    "start_time": "2022-10-21T12:55:31.931Z"
   },
   {
    "duration": 1237,
    "start_time": "2022-10-21T12:55:53.179Z"
   },
   {
    "duration": 633,
    "start_time": "2022-10-21T12:56:34.810Z"
   },
   {
    "duration": 9,
    "start_time": "2022-10-21T12:56:43.739Z"
   },
   {
    "duration": 6,
    "start_time": "2022-10-21T12:57:19.523Z"
   },
   {
    "duration": 9,
    "start_time": "2022-10-21T12:57:24.834Z"
   },
   {
    "duration": 7,
    "start_time": "2022-10-21T12:57:38.439Z"
   },
   {
    "duration": 396540,
    "start_time": "2022-10-21T12:58:48.914Z"
   },
   {
    "duration": 2330,
    "start_time": "2022-10-21T13:05:57.100Z"
   },
   {
    "duration": 0,
    "start_time": "2022-10-21T13:05:59.432Z"
   },
   {
    "duration": 8,
    "start_time": "2022-10-21T13:05:59.907Z"
   },
   {
    "duration": 6,
    "start_time": "2022-10-21T13:06:00.442Z"
   },
   {
    "duration": 1489,
    "start_time": "2022-10-21T13:06:33.141Z"
   },
   {
    "duration": 721,
    "start_time": "2022-10-21T13:06:34.632Z"
   },
   {
    "duration": 22,
    "start_time": "2022-10-21T13:06:35.355Z"
   },
   {
    "duration": 36,
    "start_time": "2022-10-21T13:06:35.379Z"
   },
   {
    "duration": 8,
    "start_time": "2022-10-21T13:06:35.421Z"
   },
   {
    "duration": 18,
    "start_time": "2022-10-21T13:06:35.431Z"
   },
   {
    "duration": 2,
    "start_time": "2022-10-21T13:06:35.451Z"
   },
   {
    "duration": 133,
    "start_time": "2022-10-21T13:06:35.455Z"
   },
   {
    "duration": 25,
    "start_time": "2022-10-21T13:06:35.590Z"
   },
   {
    "duration": 26,
    "start_time": "2022-10-21T13:06:35.618Z"
   },
   {
    "duration": 8,
    "start_time": "2022-10-21T13:06:35.646Z"
   },
   {
    "duration": 143,
    "start_time": "2022-10-21T13:06:35.655Z"
   },
   {
    "duration": 18,
    "start_time": "2022-10-21T13:06:35.800Z"
   },
   {
    "duration": 15,
    "start_time": "2022-10-21T13:06:35.820Z"
   },
   {
    "duration": 18,
    "start_time": "2022-10-21T13:06:35.836Z"
   },
   {
    "duration": 14,
    "start_time": "2022-10-21T13:06:35.856Z"
   },
   {
    "duration": 4,
    "start_time": "2022-10-21T13:06:35.872Z"
   },
   {
    "duration": 52,
    "start_time": "2022-10-21T13:06:35.877Z"
   },
   {
    "duration": 7,
    "start_time": "2022-10-21T13:06:35.932Z"
   },
   {
    "duration": 43,
    "start_time": "2022-10-21T13:06:35.941Z"
   },
   {
    "duration": 37,
    "start_time": "2022-10-21T13:06:35.986Z"
   },
   {
    "duration": 22,
    "start_time": "2022-10-21T13:06:36.025Z"
   },
   {
    "duration": 22,
    "start_time": "2022-10-21T13:06:36.048Z"
   },
   {
    "duration": 28,
    "start_time": "2022-10-21T13:06:36.072Z"
   },
   {
    "duration": 46,
    "start_time": "2022-10-21T13:06:36.102Z"
   },
   {
    "duration": 4,
    "start_time": "2022-10-21T13:06:36.150Z"
   },
   {
    "duration": 30,
    "start_time": "2022-10-21T13:06:36.155Z"
   },
   {
    "duration": 66,
    "start_time": "2022-10-21T13:06:36.189Z"
   },
   {
    "duration": 2,
    "start_time": "2022-10-21T13:06:36.257Z"
   },
   {
    "duration": 387,
    "start_time": "2022-10-21T13:06:36.261Z"
   },
   {
    "duration": 339,
    "start_time": "2022-10-21T13:06:36.650Z"
   },
   {
    "duration": 271,
    "start_time": "2022-10-21T13:06:36.991Z"
   },
   {
    "duration": 6,
    "start_time": "2022-10-21T13:06:37.264Z"
   },
   {
    "duration": 55,
    "start_time": "2022-10-21T13:06:37.272Z"
   },
   {
    "duration": 133,
    "start_time": "2022-10-21T13:06:37.328Z"
   },
   {
    "duration": 165,
    "start_time": "2022-10-21T13:06:37.463Z"
   },
   {
    "duration": 10,
    "start_time": "2022-10-21T13:06:37.630Z"
   },
   {
    "duration": 16,
    "start_time": "2022-10-21T13:06:37.642Z"
   },
   {
    "duration": 41,
    "start_time": "2022-10-21T13:06:37.660Z"
   },
   {
    "duration": 165,
    "start_time": "2022-10-21T13:06:37.703Z"
   },
   {
    "duration": 221,
    "start_time": "2022-10-21T13:06:37.870Z"
   },
   {
    "duration": 4,
    "start_time": "2022-10-21T13:06:38.093Z"
   },
   {
    "duration": 39,
    "start_time": "2022-10-21T13:06:38.098Z"
   },
   {
    "duration": 33,
    "start_time": "2022-10-21T13:06:38.138Z"
   },
   {
    "duration": 21,
    "start_time": "2022-10-21T13:06:38.173Z"
   },
   {
    "duration": 39,
    "start_time": "2022-10-21T13:06:38.217Z"
   },
   {
    "duration": 32,
    "start_time": "2022-10-21T13:06:38.258Z"
   },
   {
    "duration": 44,
    "start_time": "2022-10-21T13:06:38.291Z"
   },
   {
    "duration": 4721,
    "start_time": "2022-10-21T13:06:38.337Z"
   },
   {
    "duration": 17,
    "start_time": "2022-10-21T13:06:43.060Z"
   },
   {
    "duration": 7,
    "start_time": "2022-10-21T13:06:43.079Z"
   },
   {
    "duration": 27,
    "start_time": "2022-10-21T13:06:43.087Z"
   },
   {
    "duration": 31,
    "start_time": "2022-10-21T13:06:43.117Z"
   },
   {
    "duration": 134,
    "start_time": "2022-10-21T13:09:46.463Z"
   },
   {
    "duration": 1486,
    "start_time": "2022-10-21T13:10:19.825Z"
   },
   {
    "duration": 664,
    "start_time": "2022-10-21T13:10:21.313Z"
   },
   {
    "duration": 23,
    "start_time": "2022-10-21T13:10:21.978Z"
   },
   {
    "duration": 20,
    "start_time": "2022-10-21T13:10:22.008Z"
   },
   {
    "duration": 7,
    "start_time": "2022-10-21T13:10:22.030Z"
   },
   {
    "duration": 14,
    "start_time": "2022-10-21T13:10:22.038Z"
   },
   {
    "duration": 2,
    "start_time": "2022-10-21T13:10:22.054Z"
   },
   {
    "duration": 127,
    "start_time": "2022-10-21T13:10:22.058Z"
   },
   {
    "duration": 28,
    "start_time": "2022-10-21T13:10:22.187Z"
   },
   {
    "duration": 28,
    "start_time": "2022-10-21T13:10:22.219Z"
   },
   {
    "duration": 7,
    "start_time": "2022-10-21T13:10:22.249Z"
   },
   {
    "duration": 154,
    "start_time": "2022-10-21T13:10:22.258Z"
   },
   {
    "duration": 8,
    "start_time": "2022-10-21T13:10:22.414Z"
   },
   {
    "duration": 35,
    "start_time": "2022-10-21T13:10:22.424Z"
   },
   {
    "duration": 31,
    "start_time": "2022-10-21T13:10:22.461Z"
   },
   {
    "duration": 31,
    "start_time": "2022-10-21T13:10:22.494Z"
   },
   {
    "duration": 32,
    "start_time": "2022-10-21T13:10:22.527Z"
   },
   {
    "duration": 59,
    "start_time": "2022-10-21T13:10:22.561Z"
   },
   {
    "duration": 29,
    "start_time": "2022-10-21T13:10:22.622Z"
   },
   {
    "duration": 40,
    "start_time": "2022-10-21T13:10:22.653Z"
   },
   {
    "duration": 18,
    "start_time": "2022-10-21T13:10:22.695Z"
   },
   {
    "duration": 24,
    "start_time": "2022-10-21T13:10:22.716Z"
   },
   {
    "duration": 30,
    "start_time": "2022-10-21T13:10:22.742Z"
   },
   {
    "duration": 12,
    "start_time": "2022-10-21T13:10:22.774Z"
   },
   {
    "duration": 32,
    "start_time": "2022-10-21T13:10:22.788Z"
   },
   {
    "duration": 5,
    "start_time": "2022-10-21T13:10:22.821Z"
   },
   {
    "duration": 14,
    "start_time": "2022-10-21T13:10:22.828Z"
   },
   {
    "duration": 73,
    "start_time": "2022-10-21T13:10:22.847Z"
   },
   {
    "duration": 2,
    "start_time": "2022-10-21T13:10:22.921Z"
   },
   {
    "duration": 345,
    "start_time": "2022-10-21T13:10:22.925Z"
   },
   {
    "duration": 214,
    "start_time": "2022-10-21T13:10:23.272Z"
   },
   {
    "duration": 230,
    "start_time": "2022-10-21T13:10:23.488Z"
   },
   {
    "duration": 7,
    "start_time": "2022-10-21T13:10:23.720Z"
   },
   {
    "duration": 80,
    "start_time": "2022-10-21T13:10:23.729Z"
   },
   {
    "duration": 119,
    "start_time": "2022-10-21T13:10:23.811Z"
   },
   {
    "duration": 117,
    "start_time": "2022-10-21T13:10:23.931Z"
   },
   {
    "duration": 12,
    "start_time": "2022-10-21T13:10:24.050Z"
   },
   {
    "duration": 49,
    "start_time": "2022-10-21T13:10:24.064Z"
   },
   {
    "duration": 24,
    "start_time": "2022-10-21T13:10:24.115Z"
   },
   {
    "duration": 199,
    "start_time": "2022-10-21T13:10:24.141Z"
   },
   {
    "duration": 247,
    "start_time": "2022-10-21T13:10:24.341Z"
   },
   {
    "duration": 5,
    "start_time": "2022-10-21T13:10:24.609Z"
   },
   {
    "duration": 12,
    "start_time": "2022-10-21T13:10:24.615Z"
   },
   {
    "duration": 11,
    "start_time": "2022-10-21T13:10:24.629Z"
   },
   {
    "duration": 7,
    "start_time": "2022-10-21T13:10:24.641Z"
   },
   {
    "duration": 8,
    "start_time": "2022-10-21T13:10:24.649Z"
   },
   {
    "duration": 7,
    "start_time": "2022-10-21T13:10:24.658Z"
   },
   {
    "duration": 43047,
    "start_time": "2022-10-21T13:10:24.709Z"
   },
   {
    "duration": 0,
    "start_time": "2022-10-21T13:11:07.757Z"
   },
   {
    "duration": 0,
    "start_time": "2022-10-21T13:11:07.758Z"
   },
   {
    "duration": 0,
    "start_time": "2022-10-21T13:11:07.759Z"
   },
   {
    "duration": 0,
    "start_time": "2022-10-21T13:11:07.759Z"
   },
   {
    "duration": 0,
    "start_time": "2022-10-21T13:11:07.761Z"
   },
   {
    "duration": 0,
    "start_time": "2022-10-21T13:11:07.761Z"
   },
   {
    "duration": 45025,
    "start_time": "2022-10-21T13:11:40.705Z"
   },
   {
    "duration": 5445,
    "start_time": "2022-10-21T13:16:35.198Z"
   },
   {
    "duration": 4,
    "start_time": "2022-10-21T13:16:58.038Z"
   },
   {
    "duration": 10960,
    "start_time": "2022-10-21T13:16:58.806Z"
   },
   {
    "duration": 10899,
    "start_time": "2022-10-21T13:17:19.439Z"
   },
   {
    "duration": 1570,
    "start_time": "2022-10-21T13:18:12.197Z"
   },
   {
    "duration": 670,
    "start_time": "2022-10-21T13:18:13.769Z"
   },
   {
    "duration": 23,
    "start_time": "2022-10-21T13:18:14.440Z"
   },
   {
    "duration": 60,
    "start_time": "2022-10-21T13:18:14.464Z"
   },
   {
    "duration": 43,
    "start_time": "2022-10-21T13:18:14.526Z"
   },
   {
    "duration": 41,
    "start_time": "2022-10-21T13:18:14.570Z"
   },
   {
    "duration": 27,
    "start_time": "2022-10-21T13:18:14.612Z"
   },
   {
    "duration": 153,
    "start_time": "2022-10-21T13:18:14.641Z"
   },
   {
    "duration": 24,
    "start_time": "2022-10-21T13:18:14.796Z"
   },
   {
    "duration": 26,
    "start_time": "2022-10-21T13:18:14.821Z"
   },
   {
    "duration": 7,
    "start_time": "2022-10-21T13:18:14.849Z"
   },
   {
    "duration": 152,
    "start_time": "2022-10-21T13:18:14.858Z"
   },
   {
    "duration": 8,
    "start_time": "2022-10-21T13:18:15.011Z"
   },
   {
    "duration": 23,
    "start_time": "2022-10-21T13:18:15.025Z"
   },
   {
    "duration": 28,
    "start_time": "2022-10-21T13:18:15.050Z"
   },
   {
    "duration": 35,
    "start_time": "2022-10-21T13:18:15.080Z"
   },
   {
    "duration": 7,
    "start_time": "2022-10-21T13:18:15.117Z"
   },
   {
    "duration": 56,
    "start_time": "2022-10-21T13:18:15.126Z"
   },
   {
    "duration": 7,
    "start_time": "2022-10-21T13:18:15.183Z"
   },
   {
    "duration": 19,
    "start_time": "2022-10-21T13:18:15.192Z"
   },
   {
    "duration": 7,
    "start_time": "2022-10-21T13:18:15.213Z"
   },
   {
    "duration": 12,
    "start_time": "2022-10-21T13:18:15.222Z"
   },
   {
    "duration": 5,
    "start_time": "2022-10-21T13:18:15.235Z"
   },
   {
    "duration": 9,
    "start_time": "2022-10-21T13:18:15.242Z"
   },
   {
    "duration": 25,
    "start_time": "2022-10-21T13:18:15.253Z"
   },
   {
    "duration": 4,
    "start_time": "2022-10-21T13:18:15.280Z"
   },
   {
    "duration": 5,
    "start_time": "2022-10-21T13:18:15.286Z"
   },
   {
    "duration": 63,
    "start_time": "2022-10-21T13:18:15.293Z"
   },
   {
    "duration": 2,
    "start_time": "2022-10-21T13:18:15.358Z"
   },
   {
    "duration": 363,
    "start_time": "2022-10-21T13:18:15.362Z"
   },
   {
    "duration": 215,
    "start_time": "2022-10-21T13:18:15.727Z"
   },
   {
    "duration": 214,
    "start_time": "2022-10-21T13:18:15.944Z"
   },
   {
    "duration": 6,
    "start_time": "2022-10-21T13:18:16.160Z"
   },
   {
    "duration": 43,
    "start_time": "2022-10-21T13:18:16.168Z"
   },
   {
    "duration": 117,
    "start_time": "2022-10-21T13:18:16.213Z"
   },
   {
    "duration": 102,
    "start_time": "2022-10-21T13:18:16.331Z"
   },
   {
    "duration": 10,
    "start_time": "2022-10-21T13:18:16.435Z"
   },
   {
    "duration": 6,
    "start_time": "2022-10-21T13:18:16.447Z"
   },
   {
    "duration": 59,
    "start_time": "2022-10-21T13:18:16.454Z"
   },
   {
    "duration": 146,
    "start_time": "2022-10-21T13:18:16.514Z"
   },
   {
    "duration": 246,
    "start_time": "2022-10-21T13:18:16.666Z"
   },
   {
    "duration": 5,
    "start_time": "2022-10-21T13:18:16.914Z"
   },
   {
    "duration": 15,
    "start_time": "2022-10-21T13:18:16.921Z"
   },
   {
    "duration": 10,
    "start_time": "2022-10-21T13:18:16.938Z"
   },
   {
    "duration": 15,
    "start_time": "2022-10-21T13:18:16.950Z"
   },
   {
    "duration": 3,
    "start_time": "2022-10-21T13:18:17.009Z"
   },
   {
    "duration": 8,
    "start_time": "2022-10-21T13:18:17.014Z"
   },
   {
    "duration": 43731,
    "start_time": "2022-10-21T13:18:17.023Z"
   },
   {
    "duration": 4,
    "start_time": "2022-10-21T13:19:00.756Z"
   },
   {
    "duration": 10978,
    "start_time": "2022-10-21T13:19:00.762Z"
   },
   {
    "duration": 3,
    "start_time": "2022-10-21T13:19:11.741Z"
   },
   {
    "duration": 25,
    "start_time": "2022-10-21T13:19:11.745Z"
   },
   {
    "duration": 3,
    "start_time": "2022-10-21T13:19:11.772Z"
   },
   {
    "duration": 8,
    "start_time": "2022-10-21T13:19:11.777Z"
   },
   {
    "duration": 28,
    "start_time": "2022-10-21T13:19:11.787Z"
   },
   {
    "duration": 10,
    "start_time": "2022-10-21T13:30:25.438Z"
   },
   {
    "duration": 9,
    "start_time": "2022-10-21T13:30:42.518Z"
   },
   {
    "duration": 9,
    "start_time": "2022-10-21T13:35:25.962Z"
   },
   {
    "duration": 45,
    "start_time": "2022-10-21T13:35:28.687Z"
   },
   {
    "duration": 7,
    "start_time": "2022-10-21T13:35:32.389Z"
   },
   {
    "duration": 181,
    "start_time": "2022-10-21T13:36:57.214Z"
   },
   {
    "duration": 158,
    "start_time": "2022-10-21T13:37:07.362Z"
   },
   {
    "duration": 4,
    "start_time": "2022-10-21T13:46:26.894Z"
   },
   {
    "duration": 1553,
    "start_time": "2022-10-21T13:47:28.611Z"
   },
   {
    "duration": 663,
    "start_time": "2022-10-21T13:47:30.166Z"
   },
   {
    "duration": 28,
    "start_time": "2022-10-21T13:47:30.831Z"
   },
   {
    "duration": 31,
    "start_time": "2022-10-21T13:47:30.861Z"
   },
   {
    "duration": 21,
    "start_time": "2022-10-21T13:47:30.893Z"
   },
   {
    "duration": 22,
    "start_time": "2022-10-21T13:47:30.915Z"
   },
   {
    "duration": 19,
    "start_time": "2022-10-21T13:47:30.938Z"
   },
   {
    "duration": 133,
    "start_time": "2022-10-21T13:47:30.959Z"
   },
   {
    "duration": 24,
    "start_time": "2022-10-21T13:47:31.094Z"
   },
   {
    "duration": 30,
    "start_time": "2022-10-21T13:47:31.121Z"
   },
   {
    "duration": 33,
    "start_time": "2022-10-21T13:47:31.153Z"
   },
   {
    "duration": 152,
    "start_time": "2022-10-21T13:47:31.187Z"
   },
   {
    "duration": 8,
    "start_time": "2022-10-21T13:47:31.341Z"
   },
   {
    "duration": 25,
    "start_time": "2022-10-21T13:47:31.350Z"
   },
   {
    "duration": 25,
    "start_time": "2022-10-21T13:47:31.377Z"
   },
   {
    "duration": 25,
    "start_time": "2022-10-21T13:47:31.403Z"
   },
   {
    "duration": 29,
    "start_time": "2022-10-21T13:47:31.430Z"
   },
   {
    "duration": 68,
    "start_time": "2022-10-21T13:47:31.461Z"
   },
   {
    "duration": 8,
    "start_time": "2022-10-21T13:47:31.531Z"
   },
   {
    "duration": 24,
    "start_time": "2022-10-21T13:47:31.541Z"
   },
   {
    "duration": 54,
    "start_time": "2022-10-21T13:47:31.566Z"
   },
   {
    "duration": 34,
    "start_time": "2022-10-21T13:47:31.621Z"
   },
   {
    "duration": 36,
    "start_time": "2022-10-21T13:47:31.657Z"
   },
   {
    "duration": 30,
    "start_time": "2022-10-21T13:47:31.695Z"
   },
   {
    "duration": 51,
    "start_time": "2022-10-21T13:47:31.727Z"
   },
   {
    "duration": 20,
    "start_time": "2022-10-21T13:47:31.780Z"
   },
   {
    "duration": 27,
    "start_time": "2022-10-21T13:47:31.801Z"
   },
   {
    "duration": 29,
    "start_time": "2022-10-21T13:47:31.832Z"
   },
   {
    "duration": 129,
    "start_time": "2022-10-21T13:47:35.130Z"
   },
   {
    "duration": 3,
    "start_time": "2022-10-21T13:48:13.551Z"
   },
   {
    "duration": 45,
    "start_time": "2022-10-21T13:48:15.656Z"
   },
   {
    "duration": 1449,
    "start_time": "2022-10-21T13:54:46.968Z"
   },
   {
    "duration": 667,
    "start_time": "2022-10-21T13:54:48.419Z"
   },
   {
    "duration": 31,
    "start_time": "2022-10-21T13:54:49.088Z"
   },
   {
    "duration": 24,
    "start_time": "2022-10-21T13:54:49.122Z"
   },
   {
    "duration": 10,
    "start_time": "2022-10-21T13:54:49.148Z"
   },
   {
    "duration": 13,
    "start_time": "2022-10-21T13:54:49.160Z"
   },
   {
    "duration": 2,
    "start_time": "2022-10-21T13:54:49.175Z"
   },
   {
    "duration": 131,
    "start_time": "2022-10-21T13:54:49.179Z"
   },
   {
    "duration": 19,
    "start_time": "2022-10-21T13:54:49.311Z"
   },
   {
    "duration": 18,
    "start_time": "2022-10-21T13:54:49.332Z"
   },
   {
    "duration": 6,
    "start_time": "2022-10-21T13:54:49.352Z"
   },
   {
    "duration": 162,
    "start_time": "2022-10-21T13:54:49.360Z"
   },
   {
    "duration": 8,
    "start_time": "2022-10-21T13:54:49.524Z"
   },
   {
    "duration": 12,
    "start_time": "2022-10-21T13:54:49.533Z"
   },
   {
    "duration": 21,
    "start_time": "2022-10-21T13:54:49.547Z"
   },
   {
    "duration": 17,
    "start_time": "2022-10-21T13:54:49.569Z"
   },
   {
    "duration": 5,
    "start_time": "2022-10-21T13:54:49.608Z"
   },
   {
    "duration": 30,
    "start_time": "2022-10-21T13:54:49.615Z"
   },
   {
    "duration": 7,
    "start_time": "2022-10-21T13:54:49.646Z"
   },
   {
    "duration": 6,
    "start_time": "2022-10-21T13:54:49.655Z"
   },
   {
    "duration": 3,
    "start_time": "2022-10-21T13:54:49.663Z"
   },
   {
    "duration": 9,
    "start_time": "2022-10-21T13:54:49.667Z"
   },
   {
    "duration": 3,
    "start_time": "2022-10-21T13:54:49.710Z"
   },
   {
    "duration": 7,
    "start_time": "2022-10-21T13:54:49.715Z"
   },
   {
    "duration": 19,
    "start_time": "2022-10-21T13:54:49.723Z"
   },
   {
    "duration": 3,
    "start_time": "2022-10-21T13:54:49.744Z"
   },
   {
    "duration": 12,
    "start_time": "2022-10-21T13:54:49.749Z"
   },
   {
    "duration": 75,
    "start_time": "2022-10-21T13:54:49.764Z"
   },
   {
    "duration": 2,
    "start_time": "2022-10-21T13:54:49.841Z"
   },
   {
    "duration": 325,
    "start_time": "2022-10-21T13:54:49.844Z"
   },
   {
    "duration": 220,
    "start_time": "2022-10-21T13:54:50.171Z"
   },
   {
    "duration": 222,
    "start_time": "2022-10-21T13:54:50.392Z"
   },
   {
    "duration": 5,
    "start_time": "2022-10-21T13:54:50.616Z"
   },
   {
    "duration": 22,
    "start_time": "2022-10-21T13:54:50.623Z"
   },
   {
    "duration": 105,
    "start_time": "2022-10-21T13:54:50.646Z"
   },
   {
    "duration": 118,
    "start_time": "2022-10-21T13:54:50.753Z"
   },
   {
    "duration": 43,
    "start_time": "2022-10-21T13:54:50.874Z"
   },
   {
    "duration": 7,
    "start_time": "2022-10-21T13:54:50.919Z"
   },
   {
    "duration": 21,
    "start_time": "2022-10-21T13:54:50.927Z"
   },
   {
    "duration": 222,
    "start_time": "2022-10-21T13:54:50.950Z"
   },
   {
    "duration": 207,
    "start_time": "2022-10-21T13:54:51.174Z"
   },
   {
    "duration": 4,
    "start_time": "2022-10-21T13:54:51.383Z"
   },
   {
    "duration": 27,
    "start_time": "2022-10-21T13:54:51.388Z"
   },
   {
    "duration": 19,
    "start_time": "2022-10-21T13:54:51.417Z"
   },
   {
    "duration": 2575,
    "start_time": "2022-10-21T13:54:51.438Z"
   },
   {
    "duration": 2107,
    "start_time": "2022-10-21T13:54:54.015Z"
   },
   {
    "duration": 3,
    "start_time": "2022-10-21T13:54:56.123Z"
   },
   {
    "duration": 42837,
    "start_time": "2022-10-21T13:54:56.127Z"
   },
   {
    "duration": 3,
    "start_time": "2022-10-21T13:55:38.966Z"
   },
   {
    "duration": 1650,
    "start_time": "2022-10-22T14:40:22.844Z"
   },
   {
    "duration": 6,
    "start_time": "2022-10-22T14:40:27.853Z"
   },
   {
    "duration": 676,
    "start_time": "2022-10-22T14:40:27.861Z"
   },
   {
    "duration": 26,
    "start_time": "2022-10-22T14:40:28.539Z"
   },
   {
    "duration": 18,
    "start_time": "2022-10-22T14:40:28.567Z"
   },
   {
    "duration": 6,
    "start_time": "2022-10-22T14:40:28.587Z"
   },
   {
    "duration": 8,
    "start_time": "2022-10-22T14:40:34.850Z"
   },
   {
    "duration": 16,
    "start_time": "2022-10-22T14:42:11.896Z"
   },
   {
    "duration": 48,
    "start_time": "2022-10-28T12:15:22.468Z"
   },
   {
    "duration": 1629,
    "start_time": "2022-10-28T12:15:26.487Z"
   },
   {
    "duration": 3131,
    "start_time": "2022-10-28T12:15:28.118Z"
   },
   {
    "duration": 25,
    "start_time": "2022-10-28T12:15:31.251Z"
   },
   {
    "duration": 20,
    "start_time": "2022-10-28T12:15:31.278Z"
   },
   {
    "duration": 7,
    "start_time": "2022-10-28T12:15:31.301Z"
   },
   {
    "duration": 20,
    "start_time": "2022-10-28T12:15:31.310Z"
   },
   {
    "duration": 32,
    "start_time": "2022-10-28T12:15:31.332Z"
   },
   {
    "duration": 117,
    "start_time": "2022-10-28T12:15:31.365Z"
   },
   {
    "duration": 21,
    "start_time": "2022-10-28T12:15:31.484Z"
   },
   {
    "duration": 61,
    "start_time": "2022-10-28T12:15:31.507Z"
   },
   {
    "duration": 29,
    "start_time": "2022-10-28T12:15:31.571Z"
   },
   {
    "duration": 140,
    "start_time": "2022-10-28T12:15:31.602Z"
   },
   {
    "duration": 9,
    "start_time": "2022-10-28T12:15:31.744Z"
   },
   {
    "duration": 24,
    "start_time": "2022-10-28T12:15:31.756Z"
   },
   {
    "duration": 21,
    "start_time": "2022-10-28T12:15:31.781Z"
   },
   {
    "duration": 16,
    "start_time": "2022-10-28T12:15:31.805Z"
   },
   {
    "duration": 7,
    "start_time": "2022-10-28T12:15:31.823Z"
   },
   {
    "duration": 25,
    "start_time": "2022-10-28T12:15:31.831Z"
   },
   {
    "duration": 8,
    "start_time": "2022-10-28T12:15:31.877Z"
   },
   {
    "duration": 34,
    "start_time": "2022-10-28T12:15:31.887Z"
   },
   {
    "duration": 15,
    "start_time": "2022-10-28T12:15:31.923Z"
   },
   {
    "duration": 32,
    "start_time": "2022-10-28T12:15:31.940Z"
   },
   {
    "duration": 19,
    "start_time": "2022-10-28T12:15:31.974Z"
   },
   {
    "duration": 11,
    "start_time": "2022-10-28T12:15:31.995Z"
   },
   {
    "duration": 22,
    "start_time": "2022-10-28T12:15:32.008Z"
   },
   {
    "duration": 9,
    "start_time": "2022-10-28T12:15:32.032Z"
   },
   {
    "duration": 10,
    "start_time": "2022-10-28T12:15:32.043Z"
   },
   {
    "duration": 78,
    "start_time": "2022-10-28T12:15:32.055Z"
   },
   {
    "duration": 3,
    "start_time": "2022-10-28T12:15:32.135Z"
   },
   {
    "duration": 362,
    "start_time": "2022-10-28T12:15:32.140Z"
   },
   {
    "duration": 104,
    "start_time": "2022-10-28T12:16:57.545Z"
   },
   {
    "duration": 1364,
    "start_time": "2022-12-05T18:13:03.678Z"
   },
   {
    "duration": 2013,
    "start_time": "2022-12-05T18:13:05.044Z"
   },
   {
    "duration": 27,
    "start_time": "2022-12-05T18:13:07.059Z"
   },
   {
    "duration": 17,
    "start_time": "2022-12-05T18:13:07.088Z"
   },
   {
    "duration": 6,
    "start_time": "2022-12-05T18:13:07.106Z"
   },
   {
    "duration": 16,
    "start_time": "2022-12-05T18:13:07.114Z"
   },
   {
    "duration": 17,
    "start_time": "2022-12-05T18:13:07.133Z"
   },
   {
    "duration": 109,
    "start_time": "2022-12-05T18:13:07.152Z"
   },
   {
    "duration": 18,
    "start_time": "2022-12-05T18:13:07.263Z"
   },
   {
    "duration": 17,
    "start_time": "2022-12-05T18:13:07.284Z"
   },
   {
    "duration": 5,
    "start_time": "2022-12-05T18:13:07.303Z"
   },
   {
    "duration": 122,
    "start_time": "2022-12-05T18:13:07.325Z"
   },
   {
    "duration": 8,
    "start_time": "2022-12-05T18:13:07.448Z"
   },
   {
    "duration": 11,
    "start_time": "2022-12-05T18:13:07.457Z"
   },
   {
    "duration": 18,
    "start_time": "2022-12-05T18:13:07.469Z"
   },
   {
    "duration": 13,
    "start_time": "2022-12-05T18:13:07.488Z"
   },
   {
    "duration": 26,
    "start_time": "2022-12-05T18:13:07.503Z"
   },
   {
    "duration": 27,
    "start_time": "2022-12-05T18:13:07.531Z"
   },
   {
    "duration": 6,
    "start_time": "2022-12-05T18:13:07.560Z"
   },
   {
    "duration": 10,
    "start_time": "2022-12-05T18:13:07.568Z"
   },
   {
    "duration": 3,
    "start_time": "2022-12-05T18:13:07.579Z"
   },
   {
    "duration": 8,
    "start_time": "2022-12-05T18:13:07.584Z"
   },
   {
    "duration": 4,
    "start_time": "2022-12-05T18:13:07.594Z"
   },
   {
    "duration": 6,
    "start_time": "2022-12-05T18:13:07.629Z"
   },
   {
    "duration": 19,
    "start_time": "2022-12-05T18:13:07.636Z"
   },
   {
    "duration": 5,
    "start_time": "2022-12-05T18:13:07.657Z"
   },
   {
    "duration": 5,
    "start_time": "2022-12-05T18:13:07.664Z"
   },
   {
    "duration": 70,
    "start_time": "2022-12-05T18:13:07.673Z"
   },
   {
    "duration": 3,
    "start_time": "2022-12-05T18:13:07.745Z"
   },
   {
    "duration": 319,
    "start_time": "2022-12-05T18:13:07.749Z"
   },
   {
    "duration": 193,
    "start_time": "2022-12-05T18:13:08.069Z"
   },
   {
    "duration": 196,
    "start_time": "2022-12-05T18:13:08.263Z"
   },
   {
    "duration": 5,
    "start_time": "2022-12-05T18:13:08.461Z"
   },
   {
    "duration": 58,
    "start_time": "2022-12-05T18:13:08.468Z"
   },
   {
    "duration": 55,
    "start_time": "2022-12-05T18:13:08.528Z"
   },
   {
    "duration": 90,
    "start_time": "2022-12-05T18:13:08.585Z"
   },
   {
    "duration": 50,
    "start_time": "2022-12-05T18:13:08.677Z"
   },
   {
    "duration": 6,
    "start_time": "2022-12-05T18:13:08.728Z"
   },
   {
    "duration": 32,
    "start_time": "2022-12-05T18:13:08.736Z"
   },
   {
    "duration": 149,
    "start_time": "2022-12-05T18:13:08.769Z"
   },
   {
    "duration": 187,
    "start_time": "2022-12-05T18:13:08.920Z"
   },
   {
    "duration": 19,
    "start_time": "2022-12-05T18:13:09.108Z"
   },
   {
    "duration": 21,
    "start_time": "2022-12-05T18:13:09.128Z"
   },
   {
    "duration": 36,
    "start_time": "2022-12-05T18:13:09.150Z"
   },
   {
    "duration": 2349,
    "start_time": "2022-12-05T18:13:09.188Z"
   },
   {
    "duration": 1673,
    "start_time": "2022-12-05T18:13:11.540Z"
   },
   {
    "duration": 2,
    "start_time": "2022-12-05T18:13:13.215Z"
   },
   {
    "duration": 34497,
    "start_time": "2022-12-05T18:13:13.219Z"
   },
   {
    "duration": 4,
    "start_time": "2022-12-05T18:13:47.718Z"
   },
   {
    "duration": 9015,
    "start_time": "2022-12-05T18:13:47.726Z"
   },
   {
    "duration": 10,
    "start_time": "2022-12-05T18:13:56.743Z"
   },
   {
    "duration": 7,
    "start_time": "2022-12-05T18:13:56.755Z"
   },
   {
    "duration": 69,
    "start_time": "2022-12-05T18:13:56.763Z"
   }
  ],
  "kernelspec": {
   "display_name": "Python 3 (ipykernel)",
   "language": "python",
   "name": "python3"
  },
  "language_info": {
   "codemirror_mode": {
    "name": "ipython",
    "version": 3
   },
   "file_extension": ".py",
   "mimetype": "text/x-python",
   "name": "python",
   "nbconvert_exporter": "python",
   "pygments_lexer": "ipython3",
   "version": "3.10.9"
  },
  "toc": {
   "base_numbering": 1,
   "nav_menu": {
    "height": "12px",
    "width": "272px"
   },
   "number_sections": true,
   "sideBar": true,
   "skip_h1_title": true,
   "title_cell": "Содержание",
   "title_sidebar": "Contents",
   "toc_cell": true,
   "toc_position": {
    "height": "calc(100% - 180px)",
    "left": "10px",
    "top": "150px",
    "width": "165px"
   },
   "toc_section_display": true,
   "toc_window_display": true
  }
 },
 "nbformat": 4,
 "nbformat_minor": 2
}
